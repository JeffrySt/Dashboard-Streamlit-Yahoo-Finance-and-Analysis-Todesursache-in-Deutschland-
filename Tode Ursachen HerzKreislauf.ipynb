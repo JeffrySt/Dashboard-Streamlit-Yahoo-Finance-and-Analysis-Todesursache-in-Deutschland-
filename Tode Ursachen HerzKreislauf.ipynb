{
 "cells": [
  {
   "cell_type": "code",
   "execution_count": 162,
   "metadata": {},
   "outputs": [],
   "source": [
    "url = 'https://www-genesis.destatis.de/genesis/online?sequenz=tabelleErgebnis&selectionname=23211-0002#abreadcrumb'"
   ]
  },
  {
   "cell_type": "code",
   "execution_count": 163,
   "metadata": {},
   "outputs": [],
   "source": [
    "from bs4 import BeautifulSoup \n",
    "import pandas as pd\n",
    "import requests\n",
    "import re"
   ]
  },
  {
   "cell_type": "code",
   "execution_count": 164,
   "metadata": {},
   "outputs": [
    {
     "data": {
      "text/plain": [
       "<Response [200]>"
      ]
     },
     "execution_count": 164,
     "metadata": {},
     "output_type": "execute_result"
    }
   ],
   "source": [
    "req = requests.get(url)\n",
    "req"
   ]
  },
  {
   "cell_type": "code",
   "execution_count": 165,
   "metadata": {},
   "outputs": [
    {
     "data": {
      "text/plain": [
       "<!DOCTYPE html>\n",
       "<html lang=\"de\">\n",
       "<head>\n",
       "<meta content=\"text/html; charset=utf-8\" http-equiv=\"Content-Type\"/>\n",
       "<meta content=\"index,follow,noarchive,noodp\" name=\"robots\"/>\n",
       "<meta content=\"30 Days\" name=\"revisit-after\"/>\n",
       "<meta content=\"GENESIS-Online\" name=\"generator\"/>\n",
       "<meta content=\"Text\" name=\"DC.type\"/>\n",
       "<meta content=\"text/html\" name=\"DC.format\"/>\n",
       "<meta content=\"general public\" name=\"DC.audience\"/>\n",
       "<meta content=\"de\" name=\"language\"/>\n",
       "<meta content=\"de\" name=\"DC.language\"/>\n",
       "<meta content=\"2023-08-01T12:49:10+1:00\" name=\"date\"/>\n",
       "<meta content=\"2023-08-01T12:49:10+1:00\" name=\"DC.date\"/>\n",
       "<meta content=\"https://www-genesis.destatis.de:443/genesis//online/1690886950058\" name=\"DC.identifier\"/>\n",
       "<meta content=\"https://www-genesis.destatis.de:443/genesis//online?Menu=Impressum\" name=\"DC.rights\"/>\n",
       "<meta content=\"GENESIS-Online ist eine Datenbank, die tief gegliederte Ergebnisse der amtlichen Statistik enthält. Sie wird kontinuierlich ausgebaut. Der Tabellenabruf erfolgt unentgeltlich und kann variabel auf den individuellen Bedarf angepasst werden. Die Abspeicherung der Ergebnisse ist in verschiedenen Formaten möglich. \" name=\"description\"/>\n",
       "<meta content=\"GENESIS-Online ist eine Datenbank, die tief gegliederte Ergebnisse der amtlichen Statistik enthält. Sie wird kontinuierlich ausgebaut. Der Tabellenabruf erfolgt unentgeltlich und kann variabel auf den individuellen Bedarf angepasst werden. Die Abspeicherung der Ergebnisse ist in verschiedenen Formaten möglich. \" name=\"DC.description\"/>\n",
       "<meta content=\"\" name=\"publisher\"/>\n",
       "<meta content=\"\" name=\"DC.publisher\"/>\n",
       "<meta content=\"\" name=\"copyright\"/>\n",
       "<meta content=\"\" name=\"author\"/>\n",
       "<meta content=\"\" name=\"DC.creator\"/>\n",
       "<meta content=\"Statistisches Bundesamt Deutschland - GENESIS-Online\" name=\"DC.title\"/>\n",
       "<meta content=\"Ergebnis 23211-0002\" name=\"DC.subject\"/>\n",
       "<title>Statistisches Bundesamt Deutschland - GENESIS-Online: Ergebnis 23211-0002</title>\n",
       "<link href=\"https://www-genesis.destatis.de/genesis/online/news?language=de\" rel=\"alternate\" title=\"GENESIS-Online: Datenaktualisierungen (RSS)\" type=\"application/rss+xml\"/>\n",
       "<link href=\"https://www-genesis.destatis.de/genesis/online/atom?language=de\" rel=\"alternate\" title=\"GENESIS-Online: Datenaktualisierungen (ATOM)\" type=\"application/atom+xml\"/>\n",
       "<meta content=\"width=device-width, initial-scale=1.0\" name=\"viewport\"/>\n",
       "<link href=\"https://www-genesis.destatis.de:443/genesis/css/normalize.css\" media=\"screen,print\" rel=\"stylesheet\" type=\"text/css\"/>\n",
       "<link href=\"https://www-genesis.destatis.de:443/genesis/css/genesis-online.css\" media=\"screen,print\" rel=\"stylesheet\" type=\"text/css\"/>\n",
       "<link href=\"https://www-genesis.destatis.de:443/genesis/css/genesis-online-colors.css\" media=\"screen,print\" rel=\"stylesheet\" type=\"text/css\"/>\n",
       "<style id=\"antiClickjack\">body{display:none !important;}</style>\n",
       "<script type=\"text/javascript\">\n",
       "           if (self === top) {\n",
       "               var antiClickjack = document.getElementById(\"antiClickjack\");\n",
       "               antiClickjack.parentNode.removeChild(antiClickjack);\n",
       "           } else {\n",
       "               top.location = self.location;\n",
       "           }\n",
       "        </script><script src=\"https://www-genesis.destatis.de:443/genesis/js/fokus.js\" type=\"text/javascript\"> </script><script src=\"https://www-genesis.destatis.de:443/genesis/js/recherchehilfe.js\" type=\"text/javascript\"> </script>\n",
       "<link href=\"https://www-genesis.destatis.de:443/genesis/misc/OpenSearch_de.xml\" rel=\"search\" title=\"Statistisches Bundesamt Deutschland - GENESIS-Online\" type=\"application/opensearchdescription+xml\"/>\n",
       "<link href=\"https://www-genesis.destatis.de:443/genesis/images/favicon.ico\" rel=\"shortcut icon\" type=\"image/x-icon\"/>\n",
       "</head>\n",
       "<body id=\"main-menu-overflow-visible\">\n",
       "<header>\n",
       "<div class=\"logos-and-nav\">\n",
       "<div class=\"container\">\n",
       "<div class=\"flex-grid flex-grid-s-row\">\n",
       "<div class=\"logos logos-container column-l-3 column-s-8\">\n",
       "<a class=\"logo-destatis-container\" href=\"http://www.destatis.de\" id=\"anfang\" title=\"destatis.de\"><img alt=\"destatis.de\" class=\"logo-destatis\" src=\"https://www-genesis.destatis.de:443/genesis/images/AmtsLogo.svg\" title=\"destatis.de\"/></a>\n",
       "<div class=\"logo-genesisonline\">\n",
       "<a href=\"https://www-genesis.destatis.de:443/genesis/online\" id=\"startseite\" title=\"Startseite\">\n",
       "<p class=\"genesisonline\"><abbr title=\"Gemeinsames neues statistisches Informationssystem\">GENESIS</abbr>-<span lang=\"EN-GB\">ONLINE</span></p>\n",
       "</a>\n",
       "</div>\n",
       "</div>\n",
       "<nav class=\"column-l-9 column-s-4\">\n",
       "<nav class=\"main-nav-container\">\n",
       "<ul class=\"main-nav-items-container\">\n",
       "<li class=\"main-nav-item main-dropdown-menu-container\">\n",
       "<button class=\"main-dropdown-menu-btn\">Menü</button>\n",
       "<ul class=\"main-dropdown-menu\">\n",
       "<li class=\"\">\n",
       "<a class=\"&gt;main-dropdown-menu-item-primary\" href=\"https://www-genesis.destatis.de:443/genesis/online?operation=themes&amp;code=$\" id=\"DropdownTop_1\">Themen</a>\n",
       "</li>\n",
       "<li class=\"\">\n",
       "<a class=\"&gt;main-dropdown-menu-item-primary\" href=\"https://www-genesis.destatis.de:443/genesis/online?operation=tables\" id=\"DropdownTop_2\">Tabellen</a>\n",
       "</li>\n",
       "<li class=\"\">\n",
       "<a class=\"&gt;main-dropdown-menu-item-primary\" href=\"https://www-genesis.destatis.de:443/genesis/online?operation=variables\" id=\"DropdownTop_6\">Merkmale</a>\n",
       "</li>\n",
       "<li class=\"hide-l show-s\">\n",
       "<br/>\n",
       "</li>\n",
       "<li class=\"hide-l show-s\">\n",
       "<a class=\"main-dropdown-menu-item-secondary\" href=\"https://www-genesis.destatis.de:443/genesis/online?operation=signUp&amp;levelindex=1&amp;levelid=1690886950057\" id=\"DropdownTop_9\">Anmeldung</a>\n",
       "</li>\n",
       "<li class=\"hide-l show-s\">\n",
       "<a class=\"main-dropdown-menu-item-secondary\" href=\"https://www-genesis.destatis.de:443/genesis/online?Menu=Hilfe\" id=\"DropdownTop_10\">Hilfe</a>\n",
       "</li>\n",
       "</ul>\n",
       "</li>\n",
       "<li class=\"main-nav-item show-l hide-s\">\n",
       "<form action=\"https://www-genesis.destatis.de:443/genesis/online?operation=signUp&amp;levelindex=1&amp;levelid=1690886950057\" method=\"post\">\n",
       "<button class=\"login button\" id=\"anmeldenButton\" name=\"anmelden\" title=\"Anmeldung\" value=\"Anmeldung\">Anmeldung</button>\n",
       "</form>\n",
       "</li>\n",
       "<li class=\"main-nav-item show-l hide-s\">\n",
       "<a href=\"https://www-genesis.destatis.de:443/genesis/online?Menu=Hilfe\">Hilfe</a>\n",
       "</li>\n",
       "<li class=\"main-nav-item show-l hide-s\">\n",
       "<a> </a>\n",
       "</li>\n",
       "</ul>\n",
       "</nav>\n",
       "</nav>\n",
       "</div>\n",
       "</div>\n",
       "</div>\n",
       "<section class=\"stage\">\n",
       "<div class=\"container\">\n",
       "<div class=\"stage-headlines-container\">\n",
       "<h1>Ergebnis 23211-0002</h1>\n",
       "</div>\n",
       "<div>\n",
       "<form action=\"https://www-genesis.destatis.de:443/genesis/online\" enctype=\"application/x-www-form-urlencoded\" method=\"get\" name=\"sucheingabe\">\n",
       "<input name=\"operation\" type=\"hidden\" value=\"find\"/><input id=\"suchanweisung_language\" name=\"suchanweisung_language\" type=\"hidden\" value=\"de\"/><label><input class=\"search-box\" id=\"query\" name=\"query\" placeholder=\"Datenbank durchsuchen\" type=\"search\"/></label>\n",
       "</form>\n",
       "</div>\n",
       "</div>\n",
       "</section>\n",
       "<nav class=\"breadcrumb container\" id=\"abreadcrumb\">\n",
       "<ul>\n",
       "<li>\n",
       "<a href=\"https://www-genesis.destatis.de:443/genesis/online\">Startseite</a>\n",
       "</li>\n",
       "<li>\n",
       "<a href=\"https://www-genesis.destatis.de:443/genesis/online?operation=previous&amp;levelindex=1&amp;step=0&amp;titel=Tabellenaufbau&amp;levelid=1690886950057&amp;levelid=1690886948021\" id=\"history300\" title=\"Tabellenaufbau\">Tabellenaufbau</a>\n",
       "</li>\n",
       "<li>\n",
       "<strong>Ergebnis</strong>\n",
       "</li>\n",
       "</ul>\n",
       "</nav>\n",
       "</header>\n",
       "<main>\n",
       "<section class=\"table-result\">\n",
       "<div class=\"container pb-0\">\n",
       "<div class=\"flex-grid\">\n",
       "<div class=\"column-l-7 column-s-12\">\n",
       "<h3>Tabelle</h3>\n",
       "</div>\n",
       "<div class=\"column-l-5 column-s-12\">\n",
       "<div class=\"flex-grid hideInZensus\">\n",
       "<div class=\"column-l-6 column-s-6\">\n",
       "<div class=\"btn-sec mb-1-25\">\n",
       "<form action=\"https://www-genesis.destatis.de:443/genesis/online?operation=ergebnistabelleDiagramm&amp;option=diagramm&amp;levelindex=1&amp;levelid=1690886950057&amp;downloadname=23211-0002\" class=\"btn-flex-grid\" method=\"post\">\n",
       "<button class=\"btn-flex-grid\" id=\"Chart\" title=\"Diagramm\" type=\"submit\" value=\"Diagramm\">Diagramm</button>\n",
       "</form>\n",
       "</div>\n",
       "</div>\n",
       "<div class=\"column-l-6 column-s-6 mb-1-5\">\n",
       "<div class=\"btn-sec\"></div>\n",
       "</div>\n",
       "</div>\n",
       "</div>\n",
       "</div>\n",
       "</div>\n",
       "<div class=\"table-options\">\n",
       "<div class=\"container\">\n",
       "<div class=\"flex-grid\">\n",
       "<div class=\"column-l-4 column-s-12\">\n",
       "<div class=\"downloads\">\n",
       "<div class=\"tab\">\n",
       "<p>Downloads:</p>\n",
       "</div>\n",
       "<div class=\"flex\">\n",
       "<form action=\"https://www-genesis.destatis.de:443/genesis/online?operation=ergebnistabelleDownload&amp;levelindex=1&amp;levelid=1690886950057&amp;option=xlsx\" method=\"post\" target=\"_blank\">\n",
       "<button class=\"xlsx\" id=\"XLSX\" title=\"Tabelle im MS-Excel-Format speichern\" type=\"submit\" value=\"Tabelle im MS-Excel-Format speichern\"></button>\n",
       "</form>\n",
       "<form action=\"https://www-genesis.destatis.de:443/genesis/online?operation=ergebnistabelleDownload&amp;levelindex=1&amp;levelid=1690886950057&amp;option=dcsv\" method=\"post\" target=\"_blank\">\n",
       "<button class=\"csv\" id=\"CSV\" title=\"Tabelle im Daten-CSV-Format speichern\" type=\"submit\" value=\"Tabelle im Daten-CSV-Format speichern\"></button>\n",
       "</form>\n",
       "<form action=\"https://www-genesis.destatis.de:443/genesis/online?operation=ergebnistabelleDownload&amp;levelindex=1&amp;levelid=1690886950057&amp;option=ffcsv\" method=\"post\" target=\"_blank\">\n",
       "<button class=\"flat\" id=\"FFCSV\" title=\"Tabelle im Flat-File-CSV-Format speichern\" type=\"submit\" value=\"Tabelle im Flat-File-CSV-Format speichern\"></button>\n",
       "</form>\n",
       "<form action=\"https://www-genesis.destatis.de:443/genesis/online?operation=ergebnistabelleDownload&amp;levelindex=1&amp;levelid=1690886950057&amp;option=xml\" method=\"post\" target=\"_blank\">\n",
       "<button class=\"xml\" id=\"XML\" title=\"Tabelle im XML-Format speichern\" type=\"submit\" value=\"Tabelle im XML-Format speichern\"></button>\n",
       "</form>\n",
       "</div>\n",
       "</div>\n",
       "</div>\n",
       "<div class=\"column-l-4 column-s-12\">\n",
       "<div class=\"options\">\n",
       "<div class=\"tab\">\n",
       "<p>Optionen:</p>\n",
       "</div>\n",
       "<div class=\"flex\">\n",
       "<form action=\"https://www-genesis.destatis.de:443/genesis/online?operation=ergebnistabelleQualitaetSeparatAN&amp;levelindex=1&amp;levelid=1690886950057&amp;downloadname=23211-0002\" method=\"post\">\n",
       "<button class=\"qualitaetSeparat-einblenden\" title=\"Download (XLSX, CSV, FLAT) mit Qualitätskennzeichen\" type=\"submit\" value=\"Download (XLSX, CSV, FLAT) mit Qualitätskennzeichen\"></button>\n",
       "</form>\n",
       "</div>\n",
       "<div class=\"flex\">\n",
       "<form action=\"https://www-genesis.destatis.de:443/genesis/online?operation=ergebnistabelleKomprimierungLeerzeilen&amp;levelindex=1&amp;levelid=1690886950057&amp;downloadname=23211-0002\" method=\"post\">\n",
       "<button class=\"show-empty-rows\" title=\"Leerzeilen einblenden\" type=\"submit\" value=\"Leerzeilen einblenden\"></button>\n",
       "</form>\n",
       "<form action=\"https://www-genesis.destatis.de:443/genesis/online?operation=ergebnistabelleKomprimierungLeerspalten&amp;levelindex=1&amp;levelid=1690886950057&amp;downloadname=23211-0002\" method=\"post\">\n",
       "<button class=\"show-empty-columns\" title=\"Leerspalten einblenden\" type=\"submit\" value=\"Leerspalten einblenden\"></button>\n",
       "</form>\n",
       "</div>\n",
       "</div>\n",
       "</div>\n",
       "</div>\n",
       "</div>\n",
       "<div class=\"container\"></div>\n",
       "</div>\n",
       "<div class=\"container\">\n",
       "<div class=\"flex-grid\">\n",
       "<div class=\"column-l-12 column-s-12\">\n",
       "<script src=\"https://www-genesis.destatis.de:443/genesis/js/textlinkForTable.js\" type=\"text/javascript\"> </script><script src=\"https://www-genesis.destatis.de:443/genesis/js/hoverForTable.js\" type=\"text/javascript\"> </script>\n",
       "<p>\n",
       "<div class=\"table-result-container\">\n",
       "<div class=\"table-overflow\">\n",
       "<form action=\"https://www-genesis.destatis.de:443/genesis/online?operation=ergebnistabelleInfo&amp;levelindex=1&amp;levelid=1690886950057\" method=\"post\"><table class=\"ergebnistabelle\" id=\"ET\" summary=\"Die Tabelle 23211-0002 enthält aktuelle Daten zur Statistik - Todesursachenstatistik - mit Stand vom 01.08.2023\"><caption><span style=\"white-space:nowrap\">Gestorbene: Deutschland, Jahre, Todesursachen, Geschlecht</span></caption><thead><tr><th class=\"schemaBorderColorLevel3 schemaBgColorLevel1 etueberschrift\" colspan=\"4\" id=\"Z2S1\" style=\"text-align: left\"><span style=\"white-space:nowrap\"><input name=\"option$$$01923211\" title=\"Anzeigen von Informationen zu Statistik mit dem Namen '23211'\" type=\"submit\" value=\"Todesursachenstatistik\"><br>Deutschland<br/><input name=\"option$$$003BEV002\" title=\"Anzeigen von Informationen zu Merkmal mit dem Namen 'BEV002'\" type=\"submit\" value=\"Gestorbene\"> (Anzahl)</input></br></input></span></th></tr><tr><th class=\"schemaBorderColorLevel3 schemaBgColorLevel1 etkopfvorspalte\" colspan=\"1\" id=\"Z3S1\" rowspan=\"2\"><span style=\"white-space:nowrap\">Todesursachen</span></th><th class=\"schemaBorderColorLevel3 schemaBgColorLevel1 etkopfzeile\" colspan=\"3\" id=\"Z3S2\">Geschlecht</th></tr><tr><th class=\"schemaBorderColorLevel3 schemaBgColorLevel1 etkopfzeile\" id=\"Z4S2\">männlich</th><th class=\"schemaBorderColorLevel3 schemaBgColorLevel1 etkopfzeile\" id=\"Z4S3\">weiblich</th><th class=\"schemaBorderColorLevel3 schemaBgColorLevel1 etkopfzeile\" id=\"Z4S4\">Insgesamt</th></tr></thead><tbody><tr><th class=\"schemaBorderColorLevel3 etuntertitel\" colspan=\"4\" id=\"Z5S1\">2021</th></tr><tr><th class=\"schemaBorderColorLevel3 schemaBgColorLevel1 etvorspalte\" id=\"Z6S1\">Bestimmte infektiöse und parasitäre Krankheiten</th><td class=\"schemaBorderColorLevel3 etzelle\" headers=\"Z2S1 Z5S1 Z6S1 Z3S2 Z4S2\" style=\"white-space: nowrap\">7 355</td><td class=\"schemaBorderColorLevel3 etzelle\" headers=\"Z2S1 Z5S1 Z6S1 Z3S2 Z4S3\" style=\"white-space: nowrap\">7 515</td><td class=\"schemaBorderColorLevel3 etzelle\" headers=\"Z2S1 Z5S1 Z6S1 Z3S2 Z4S4\" style=\"white-space: nowrap\">14 870</td></tr><tr><th class=\"schemaBorderColorLevel3 schemaBgColorLevel1 etvorspalte\" id=\"Z7S1\">Tuberkulose einschließlich ihrer Folgezustände</th><td class=\"schemaBorderColorLevel3 etzelle\" headers=\"Z2S1 Z5S1 Z7S1 Z3S2 Z4S2\" style=\"white-space: nowrap\">161</td><td class=\"schemaBorderColorLevel3 etzelle\" headers=\"Z2S1 Z5S1 Z7S1 Z3S2 Z4S3\" style=\"white-space: nowrap\">106</td><td class=\"schemaBorderColorLevel3 etzelle\" headers=\"Z2S1 Z5S1 Z7S1 Z3S2 Z4S4\" style=\"white-space: nowrap\">267</td></tr><tr><th class=\"schemaBorderColorLevel3 schemaBgColorLevel1 etvorspalte\" id=\"Z8S1\">Meningokokkeninfektion</th><td class=\"schemaBorderColorLevel3 etzelle\" headers=\"Z2S1 Z5S1 Z8S1 Z3S2 Z4S2\" style=\"white-space: nowrap\">8</td><td class=\"schemaBorderColorLevel3 etzelle\" headers=\"Z2S1 Z5S1 Z8S1 Z3S2 Z4S3\" style=\"white-space: nowrap\">7</td><td class=\"schemaBorderColorLevel3 etzelle\" headers=\"Z2S1 Z5S1 Z8S1 Z3S2 Z4S4\" style=\"white-space: nowrap\">15</td></tr><tr><th class=\"schemaBorderColorLevel3 schemaBgColorLevel1 etvorspalte\" id=\"Z9S1\">Virushepatitis</th><td class=\"schemaBorderColorLevel3 etzelle\" headers=\"Z2S1 Z5S1 Z9S1 Z3S2 Z4S2\" style=\"white-space: nowrap\">307</td><td class=\"schemaBorderColorLevel3 etzelle\" headers=\"Z2S1 Z5S1 Z9S1 Z3S2 Z4S3\" style=\"white-space: nowrap\">204</td><td class=\"schemaBorderColorLevel3 etzelle\" headers=\"Z2S1 Z5S1 Z9S1 Z3S2 Z4S4\" style=\"white-space: nowrap\">511</td></tr><tr><th class=\"schemaBorderColorLevel3 schemaBgColorLevel1 etvorspalte\" id=\"Z10S1\">HIV-Krankheit</th><td class=\"schemaBorderColorLevel3 etzelle\" headers=\"Z2S1 Z5S1 Z10S1 Z3S2 Z4S2\" style=\"white-space: nowrap\">176</td><td class=\"schemaBorderColorLevel3 etzelle\" headers=\"Z2S1 Z5S1 Z10S1 Z3S2 Z4S3\" style=\"white-space: nowrap\">42</td><td class=\"schemaBorderColorLevel3 etzelle\" headers=\"Z2S1 Z5S1 Z10S1 Z3S2 Z4S4\" style=\"white-space: nowrap\">218</td></tr><tr><th class=\"schemaBorderColorLevel3 schemaBgColorLevel1 etvorspalte\" id=\"Z11S1\">Neubildungen</th><td class=\"schemaBorderColorLevel3 etzelle\" headers=\"Z2S1 Z5S1 Z11S1 Z3S2 Z4S2\" style=\"white-space: nowrap\">127 968</td><td class=\"schemaBorderColorLevel3 etzelle\" headers=\"Z2S1 Z5S1 Z11S1 Z3S2 Z4S3\" style=\"white-space: nowrap\">109 192</td><td class=\"schemaBorderColorLevel3 etzelle\" headers=\"Z2S1 Z5S1 Z11S1 Z3S2 Z4S4\" style=\"white-space: nowrap\">237 160</td></tr><tr><th class=\"schemaBorderColorLevel3 schemaBgColorLevel1 etvorspalte\" id=\"Z12S1\">Bösartige Neubildungen (BN)</th><td class=\"schemaBorderColorLevel3 etzelle\" headers=\"Z2S1 Z5S1 Z12S1 Z3S2 Z4S2\" style=\"white-space: nowrap\">124 006</td><td class=\"schemaBorderColorLevel3 etzelle\" headers=\"Z2S1 Z5S1 Z12S1 Z3S2 Z4S3\" style=\"white-space: nowrap\">105 062</td><td class=\"schemaBorderColorLevel3 etzelle\" headers=\"Z2S1 Z5S1 Z12S1 Z3S2 Z4S4\" style=\"white-space: nowrap\">229 068</td></tr><tr><th class=\"schemaBorderColorLevel3 schemaBgColorLevel1 etvorspalte\" id=\"Z13S1\"><input name=\"option$$$006TODESURS09\" title=\"Anzeigen von Informationen zu Merkmalsausprägung mit dem Namen 'TODESURS09'\" type=\"submit\" value=\"BN der Lippe, der Mundhöhle und des Pharynx\"/></th><td class=\"schemaBorderColorLevel3 etzelle\" headers=\"Z2S1 Z5S1 Z13S1 Z3S2 Z4S2\" style=\"white-space: nowrap\">3 796</td><td class=\"schemaBorderColorLevel3 etzelle\" headers=\"Z2S1 Z5S1 Z13S1 Z3S2 Z4S3\" style=\"white-space: nowrap\">1 421</td><td class=\"schemaBorderColorLevel3 etzelle\" headers=\"Z2S1 Z5S1 Z13S1 Z3S2 Z4S4\" style=\"white-space: nowrap\">5 217</td></tr><tr><th class=\"schemaBorderColorLevel3 schemaBgColorLevel1 etvorspalte\" id=\"Z14S1\"><input name=\"option$$$006TODESURS10\" title=\"Anzeigen von Informationen zu Merkmalsausprägung mit dem Namen 'TODESURS10'\" type=\"submit\" value=\"BN des Ösophagus\"/></th><td class=\"schemaBorderColorLevel3 etzelle\" headers=\"Z2S1 Z5S1 Z14S1 Z3S2 Z4S2\" style=\"white-space: nowrap\">4 444</td><td class=\"schemaBorderColorLevel3 etzelle\" headers=\"Z2S1 Z5S1 Z14S1 Z3S2 Z4S3\" style=\"white-space: nowrap\">1 368</td><td class=\"schemaBorderColorLevel3 etzelle\" headers=\"Z2S1 Z5S1 Z14S1 Z3S2 Z4S4\" style=\"white-space: nowrap\">5 812</td></tr><tr><th class=\"schemaBorderColorLevel3 schemaBgColorLevel1 etvorspalte\" id=\"Z15S1\"><input name=\"option$$$006TODESURS11\" title=\"Anzeigen von Informationen zu Merkmalsausprägung mit dem Namen 'TODESURS11'\" type=\"submit\" value=\"BN des Magens\"/></th><td class=\"schemaBorderColorLevel3 etzelle\" headers=\"Z2S1 Z5S1 Z15S1 Z3S2 Z4S2\" style=\"white-space: nowrap\">4 976</td><td class=\"schemaBorderColorLevel3 etzelle\" headers=\"Z2S1 Z5S1 Z15S1 Z3S2 Z4S3\" style=\"white-space: nowrap\">3 320</td><td class=\"schemaBorderColorLevel3 etzelle\" headers=\"Z2S1 Z5S1 Z15S1 Z3S2 Z4S4\" style=\"white-space: nowrap\">8 296</td></tr><tr><th class=\"schemaBorderColorLevel3 schemaBgColorLevel1 etvorspalte\" id=\"Z16S1\"><input name=\"option$$$006TODESURS12\" title=\"Anzeigen von Informationen zu Merkmalsausprägung mit dem Namen 'TODESURS12'\" type=\"submit\" value=\"BN des Dickdarms\"/></th><td class=\"schemaBorderColorLevel3 etzelle\" headers=\"Z2S1 Z5S1 Z16S1 Z3S2 Z4S2\" style=\"white-space: nowrap\">7 820</td><td class=\"schemaBorderColorLevel3 etzelle\" headers=\"Z2S1 Z5S1 Z16S1 Z3S2 Z4S3\" style=\"white-space: nowrap\">7 252</td><td class=\"schemaBorderColorLevel3 etzelle\" headers=\"Z2S1 Z5S1 Z16S1 Z3S2 Z4S4\" style=\"white-space: nowrap\">15 072</td></tr><tr><th class=\"schemaBorderColorLevel3 schemaBgColorLevel1 etvorspalte\" id=\"Z17S1\"><input name=\"option$$$006TODESURS13\" title=\"Anzeigen von Informationen zu Merkmalsausprägung mit dem Namen 'TODESURS13'\" type=\"submit\" value=\"BN des Rektums, des Anus und am Rektosigmoid\"/></th><td class=\"schemaBorderColorLevel3 etzelle\" headers=\"Z2S1 Z5S1 Z17S1 Z3S2 Z4S2\" style=\"white-space: nowrap\">4 744</td><td class=\"schemaBorderColorLevel3 etzelle\" headers=\"Z2S1 Z5S1 Z17S1 Z3S2 Z4S3\" style=\"white-space: nowrap\">3 049</td><td class=\"schemaBorderColorLevel3 etzelle\" headers=\"Z2S1 Z5S1 Z17S1 Z3S2 Z4S4\" style=\"white-space: nowrap\">7 793</td></tr><tr><th class=\"schemaBorderColorLevel3 schemaBgColorLevel1 etvorspalte\" id=\"Z18S1\"><input name=\"option$$$006TODESURS14\" title=\"Anzeigen von Informationen zu Merkmalsausprägung mit dem Namen 'TODESURS14'\" type=\"submit\" value=\"BN der Leber, der Gallenwege und des Pankreas\"/></th><td class=\"schemaBorderColorLevel3 etzelle\" headers=\"Z2S1 Z5S1 Z18S1 Z3S2 Z4S2\" style=\"white-space: nowrap\">16 708</td><td class=\"schemaBorderColorLevel3 etzelle\" headers=\"Z2S1 Z5S1 Z18S1 Z3S2 Z4S3\" style=\"white-space: nowrap\">14 286</td><td class=\"schemaBorderColorLevel3 etzelle\" headers=\"Z2S1 Z5S1 Z18S1 Z3S2 Z4S4\" style=\"white-space: nowrap\">30 994</td></tr><tr><th class=\"schemaBorderColorLevel3 schemaBgColorLevel1 etvorspalte\" id=\"Z19S1\"><input name=\"option$$$006TODESURS15\" title=\"Anzeigen von Informationen zu Merkmalsausprägung mit dem Namen 'TODESURS15'\" type=\"submit\" value=\"BN der Leber und der intrahepatischen Gallengänge\"/></th><td class=\"schemaBorderColorLevel3 etzelle\" headers=\"Z2S1 Z5S1 Z19S1 Z3S2 Z4S2\" style=\"white-space: nowrap\">5 455</td><td class=\"schemaBorderColorLevel3 etzelle\" headers=\"Z2S1 Z5S1 Z19S1 Z3S2 Z4S3\" style=\"white-space: nowrap\">2 692</td><td class=\"schemaBorderColorLevel3 etzelle\" headers=\"Z2S1 Z5S1 Z19S1 Z3S2 Z4S4\" style=\"white-space: nowrap\">8 147</td></tr><tr><th class=\"schemaBorderColorLevel3 schemaBgColorLevel1 etvorspalte\" id=\"Z20S1\"><input name=\"option$$$006TODESURS16\" title=\"Anzeigen von Informationen zu Merkmalsausprägung mit dem Namen 'TODESURS16'\" type=\"submit\" value=\"BN des Pankreas\"/></th><td class=\"schemaBorderColorLevel3 etzelle\" headers=\"Z2S1 Z5S1 Z20S1 Z3S2 Z4S2\" style=\"white-space: nowrap\">9 570</td><td class=\"schemaBorderColorLevel3 etzelle\" headers=\"Z2S1 Z5S1 Z20S1 Z3S2 Z4S3\" style=\"white-space: nowrap\">9 602</td><td class=\"schemaBorderColorLevel3 etzelle\" headers=\"Z2S1 Z5S1 Z20S1 Z3S2 Z4S4\" style=\"white-space: nowrap\">19 172</td></tr><tr><th class=\"schemaBorderColorLevel3 schemaBgColorLevel1 etvorspalte\" id=\"Z21S1\"><input name=\"option$$$006TODESURS17\" title=\"Anzeigen von Informationen zu Merkmalsausprägung mit dem Namen 'TODESURS17'\" type=\"submit\" value=\"BN d. Larynx, d. Trachea, d. Bronchien u. d. Lunge\"/></th><td class=\"schemaBorderColorLevel3 etzelle\" headers=\"Z2S1 Z5S1 Z21S1 Z3S2 Z4S2\" style=\"white-space: nowrap\">28 332</td><td class=\"schemaBorderColorLevel3 etzelle\" headers=\"Z2S1 Z5S1 Z21S1 Z3S2 Z4S3\" style=\"white-space: nowrap\">17 608</td><td class=\"schemaBorderColorLevel3 etzelle\" headers=\"Z2S1 Z5S1 Z21S1 Z3S2 Z4S4\" style=\"white-space: nowrap\">45 940</td></tr><tr><th class=\"schemaBorderColorLevel3 schemaBgColorLevel1 etvorspalte\" id=\"Z22S1\"><input name=\"option$$$006TODESURS18\" title=\"Anzeigen von Informationen zu Merkmalsausprägung mit dem Namen 'TODESURS18'\" type=\"submit\" value=\"BN der Bronchien und der Lunge\"/></th><td class=\"schemaBorderColorLevel3 etzelle\" headers=\"Z2S1 Z5S1 Z22S1 Z3S2 Z4S2\" style=\"white-space: nowrap\">27 200</td><td class=\"schemaBorderColorLevel3 etzelle\" headers=\"Z2S1 Z5S1 Z22S1 Z3S2 Z4S3\" style=\"white-space: nowrap\">17 401</td><td class=\"schemaBorderColorLevel3 etzelle\" headers=\"Z2S1 Z5S1 Z22S1 Z3S2 Z4S4\" style=\"white-space: nowrap\">44 601</td></tr><tr><th class=\"schemaBorderColorLevel3 schemaBgColorLevel1 etvorspalte\" id=\"Z23S1\"><input name=\"option$$$006TODESURS19\" title=\"Anzeigen von Informationen zu Merkmalsausprägung mit dem Namen 'TODESURS19'\" type=\"submit\" value=\"Melanom und sonstige bösartige Neubild. der Haut\"/></th><td class=\"schemaBorderColorLevel3 etzelle\" headers=\"Z2S1 Z5S1 Z23S1 Z3S2 Z4S2\" style=\"white-space: nowrap\">2 406</td><td class=\"schemaBorderColorLevel3 etzelle\" headers=\"Z2S1 Z5S1 Z23S1 Z3S2 Z4S3\" style=\"white-space: nowrap\">1 700</td><td class=\"schemaBorderColorLevel3 etzelle\" headers=\"Z2S1 Z5S1 Z23S1 Z3S2 Z4S4\" style=\"white-space: nowrap\">4 106</td></tr><tr><th class=\"schemaBorderColorLevel3 schemaBgColorLevel1 etvorspalte\" id=\"Z24S1\">Bösartiges Melanom der Haut</th><td class=\"schemaBorderColorLevel3 etzelle\" headers=\"Z2S1 Z5S1 Z24S1 Z3S2 Z4S2\" style=\"white-space: nowrap\">1 692</td><td class=\"schemaBorderColorLevel3 etzelle\" headers=\"Z2S1 Z5S1 Z24S1 Z3S2 Z4S3\" style=\"white-space: nowrap\">1 236</td><td class=\"schemaBorderColorLevel3 etzelle\" headers=\"Z2S1 Z5S1 Z24S1 Z3S2 Z4S4\" style=\"white-space: nowrap\">2 928</td></tr><tr><th class=\"schemaBorderColorLevel3 schemaBgColorLevel1 etvorspalte\" id=\"Z25S1\"><input name=\"option$$$006TODESURS21\" title=\"Anzeigen von Informationen zu Merkmalsausprägung mit dem Namen 'TODESURS21'\" type=\"submit\" value=\"BN der Brustdrüse\"/></th><td class=\"schemaBorderColorLevel3 etzelle\" headers=\"Z2S1 Z5S1 Z25S1 Z3S2 Z4S2\" style=\"white-space: nowrap\">157</td><td class=\"schemaBorderColorLevel3 etzelle\" headers=\"Z2S1 Z5S1 Z25S1 Z3S2 Z4S3\" style=\"white-space: nowrap\">18 479</td><td class=\"schemaBorderColorLevel3 etzelle\" headers=\"Z2S1 Z5S1 Z25S1 Z3S2 Z4S4\" style=\"white-space: nowrap\">18 636</td></tr><tr><th class=\"schemaBorderColorLevel3 schemaBgColorLevel1 etvorspalte\" id=\"Z26S1\"><input name=\"option$$$006TODESURS22\" title=\"Anzeigen von Informationen zu Merkmalsausprägung mit dem Namen 'TODESURS22'\" type=\"submit\" value=\"BN der Genital- und Harnorgane\"/></th><td class=\"schemaBorderColorLevel3 etzelle\" headers=\"Z2S1 Z5S1 Z26S1 Z3S2 Z4S2\" style=\"white-space: nowrap\">25 989</td><td class=\"schemaBorderColorLevel3 etzelle\" headers=\"Z2S1 Z5S1 Z26S1 Z3S2 Z4S3\" style=\"white-space: nowrap\">16 181</td><td class=\"schemaBorderColorLevel3 etzelle\" headers=\"Z2S1 Z5S1 Z26S1 Z3S2 Z4S4\" style=\"white-space: nowrap\">42 170</td></tr><tr><th class=\"schemaBorderColorLevel3 schemaBgColorLevel1 etvorspalte\" id=\"Z27S1\"><input name=\"option$$$006TODESURS23\" title=\"Anzeigen von Informationen zu Merkmalsausprägung mit dem Namen 'TODESURS23'\" type=\"submit\" value=\"BN der Cervix uteri\"/></th><td class=\"schemaBorderColorLevel3 etzelle\" headers=\"Z2S1 Z5S1 Z27S1 Z3S2 Z4S2\" style=\"white-space: nowrap\"><abbr title=\"nichts vorhanden\">-</abbr></td><td class=\"schemaBorderColorLevel3 etzelle\" headers=\"Z2S1 Z5S1 Z27S1 Z3S2 Z4S3\" style=\"white-space: nowrap\">1 535</td><td class=\"schemaBorderColorLevel3 etzelle\" headers=\"Z2S1 Z5S1 Z27S1 Z3S2 Z4S4\" style=\"white-space: nowrap\">1 535</td></tr><tr><th class=\"schemaBorderColorLevel3 schemaBgColorLevel1 etvorspalte\" id=\"Z28S1\"><input name=\"option$$$006TODESURS24\" title=\"Anzeigen von Informationen zu Merkmalsausprägung mit dem Namen 'TODESURS24'\" type=\"submit\" value=\"BN des Corpus uteri u. Uterus, Teil n.n. bezeichn.\"/></th><td class=\"schemaBorderColorLevel3 etzelle\" headers=\"Z2S1 Z5S1 Z28S1 Z3S2 Z4S2\" style=\"white-space: nowrap\"><abbr title=\"nichts vorhanden\">-</abbr></td><td class=\"schemaBorderColorLevel3 etzelle\" headers=\"Z2S1 Z5S1 Z28S1 Z3S2 Z4S3\" style=\"white-space: nowrap\">2 634</td><td class=\"schemaBorderColorLevel3 etzelle\" headers=\"Z2S1 Z5S1 Z28S1 Z3S2 Z4S4\" style=\"white-space: nowrap\">2 634</td></tr><tr><th class=\"schemaBorderColorLevel3 schemaBgColorLevel1 etvorspalte\" id=\"Z29S1\"><input name=\"option$$$006TODESURS25\" title=\"Anzeigen von Informationen zu Merkmalsausprägung mit dem Namen 'TODESURS25'\" type=\"submit\" value=\"BN des Ovars\"/></th><td class=\"schemaBorderColorLevel3 etzelle\" headers=\"Z2S1 Z5S1 Z29S1 Z3S2 Z4S2\" style=\"white-space: nowrap\"><abbr title=\"nichts vorhanden\">-</abbr></td><td class=\"schemaBorderColorLevel3 etzelle\" headers=\"Z2S1 Z5S1 Z29S1 Z3S2 Z4S3\" style=\"white-space: nowrap\">5 379</td><td class=\"schemaBorderColorLevel3 etzelle\" headers=\"Z2S1 Z5S1 Z29S1 Z3S2 Z4S4\" style=\"white-space: nowrap\">5 379</td></tr><tr><th class=\"schemaBorderColorLevel3 schemaBgColorLevel1 etvorspalte\" id=\"Z30S1\"><input name=\"option$$$006TODESURS26\" title=\"Anzeigen von Informationen zu Merkmalsausprägung mit dem Namen 'TODESURS26'\" type=\"submit\" value=\"BN der Prostata\"/></th><td class=\"schemaBorderColorLevel3 etzelle\" headers=\"Z2S1 Z5S1 Z30S1 Z3S2 Z4S2\" style=\"white-space: nowrap\">15 379</td><td class=\"schemaBorderColorLevel3 etzelle\" headers=\"Z2S1 Z5S1 Z30S1 Z3S2 Z4S3\" style=\"white-space: nowrap\"><abbr title=\"nichts vorhanden\">-</abbr></td><td class=\"schemaBorderColorLevel3 etzelle\" headers=\"Z2S1 Z5S1 Z30S1 Z3S2 Z4S4\" style=\"white-space: nowrap\">15 379</td></tr><tr><th class=\"schemaBorderColorLevel3 schemaBgColorLevel1 etvorspalte\" id=\"Z31S1\"><input name=\"option$$$006TODESURS27\" title=\"Anzeigen von Informationen zu Merkmalsausprägung mit dem Namen 'TODESURS27'\" type=\"submit\" value=\"BN der Niere, ausgenommen Nierenbecken\"/></th><td class=\"schemaBorderColorLevel3 etzelle\" headers=\"Z2S1 Z5S1 Z31S1 Z3S2 Z4S2\" style=\"white-space: nowrap\">3 070</td><td class=\"schemaBorderColorLevel3 etzelle\" headers=\"Z2S1 Z5S1 Z31S1 Z3S2 Z4S3\" style=\"white-space: nowrap\">1 790</td><td class=\"schemaBorderColorLevel3 etzelle\" headers=\"Z2S1 Z5S1 Z31S1 Z3S2 Z4S4\" style=\"white-space: nowrap\">4 860</td></tr><tr><th class=\"schemaBorderColorLevel3 schemaBgColorLevel1 etvorspalte\" id=\"Z32S1\"><input name=\"option$$$006TODESURS28\" title=\"Anzeigen von Informationen zu Merkmalsausprägung mit dem Namen 'TODESURS28'\" type=\"submit\" value=\"BN der Harnblase\"/></th><td class=\"schemaBorderColorLevel3 etzelle\" headers=\"Z2S1 Z5S1 Z32S1 Z3S2 Z4S2\" style=\"white-space: nowrap\">3 891</td><td class=\"schemaBorderColorLevel3 etzelle\" headers=\"Z2S1 Z5S1 Z32S1 Z3S2 Z4S3\" style=\"white-space: nowrap\">1 852</td><td class=\"schemaBorderColorLevel3 etzelle\" headers=\"Z2S1 Z5S1 Z32S1 Z3S2 Z4S4\" style=\"white-space: nowrap\">5 743</td></tr><tr><th class=\"schemaBorderColorLevel3 schemaBgColorLevel1 etvorspalte\" id=\"Z33S1\"><input name=\"option$$$006TODESURS29\" title=\"Anzeigen von Informationen zu Merkmalsausprägung mit dem Namen 'TODESURS29'\" type=\"submit\" value=\"BN d. lymphat., blutbild. u. verwandten Gewebes\"/></th><td class=\"schemaBorderColorLevel3 etzelle\" headers=\"Z2S1 Z5S1 Z33S1 Z3S2 Z4S2\" style=\"white-space: nowrap\">11 167</td><td class=\"schemaBorderColorLevel3 etzelle\" headers=\"Z2S1 Z5S1 Z33S1 Z3S2 Z4S3\" style=\"white-space: nowrap\">8 725</td><td class=\"schemaBorderColorLevel3 etzelle\" headers=\"Z2S1 Z5S1 Z33S1 Z3S2 Z4S4\" style=\"white-space: nowrap\">19 892</td></tr><tr><th class=\"schemaBorderColorLevel3 schemaBgColorLevel1 etvorspalte\" id=\"Z34S1\">Leukämie</th><td class=\"schemaBorderColorLevel3 etzelle\" headers=\"Z2S1 Z5S1 Z34S1 Z3S2 Z4S2\" style=\"white-space: nowrap\">4 674</td><td class=\"schemaBorderColorLevel3 etzelle\" headers=\"Z2S1 Z5S1 Z34S1 Z3S2 Z4S3\" style=\"white-space: nowrap\">3 530</td><td class=\"schemaBorderColorLevel3 etzelle\" headers=\"Z2S1 Z5S1 Z34S1 Z3S2 Z4S4\" style=\"white-space: nowrap\">8 204</td></tr><tr><th class=\"schemaBorderColorLevel3 schemaBgColorLevel1 etvorspalte\" id=\"Z35S1\">Gutartige Neubildungen</th><td class=\"schemaBorderColorLevel3 etzelle\" headers=\"Z2S1 Z5S1 Z35S1 Z3S2 Z4S2\" style=\"white-space: nowrap\">371</td><td class=\"schemaBorderColorLevel3 etzelle\" headers=\"Z2S1 Z5S1 Z35S1 Z3S2 Z4S3\" style=\"white-space: nowrap\">396</td><td class=\"schemaBorderColorLevel3 etzelle\" headers=\"Z2S1 Z5S1 Z35S1 Z3S2 Z4S4\" style=\"white-space: nowrap\">767</td></tr><tr><th class=\"schemaBorderColorLevel3 schemaBgColorLevel1 etvorspalte\" id=\"Z36S1\"><input name=\"option$$$006TODESURS32\" title=\"Anzeigen von Informationen zu Merkmalsausprägung mit dem Namen 'TODESURS32'\" type=\"submit\" value=\"Krankheiten des Blutes u. der blutbildenden Organe\"/></th><td class=\"schemaBorderColorLevel3 etzelle\" headers=\"Z2S1 Z5S1 Z36S1 Z3S2 Z4S2\" style=\"white-space: nowrap\">2 078</td><td class=\"schemaBorderColorLevel3 etzelle\" headers=\"Z2S1 Z5S1 Z36S1 Z3S2 Z4S3\" style=\"white-space: nowrap\">2 632</td><td class=\"schemaBorderColorLevel3 etzelle\" headers=\"Z2S1 Z5S1 Z36S1 Z3S2 Z4S4\" style=\"white-space: nowrap\">4 710</td></tr><tr><th class=\"schemaBorderColorLevel3 schemaBgColorLevel1 etvorspalte\" id=\"Z37S1\"><input name=\"option$$$006TODESURS33\" title=\"Anzeigen von Informationen zu Merkmalsausprägung mit dem Namen 'TODESURS33'\" type=\"submit\" value=\"Endokrine, Ernährungs- u. Stoffwechselkrankheiten\"/></th><td class=\"schemaBorderColorLevel3 etzelle\" headers=\"Z2S1 Z5S1 Z37S1 Z3S2 Z4S2\" style=\"white-space: nowrap\">17 402</td><td class=\"schemaBorderColorLevel3 etzelle\" headers=\"Z2S1 Z5S1 Z37S1 Z3S2 Z4S3\" style=\"white-space: nowrap\">20 464</td><td class=\"schemaBorderColorLevel3 etzelle\" headers=\"Z2S1 Z5S1 Z37S1 Z3S2 Z4S4\" style=\"white-space: nowrap\">37 866</td></tr><tr><th class=\"schemaBorderColorLevel3 schemaBgColorLevel1 etvorspalte\" id=\"Z38S1\">Diabetes mellitus</th><td class=\"schemaBorderColorLevel3 etzelle\" headers=\"Z2S1 Z5S1 Z38S1 Z3S2 Z4S2\" style=\"white-space: nowrap\">12 428</td><td class=\"schemaBorderColorLevel3 etzelle\" headers=\"Z2S1 Z5S1 Z38S1 Z3S2 Z4S3\" style=\"white-space: nowrap\">13 556</td><td class=\"schemaBorderColorLevel3 etzelle\" headers=\"Z2S1 Z5S1 Z38S1 Z3S2 Z4S4\" style=\"white-space: nowrap\">25 984</td></tr><tr><th class=\"schemaBorderColorLevel3 schemaBgColorLevel1 etvorspalte\" id=\"Z39S1\">Psychische und Verhaltensstörungen</th><td class=\"schemaBorderColorLevel3 etzelle\" headers=\"Z2S1 Z5S1 Z39S1 Z3S2 Z4S2\" style=\"white-space: nowrap\">22 848</td><td class=\"schemaBorderColorLevel3 etzelle\" headers=\"Z2S1 Z5S1 Z39S1 Z3S2 Z4S3\" style=\"white-space: nowrap\">37 142</td><td class=\"schemaBorderColorLevel3 etzelle\" headers=\"Z2S1 Z5S1 Z39S1 Z3S2 Z4S4\" style=\"white-space: nowrap\">59 990</td></tr><tr><th class=\"schemaBorderColorLevel3 schemaBgColorLevel1 etvorspalte\" id=\"Z40S1\">Psychische und Verhaltensstörungen durch Alkohol</th><td class=\"schemaBorderColorLevel3 etzelle\" headers=\"Z2S1 Z5S1 Z40S1 Z3S2 Z4S2\" style=\"white-space: nowrap\">3 842</td><td class=\"schemaBorderColorLevel3 etzelle\" headers=\"Z2S1 Z5S1 Z40S1 Z3S2 Z4S3\" style=\"white-space: nowrap\">1 122</td><td class=\"schemaBorderColorLevel3 etzelle\" headers=\"Z2S1 Z5S1 Z40S1 Z3S2 Z4S4\" style=\"white-space: nowrap\">4 964</td></tr><tr><th class=\"schemaBorderColorLevel3 schemaBgColorLevel1 etvorspalte\" id=\"Z41S1\"><input name=\"option$$$006TODESURS37\" title=\"Anzeigen von Informationen zu Merkmalsausprägung mit dem Namen 'TODESURS37'\" type=\"submit\" value=\"Psych. u. Verhaltensstörungen d.a.psychotr. Subst.\"/></th><td class=\"schemaBorderColorLevel3 etzelle\" headers=\"Z2S1 Z5S1 Z41S1 Z3S2 Z4S2\" style=\"white-space: nowrap\">499</td><td class=\"schemaBorderColorLevel3 etzelle\" headers=\"Z2S1 Z5S1 Z41S1 Z3S2 Z4S3\" style=\"white-space: nowrap\">142</td><td class=\"schemaBorderColorLevel3 etzelle\" headers=\"Z2S1 Z5S1 Z41S1 Z3S2 Z4S4\" style=\"white-space: nowrap\">641</td></tr><tr><th class=\"schemaBorderColorLevel3 schemaBgColorLevel1 etvorspalte\" id=\"Z42S1\"><input name=\"option$$$006TODESURS38\" title=\"Anzeigen von Informationen zu Merkmalsausprägung mit dem Namen 'TODESURS38'\" type=\"submit\" value=\"Krankheiten d. Nervensystems u. d. Sinnesorgane\"/></th><td class=\"schemaBorderColorLevel3 etzelle\" headers=\"Z2S1 Z5S1 Z42S1 Z3S2 Z4S2\" style=\"white-space: nowrap\">17 974</td><td class=\"schemaBorderColorLevel3 etzelle\" headers=\"Z2S1 Z5S1 Z42S1 Z3S2 Z4S3\" style=\"white-space: nowrap\">17 804</td><td class=\"schemaBorderColorLevel3 etzelle\" headers=\"Z2S1 Z5S1 Z42S1 Z3S2 Z4S4\" style=\"white-space: nowrap\">35 778</td></tr><tr><th class=\"schemaBorderColorLevel3 schemaBgColorLevel1 etvorspalte\" id=\"Z43S1\">Meningitis</th><td class=\"schemaBorderColorLevel3 etzelle\" headers=\"Z2S1 Z5S1 Z43S1 Z3S2 Z4S2\" style=\"white-space: nowrap\">54</td><td class=\"schemaBorderColorLevel3 etzelle\" headers=\"Z2S1 Z5S1 Z43S1 Z3S2 Z4S3\" style=\"white-space: nowrap\">47</td><td class=\"schemaBorderColorLevel3 etzelle\" headers=\"Z2S1 Z5S1 Z43S1 Z3S2 Z4S4\" style=\"white-space: nowrap\">101</td></tr><tr><th class=\"schemaBorderColorLevel3 schemaBgColorLevel1 etvorspalte\" id=\"Z44S1\">Krankheiten des Kreislaufsystems</th><td class=\"schemaBorderColorLevel3 etzelle\" headers=\"Z2S1 Z5S1 Z44S1 Z3S2 Z4S2\" style=\"white-space: nowrap\">159 846</td><td class=\"schemaBorderColorLevel3 etzelle\" headers=\"Z2S1 Z5S1 Z44S1 Z3S2 Z4S3\" style=\"white-space: nowrap\">180 773</td><td class=\"schemaBorderColorLevel3 etzelle\" headers=\"Z2S1 Z5S1 Z44S1 Z3S2 Z4S4\" style=\"white-space: nowrap\">340 619</td></tr><tr><th class=\"schemaBorderColorLevel3 schemaBgColorLevel1 etvorspalte\" id=\"Z45S1\">Hypertonie (Hochdruckkrankheit)</th><td class=\"schemaBorderColorLevel3 etzelle\" headers=\"Z2S1 Z5S1 Z45S1 Z3S2 Z4S2\" style=\"white-space: nowrap\">16 529</td><td class=\"schemaBorderColorLevel3 etzelle\" headers=\"Z2S1 Z5S1 Z45S1 Z3S2 Z4S3\" style=\"white-space: nowrap\">32 332</td><td class=\"schemaBorderColorLevel3 etzelle\" headers=\"Z2S1 Z5S1 Z45S1 Z3S2 Z4S4\" style=\"white-space: nowrap\">48 861</td></tr><tr><th class=\"schemaBorderColorLevel3 schemaBgColorLevel1 etvorspalte\" id=\"Z46S1\">Ischämische Herzkrankheiten</th><td class=\"schemaBorderColorLevel3 etzelle\" headers=\"Z2S1 Z5S1 Z46S1 Z3S2 Z4S2\" style=\"white-space: nowrap\">68 900</td><td class=\"schemaBorderColorLevel3 etzelle\" headers=\"Z2S1 Z5S1 Z46S1 Z3S2 Z4S3\" style=\"white-space: nowrap\">52 272</td><td class=\"schemaBorderColorLevel3 etzelle\" headers=\"Z2S1 Z5S1 Z46S1 Z3S2 Z4S4\" style=\"white-space: nowrap\">121 172</td></tr><tr><th class=\"schemaBorderColorLevel3 schemaBgColorLevel1 etvorspalte\" id=\"Z47S1\">Akuter oder rezidivierender Myokardinfarkt</th><td class=\"schemaBorderColorLevel3 etzelle\" headers=\"Z2S1 Z5S1 Z47S1 Z3S2 Z4S2\" style=\"white-space: nowrap\">27 107</td><td class=\"schemaBorderColorLevel3 etzelle\" headers=\"Z2S1 Z5S1 Z47S1 Z3S2 Z4S3\" style=\"white-space: nowrap\">18 074</td><td class=\"schemaBorderColorLevel3 etzelle\" headers=\"Z2S1 Z5S1 Z47S1 Z3S2 Z4S4\" style=\"white-space: nowrap\">45 181</td></tr><tr><th class=\"schemaBorderColorLevel3 schemaBgColorLevel1 etvorspalte\" id=\"Z48S1\">Sonstige Formen der Herzkrankheit</th><td class=\"schemaBorderColorLevel3 etzelle\" headers=\"Z2S1 Z5S1 Z48S1 Z3S2 Z4S2\" style=\"white-space: nowrap\">31 899</td><td class=\"schemaBorderColorLevel3 etzelle\" headers=\"Z2S1 Z5S1 Z48S1 Z3S2 Z4S3\" style=\"white-space: nowrap\">43 114</td><td class=\"schemaBorderColorLevel3 etzelle\" headers=\"Z2S1 Z5S1 Z48S1 Z3S2 Z4S4\" style=\"white-space: nowrap\">75 013</td></tr><tr><th class=\"schemaBorderColorLevel3 schemaBgColorLevel1 etvorspalte\" id=\"Z49S1\">Sonstige Krankheiten des Endokards</th><td class=\"schemaBorderColorLevel3 etzelle\" headers=\"Z2S1 Z5S1 Z49S1 Z3S2 Z4S2\" style=\"white-space: nowrap\">6 560</td><td class=\"schemaBorderColorLevel3 etzelle\" headers=\"Z2S1 Z5S1 Z49S1 Z3S2 Z4S3\" style=\"white-space: nowrap\">8 428</td><td class=\"schemaBorderColorLevel3 etzelle\" headers=\"Z2S1 Z5S1 Z49S1 Z3S2 Z4S4\" style=\"white-space: nowrap\">14 988</td></tr><tr><th class=\"schemaBorderColorLevel3 schemaBgColorLevel1 etvorspalte\" id=\"Z50S1\">Zerebrovaskuläre Krankheiten</th><td class=\"schemaBorderColorLevel3 etzelle\" headers=\"Z2S1 Z5S1 Z50S1 Z3S2 Z4S2\" style=\"white-space: nowrap\">23 487</td><td class=\"schemaBorderColorLevel3 etzelle\" headers=\"Z2S1 Z5S1 Z50S1 Z3S2 Z4S3\" style=\"white-space: nowrap\">29 595</td><td class=\"schemaBorderColorLevel3 etzelle\" headers=\"Z2S1 Z5S1 Z50S1 Z3S2 Z4S4\" style=\"white-space: nowrap\">53 082</td></tr><tr><th class=\"schemaBorderColorLevel3 schemaBgColorLevel1 etvorspalte\" id=\"Z51S1\"><input name=\"option$$$006TODESURS47\" title=\"Anzeigen von Informationen zu Merkmalsausprägung mit dem Namen 'TODESURS47'\" type=\"submit\" value=\"Schlaganfall, nicht als Blutung oder Infarkt bez.\"/></th><td class=\"schemaBorderColorLevel3 etzelle\" headers=\"Z2S1 Z5S1 Z51S1 Z3S2 Z4S2\" style=\"white-space: nowrap\">4 291</td><td class=\"schemaBorderColorLevel3 etzelle\" headers=\"Z2S1 Z5S1 Z51S1 Z3S2 Z4S3\" style=\"white-space: nowrap\">6 338</td><td class=\"schemaBorderColorLevel3 etzelle\" headers=\"Z2S1 Z5S1 Z51S1 Z3S2 Z4S4\" style=\"white-space: nowrap\">10 629</td></tr><tr><th class=\"schemaBorderColorLevel3 schemaBgColorLevel1 etvorspalte\" id=\"Z52S1\">Krankheiten der Arterien, Arteriolen und Kapillare</th><td class=\"schemaBorderColorLevel3 etzelle\" headers=\"Z2S1 Z5S1 Z52S1 Z3S2 Z4S2\" style=\"white-space: nowrap\">6 061</td><td class=\"schemaBorderColorLevel3 etzelle\" headers=\"Z2S1 Z5S1 Z52S1 Z3S2 Z4S3\" style=\"white-space: nowrap\">5 725</td><td class=\"schemaBorderColorLevel3 etzelle\" headers=\"Z2S1 Z5S1 Z52S1 Z3S2 Z4S4\" style=\"white-space: nowrap\">11 786</td></tr><tr><th class=\"schemaBorderColorLevel3 schemaBgColorLevel1 etvorspalte\" id=\"Z53S1\">Krankheiten des Atmungssystems</th><td class=\"schemaBorderColorLevel3 etzelle\" headers=\"Z2S1 Z5S1 Z53S1 Z3S2 Z4S2\" style=\"white-space: nowrap\">31 841</td><td class=\"schemaBorderColorLevel3 etzelle\" headers=\"Z2S1 Z5S1 Z53S1 Z3S2 Z4S3\" style=\"white-space: nowrap\">25 475</td><td class=\"schemaBorderColorLevel3 etzelle\" headers=\"Z2S1 Z5S1 Z53S1 Z3S2 Z4S4\" style=\"white-space: nowrap\">57 316</td></tr><tr><th class=\"schemaBorderColorLevel3 schemaBgColorLevel1 etvorspalte\" id=\"Z54S1\">Grippe</th><td class=\"schemaBorderColorLevel3 etzelle\" headers=\"Z2S1 Z5S1 Z54S1 Z3S2 Z4S2\" style=\"white-space: nowrap\">22</td><td class=\"schemaBorderColorLevel3 etzelle\" headers=\"Z2S1 Z5S1 Z54S1 Z3S2 Z4S3\" style=\"white-space: nowrap\">16</td><td class=\"schemaBorderColorLevel3 etzelle\" headers=\"Z2S1 Z5S1 Z54S1 Z3S2 Z4S4\" style=\"white-space: nowrap\">38</td></tr><tr><th class=\"schemaBorderColorLevel3 schemaBgColorLevel1 etvorspalte\" id=\"Z55S1\">Pneumonie</th><td class=\"schemaBorderColorLevel3 etzelle\" headers=\"Z2S1 Z5S1 Z55S1 Z3S2 Z4S2\" style=\"white-space: nowrap\">7 831</td><td class=\"schemaBorderColorLevel3 etzelle\" headers=\"Z2S1 Z5S1 Z55S1 Z3S2 Z4S3\" style=\"white-space: nowrap\">6 268</td><td class=\"schemaBorderColorLevel3 etzelle\" headers=\"Z2S1 Z5S1 Z55S1 Z3S2 Z4S4\" style=\"white-space: nowrap\">14 099</td></tr><tr><th class=\"schemaBorderColorLevel3 schemaBgColorLevel1 etvorspalte\" id=\"Z56S1\">Chronische Krankheiten der unteren Atemwege</th><td class=\"schemaBorderColorLevel3 etzelle\" headers=\"Z2S1 Z5S1 Z56S1 Z3S2 Z4S2\" style=\"white-space: nowrap\">17 285</td><td class=\"schemaBorderColorLevel3 etzelle\" headers=\"Z2S1 Z5S1 Z56S1 Z3S2 Z4S3\" style=\"white-space: nowrap\">14 724</td><td class=\"schemaBorderColorLevel3 etzelle\" headers=\"Z2S1 Z5S1 Z56S1 Z3S2 Z4S4\" style=\"white-space: nowrap\">32 009</td></tr><tr><th class=\"schemaBorderColorLevel3 schemaBgColorLevel1 etvorspalte\" id=\"Z57S1\">Asthma</th><td class=\"schemaBorderColorLevel3 etzelle\" headers=\"Z2S1 Z5S1 Z57S1 Z3S2 Z4S2\" style=\"white-space: nowrap\">406</td><td class=\"schemaBorderColorLevel3 etzelle\" headers=\"Z2S1 Z5S1 Z57S1 Z3S2 Z4S3\" style=\"white-space: nowrap\">643</td><td class=\"schemaBorderColorLevel3 etzelle\" headers=\"Z2S1 Z5S1 Z57S1 Z3S2 Z4S4\" style=\"white-space: nowrap\">1 049</td></tr><tr><th class=\"schemaBorderColorLevel3 schemaBgColorLevel1 etvorspalte\" id=\"Z58S1\">COVID-19, Virus nachgewiesen</th><td class=\"schemaBorderColorLevel3 etzelle\" headers=\"Z2S1 Z5S1 Z58S1 Z3S2 Z4S2\" style=\"white-space: nowrap\">38 862</td><td class=\"schemaBorderColorLevel3 etzelle\" headers=\"Z2S1 Z5S1 Z58S1 Z3S2 Z4S3\" style=\"white-space: nowrap\">31 897</td><td class=\"schemaBorderColorLevel3 etzelle\" headers=\"Z2S1 Z5S1 Z58S1 Z3S2 Z4S4\" style=\"white-space: nowrap\">70 759</td></tr><tr><th class=\"schemaBorderColorLevel3 schemaBgColorLevel1 etvorspalte\" id=\"Z59S1\">COVID-19, Virus nicht nachgewiesen</th><td class=\"schemaBorderColorLevel3 etzelle\" headers=\"Z2S1 Z5S1 Z59S1 Z3S2 Z4S2\" style=\"white-space: nowrap\">306</td><td class=\"schemaBorderColorLevel3 etzelle\" headers=\"Z2S1 Z5S1 Z59S1 Z3S2 Z4S3\" style=\"white-space: nowrap\">266</td><td class=\"schemaBorderColorLevel3 etzelle\" headers=\"Z2S1 Z5S1 Z59S1 Z3S2 Z4S4\" style=\"white-space: nowrap\">572</td></tr><tr><th class=\"schemaBorderColorLevel3 schemaBgColorLevel1 etvorspalte\" id=\"Z60S1\">Krankheiten des Verdauungssystems</th><td class=\"schemaBorderColorLevel3 etzelle\" headers=\"Z2S1 Z5S1 Z60S1 Z3S2 Z4S2\" style=\"white-space: nowrap\">23 508</td><td class=\"schemaBorderColorLevel3 etzelle\" headers=\"Z2S1 Z5S1 Z60S1 Z3S2 Z4S3\" style=\"white-space: nowrap\">20 209</td><td class=\"schemaBorderColorLevel3 etzelle\" headers=\"Z2S1 Z5S1 Z60S1 Z3S2 Z4S4\" style=\"white-space: nowrap\">43 717</td></tr><tr><th class=\"schemaBorderColorLevel3 schemaBgColorLevel1 etvorspalte\" id=\"Z61S1\"><input name=\"option$$$006TODESURS55\" title=\"Anzeigen von Informationen zu Merkmalsausprägung mit dem Namen 'TODESURS55'\" type=\"submit\" value=\"Ulcus ventriculi, duodeni, pepticum, pept. jejuni\"/></th><td class=\"schemaBorderColorLevel3 etzelle\" headers=\"Z2S1 Z5S1 Z61S1 Z3S2 Z4S2\" style=\"white-space: nowrap\">1 300</td><td class=\"schemaBorderColorLevel3 etzelle\" headers=\"Z2S1 Z5S1 Z61S1 Z3S2 Z4S3\" style=\"white-space: nowrap\">1 345</td><td class=\"schemaBorderColorLevel3 etzelle\" headers=\"Z2S1 Z5S1 Z61S1 Z3S2 Z4S4\" style=\"white-space: nowrap\">2 645</td></tr><tr><th class=\"schemaBorderColorLevel3 schemaBgColorLevel1 etvorspalte\" id=\"Z62S1\">Krankheiten der Leber</th><td class=\"schemaBorderColorLevel3 etzelle\" headers=\"Z2S1 Z5S1 Z62S1 Z3S2 Z4S2\" style=\"white-space: nowrap\">10 987</td><td class=\"schemaBorderColorLevel3 etzelle\" headers=\"Z2S1 Z5S1 Z62S1 Z3S2 Z4S3\" style=\"white-space: nowrap\">5 919</td><td class=\"schemaBorderColorLevel3 etzelle\" headers=\"Z2S1 Z5S1 Z62S1 Z3S2 Z4S4\" style=\"white-space: nowrap\">16 906</td></tr><tr><th class=\"schemaBorderColorLevel3 schemaBgColorLevel1 etvorspalte\" id=\"Z63S1\"><input name=\"option$$$006TODESURS57\" title=\"Anzeigen von Informationen zu Merkmalsausprägung mit dem Namen 'TODESURS57'\" type=\"submit\" value=\"Alkoh.Leberkh.,Chron.Hepatitis,Leberfibr.u.-zirr.\"/></th><td class=\"schemaBorderColorLevel3 etzelle\" headers=\"Z2S1 Z5S1 Z63S1 Z3S2 Z4S2\" style=\"white-space: nowrap\">10 189</td><td class=\"schemaBorderColorLevel3 etzelle\" headers=\"Z2S1 Z5S1 Z63S1 Z3S2 Z4S3\" style=\"white-space: nowrap\">5 062</td><td class=\"schemaBorderColorLevel3 etzelle\" headers=\"Z2S1 Z5S1 Z63S1 Z3S2 Z4S4\" style=\"white-space: nowrap\">15 251</td></tr><tr><th class=\"schemaBorderColorLevel3 schemaBgColorLevel1 etvorspalte\" id=\"Z64S1\">Krankheiten der Haut und der Unterhaut</th><td class=\"schemaBorderColorLevel3 etzelle\" headers=\"Z2S1 Z5S1 Z64S1 Z3S2 Z4S2\" style=\"white-space: nowrap\">710</td><td class=\"schemaBorderColorLevel3 etzelle\" headers=\"Z2S1 Z5S1 Z64S1 Z3S2 Z4S3\" style=\"white-space: nowrap\">1 047</td><td class=\"schemaBorderColorLevel3 etzelle\" headers=\"Z2S1 Z5S1 Z64S1 Z3S2 Z4S4\" style=\"white-space: nowrap\">1 757</td></tr><tr><th class=\"schemaBorderColorLevel3 schemaBgColorLevel1 etvorspalte\" id=\"Z65S1\"><input name=\"option$$$006TODESURS59\" title=\"Anzeigen von Informationen zu Merkmalsausprägung mit dem Namen 'TODESURS59'\" type=\"submit\" value=\"Krankh. des Muskel-Skelett-Systems u. Bindegewebes\"/></th><td class=\"schemaBorderColorLevel3 etzelle\" headers=\"Z2S1 Z5S1 Z65S1 Z3S2 Z4S2\" style=\"white-space: nowrap\">2 307</td><td class=\"schemaBorderColorLevel3 etzelle\" headers=\"Z2S1 Z5S1 Z65S1 Z3S2 Z4S3\" style=\"white-space: nowrap\">3 718</td><td class=\"schemaBorderColorLevel3 etzelle\" headers=\"Z2S1 Z5S1 Z65S1 Z3S2 Z4S4\" style=\"white-space: nowrap\">6 025</td></tr><tr><th class=\"schemaBorderColorLevel3 schemaBgColorLevel1 etvorspalte\" id=\"Z66S1\">Chronische Polyarthritis und Arthrose</th><td class=\"schemaBorderColorLevel3 etzelle\" headers=\"Z2S1 Z5S1 Z66S1 Z3S2 Z4S2\" style=\"white-space: nowrap\">449</td><td class=\"schemaBorderColorLevel3 etzelle\" headers=\"Z2S1 Z5S1 Z66S1 Z3S2 Z4S3\" style=\"white-space: nowrap\">1 038</td><td class=\"schemaBorderColorLevel3 etzelle\" headers=\"Z2S1 Z5S1 Z66S1 Z3S2 Z4S4\" style=\"white-space: nowrap\">1 487</td></tr><tr><th class=\"schemaBorderColorLevel3 schemaBgColorLevel1 etvorspalte\" id=\"Z67S1\">Krankheiten des Urogenitalsystems</th><td class=\"schemaBorderColorLevel3 etzelle\" headers=\"Z2S1 Z5S1 Z67S1 Z3S2 Z4S2\" style=\"white-space: nowrap\">12 065</td><td class=\"schemaBorderColorLevel3 etzelle\" headers=\"Z2S1 Z5S1 Z67S1 Z3S2 Z4S3\" style=\"white-space: nowrap\">14 207</td><td class=\"schemaBorderColorLevel3 etzelle\" headers=\"Z2S1 Z5S1 Z67S1 Z3S2 Z4S4\" style=\"white-space: nowrap\">26 272</td></tr><tr><th class=\"schemaBorderColorLevel3 schemaBgColorLevel1 etvorspalte\" id=\"Z68S1\">Krankheiten der Niere</th><td class=\"schemaBorderColorLevel3 etzelle\" headers=\"Z2S1 Z5S1 Z68S1 Z3S2 Z4S2\" style=\"white-space: nowrap\">8 416</td><td class=\"schemaBorderColorLevel3 etzelle\" headers=\"Z2S1 Z5S1 Z68S1 Z3S2 Z4S3\" style=\"white-space: nowrap\">10 377</td><td class=\"schemaBorderColorLevel3 etzelle\" headers=\"Z2S1 Z5S1 Z68S1 Z3S2 Z4S4\" style=\"white-space: nowrap\">18 793</td></tr><tr><th class=\"schemaBorderColorLevel3 schemaBgColorLevel1 etvorspalte\" id=\"Z69S1\">Schwangerschaft, Geburt und Wochenbett</th><td class=\"schemaBorderColorLevel3 etzelle\" headers=\"Z2S1 Z5S1 Z69S1 Z3S2 Z4S2\" style=\"white-space: nowrap\"><abbr title=\"nichts vorhanden\">-</abbr></td><td class=\"schemaBorderColorLevel3 etzelle\" headers=\"Z2S1 Z5S1 Z69S1 Z3S2 Z4S3\" style=\"white-space: nowrap\">28</td><td class=\"schemaBorderColorLevel3 etzelle\" headers=\"Z2S1 Z5S1 Z69S1 Z3S2 Z4S4\" style=\"white-space: nowrap\">28</td></tr><tr><th class=\"schemaBorderColorLevel3 schemaBgColorLevel1 etvorspalte\" id=\"Z70S1\"><input name=\"option$$$006TODESURS64\" title=\"Anzeigen von Informationen zu Merkmalsausprägung mit dem Namen 'TODESURS64'\" type=\"submit\" value=\"Best.Zustände mit Ursprung in der Perinatalperiode\"/></th><td class=\"schemaBorderColorLevel3 etzelle\" headers=\"Z2S1 Z5S1 Z70S1 Z3S2 Z4S2\" style=\"white-space: nowrap\">777</td><td class=\"schemaBorderColorLevel3 etzelle\" headers=\"Z2S1 Z5S1 Z70S1 Z3S2 Z4S3\" style=\"white-space: nowrap\">565</td><td class=\"schemaBorderColorLevel3 etzelle\" headers=\"Z2S1 Z5S1 Z70S1 Z3S2 Z4S4\" style=\"white-space: nowrap\">1 342</td></tr><tr><th class=\"schemaBorderColorLevel3 schemaBgColorLevel1 etvorspalte\" id=\"Z71S1\"><input name=\"option$$$006TODESURS65\" title=\"Anzeigen von Informationen zu Merkmalsausprägung mit dem Namen 'TODESURS65'\" type=\"submit\" value=\"Angeb. Fehlbildungen,Deformitäten,Chromosomenanom.\"/></th><td class=\"schemaBorderColorLevel3 etzelle\" headers=\"Z2S1 Z5S1 Z71S1 Z3S2 Z4S2\" style=\"white-space: nowrap\">1 116</td><td class=\"schemaBorderColorLevel3 etzelle\" headers=\"Z2S1 Z5S1 Z71S1 Z3S2 Z4S3\" style=\"white-space: nowrap\">1 011</td><td class=\"schemaBorderColorLevel3 etzelle\" headers=\"Z2S1 Z5S1 Z71S1 Z3S2 Z4S4\" style=\"white-space: nowrap\">2 127</td></tr><tr><th class=\"schemaBorderColorLevel3 schemaBgColorLevel1 etvorspalte\" id=\"Z72S1\">Angeborene Fehlbildungen des Nervensystems</th><td class=\"schemaBorderColorLevel3 etzelle\" headers=\"Z2S1 Z5S1 Z72S1 Z3S2 Z4S2\" style=\"white-space: nowrap\">86</td><td class=\"schemaBorderColorLevel3 etzelle\" headers=\"Z2S1 Z5S1 Z72S1 Z3S2 Z4S3\" style=\"white-space: nowrap\">97</td><td class=\"schemaBorderColorLevel3 etzelle\" headers=\"Z2S1 Z5S1 Z72S1 Z3S2 Z4S4\" style=\"white-space: nowrap\">183</td></tr><tr><th class=\"schemaBorderColorLevel3 schemaBgColorLevel1 etvorspalte\" id=\"Z73S1\">Angeborene Fehlbildungen des Kreislaufsystems</th><td class=\"schemaBorderColorLevel3 etzelle\" headers=\"Z2S1 Z5S1 Z73S1 Z3S2 Z4S2\" style=\"white-space: nowrap\">337</td><td class=\"schemaBorderColorLevel3 etzelle\" headers=\"Z2S1 Z5S1 Z73S1 Z3S2 Z4S3\" style=\"white-space: nowrap\">269</td><td class=\"schemaBorderColorLevel3 etzelle\" headers=\"Z2S1 Z5S1 Z73S1 Z3S2 Z4S4\" style=\"white-space: nowrap\">606</td></tr><tr><th class=\"schemaBorderColorLevel3 schemaBgColorLevel1 etvorspalte\" id=\"Z74S1\"><input name=\"option$$$006TODESURS68\" title=\"Anzeigen von Informationen zu Merkmalsausprägung mit dem Namen 'TODESURS68'\" type=\"submit\" value=\"Symptome und abnorme klinische und Laborbefunde\"/></th><td class=\"schemaBorderColorLevel3 etzelle\" headers=\"Z2S1 Z5S1 Z74S1 Z3S2 Z4S2\" style=\"white-space: nowrap\">22 638</td><td class=\"schemaBorderColorLevel3 etzelle\" headers=\"Z2S1 Z5S1 Z74S1 Z3S2 Z4S3\" style=\"white-space: nowrap\">16 091</td><td class=\"schemaBorderColorLevel3 etzelle\" headers=\"Z2S1 Z5S1 Z74S1 Z3S2 Z4S4\" style=\"white-space: nowrap\">38 729</td></tr><tr><th class=\"schemaBorderColorLevel3 schemaBgColorLevel1 etvorspalte\" id=\"Z75S1\">Plötzlicher Kindstod</th><td class=\"schemaBorderColorLevel3 etzelle\" headers=\"Z2S1 Z5S1 Z75S1 Z3S2 Z4S2\" style=\"white-space: nowrap\">47</td><td class=\"schemaBorderColorLevel3 etzelle\" headers=\"Z2S1 Z5S1 Z75S1 Z3S2 Z4S3\" style=\"white-space: nowrap\">35</td><td class=\"schemaBorderColorLevel3 etzelle\" headers=\"Z2S1 Z5S1 Z75S1 Z3S2 Z4S4\" style=\"white-space: nowrap\">82</td></tr><tr><th class=\"schemaBorderColorLevel3 schemaBgColorLevel1 etvorspalte\" id=\"Z76S1\"><input name=\"option$$$006TODESURS70\" title=\"Anzeigen von Informationen zu Merkmalsausprägung mit dem Namen 'TODESURS70'\" type=\"submit\" value=\"Sonst. ungenau bezeichnete u. unbek. Todesursachen\"/></th><td class=\"schemaBorderColorLevel3 etzelle\" headers=\"Z2S1 Z5S1 Z76S1 Z3S2 Z4S2\" style=\"white-space: nowrap\">20 927</td><td class=\"schemaBorderColorLevel3 etzelle\" headers=\"Z2S1 Z5S1 Z76S1 Z3S2 Z4S3\" style=\"white-space: nowrap\">12 891</td><td class=\"schemaBorderColorLevel3 etzelle\" headers=\"Z2S1 Z5S1 Z76S1 Z3S2 Z4S4\" style=\"white-space: nowrap\">33 818</td></tr><tr><th class=\"schemaBorderColorLevel3 schemaBgColorLevel1 etvorspalte\" id=\"Z77S1\">Äußere Ursachen von Morbidität und Mortalität</th><td class=\"schemaBorderColorLevel3 etzelle\" headers=\"Z2S1 Z5S1 Z77S1 Z3S2 Z4S2\" style=\"white-space: nowrap\">25 394</td><td class=\"schemaBorderColorLevel3 etzelle\" headers=\"Z2S1 Z5S1 Z77S1 Z3S2 Z4S3\" style=\"white-space: nowrap\">17 806</td><td class=\"schemaBorderColorLevel3 etzelle\" headers=\"Z2S1 Z5S1 Z77S1 Z3S2 Z4S4\" style=\"white-space: nowrap\">43 200</td></tr><tr><th class=\"schemaBorderColorLevel3 schemaBgColorLevel1 etvorspalte\" id=\"Z78S1\">Unfälle einschließlich Spätfolgen</th><td class=\"schemaBorderColorLevel3 etzelle\" headers=\"Z2S1 Z5S1 Z78S1 Z3S2 Z4S2\" style=\"white-space: nowrap\">17 189</td><td class=\"schemaBorderColorLevel3 etzelle\" headers=\"Z2S1 Z5S1 Z78S1 Z3S2 Z4S3\" style=\"white-space: nowrap\">14 403</td><td class=\"schemaBorderColorLevel3 etzelle\" headers=\"Z2S1 Z5S1 Z78S1 Z3S2 Z4S4\" style=\"white-space: nowrap\">31 592</td></tr><tr><th class=\"schemaBorderColorLevel3 schemaBgColorLevel1 etvorspalte\" id=\"Z79S1\">Transportmittelunfälle</th><td class=\"schemaBorderColorLevel3 etzelle\" headers=\"Z2S1 Z5S1 Z79S1 Z3S2 Z4S2\" style=\"white-space: nowrap\">2 269</td><td class=\"schemaBorderColorLevel3 etzelle\" headers=\"Z2S1 Z5S1 Z79S1 Z3S2 Z4S3\" style=\"white-space: nowrap\">639</td><td class=\"schemaBorderColorLevel3 etzelle\" headers=\"Z2S1 Z5S1 Z79S1 Z3S2 Z4S4\" style=\"white-space: nowrap\">2 908</td></tr><tr><th class=\"schemaBorderColorLevel3 schemaBgColorLevel1 etvorspalte\" id=\"Z80S1\">Stürze</th><td class=\"schemaBorderColorLevel3 etzelle\" headers=\"Z2S1 Z5S1 Z80S1 Z3S2 Z4S2\" style=\"white-space: nowrap\">9 020</td><td class=\"schemaBorderColorLevel3 etzelle\" headers=\"Z2S1 Z5S1 Z80S1 Z3S2 Z4S3\" style=\"white-space: nowrap\">9 163</td><td class=\"schemaBorderColorLevel3 etzelle\" headers=\"Z2S1 Z5S1 Z80S1 Z3S2 Z4S4\" style=\"white-space: nowrap\">18 183</td></tr><tr><th class=\"schemaBorderColorLevel3 schemaBgColorLevel1 etvorspalte\" id=\"Z81S1\">Ertrinken und Untergehen</th><td class=\"schemaBorderColorLevel3 etzelle\" headers=\"Z2S1 Z5S1 Z81S1 Z3S2 Z4S2\" style=\"white-space: nowrap\">281</td><td class=\"schemaBorderColorLevel3 etzelle\" headers=\"Z2S1 Z5S1 Z81S1 Z3S2 Z4S3\" style=\"white-space: nowrap\">111</td><td class=\"schemaBorderColorLevel3 etzelle\" headers=\"Z2S1 Z5S1 Z81S1 Z3S2 Z4S4\" style=\"white-space: nowrap\">392</td></tr><tr><th class=\"schemaBorderColorLevel3 schemaBgColorLevel1 etvorspalte\" id=\"Z82S1\">Exposition gegenüber Rauch, Feuer und Flammen</th><td class=\"schemaBorderColorLevel3 etzelle\" headers=\"Z2S1 Z5S1 Z82S1 Z3S2 Z4S2\" style=\"white-space: nowrap\">182</td><td class=\"schemaBorderColorLevel3 etzelle\" headers=\"Z2S1 Z5S1 Z82S1 Z3S2 Z4S3\" style=\"white-space: nowrap\">139</td><td class=\"schemaBorderColorLevel3 etzelle\" headers=\"Z2S1 Z5S1 Z82S1 Z3S2 Z4S4\" style=\"white-space: nowrap\">321</td></tr><tr><th class=\"schemaBorderColorLevel3 schemaBgColorLevel1 etvorspalte\" id=\"Z83S1\"><input name=\"option$$$006TODESURS77\" title=\"Anzeigen von Informationen zu Merkmalsausprägung mit dem Namen 'TODESURS77'\" type=\"submit\" value=\"Akzid. Vergiftung: schädl. Substanzen (inkl. Exp.)\"/></th><td class=\"schemaBorderColorLevel3 etzelle\" headers=\"Z2S1 Z5S1 Z83S1 Z3S2 Z4S2\" style=\"white-space: nowrap\">917</td><td class=\"schemaBorderColorLevel3 etzelle\" headers=\"Z2S1 Z5S1 Z83S1 Z3S2 Z4S3\" style=\"white-space: nowrap\">330</td><td class=\"schemaBorderColorLevel3 etzelle\" headers=\"Z2S1 Z5S1 Z83S1 Z3S2 Z4S4\" style=\"white-space: nowrap\">1 247</td></tr><tr><th class=\"schemaBorderColorLevel3 schemaBgColorLevel1 etvorspalte\" id=\"Z84S1\">Vorsätzliche Selbstbeschädigung</th><td class=\"schemaBorderColorLevel3 etzelle\" headers=\"Z2S1 Z5S1 Z84S1 Z3S2 Z4S2\" style=\"white-space: nowrap\">6 805</td><td class=\"schemaBorderColorLevel3 etzelle\" headers=\"Z2S1 Z5S1 Z84S1 Z3S2 Z4S3\" style=\"white-space: nowrap\">2 410</td><td class=\"schemaBorderColorLevel3 etzelle\" headers=\"Z2S1 Z5S1 Z84S1 Z3S2 Z4S4\" style=\"white-space: nowrap\">9 215</td></tr><tr><th class=\"schemaBorderColorLevel3 schemaBgColorLevel1 etvorspalte\" id=\"Z85S1\">Tätlicher Angriff</th><td class=\"schemaBorderColorLevel3 etzelle\" headers=\"Z2S1 Z5S1 Z85S1 Z3S2 Z4S2\" style=\"white-space: nowrap\">150</td><td class=\"schemaBorderColorLevel3 etzelle\" headers=\"Z2S1 Z5S1 Z85S1 Z3S2 Z4S3\" style=\"white-space: nowrap\">164</td><td class=\"schemaBorderColorLevel3 etzelle\" headers=\"Z2S1 Z5S1 Z85S1 Z3S2 Z4S4\" style=\"white-space: nowrap\">314</td></tr><tr><th class=\"schemaBorderColorLevel3 schemaBgColorLevel1 etvorspalte\" id=\"Z86S1\">Ereignis, dessen nähere Umstände unbestimmt sind</th><td class=\"schemaBorderColorLevel3 etzelle\" headers=\"Z2S1 Z5S1 Z86S1 Z3S2 Z4S2\" style=\"white-space: nowrap\">1 102</td><td class=\"schemaBorderColorLevel3 etzelle\" headers=\"Z2S1 Z5S1 Z86S1 Z3S2 Z4S3\" style=\"white-space: nowrap\">699</td><td class=\"schemaBorderColorLevel3 etzelle\" headers=\"Z2S1 Z5S1 Z86S1 Z3S2 Z4S4\" style=\"white-space: nowrap\">1 801</td></tr><tr><th class=\"schemaBorderColorLevel3 schemaBgColorLevel1 etvorspalte\" id=\"Z87S1\">Insgesamt</th><td class=\"schemaBorderColorLevel3 etzelle\" headers=\"Z2S1 Z5S1 Z87S1 Z3S2 Z4S2\" style=\"white-space: nowrap\">515 559</td><td class=\"schemaBorderColorLevel3 etzelle\" headers=\"Z2S1 Z5S1 Z87S1 Z3S2 Z4S3\" style=\"white-space: nowrap\">508 128</td><td class=\"schemaBorderColorLevel3 etzelle\" headers=\"Z2S1 Z5S1 Z87S1 Z3S2 Z4S4\" style=\"white-space: nowrap\">1 023 687</td></tr></tbody></table></form>\n",
       "</div>\n",
       "</div><div class=\"schemaBorderColorLevel3 etfoottext\"><pre>Todesursachen:\n",
       "Die ausgewählten Todesursachen ermöglichen einen zeitlichen\n",
       "Vergleich nach der Umstellung der ICD-Systematik (1980-1997\n",
       "ICD9, ab 1998 ICD-10).\n",
       "\"Insgesamt\" enthält die Angaben zu allen Gestorbenen eines\n",
       "Berichtsjahres.</pre></div><div class=\"schemaBorderColorLevel3 etfoottext\">\n",
       "<pre></pre>\n",
       "</div>\n",
       "<div class=\"mb-1-25\"><div class=\"copyright\">© Statistisches Bundesamt (Destatis), 2022 | Stand: 01.08.2023 / 12:49:08</div></div>\n",
       "</p>\n",
       "</div>\n",
       "</div>\n",
       "</div>\n",
       "<div class=\"container\">\n",
       "<div class=\"flex-grid\">\n",
       "<div class=\"column-l-10 column-s-12\">\n",
       "<p>\n",
       "<div class=\"unprintable\">\n",
       "<div class=\"flex-grid\">\n",
       "<div class=\"column-l-4 column-s-12 mb-1-5\">\n",
       "<div class=\"btn-sec\">\n",
       "<a class=\"btn-flex-grid\" href=\"https://www-genesis.destatis.de:443/genesis/online?operation=ergebnistabelleQualitaet&amp;language=de&amp;levelindex=1&amp;levelid=1690886950057\">Zeichenerklärung</a>\n",
       "</div>\n",
       "</div>\n",
       "</div>\n",
       "</div>\n",
       "</p>\n",
       "</div>\n",
       "</div>\n",
       "</div>\n",
       "</section>\n",
       "</main>\n",
       "<footer>\n",
       "<div class=\"footer-section-links\">\n",
       "<div class=\"container\">\n",
       "<ul>\n",
       "<li class=\"mb-1\">\n",
       "<a class=\"textlink-white\" href=\"https://www-genesis.destatis.de:443/genesis/online?Menu=Kontakt\">Kontakt</a>\n",
       "</li>\n",
       "<li class=\"mb-1\">\n",
       "<a class=\"textlink-white\" href=\"https://www-genesis.destatis.de:443/genesis/online?Menu=BITV\">Barrierefreiheit</a>\n",
       "</li>\n",
       "<li class=\"mb-1\">\n",
       "<a class=\"textlink-white\" href=\"https://www-genesis.destatis.de:443/genesis/online?Menu=Webservice\">Webservice</a>\n",
       "</li>\n",
       "<li>\n",
       "<a class=\"textlink-white\" href=\"https://www-genesis.destatis.de:443/genesis/online?Menu=Links\">Links</a>\n",
       "</li>\n",
       "<li style=\"margin-top:2.5rem\">\n",
       "<a class=\"textlink-white\" href=\"https://www-genesis.destatis.de:443/genesis/online?Menu=Impressum\">Impressum</a>\n",
       "</li>\n",
       "</ul>\n",
       "</div>\n",
       "</div>\n",
       "<div class=\"footer-section-legalnotice\">\n",
       "<div class=\"container\">\n",
       "<div class=\"flex-grid\">\n",
       "<div class=\"genesis-version column-l-6 column-s-12\">\n",
       "<p>GENESIS V4.4.3 - 2023</p>\n",
       "</div>\n",
       "<div class=\"navcopyright column-l-6 column-s-12 column-s-12\">\n",
       "<p>\n",
       "                             © 2023</p>\n",
       "</div>\n",
       "</div>\n",
       "</div>\n",
       "</div>\n",
       "</footer>\n",
       "<div class=\"cookiebanner\" id=\"cookiebanner\">\n",
       "<div class=\"cookiebannerbox\">\n",
       "<div style=\"max-width:960px;\">\n",
       "<div><h2>Hinweise zur Verwendung von Cookies</h2>Cookies ermöglichen die Bereitstellung von <abbr title=\"Gemeinsames neues statistisches Informationssystem\">GENESIS</abbr>-<span lang=\"EN-GB\">Online</span>. Mit der Nutzung von <abbr title=\"Gemeinsames neues statistisches Informationssystem\">GENESIS</abbr>-<span lang=\"EN-GB\">Online</span> erklären Sie sich damit einverstanden, dass wir Cookies verwenden. Weitere Informationen zum Datenschutz erhalten Sie über den folgenden Link: <a alt=\"Datenschutz\" href=\"?Menu=Datenschutz\">Datenschutz</a></div>\n",
       "<div class=\"okbutton\" style=\"text-align:right; margin-top: -9px;\">\n",
       "<a href=\"https://www-genesis.destatis.de:443/genesis/online?operation=previous&amp;levelindex=1&amp;step=1&amp;titel=Ergebnis&amp;levelid=1690886950057&amp;acceptscookies=false\" id=\"disclaimerAcceptId\" title=\"Schließen\">Schließen</a>\n",
       "</div>\n",
       "</div>\n",
       "</div>\n",
       "</div>\n",
       "</body>\n",
       "</html>"
      ]
     },
     "execution_count": 165,
     "metadata": {},
     "output_type": "execute_result"
    }
   ],
   "source": [
    "html = BeautifulSoup(req.content, 'html.parser')\n",
    "html"
   ]
  },
  {
   "cell_type": "code",
   "execution_count": 166,
   "metadata": {},
   "outputs": [
    {
     "data": {
      "text/plain": [
       "<table class=\"ergebnistabelle\" id=\"ET\" summary=\"Die Tabelle 23211-0002 enthält aktuelle Daten zur Statistik - Todesursachenstatistik - mit Stand vom 01.08.2023\"><caption><span style=\"white-space:nowrap\">Gestorbene: Deutschland, Jahre, Todesursachen, Geschlecht</span></caption><thead><tr><th class=\"schemaBorderColorLevel3 schemaBgColorLevel1 etueberschrift\" colspan=\"4\" id=\"Z2S1\" style=\"text-align: left\"><span style=\"white-space:nowrap\"><input name=\"option$$$01923211\" title=\"Anzeigen von Informationen zu Statistik mit dem Namen '23211'\" type=\"submit\" value=\"Todesursachenstatistik\"><br>Deutschland<br/><input name=\"option$$$003BEV002\" title=\"Anzeigen von Informationen zu Merkmal mit dem Namen 'BEV002'\" type=\"submit\" value=\"Gestorbene\"> (Anzahl)</input></br></input></span></th></tr><tr><th class=\"schemaBorderColorLevel3 schemaBgColorLevel1 etkopfvorspalte\" colspan=\"1\" id=\"Z3S1\" rowspan=\"2\"><span style=\"white-space:nowrap\">Todesursachen</span></th><th class=\"schemaBorderColorLevel3 schemaBgColorLevel1 etkopfzeile\" colspan=\"3\" id=\"Z3S2\">Geschlecht</th></tr><tr><th class=\"schemaBorderColorLevel3 schemaBgColorLevel1 etkopfzeile\" id=\"Z4S2\">männlich</th><th class=\"schemaBorderColorLevel3 schemaBgColorLevel1 etkopfzeile\" id=\"Z4S3\">weiblich</th><th class=\"schemaBorderColorLevel3 schemaBgColorLevel1 etkopfzeile\" id=\"Z4S4\">Insgesamt</th></tr></thead><tbody><tr><th class=\"schemaBorderColorLevel3 etuntertitel\" colspan=\"4\" id=\"Z5S1\">2021</th></tr><tr><th class=\"schemaBorderColorLevel3 schemaBgColorLevel1 etvorspalte\" id=\"Z6S1\">Bestimmte infektiöse und parasitäre Krankheiten</th><td class=\"schemaBorderColorLevel3 etzelle\" headers=\"Z2S1 Z5S1 Z6S1 Z3S2 Z4S2\" style=\"white-space: nowrap\">7 355</td><td class=\"schemaBorderColorLevel3 etzelle\" headers=\"Z2S1 Z5S1 Z6S1 Z3S2 Z4S3\" style=\"white-space: nowrap\">7 515</td><td class=\"schemaBorderColorLevel3 etzelle\" headers=\"Z2S1 Z5S1 Z6S1 Z3S2 Z4S4\" style=\"white-space: nowrap\">14 870</td></tr><tr><th class=\"schemaBorderColorLevel3 schemaBgColorLevel1 etvorspalte\" id=\"Z7S1\">Tuberkulose einschließlich ihrer Folgezustände</th><td class=\"schemaBorderColorLevel3 etzelle\" headers=\"Z2S1 Z5S1 Z7S1 Z3S2 Z4S2\" style=\"white-space: nowrap\">161</td><td class=\"schemaBorderColorLevel3 etzelle\" headers=\"Z2S1 Z5S1 Z7S1 Z3S2 Z4S3\" style=\"white-space: nowrap\">106</td><td class=\"schemaBorderColorLevel3 etzelle\" headers=\"Z2S1 Z5S1 Z7S1 Z3S2 Z4S4\" style=\"white-space: nowrap\">267</td></tr><tr><th class=\"schemaBorderColorLevel3 schemaBgColorLevel1 etvorspalte\" id=\"Z8S1\">Meningokokkeninfektion</th><td class=\"schemaBorderColorLevel3 etzelle\" headers=\"Z2S1 Z5S1 Z8S1 Z3S2 Z4S2\" style=\"white-space: nowrap\">8</td><td class=\"schemaBorderColorLevel3 etzelle\" headers=\"Z2S1 Z5S1 Z8S1 Z3S2 Z4S3\" style=\"white-space: nowrap\">7</td><td class=\"schemaBorderColorLevel3 etzelle\" headers=\"Z2S1 Z5S1 Z8S1 Z3S2 Z4S4\" style=\"white-space: nowrap\">15</td></tr><tr><th class=\"schemaBorderColorLevel3 schemaBgColorLevel1 etvorspalte\" id=\"Z9S1\">Virushepatitis</th><td class=\"schemaBorderColorLevel3 etzelle\" headers=\"Z2S1 Z5S1 Z9S1 Z3S2 Z4S2\" style=\"white-space: nowrap\">307</td><td class=\"schemaBorderColorLevel3 etzelle\" headers=\"Z2S1 Z5S1 Z9S1 Z3S2 Z4S3\" style=\"white-space: nowrap\">204</td><td class=\"schemaBorderColorLevel3 etzelle\" headers=\"Z2S1 Z5S1 Z9S1 Z3S2 Z4S4\" style=\"white-space: nowrap\">511</td></tr><tr><th class=\"schemaBorderColorLevel3 schemaBgColorLevel1 etvorspalte\" id=\"Z10S1\">HIV-Krankheit</th><td class=\"schemaBorderColorLevel3 etzelle\" headers=\"Z2S1 Z5S1 Z10S1 Z3S2 Z4S2\" style=\"white-space: nowrap\">176</td><td class=\"schemaBorderColorLevel3 etzelle\" headers=\"Z2S1 Z5S1 Z10S1 Z3S2 Z4S3\" style=\"white-space: nowrap\">42</td><td class=\"schemaBorderColorLevel3 etzelle\" headers=\"Z2S1 Z5S1 Z10S1 Z3S2 Z4S4\" style=\"white-space: nowrap\">218</td></tr><tr><th class=\"schemaBorderColorLevel3 schemaBgColorLevel1 etvorspalte\" id=\"Z11S1\">Neubildungen</th><td class=\"schemaBorderColorLevel3 etzelle\" headers=\"Z2S1 Z5S1 Z11S1 Z3S2 Z4S2\" style=\"white-space: nowrap\">127 968</td><td class=\"schemaBorderColorLevel3 etzelle\" headers=\"Z2S1 Z5S1 Z11S1 Z3S2 Z4S3\" style=\"white-space: nowrap\">109 192</td><td class=\"schemaBorderColorLevel3 etzelle\" headers=\"Z2S1 Z5S1 Z11S1 Z3S2 Z4S4\" style=\"white-space: nowrap\">237 160</td></tr><tr><th class=\"schemaBorderColorLevel3 schemaBgColorLevel1 etvorspalte\" id=\"Z12S1\">Bösartige Neubildungen (BN)</th><td class=\"schemaBorderColorLevel3 etzelle\" headers=\"Z2S1 Z5S1 Z12S1 Z3S2 Z4S2\" style=\"white-space: nowrap\">124 006</td><td class=\"schemaBorderColorLevel3 etzelle\" headers=\"Z2S1 Z5S1 Z12S1 Z3S2 Z4S3\" style=\"white-space: nowrap\">105 062</td><td class=\"schemaBorderColorLevel3 etzelle\" headers=\"Z2S1 Z5S1 Z12S1 Z3S2 Z4S4\" style=\"white-space: nowrap\">229 068</td></tr><tr><th class=\"schemaBorderColorLevel3 schemaBgColorLevel1 etvorspalte\" id=\"Z13S1\"><input name=\"option$$$006TODESURS09\" title=\"Anzeigen von Informationen zu Merkmalsausprägung mit dem Namen 'TODESURS09'\" type=\"submit\" value=\"BN der Lippe, der Mundhöhle und des Pharynx\"/></th><td class=\"schemaBorderColorLevel3 etzelle\" headers=\"Z2S1 Z5S1 Z13S1 Z3S2 Z4S2\" style=\"white-space: nowrap\">3 796</td><td class=\"schemaBorderColorLevel3 etzelle\" headers=\"Z2S1 Z5S1 Z13S1 Z3S2 Z4S3\" style=\"white-space: nowrap\">1 421</td><td class=\"schemaBorderColorLevel3 etzelle\" headers=\"Z2S1 Z5S1 Z13S1 Z3S2 Z4S4\" style=\"white-space: nowrap\">5 217</td></tr><tr><th class=\"schemaBorderColorLevel3 schemaBgColorLevel1 etvorspalte\" id=\"Z14S1\"><input name=\"option$$$006TODESURS10\" title=\"Anzeigen von Informationen zu Merkmalsausprägung mit dem Namen 'TODESURS10'\" type=\"submit\" value=\"BN des Ösophagus\"/></th><td class=\"schemaBorderColorLevel3 etzelle\" headers=\"Z2S1 Z5S1 Z14S1 Z3S2 Z4S2\" style=\"white-space: nowrap\">4 444</td><td class=\"schemaBorderColorLevel3 etzelle\" headers=\"Z2S1 Z5S1 Z14S1 Z3S2 Z4S3\" style=\"white-space: nowrap\">1 368</td><td class=\"schemaBorderColorLevel3 etzelle\" headers=\"Z2S1 Z5S1 Z14S1 Z3S2 Z4S4\" style=\"white-space: nowrap\">5 812</td></tr><tr><th class=\"schemaBorderColorLevel3 schemaBgColorLevel1 etvorspalte\" id=\"Z15S1\"><input name=\"option$$$006TODESURS11\" title=\"Anzeigen von Informationen zu Merkmalsausprägung mit dem Namen 'TODESURS11'\" type=\"submit\" value=\"BN des Magens\"/></th><td class=\"schemaBorderColorLevel3 etzelle\" headers=\"Z2S1 Z5S1 Z15S1 Z3S2 Z4S2\" style=\"white-space: nowrap\">4 976</td><td class=\"schemaBorderColorLevel3 etzelle\" headers=\"Z2S1 Z5S1 Z15S1 Z3S2 Z4S3\" style=\"white-space: nowrap\">3 320</td><td class=\"schemaBorderColorLevel3 etzelle\" headers=\"Z2S1 Z5S1 Z15S1 Z3S2 Z4S4\" style=\"white-space: nowrap\">8 296</td></tr><tr><th class=\"schemaBorderColorLevel3 schemaBgColorLevel1 etvorspalte\" id=\"Z16S1\"><input name=\"option$$$006TODESURS12\" title=\"Anzeigen von Informationen zu Merkmalsausprägung mit dem Namen 'TODESURS12'\" type=\"submit\" value=\"BN des Dickdarms\"/></th><td class=\"schemaBorderColorLevel3 etzelle\" headers=\"Z2S1 Z5S1 Z16S1 Z3S2 Z4S2\" style=\"white-space: nowrap\">7 820</td><td class=\"schemaBorderColorLevel3 etzelle\" headers=\"Z2S1 Z5S1 Z16S1 Z3S2 Z4S3\" style=\"white-space: nowrap\">7 252</td><td class=\"schemaBorderColorLevel3 etzelle\" headers=\"Z2S1 Z5S1 Z16S1 Z3S2 Z4S4\" style=\"white-space: nowrap\">15 072</td></tr><tr><th class=\"schemaBorderColorLevel3 schemaBgColorLevel1 etvorspalte\" id=\"Z17S1\"><input name=\"option$$$006TODESURS13\" title=\"Anzeigen von Informationen zu Merkmalsausprägung mit dem Namen 'TODESURS13'\" type=\"submit\" value=\"BN des Rektums, des Anus und am Rektosigmoid\"/></th><td class=\"schemaBorderColorLevel3 etzelle\" headers=\"Z2S1 Z5S1 Z17S1 Z3S2 Z4S2\" style=\"white-space: nowrap\">4 744</td><td class=\"schemaBorderColorLevel3 etzelle\" headers=\"Z2S1 Z5S1 Z17S1 Z3S2 Z4S3\" style=\"white-space: nowrap\">3 049</td><td class=\"schemaBorderColorLevel3 etzelle\" headers=\"Z2S1 Z5S1 Z17S1 Z3S2 Z4S4\" style=\"white-space: nowrap\">7 793</td></tr><tr><th class=\"schemaBorderColorLevel3 schemaBgColorLevel1 etvorspalte\" id=\"Z18S1\"><input name=\"option$$$006TODESURS14\" title=\"Anzeigen von Informationen zu Merkmalsausprägung mit dem Namen 'TODESURS14'\" type=\"submit\" value=\"BN der Leber, der Gallenwege und des Pankreas\"/></th><td class=\"schemaBorderColorLevel3 etzelle\" headers=\"Z2S1 Z5S1 Z18S1 Z3S2 Z4S2\" style=\"white-space: nowrap\">16 708</td><td class=\"schemaBorderColorLevel3 etzelle\" headers=\"Z2S1 Z5S1 Z18S1 Z3S2 Z4S3\" style=\"white-space: nowrap\">14 286</td><td class=\"schemaBorderColorLevel3 etzelle\" headers=\"Z2S1 Z5S1 Z18S1 Z3S2 Z4S4\" style=\"white-space: nowrap\">30 994</td></tr><tr><th class=\"schemaBorderColorLevel3 schemaBgColorLevel1 etvorspalte\" id=\"Z19S1\"><input name=\"option$$$006TODESURS15\" title=\"Anzeigen von Informationen zu Merkmalsausprägung mit dem Namen 'TODESURS15'\" type=\"submit\" value=\"BN der Leber und der intrahepatischen Gallengänge\"/></th><td class=\"schemaBorderColorLevel3 etzelle\" headers=\"Z2S1 Z5S1 Z19S1 Z3S2 Z4S2\" style=\"white-space: nowrap\">5 455</td><td class=\"schemaBorderColorLevel3 etzelle\" headers=\"Z2S1 Z5S1 Z19S1 Z3S2 Z4S3\" style=\"white-space: nowrap\">2 692</td><td class=\"schemaBorderColorLevel3 etzelle\" headers=\"Z2S1 Z5S1 Z19S1 Z3S2 Z4S4\" style=\"white-space: nowrap\">8 147</td></tr><tr><th class=\"schemaBorderColorLevel3 schemaBgColorLevel1 etvorspalte\" id=\"Z20S1\"><input name=\"option$$$006TODESURS16\" title=\"Anzeigen von Informationen zu Merkmalsausprägung mit dem Namen 'TODESURS16'\" type=\"submit\" value=\"BN des Pankreas\"/></th><td class=\"schemaBorderColorLevel3 etzelle\" headers=\"Z2S1 Z5S1 Z20S1 Z3S2 Z4S2\" style=\"white-space: nowrap\">9 570</td><td class=\"schemaBorderColorLevel3 etzelle\" headers=\"Z2S1 Z5S1 Z20S1 Z3S2 Z4S3\" style=\"white-space: nowrap\">9 602</td><td class=\"schemaBorderColorLevel3 etzelle\" headers=\"Z2S1 Z5S1 Z20S1 Z3S2 Z4S4\" style=\"white-space: nowrap\">19 172</td></tr><tr><th class=\"schemaBorderColorLevel3 schemaBgColorLevel1 etvorspalte\" id=\"Z21S1\"><input name=\"option$$$006TODESURS17\" title=\"Anzeigen von Informationen zu Merkmalsausprägung mit dem Namen 'TODESURS17'\" type=\"submit\" value=\"BN d. Larynx, d. Trachea, d. Bronchien u. d. Lunge\"/></th><td class=\"schemaBorderColorLevel3 etzelle\" headers=\"Z2S1 Z5S1 Z21S1 Z3S2 Z4S2\" style=\"white-space: nowrap\">28 332</td><td class=\"schemaBorderColorLevel3 etzelle\" headers=\"Z2S1 Z5S1 Z21S1 Z3S2 Z4S3\" style=\"white-space: nowrap\">17 608</td><td class=\"schemaBorderColorLevel3 etzelle\" headers=\"Z2S1 Z5S1 Z21S1 Z3S2 Z4S4\" style=\"white-space: nowrap\">45 940</td></tr><tr><th class=\"schemaBorderColorLevel3 schemaBgColorLevel1 etvorspalte\" id=\"Z22S1\"><input name=\"option$$$006TODESURS18\" title=\"Anzeigen von Informationen zu Merkmalsausprägung mit dem Namen 'TODESURS18'\" type=\"submit\" value=\"BN der Bronchien und der Lunge\"/></th><td class=\"schemaBorderColorLevel3 etzelle\" headers=\"Z2S1 Z5S1 Z22S1 Z3S2 Z4S2\" style=\"white-space: nowrap\">27 200</td><td class=\"schemaBorderColorLevel3 etzelle\" headers=\"Z2S1 Z5S1 Z22S1 Z3S2 Z4S3\" style=\"white-space: nowrap\">17 401</td><td class=\"schemaBorderColorLevel3 etzelle\" headers=\"Z2S1 Z5S1 Z22S1 Z3S2 Z4S4\" style=\"white-space: nowrap\">44 601</td></tr><tr><th class=\"schemaBorderColorLevel3 schemaBgColorLevel1 etvorspalte\" id=\"Z23S1\"><input name=\"option$$$006TODESURS19\" title=\"Anzeigen von Informationen zu Merkmalsausprägung mit dem Namen 'TODESURS19'\" type=\"submit\" value=\"Melanom und sonstige bösartige Neubild. der Haut\"/></th><td class=\"schemaBorderColorLevel3 etzelle\" headers=\"Z2S1 Z5S1 Z23S1 Z3S2 Z4S2\" style=\"white-space: nowrap\">2 406</td><td class=\"schemaBorderColorLevel3 etzelle\" headers=\"Z2S1 Z5S1 Z23S1 Z3S2 Z4S3\" style=\"white-space: nowrap\">1 700</td><td class=\"schemaBorderColorLevel3 etzelle\" headers=\"Z2S1 Z5S1 Z23S1 Z3S2 Z4S4\" style=\"white-space: nowrap\">4 106</td></tr><tr><th class=\"schemaBorderColorLevel3 schemaBgColorLevel1 etvorspalte\" id=\"Z24S1\">Bösartiges Melanom der Haut</th><td class=\"schemaBorderColorLevel3 etzelle\" headers=\"Z2S1 Z5S1 Z24S1 Z3S2 Z4S2\" style=\"white-space: nowrap\">1 692</td><td class=\"schemaBorderColorLevel3 etzelle\" headers=\"Z2S1 Z5S1 Z24S1 Z3S2 Z4S3\" style=\"white-space: nowrap\">1 236</td><td class=\"schemaBorderColorLevel3 etzelle\" headers=\"Z2S1 Z5S1 Z24S1 Z3S2 Z4S4\" style=\"white-space: nowrap\">2 928</td></tr><tr><th class=\"schemaBorderColorLevel3 schemaBgColorLevel1 etvorspalte\" id=\"Z25S1\"><input name=\"option$$$006TODESURS21\" title=\"Anzeigen von Informationen zu Merkmalsausprägung mit dem Namen 'TODESURS21'\" type=\"submit\" value=\"BN der Brustdrüse\"/></th><td class=\"schemaBorderColorLevel3 etzelle\" headers=\"Z2S1 Z5S1 Z25S1 Z3S2 Z4S2\" style=\"white-space: nowrap\">157</td><td class=\"schemaBorderColorLevel3 etzelle\" headers=\"Z2S1 Z5S1 Z25S1 Z3S2 Z4S3\" style=\"white-space: nowrap\">18 479</td><td class=\"schemaBorderColorLevel3 etzelle\" headers=\"Z2S1 Z5S1 Z25S1 Z3S2 Z4S4\" style=\"white-space: nowrap\">18 636</td></tr><tr><th class=\"schemaBorderColorLevel3 schemaBgColorLevel1 etvorspalte\" id=\"Z26S1\"><input name=\"option$$$006TODESURS22\" title=\"Anzeigen von Informationen zu Merkmalsausprägung mit dem Namen 'TODESURS22'\" type=\"submit\" value=\"BN der Genital- und Harnorgane\"/></th><td class=\"schemaBorderColorLevel3 etzelle\" headers=\"Z2S1 Z5S1 Z26S1 Z3S2 Z4S2\" style=\"white-space: nowrap\">25 989</td><td class=\"schemaBorderColorLevel3 etzelle\" headers=\"Z2S1 Z5S1 Z26S1 Z3S2 Z4S3\" style=\"white-space: nowrap\">16 181</td><td class=\"schemaBorderColorLevel3 etzelle\" headers=\"Z2S1 Z5S1 Z26S1 Z3S2 Z4S4\" style=\"white-space: nowrap\">42 170</td></tr><tr><th class=\"schemaBorderColorLevel3 schemaBgColorLevel1 etvorspalte\" id=\"Z27S1\"><input name=\"option$$$006TODESURS23\" title=\"Anzeigen von Informationen zu Merkmalsausprägung mit dem Namen 'TODESURS23'\" type=\"submit\" value=\"BN der Cervix uteri\"/></th><td class=\"schemaBorderColorLevel3 etzelle\" headers=\"Z2S1 Z5S1 Z27S1 Z3S2 Z4S2\" style=\"white-space: nowrap\"><abbr title=\"nichts vorhanden\">-</abbr></td><td class=\"schemaBorderColorLevel3 etzelle\" headers=\"Z2S1 Z5S1 Z27S1 Z3S2 Z4S3\" style=\"white-space: nowrap\">1 535</td><td class=\"schemaBorderColorLevel3 etzelle\" headers=\"Z2S1 Z5S1 Z27S1 Z3S2 Z4S4\" style=\"white-space: nowrap\">1 535</td></tr><tr><th class=\"schemaBorderColorLevel3 schemaBgColorLevel1 etvorspalte\" id=\"Z28S1\"><input name=\"option$$$006TODESURS24\" title=\"Anzeigen von Informationen zu Merkmalsausprägung mit dem Namen 'TODESURS24'\" type=\"submit\" value=\"BN des Corpus uteri u. Uterus, Teil n.n. bezeichn.\"/></th><td class=\"schemaBorderColorLevel3 etzelle\" headers=\"Z2S1 Z5S1 Z28S1 Z3S2 Z4S2\" style=\"white-space: nowrap\"><abbr title=\"nichts vorhanden\">-</abbr></td><td class=\"schemaBorderColorLevel3 etzelle\" headers=\"Z2S1 Z5S1 Z28S1 Z3S2 Z4S3\" style=\"white-space: nowrap\">2 634</td><td class=\"schemaBorderColorLevel3 etzelle\" headers=\"Z2S1 Z5S1 Z28S1 Z3S2 Z4S4\" style=\"white-space: nowrap\">2 634</td></tr><tr><th class=\"schemaBorderColorLevel3 schemaBgColorLevel1 etvorspalte\" id=\"Z29S1\"><input name=\"option$$$006TODESURS25\" title=\"Anzeigen von Informationen zu Merkmalsausprägung mit dem Namen 'TODESURS25'\" type=\"submit\" value=\"BN des Ovars\"/></th><td class=\"schemaBorderColorLevel3 etzelle\" headers=\"Z2S1 Z5S1 Z29S1 Z3S2 Z4S2\" style=\"white-space: nowrap\"><abbr title=\"nichts vorhanden\">-</abbr></td><td class=\"schemaBorderColorLevel3 etzelle\" headers=\"Z2S1 Z5S1 Z29S1 Z3S2 Z4S3\" style=\"white-space: nowrap\">5 379</td><td class=\"schemaBorderColorLevel3 etzelle\" headers=\"Z2S1 Z5S1 Z29S1 Z3S2 Z4S4\" style=\"white-space: nowrap\">5 379</td></tr><tr><th class=\"schemaBorderColorLevel3 schemaBgColorLevel1 etvorspalte\" id=\"Z30S1\"><input name=\"option$$$006TODESURS26\" title=\"Anzeigen von Informationen zu Merkmalsausprägung mit dem Namen 'TODESURS26'\" type=\"submit\" value=\"BN der Prostata\"/></th><td class=\"schemaBorderColorLevel3 etzelle\" headers=\"Z2S1 Z5S1 Z30S1 Z3S2 Z4S2\" style=\"white-space: nowrap\">15 379</td><td class=\"schemaBorderColorLevel3 etzelle\" headers=\"Z2S1 Z5S1 Z30S1 Z3S2 Z4S3\" style=\"white-space: nowrap\"><abbr title=\"nichts vorhanden\">-</abbr></td><td class=\"schemaBorderColorLevel3 etzelle\" headers=\"Z2S1 Z5S1 Z30S1 Z3S2 Z4S4\" style=\"white-space: nowrap\">15 379</td></tr><tr><th class=\"schemaBorderColorLevel3 schemaBgColorLevel1 etvorspalte\" id=\"Z31S1\"><input name=\"option$$$006TODESURS27\" title=\"Anzeigen von Informationen zu Merkmalsausprägung mit dem Namen 'TODESURS27'\" type=\"submit\" value=\"BN der Niere, ausgenommen Nierenbecken\"/></th><td class=\"schemaBorderColorLevel3 etzelle\" headers=\"Z2S1 Z5S1 Z31S1 Z3S2 Z4S2\" style=\"white-space: nowrap\">3 070</td><td class=\"schemaBorderColorLevel3 etzelle\" headers=\"Z2S1 Z5S1 Z31S1 Z3S2 Z4S3\" style=\"white-space: nowrap\">1 790</td><td class=\"schemaBorderColorLevel3 etzelle\" headers=\"Z2S1 Z5S1 Z31S1 Z3S2 Z4S4\" style=\"white-space: nowrap\">4 860</td></tr><tr><th class=\"schemaBorderColorLevel3 schemaBgColorLevel1 etvorspalte\" id=\"Z32S1\"><input name=\"option$$$006TODESURS28\" title=\"Anzeigen von Informationen zu Merkmalsausprägung mit dem Namen 'TODESURS28'\" type=\"submit\" value=\"BN der Harnblase\"/></th><td class=\"schemaBorderColorLevel3 etzelle\" headers=\"Z2S1 Z5S1 Z32S1 Z3S2 Z4S2\" style=\"white-space: nowrap\">3 891</td><td class=\"schemaBorderColorLevel3 etzelle\" headers=\"Z2S1 Z5S1 Z32S1 Z3S2 Z4S3\" style=\"white-space: nowrap\">1 852</td><td class=\"schemaBorderColorLevel3 etzelle\" headers=\"Z2S1 Z5S1 Z32S1 Z3S2 Z4S4\" style=\"white-space: nowrap\">5 743</td></tr><tr><th class=\"schemaBorderColorLevel3 schemaBgColorLevel1 etvorspalte\" id=\"Z33S1\"><input name=\"option$$$006TODESURS29\" title=\"Anzeigen von Informationen zu Merkmalsausprägung mit dem Namen 'TODESURS29'\" type=\"submit\" value=\"BN d. lymphat., blutbild. u. verwandten Gewebes\"/></th><td class=\"schemaBorderColorLevel3 etzelle\" headers=\"Z2S1 Z5S1 Z33S1 Z3S2 Z4S2\" style=\"white-space: nowrap\">11 167</td><td class=\"schemaBorderColorLevel3 etzelle\" headers=\"Z2S1 Z5S1 Z33S1 Z3S2 Z4S3\" style=\"white-space: nowrap\">8 725</td><td class=\"schemaBorderColorLevel3 etzelle\" headers=\"Z2S1 Z5S1 Z33S1 Z3S2 Z4S4\" style=\"white-space: nowrap\">19 892</td></tr><tr><th class=\"schemaBorderColorLevel3 schemaBgColorLevel1 etvorspalte\" id=\"Z34S1\">Leukämie</th><td class=\"schemaBorderColorLevel3 etzelle\" headers=\"Z2S1 Z5S1 Z34S1 Z3S2 Z4S2\" style=\"white-space: nowrap\">4 674</td><td class=\"schemaBorderColorLevel3 etzelle\" headers=\"Z2S1 Z5S1 Z34S1 Z3S2 Z4S3\" style=\"white-space: nowrap\">3 530</td><td class=\"schemaBorderColorLevel3 etzelle\" headers=\"Z2S1 Z5S1 Z34S1 Z3S2 Z4S4\" style=\"white-space: nowrap\">8 204</td></tr><tr><th class=\"schemaBorderColorLevel3 schemaBgColorLevel1 etvorspalte\" id=\"Z35S1\">Gutartige Neubildungen</th><td class=\"schemaBorderColorLevel3 etzelle\" headers=\"Z2S1 Z5S1 Z35S1 Z3S2 Z4S2\" style=\"white-space: nowrap\">371</td><td class=\"schemaBorderColorLevel3 etzelle\" headers=\"Z2S1 Z5S1 Z35S1 Z3S2 Z4S3\" style=\"white-space: nowrap\">396</td><td class=\"schemaBorderColorLevel3 etzelle\" headers=\"Z2S1 Z5S1 Z35S1 Z3S2 Z4S4\" style=\"white-space: nowrap\">767</td></tr><tr><th class=\"schemaBorderColorLevel3 schemaBgColorLevel1 etvorspalte\" id=\"Z36S1\"><input name=\"option$$$006TODESURS32\" title=\"Anzeigen von Informationen zu Merkmalsausprägung mit dem Namen 'TODESURS32'\" type=\"submit\" value=\"Krankheiten des Blutes u. der blutbildenden Organe\"/></th><td class=\"schemaBorderColorLevel3 etzelle\" headers=\"Z2S1 Z5S1 Z36S1 Z3S2 Z4S2\" style=\"white-space: nowrap\">2 078</td><td class=\"schemaBorderColorLevel3 etzelle\" headers=\"Z2S1 Z5S1 Z36S1 Z3S2 Z4S3\" style=\"white-space: nowrap\">2 632</td><td class=\"schemaBorderColorLevel3 etzelle\" headers=\"Z2S1 Z5S1 Z36S1 Z3S2 Z4S4\" style=\"white-space: nowrap\">4 710</td></tr><tr><th class=\"schemaBorderColorLevel3 schemaBgColorLevel1 etvorspalte\" id=\"Z37S1\"><input name=\"option$$$006TODESURS33\" title=\"Anzeigen von Informationen zu Merkmalsausprägung mit dem Namen 'TODESURS33'\" type=\"submit\" value=\"Endokrine, Ernährungs- u. Stoffwechselkrankheiten\"/></th><td class=\"schemaBorderColorLevel3 etzelle\" headers=\"Z2S1 Z5S1 Z37S1 Z3S2 Z4S2\" style=\"white-space: nowrap\">17 402</td><td class=\"schemaBorderColorLevel3 etzelle\" headers=\"Z2S1 Z5S1 Z37S1 Z3S2 Z4S3\" style=\"white-space: nowrap\">20 464</td><td class=\"schemaBorderColorLevel3 etzelle\" headers=\"Z2S1 Z5S1 Z37S1 Z3S2 Z4S4\" style=\"white-space: nowrap\">37 866</td></tr><tr><th class=\"schemaBorderColorLevel3 schemaBgColorLevel1 etvorspalte\" id=\"Z38S1\">Diabetes mellitus</th><td class=\"schemaBorderColorLevel3 etzelle\" headers=\"Z2S1 Z5S1 Z38S1 Z3S2 Z4S2\" style=\"white-space: nowrap\">12 428</td><td class=\"schemaBorderColorLevel3 etzelle\" headers=\"Z2S1 Z5S1 Z38S1 Z3S2 Z4S3\" style=\"white-space: nowrap\">13 556</td><td class=\"schemaBorderColorLevel3 etzelle\" headers=\"Z2S1 Z5S1 Z38S1 Z3S2 Z4S4\" style=\"white-space: nowrap\">25 984</td></tr><tr><th class=\"schemaBorderColorLevel3 schemaBgColorLevel1 etvorspalte\" id=\"Z39S1\">Psychische und Verhaltensstörungen</th><td class=\"schemaBorderColorLevel3 etzelle\" headers=\"Z2S1 Z5S1 Z39S1 Z3S2 Z4S2\" style=\"white-space: nowrap\">22 848</td><td class=\"schemaBorderColorLevel3 etzelle\" headers=\"Z2S1 Z5S1 Z39S1 Z3S2 Z4S3\" style=\"white-space: nowrap\">37 142</td><td class=\"schemaBorderColorLevel3 etzelle\" headers=\"Z2S1 Z5S1 Z39S1 Z3S2 Z4S4\" style=\"white-space: nowrap\">59 990</td></tr><tr><th class=\"schemaBorderColorLevel3 schemaBgColorLevel1 etvorspalte\" id=\"Z40S1\">Psychische und Verhaltensstörungen durch Alkohol</th><td class=\"schemaBorderColorLevel3 etzelle\" headers=\"Z2S1 Z5S1 Z40S1 Z3S2 Z4S2\" style=\"white-space: nowrap\">3 842</td><td class=\"schemaBorderColorLevel3 etzelle\" headers=\"Z2S1 Z5S1 Z40S1 Z3S2 Z4S3\" style=\"white-space: nowrap\">1 122</td><td class=\"schemaBorderColorLevel3 etzelle\" headers=\"Z2S1 Z5S1 Z40S1 Z3S2 Z4S4\" style=\"white-space: nowrap\">4 964</td></tr><tr><th class=\"schemaBorderColorLevel3 schemaBgColorLevel1 etvorspalte\" id=\"Z41S1\"><input name=\"option$$$006TODESURS37\" title=\"Anzeigen von Informationen zu Merkmalsausprägung mit dem Namen 'TODESURS37'\" type=\"submit\" value=\"Psych. u. Verhaltensstörungen d.a.psychotr. Subst.\"/></th><td class=\"schemaBorderColorLevel3 etzelle\" headers=\"Z2S1 Z5S1 Z41S1 Z3S2 Z4S2\" style=\"white-space: nowrap\">499</td><td class=\"schemaBorderColorLevel3 etzelle\" headers=\"Z2S1 Z5S1 Z41S1 Z3S2 Z4S3\" style=\"white-space: nowrap\">142</td><td class=\"schemaBorderColorLevel3 etzelle\" headers=\"Z2S1 Z5S1 Z41S1 Z3S2 Z4S4\" style=\"white-space: nowrap\">641</td></tr><tr><th class=\"schemaBorderColorLevel3 schemaBgColorLevel1 etvorspalte\" id=\"Z42S1\"><input name=\"option$$$006TODESURS38\" title=\"Anzeigen von Informationen zu Merkmalsausprägung mit dem Namen 'TODESURS38'\" type=\"submit\" value=\"Krankheiten d. Nervensystems u. d. Sinnesorgane\"/></th><td class=\"schemaBorderColorLevel3 etzelle\" headers=\"Z2S1 Z5S1 Z42S1 Z3S2 Z4S2\" style=\"white-space: nowrap\">17 974</td><td class=\"schemaBorderColorLevel3 etzelle\" headers=\"Z2S1 Z5S1 Z42S1 Z3S2 Z4S3\" style=\"white-space: nowrap\">17 804</td><td class=\"schemaBorderColorLevel3 etzelle\" headers=\"Z2S1 Z5S1 Z42S1 Z3S2 Z4S4\" style=\"white-space: nowrap\">35 778</td></tr><tr><th class=\"schemaBorderColorLevel3 schemaBgColorLevel1 etvorspalte\" id=\"Z43S1\">Meningitis</th><td class=\"schemaBorderColorLevel3 etzelle\" headers=\"Z2S1 Z5S1 Z43S1 Z3S2 Z4S2\" style=\"white-space: nowrap\">54</td><td class=\"schemaBorderColorLevel3 etzelle\" headers=\"Z2S1 Z5S1 Z43S1 Z3S2 Z4S3\" style=\"white-space: nowrap\">47</td><td class=\"schemaBorderColorLevel3 etzelle\" headers=\"Z2S1 Z5S1 Z43S1 Z3S2 Z4S4\" style=\"white-space: nowrap\">101</td></tr><tr><th class=\"schemaBorderColorLevel3 schemaBgColorLevel1 etvorspalte\" id=\"Z44S1\">Krankheiten des Kreislaufsystems</th><td class=\"schemaBorderColorLevel3 etzelle\" headers=\"Z2S1 Z5S1 Z44S1 Z3S2 Z4S2\" style=\"white-space: nowrap\">159 846</td><td class=\"schemaBorderColorLevel3 etzelle\" headers=\"Z2S1 Z5S1 Z44S1 Z3S2 Z4S3\" style=\"white-space: nowrap\">180 773</td><td class=\"schemaBorderColorLevel3 etzelle\" headers=\"Z2S1 Z5S1 Z44S1 Z3S2 Z4S4\" style=\"white-space: nowrap\">340 619</td></tr><tr><th class=\"schemaBorderColorLevel3 schemaBgColorLevel1 etvorspalte\" id=\"Z45S1\">Hypertonie (Hochdruckkrankheit)</th><td class=\"schemaBorderColorLevel3 etzelle\" headers=\"Z2S1 Z5S1 Z45S1 Z3S2 Z4S2\" style=\"white-space: nowrap\">16 529</td><td class=\"schemaBorderColorLevel3 etzelle\" headers=\"Z2S1 Z5S1 Z45S1 Z3S2 Z4S3\" style=\"white-space: nowrap\">32 332</td><td class=\"schemaBorderColorLevel3 etzelle\" headers=\"Z2S1 Z5S1 Z45S1 Z3S2 Z4S4\" style=\"white-space: nowrap\">48 861</td></tr><tr><th class=\"schemaBorderColorLevel3 schemaBgColorLevel1 etvorspalte\" id=\"Z46S1\">Ischämische Herzkrankheiten</th><td class=\"schemaBorderColorLevel3 etzelle\" headers=\"Z2S1 Z5S1 Z46S1 Z3S2 Z4S2\" style=\"white-space: nowrap\">68 900</td><td class=\"schemaBorderColorLevel3 etzelle\" headers=\"Z2S1 Z5S1 Z46S1 Z3S2 Z4S3\" style=\"white-space: nowrap\">52 272</td><td class=\"schemaBorderColorLevel3 etzelle\" headers=\"Z2S1 Z5S1 Z46S1 Z3S2 Z4S4\" style=\"white-space: nowrap\">121 172</td></tr><tr><th class=\"schemaBorderColorLevel3 schemaBgColorLevel1 etvorspalte\" id=\"Z47S1\">Akuter oder rezidivierender Myokardinfarkt</th><td class=\"schemaBorderColorLevel3 etzelle\" headers=\"Z2S1 Z5S1 Z47S1 Z3S2 Z4S2\" style=\"white-space: nowrap\">27 107</td><td class=\"schemaBorderColorLevel3 etzelle\" headers=\"Z2S1 Z5S1 Z47S1 Z3S2 Z4S3\" style=\"white-space: nowrap\">18 074</td><td class=\"schemaBorderColorLevel3 etzelle\" headers=\"Z2S1 Z5S1 Z47S1 Z3S2 Z4S4\" style=\"white-space: nowrap\">45 181</td></tr><tr><th class=\"schemaBorderColorLevel3 schemaBgColorLevel1 etvorspalte\" id=\"Z48S1\">Sonstige Formen der Herzkrankheit</th><td class=\"schemaBorderColorLevel3 etzelle\" headers=\"Z2S1 Z5S1 Z48S1 Z3S2 Z4S2\" style=\"white-space: nowrap\">31 899</td><td class=\"schemaBorderColorLevel3 etzelle\" headers=\"Z2S1 Z5S1 Z48S1 Z3S2 Z4S3\" style=\"white-space: nowrap\">43 114</td><td class=\"schemaBorderColorLevel3 etzelle\" headers=\"Z2S1 Z5S1 Z48S1 Z3S2 Z4S4\" style=\"white-space: nowrap\">75 013</td></tr><tr><th class=\"schemaBorderColorLevel3 schemaBgColorLevel1 etvorspalte\" id=\"Z49S1\">Sonstige Krankheiten des Endokards</th><td class=\"schemaBorderColorLevel3 etzelle\" headers=\"Z2S1 Z5S1 Z49S1 Z3S2 Z4S2\" style=\"white-space: nowrap\">6 560</td><td class=\"schemaBorderColorLevel3 etzelle\" headers=\"Z2S1 Z5S1 Z49S1 Z3S2 Z4S3\" style=\"white-space: nowrap\">8 428</td><td class=\"schemaBorderColorLevel3 etzelle\" headers=\"Z2S1 Z5S1 Z49S1 Z3S2 Z4S4\" style=\"white-space: nowrap\">14 988</td></tr><tr><th class=\"schemaBorderColorLevel3 schemaBgColorLevel1 etvorspalte\" id=\"Z50S1\">Zerebrovaskuläre Krankheiten</th><td class=\"schemaBorderColorLevel3 etzelle\" headers=\"Z2S1 Z5S1 Z50S1 Z3S2 Z4S2\" style=\"white-space: nowrap\">23 487</td><td class=\"schemaBorderColorLevel3 etzelle\" headers=\"Z2S1 Z5S1 Z50S1 Z3S2 Z4S3\" style=\"white-space: nowrap\">29 595</td><td class=\"schemaBorderColorLevel3 etzelle\" headers=\"Z2S1 Z5S1 Z50S1 Z3S2 Z4S4\" style=\"white-space: nowrap\">53 082</td></tr><tr><th class=\"schemaBorderColorLevel3 schemaBgColorLevel1 etvorspalte\" id=\"Z51S1\"><input name=\"option$$$006TODESURS47\" title=\"Anzeigen von Informationen zu Merkmalsausprägung mit dem Namen 'TODESURS47'\" type=\"submit\" value=\"Schlaganfall, nicht als Blutung oder Infarkt bez.\"/></th><td class=\"schemaBorderColorLevel3 etzelle\" headers=\"Z2S1 Z5S1 Z51S1 Z3S2 Z4S2\" style=\"white-space: nowrap\">4 291</td><td class=\"schemaBorderColorLevel3 etzelle\" headers=\"Z2S1 Z5S1 Z51S1 Z3S2 Z4S3\" style=\"white-space: nowrap\">6 338</td><td class=\"schemaBorderColorLevel3 etzelle\" headers=\"Z2S1 Z5S1 Z51S1 Z3S2 Z4S4\" style=\"white-space: nowrap\">10 629</td></tr><tr><th class=\"schemaBorderColorLevel3 schemaBgColorLevel1 etvorspalte\" id=\"Z52S1\">Krankheiten der Arterien, Arteriolen und Kapillare</th><td class=\"schemaBorderColorLevel3 etzelle\" headers=\"Z2S1 Z5S1 Z52S1 Z3S2 Z4S2\" style=\"white-space: nowrap\">6 061</td><td class=\"schemaBorderColorLevel3 etzelle\" headers=\"Z2S1 Z5S1 Z52S1 Z3S2 Z4S3\" style=\"white-space: nowrap\">5 725</td><td class=\"schemaBorderColorLevel3 etzelle\" headers=\"Z2S1 Z5S1 Z52S1 Z3S2 Z4S4\" style=\"white-space: nowrap\">11 786</td></tr><tr><th class=\"schemaBorderColorLevel3 schemaBgColorLevel1 etvorspalte\" id=\"Z53S1\">Krankheiten des Atmungssystems</th><td class=\"schemaBorderColorLevel3 etzelle\" headers=\"Z2S1 Z5S1 Z53S1 Z3S2 Z4S2\" style=\"white-space: nowrap\">31 841</td><td class=\"schemaBorderColorLevel3 etzelle\" headers=\"Z2S1 Z5S1 Z53S1 Z3S2 Z4S3\" style=\"white-space: nowrap\">25 475</td><td class=\"schemaBorderColorLevel3 etzelle\" headers=\"Z2S1 Z5S1 Z53S1 Z3S2 Z4S4\" style=\"white-space: nowrap\">57 316</td></tr><tr><th class=\"schemaBorderColorLevel3 schemaBgColorLevel1 etvorspalte\" id=\"Z54S1\">Grippe</th><td class=\"schemaBorderColorLevel3 etzelle\" headers=\"Z2S1 Z5S1 Z54S1 Z3S2 Z4S2\" style=\"white-space: nowrap\">22</td><td class=\"schemaBorderColorLevel3 etzelle\" headers=\"Z2S1 Z5S1 Z54S1 Z3S2 Z4S3\" style=\"white-space: nowrap\">16</td><td class=\"schemaBorderColorLevel3 etzelle\" headers=\"Z2S1 Z5S1 Z54S1 Z3S2 Z4S4\" style=\"white-space: nowrap\">38</td></tr><tr><th class=\"schemaBorderColorLevel3 schemaBgColorLevel1 etvorspalte\" id=\"Z55S1\">Pneumonie</th><td class=\"schemaBorderColorLevel3 etzelle\" headers=\"Z2S1 Z5S1 Z55S1 Z3S2 Z4S2\" style=\"white-space: nowrap\">7 831</td><td class=\"schemaBorderColorLevel3 etzelle\" headers=\"Z2S1 Z5S1 Z55S1 Z3S2 Z4S3\" style=\"white-space: nowrap\">6 268</td><td class=\"schemaBorderColorLevel3 etzelle\" headers=\"Z2S1 Z5S1 Z55S1 Z3S2 Z4S4\" style=\"white-space: nowrap\">14 099</td></tr><tr><th class=\"schemaBorderColorLevel3 schemaBgColorLevel1 etvorspalte\" id=\"Z56S1\">Chronische Krankheiten der unteren Atemwege</th><td class=\"schemaBorderColorLevel3 etzelle\" headers=\"Z2S1 Z5S1 Z56S1 Z3S2 Z4S2\" style=\"white-space: nowrap\">17 285</td><td class=\"schemaBorderColorLevel3 etzelle\" headers=\"Z2S1 Z5S1 Z56S1 Z3S2 Z4S3\" style=\"white-space: nowrap\">14 724</td><td class=\"schemaBorderColorLevel3 etzelle\" headers=\"Z2S1 Z5S1 Z56S1 Z3S2 Z4S4\" style=\"white-space: nowrap\">32 009</td></tr><tr><th class=\"schemaBorderColorLevel3 schemaBgColorLevel1 etvorspalte\" id=\"Z57S1\">Asthma</th><td class=\"schemaBorderColorLevel3 etzelle\" headers=\"Z2S1 Z5S1 Z57S1 Z3S2 Z4S2\" style=\"white-space: nowrap\">406</td><td class=\"schemaBorderColorLevel3 etzelle\" headers=\"Z2S1 Z5S1 Z57S1 Z3S2 Z4S3\" style=\"white-space: nowrap\">643</td><td class=\"schemaBorderColorLevel3 etzelle\" headers=\"Z2S1 Z5S1 Z57S1 Z3S2 Z4S4\" style=\"white-space: nowrap\">1 049</td></tr><tr><th class=\"schemaBorderColorLevel3 schemaBgColorLevel1 etvorspalte\" id=\"Z58S1\">COVID-19, Virus nachgewiesen</th><td class=\"schemaBorderColorLevel3 etzelle\" headers=\"Z2S1 Z5S1 Z58S1 Z3S2 Z4S2\" style=\"white-space: nowrap\">38 862</td><td class=\"schemaBorderColorLevel3 etzelle\" headers=\"Z2S1 Z5S1 Z58S1 Z3S2 Z4S3\" style=\"white-space: nowrap\">31 897</td><td class=\"schemaBorderColorLevel3 etzelle\" headers=\"Z2S1 Z5S1 Z58S1 Z3S2 Z4S4\" style=\"white-space: nowrap\">70 759</td></tr><tr><th class=\"schemaBorderColorLevel3 schemaBgColorLevel1 etvorspalte\" id=\"Z59S1\">COVID-19, Virus nicht nachgewiesen</th><td class=\"schemaBorderColorLevel3 etzelle\" headers=\"Z2S1 Z5S1 Z59S1 Z3S2 Z4S2\" style=\"white-space: nowrap\">306</td><td class=\"schemaBorderColorLevel3 etzelle\" headers=\"Z2S1 Z5S1 Z59S1 Z3S2 Z4S3\" style=\"white-space: nowrap\">266</td><td class=\"schemaBorderColorLevel3 etzelle\" headers=\"Z2S1 Z5S1 Z59S1 Z3S2 Z4S4\" style=\"white-space: nowrap\">572</td></tr><tr><th class=\"schemaBorderColorLevel3 schemaBgColorLevel1 etvorspalte\" id=\"Z60S1\">Krankheiten des Verdauungssystems</th><td class=\"schemaBorderColorLevel3 etzelle\" headers=\"Z2S1 Z5S1 Z60S1 Z3S2 Z4S2\" style=\"white-space: nowrap\">23 508</td><td class=\"schemaBorderColorLevel3 etzelle\" headers=\"Z2S1 Z5S1 Z60S1 Z3S2 Z4S3\" style=\"white-space: nowrap\">20 209</td><td class=\"schemaBorderColorLevel3 etzelle\" headers=\"Z2S1 Z5S1 Z60S1 Z3S2 Z4S4\" style=\"white-space: nowrap\">43 717</td></tr><tr><th class=\"schemaBorderColorLevel3 schemaBgColorLevel1 etvorspalte\" id=\"Z61S1\"><input name=\"option$$$006TODESURS55\" title=\"Anzeigen von Informationen zu Merkmalsausprägung mit dem Namen 'TODESURS55'\" type=\"submit\" value=\"Ulcus ventriculi, duodeni, pepticum, pept. jejuni\"/></th><td class=\"schemaBorderColorLevel3 etzelle\" headers=\"Z2S1 Z5S1 Z61S1 Z3S2 Z4S2\" style=\"white-space: nowrap\">1 300</td><td class=\"schemaBorderColorLevel3 etzelle\" headers=\"Z2S1 Z5S1 Z61S1 Z3S2 Z4S3\" style=\"white-space: nowrap\">1 345</td><td class=\"schemaBorderColorLevel3 etzelle\" headers=\"Z2S1 Z5S1 Z61S1 Z3S2 Z4S4\" style=\"white-space: nowrap\">2 645</td></tr><tr><th class=\"schemaBorderColorLevel3 schemaBgColorLevel1 etvorspalte\" id=\"Z62S1\">Krankheiten der Leber</th><td class=\"schemaBorderColorLevel3 etzelle\" headers=\"Z2S1 Z5S1 Z62S1 Z3S2 Z4S2\" style=\"white-space: nowrap\">10 987</td><td class=\"schemaBorderColorLevel3 etzelle\" headers=\"Z2S1 Z5S1 Z62S1 Z3S2 Z4S3\" style=\"white-space: nowrap\">5 919</td><td class=\"schemaBorderColorLevel3 etzelle\" headers=\"Z2S1 Z5S1 Z62S1 Z3S2 Z4S4\" style=\"white-space: nowrap\">16 906</td></tr><tr><th class=\"schemaBorderColorLevel3 schemaBgColorLevel1 etvorspalte\" id=\"Z63S1\"><input name=\"option$$$006TODESURS57\" title=\"Anzeigen von Informationen zu Merkmalsausprägung mit dem Namen 'TODESURS57'\" type=\"submit\" value=\"Alkoh.Leberkh.,Chron.Hepatitis,Leberfibr.u.-zirr.\"/></th><td class=\"schemaBorderColorLevel3 etzelle\" headers=\"Z2S1 Z5S1 Z63S1 Z3S2 Z4S2\" style=\"white-space: nowrap\">10 189</td><td class=\"schemaBorderColorLevel3 etzelle\" headers=\"Z2S1 Z5S1 Z63S1 Z3S2 Z4S3\" style=\"white-space: nowrap\">5 062</td><td class=\"schemaBorderColorLevel3 etzelle\" headers=\"Z2S1 Z5S1 Z63S1 Z3S2 Z4S4\" style=\"white-space: nowrap\">15 251</td></tr><tr><th class=\"schemaBorderColorLevel3 schemaBgColorLevel1 etvorspalte\" id=\"Z64S1\">Krankheiten der Haut und der Unterhaut</th><td class=\"schemaBorderColorLevel3 etzelle\" headers=\"Z2S1 Z5S1 Z64S1 Z3S2 Z4S2\" style=\"white-space: nowrap\">710</td><td class=\"schemaBorderColorLevel3 etzelle\" headers=\"Z2S1 Z5S1 Z64S1 Z3S2 Z4S3\" style=\"white-space: nowrap\">1 047</td><td class=\"schemaBorderColorLevel3 etzelle\" headers=\"Z2S1 Z5S1 Z64S1 Z3S2 Z4S4\" style=\"white-space: nowrap\">1 757</td></tr><tr><th class=\"schemaBorderColorLevel3 schemaBgColorLevel1 etvorspalte\" id=\"Z65S1\"><input name=\"option$$$006TODESURS59\" title=\"Anzeigen von Informationen zu Merkmalsausprägung mit dem Namen 'TODESURS59'\" type=\"submit\" value=\"Krankh. des Muskel-Skelett-Systems u. Bindegewebes\"/></th><td class=\"schemaBorderColorLevel3 etzelle\" headers=\"Z2S1 Z5S1 Z65S1 Z3S2 Z4S2\" style=\"white-space: nowrap\">2 307</td><td class=\"schemaBorderColorLevel3 etzelle\" headers=\"Z2S1 Z5S1 Z65S1 Z3S2 Z4S3\" style=\"white-space: nowrap\">3 718</td><td class=\"schemaBorderColorLevel3 etzelle\" headers=\"Z2S1 Z5S1 Z65S1 Z3S2 Z4S4\" style=\"white-space: nowrap\">6 025</td></tr><tr><th class=\"schemaBorderColorLevel3 schemaBgColorLevel1 etvorspalte\" id=\"Z66S1\">Chronische Polyarthritis und Arthrose</th><td class=\"schemaBorderColorLevel3 etzelle\" headers=\"Z2S1 Z5S1 Z66S1 Z3S2 Z4S2\" style=\"white-space: nowrap\">449</td><td class=\"schemaBorderColorLevel3 etzelle\" headers=\"Z2S1 Z5S1 Z66S1 Z3S2 Z4S3\" style=\"white-space: nowrap\">1 038</td><td class=\"schemaBorderColorLevel3 etzelle\" headers=\"Z2S1 Z5S1 Z66S1 Z3S2 Z4S4\" style=\"white-space: nowrap\">1 487</td></tr><tr><th class=\"schemaBorderColorLevel3 schemaBgColorLevel1 etvorspalte\" id=\"Z67S1\">Krankheiten des Urogenitalsystems</th><td class=\"schemaBorderColorLevel3 etzelle\" headers=\"Z2S1 Z5S1 Z67S1 Z3S2 Z4S2\" style=\"white-space: nowrap\">12 065</td><td class=\"schemaBorderColorLevel3 etzelle\" headers=\"Z2S1 Z5S1 Z67S1 Z3S2 Z4S3\" style=\"white-space: nowrap\">14 207</td><td class=\"schemaBorderColorLevel3 etzelle\" headers=\"Z2S1 Z5S1 Z67S1 Z3S2 Z4S4\" style=\"white-space: nowrap\">26 272</td></tr><tr><th class=\"schemaBorderColorLevel3 schemaBgColorLevel1 etvorspalte\" id=\"Z68S1\">Krankheiten der Niere</th><td class=\"schemaBorderColorLevel3 etzelle\" headers=\"Z2S1 Z5S1 Z68S1 Z3S2 Z4S2\" style=\"white-space: nowrap\">8 416</td><td class=\"schemaBorderColorLevel3 etzelle\" headers=\"Z2S1 Z5S1 Z68S1 Z3S2 Z4S3\" style=\"white-space: nowrap\">10 377</td><td class=\"schemaBorderColorLevel3 etzelle\" headers=\"Z2S1 Z5S1 Z68S1 Z3S2 Z4S4\" style=\"white-space: nowrap\">18 793</td></tr><tr><th class=\"schemaBorderColorLevel3 schemaBgColorLevel1 etvorspalte\" id=\"Z69S1\">Schwangerschaft, Geburt und Wochenbett</th><td class=\"schemaBorderColorLevel3 etzelle\" headers=\"Z2S1 Z5S1 Z69S1 Z3S2 Z4S2\" style=\"white-space: nowrap\"><abbr title=\"nichts vorhanden\">-</abbr></td><td class=\"schemaBorderColorLevel3 etzelle\" headers=\"Z2S1 Z5S1 Z69S1 Z3S2 Z4S3\" style=\"white-space: nowrap\">28</td><td class=\"schemaBorderColorLevel3 etzelle\" headers=\"Z2S1 Z5S1 Z69S1 Z3S2 Z4S4\" style=\"white-space: nowrap\">28</td></tr><tr><th class=\"schemaBorderColorLevel3 schemaBgColorLevel1 etvorspalte\" id=\"Z70S1\"><input name=\"option$$$006TODESURS64\" title=\"Anzeigen von Informationen zu Merkmalsausprägung mit dem Namen 'TODESURS64'\" type=\"submit\" value=\"Best.Zustände mit Ursprung in der Perinatalperiode\"/></th><td class=\"schemaBorderColorLevel3 etzelle\" headers=\"Z2S1 Z5S1 Z70S1 Z3S2 Z4S2\" style=\"white-space: nowrap\">777</td><td class=\"schemaBorderColorLevel3 etzelle\" headers=\"Z2S1 Z5S1 Z70S1 Z3S2 Z4S3\" style=\"white-space: nowrap\">565</td><td class=\"schemaBorderColorLevel3 etzelle\" headers=\"Z2S1 Z5S1 Z70S1 Z3S2 Z4S4\" style=\"white-space: nowrap\">1 342</td></tr><tr><th class=\"schemaBorderColorLevel3 schemaBgColorLevel1 etvorspalte\" id=\"Z71S1\"><input name=\"option$$$006TODESURS65\" title=\"Anzeigen von Informationen zu Merkmalsausprägung mit dem Namen 'TODESURS65'\" type=\"submit\" value=\"Angeb. Fehlbildungen,Deformitäten,Chromosomenanom.\"/></th><td class=\"schemaBorderColorLevel3 etzelle\" headers=\"Z2S1 Z5S1 Z71S1 Z3S2 Z4S2\" style=\"white-space: nowrap\">1 116</td><td class=\"schemaBorderColorLevel3 etzelle\" headers=\"Z2S1 Z5S1 Z71S1 Z3S2 Z4S3\" style=\"white-space: nowrap\">1 011</td><td class=\"schemaBorderColorLevel3 etzelle\" headers=\"Z2S1 Z5S1 Z71S1 Z3S2 Z4S4\" style=\"white-space: nowrap\">2 127</td></tr><tr><th class=\"schemaBorderColorLevel3 schemaBgColorLevel1 etvorspalte\" id=\"Z72S1\">Angeborene Fehlbildungen des Nervensystems</th><td class=\"schemaBorderColorLevel3 etzelle\" headers=\"Z2S1 Z5S1 Z72S1 Z3S2 Z4S2\" style=\"white-space: nowrap\">86</td><td class=\"schemaBorderColorLevel3 etzelle\" headers=\"Z2S1 Z5S1 Z72S1 Z3S2 Z4S3\" style=\"white-space: nowrap\">97</td><td class=\"schemaBorderColorLevel3 etzelle\" headers=\"Z2S1 Z5S1 Z72S1 Z3S2 Z4S4\" style=\"white-space: nowrap\">183</td></tr><tr><th class=\"schemaBorderColorLevel3 schemaBgColorLevel1 etvorspalte\" id=\"Z73S1\">Angeborene Fehlbildungen des Kreislaufsystems</th><td class=\"schemaBorderColorLevel3 etzelle\" headers=\"Z2S1 Z5S1 Z73S1 Z3S2 Z4S2\" style=\"white-space: nowrap\">337</td><td class=\"schemaBorderColorLevel3 etzelle\" headers=\"Z2S1 Z5S1 Z73S1 Z3S2 Z4S3\" style=\"white-space: nowrap\">269</td><td class=\"schemaBorderColorLevel3 etzelle\" headers=\"Z2S1 Z5S1 Z73S1 Z3S2 Z4S4\" style=\"white-space: nowrap\">606</td></tr><tr><th class=\"schemaBorderColorLevel3 schemaBgColorLevel1 etvorspalte\" id=\"Z74S1\"><input name=\"option$$$006TODESURS68\" title=\"Anzeigen von Informationen zu Merkmalsausprägung mit dem Namen 'TODESURS68'\" type=\"submit\" value=\"Symptome und abnorme klinische und Laborbefunde\"/></th><td class=\"schemaBorderColorLevel3 etzelle\" headers=\"Z2S1 Z5S1 Z74S1 Z3S2 Z4S2\" style=\"white-space: nowrap\">22 638</td><td class=\"schemaBorderColorLevel3 etzelle\" headers=\"Z2S1 Z5S1 Z74S1 Z3S2 Z4S3\" style=\"white-space: nowrap\">16 091</td><td class=\"schemaBorderColorLevel3 etzelle\" headers=\"Z2S1 Z5S1 Z74S1 Z3S2 Z4S4\" style=\"white-space: nowrap\">38 729</td></tr><tr><th class=\"schemaBorderColorLevel3 schemaBgColorLevel1 etvorspalte\" id=\"Z75S1\">Plötzlicher Kindstod</th><td class=\"schemaBorderColorLevel3 etzelle\" headers=\"Z2S1 Z5S1 Z75S1 Z3S2 Z4S2\" style=\"white-space: nowrap\">47</td><td class=\"schemaBorderColorLevel3 etzelle\" headers=\"Z2S1 Z5S1 Z75S1 Z3S2 Z4S3\" style=\"white-space: nowrap\">35</td><td class=\"schemaBorderColorLevel3 etzelle\" headers=\"Z2S1 Z5S1 Z75S1 Z3S2 Z4S4\" style=\"white-space: nowrap\">82</td></tr><tr><th class=\"schemaBorderColorLevel3 schemaBgColorLevel1 etvorspalte\" id=\"Z76S1\"><input name=\"option$$$006TODESURS70\" title=\"Anzeigen von Informationen zu Merkmalsausprägung mit dem Namen 'TODESURS70'\" type=\"submit\" value=\"Sonst. ungenau bezeichnete u. unbek. Todesursachen\"/></th><td class=\"schemaBorderColorLevel3 etzelle\" headers=\"Z2S1 Z5S1 Z76S1 Z3S2 Z4S2\" style=\"white-space: nowrap\">20 927</td><td class=\"schemaBorderColorLevel3 etzelle\" headers=\"Z2S1 Z5S1 Z76S1 Z3S2 Z4S3\" style=\"white-space: nowrap\">12 891</td><td class=\"schemaBorderColorLevel3 etzelle\" headers=\"Z2S1 Z5S1 Z76S1 Z3S2 Z4S4\" style=\"white-space: nowrap\">33 818</td></tr><tr><th class=\"schemaBorderColorLevel3 schemaBgColorLevel1 etvorspalte\" id=\"Z77S1\">Äußere Ursachen von Morbidität und Mortalität</th><td class=\"schemaBorderColorLevel3 etzelle\" headers=\"Z2S1 Z5S1 Z77S1 Z3S2 Z4S2\" style=\"white-space: nowrap\">25 394</td><td class=\"schemaBorderColorLevel3 etzelle\" headers=\"Z2S1 Z5S1 Z77S1 Z3S2 Z4S3\" style=\"white-space: nowrap\">17 806</td><td class=\"schemaBorderColorLevel3 etzelle\" headers=\"Z2S1 Z5S1 Z77S1 Z3S2 Z4S4\" style=\"white-space: nowrap\">43 200</td></tr><tr><th class=\"schemaBorderColorLevel3 schemaBgColorLevel1 etvorspalte\" id=\"Z78S1\">Unfälle einschließlich Spätfolgen</th><td class=\"schemaBorderColorLevel3 etzelle\" headers=\"Z2S1 Z5S1 Z78S1 Z3S2 Z4S2\" style=\"white-space: nowrap\">17 189</td><td class=\"schemaBorderColorLevel3 etzelle\" headers=\"Z2S1 Z5S1 Z78S1 Z3S2 Z4S3\" style=\"white-space: nowrap\">14 403</td><td class=\"schemaBorderColorLevel3 etzelle\" headers=\"Z2S1 Z5S1 Z78S1 Z3S2 Z4S4\" style=\"white-space: nowrap\">31 592</td></tr><tr><th class=\"schemaBorderColorLevel3 schemaBgColorLevel1 etvorspalte\" id=\"Z79S1\">Transportmittelunfälle</th><td class=\"schemaBorderColorLevel3 etzelle\" headers=\"Z2S1 Z5S1 Z79S1 Z3S2 Z4S2\" style=\"white-space: nowrap\">2 269</td><td class=\"schemaBorderColorLevel3 etzelle\" headers=\"Z2S1 Z5S1 Z79S1 Z3S2 Z4S3\" style=\"white-space: nowrap\">639</td><td class=\"schemaBorderColorLevel3 etzelle\" headers=\"Z2S1 Z5S1 Z79S1 Z3S2 Z4S4\" style=\"white-space: nowrap\">2 908</td></tr><tr><th class=\"schemaBorderColorLevel3 schemaBgColorLevel1 etvorspalte\" id=\"Z80S1\">Stürze</th><td class=\"schemaBorderColorLevel3 etzelle\" headers=\"Z2S1 Z5S1 Z80S1 Z3S2 Z4S2\" style=\"white-space: nowrap\">9 020</td><td class=\"schemaBorderColorLevel3 etzelle\" headers=\"Z2S1 Z5S1 Z80S1 Z3S2 Z4S3\" style=\"white-space: nowrap\">9 163</td><td class=\"schemaBorderColorLevel3 etzelle\" headers=\"Z2S1 Z5S1 Z80S1 Z3S2 Z4S4\" style=\"white-space: nowrap\">18 183</td></tr><tr><th class=\"schemaBorderColorLevel3 schemaBgColorLevel1 etvorspalte\" id=\"Z81S1\">Ertrinken und Untergehen</th><td class=\"schemaBorderColorLevel3 etzelle\" headers=\"Z2S1 Z5S1 Z81S1 Z3S2 Z4S2\" style=\"white-space: nowrap\">281</td><td class=\"schemaBorderColorLevel3 etzelle\" headers=\"Z2S1 Z5S1 Z81S1 Z3S2 Z4S3\" style=\"white-space: nowrap\">111</td><td class=\"schemaBorderColorLevel3 etzelle\" headers=\"Z2S1 Z5S1 Z81S1 Z3S2 Z4S4\" style=\"white-space: nowrap\">392</td></tr><tr><th class=\"schemaBorderColorLevel3 schemaBgColorLevel1 etvorspalte\" id=\"Z82S1\">Exposition gegenüber Rauch, Feuer und Flammen</th><td class=\"schemaBorderColorLevel3 etzelle\" headers=\"Z2S1 Z5S1 Z82S1 Z3S2 Z4S2\" style=\"white-space: nowrap\">182</td><td class=\"schemaBorderColorLevel3 etzelle\" headers=\"Z2S1 Z5S1 Z82S1 Z3S2 Z4S3\" style=\"white-space: nowrap\">139</td><td class=\"schemaBorderColorLevel3 etzelle\" headers=\"Z2S1 Z5S1 Z82S1 Z3S2 Z4S4\" style=\"white-space: nowrap\">321</td></tr><tr><th class=\"schemaBorderColorLevel3 schemaBgColorLevel1 etvorspalte\" id=\"Z83S1\"><input name=\"option$$$006TODESURS77\" title=\"Anzeigen von Informationen zu Merkmalsausprägung mit dem Namen 'TODESURS77'\" type=\"submit\" value=\"Akzid. Vergiftung: schädl. Substanzen (inkl. Exp.)\"/></th><td class=\"schemaBorderColorLevel3 etzelle\" headers=\"Z2S1 Z5S1 Z83S1 Z3S2 Z4S2\" style=\"white-space: nowrap\">917</td><td class=\"schemaBorderColorLevel3 etzelle\" headers=\"Z2S1 Z5S1 Z83S1 Z3S2 Z4S3\" style=\"white-space: nowrap\">330</td><td class=\"schemaBorderColorLevel3 etzelle\" headers=\"Z2S1 Z5S1 Z83S1 Z3S2 Z4S4\" style=\"white-space: nowrap\">1 247</td></tr><tr><th class=\"schemaBorderColorLevel3 schemaBgColorLevel1 etvorspalte\" id=\"Z84S1\">Vorsätzliche Selbstbeschädigung</th><td class=\"schemaBorderColorLevel3 etzelle\" headers=\"Z2S1 Z5S1 Z84S1 Z3S2 Z4S2\" style=\"white-space: nowrap\">6 805</td><td class=\"schemaBorderColorLevel3 etzelle\" headers=\"Z2S1 Z5S1 Z84S1 Z3S2 Z4S3\" style=\"white-space: nowrap\">2 410</td><td class=\"schemaBorderColorLevel3 etzelle\" headers=\"Z2S1 Z5S1 Z84S1 Z3S2 Z4S4\" style=\"white-space: nowrap\">9 215</td></tr><tr><th class=\"schemaBorderColorLevel3 schemaBgColorLevel1 etvorspalte\" id=\"Z85S1\">Tätlicher Angriff</th><td class=\"schemaBorderColorLevel3 etzelle\" headers=\"Z2S1 Z5S1 Z85S1 Z3S2 Z4S2\" style=\"white-space: nowrap\">150</td><td class=\"schemaBorderColorLevel3 etzelle\" headers=\"Z2S1 Z5S1 Z85S1 Z3S2 Z4S3\" style=\"white-space: nowrap\">164</td><td class=\"schemaBorderColorLevel3 etzelle\" headers=\"Z2S1 Z5S1 Z85S1 Z3S2 Z4S4\" style=\"white-space: nowrap\">314</td></tr><tr><th class=\"schemaBorderColorLevel3 schemaBgColorLevel1 etvorspalte\" id=\"Z86S1\">Ereignis, dessen nähere Umstände unbestimmt sind</th><td class=\"schemaBorderColorLevel3 etzelle\" headers=\"Z2S1 Z5S1 Z86S1 Z3S2 Z4S2\" style=\"white-space: nowrap\">1 102</td><td class=\"schemaBorderColorLevel3 etzelle\" headers=\"Z2S1 Z5S1 Z86S1 Z3S2 Z4S3\" style=\"white-space: nowrap\">699</td><td class=\"schemaBorderColorLevel3 etzelle\" headers=\"Z2S1 Z5S1 Z86S1 Z3S2 Z4S4\" style=\"white-space: nowrap\">1 801</td></tr><tr><th class=\"schemaBorderColorLevel3 schemaBgColorLevel1 etvorspalte\" id=\"Z87S1\">Insgesamt</th><td class=\"schemaBorderColorLevel3 etzelle\" headers=\"Z2S1 Z5S1 Z87S1 Z3S2 Z4S2\" style=\"white-space: nowrap\">515 559</td><td class=\"schemaBorderColorLevel3 etzelle\" headers=\"Z2S1 Z5S1 Z87S1 Z3S2 Z4S3\" style=\"white-space: nowrap\">508 128</td><td class=\"schemaBorderColorLevel3 etzelle\" headers=\"Z2S1 Z5S1 Z87S1 Z3S2 Z4S4\" style=\"white-space: nowrap\">1 023 687</td></tr></tbody></table>"
      ]
     },
     "execution_count": 166,
     "metadata": {},
     "output_type": "execute_result"
    }
   ],
   "source": [
    "table = html.find('table', attrs={'id':'ET'})\n",
    "table"
   ]
  },
  {
   "cell_type": "code",
   "execution_count": 167,
   "metadata": {},
   "outputs": [
    {
     "name": "stdout",
     "output_type": "stream",
     "text": [
      "ID: Z2S1\n",
      "Judul kolom: Deutschland (Anzahl)\n",
      "ID: Z3S1\n",
      "Judul kolom: Todesursachen\n",
      "ID: Z4S2\n",
      "Judul kolom: männlich\n",
      "ID: Z4S3\n",
      "Judul kolom: weiblich\n",
      "ID: Z4S4\n",
      "Judul kolom: Insgesamt\n"
     ]
    }
   ],
   "source": [
    "#list_id_th = ['Z2S1','Z3S1','Z3S2','Z4S2','Z4S3','Z4S4']\n",
    "if table:\n",
    "    # Cari semua elemen <th> dalam tabel\n",
    "    semua_judul_kolom = table.find_all('th')\n",
    "\n",
    "    # List ID elemen <th> yang diinginkan (123, 456, 789, 111, 222)\n",
    "    list_id_th = ['Z2S1','Z3S1','Z4S2','Z4S3','Z4S4']\n",
    "\n",
    "    # Filter elemen <th> yang memiliki ID sesuai dengan list_id_th\n",
    "    hasil_scrapping = [judul_kolom for judul_kolom in semua_judul_kolom if judul_kolom.get('id') in list_id_th]\n",
    "\n",
    "    # Lakukan sesuatu dengan setiap elemen <th> yang ditemukan\n",
    "    for judul_kolom in hasil_scrapping:\n",
    "        print(\"ID:\", judul_kolom['id'])\n",
    "        print(\"Judul kolom:\", judul_kolom.text)\n",
    "else:\n",
    "    print(\"Tabel dengan ID 'ET' tidak ditemukan.\")"
   ]
  },
  {
   "cell_type": "code",
   "execution_count": 168,
   "metadata": {},
   "outputs": [
    {
     "data": {
      "text/plain": [
       "['Deutschland\\xa0(Anzahl)',\n",
       " 'Todesursachen',\n",
       " 'männlich',\n",
       " 'weiblich',\n",
       " 'Insgesamt']"
      ]
     },
     "execution_count": 168,
     "metadata": {},
     "output_type": "execute_result"
    }
   ],
   "source": [
    "columns_n = [col.text for col in hasil_scrapping]\n",
    "columns_n"
   ]
  },
  {
   "cell_type": "code",
   "execution_count": 169,
   "metadata": {},
   "outputs": [
    {
     "data": {
      "text/plain": [
       "['Deutschland(Anzahl)', 'Todesursachen', 'männlich', 'weiblich', 'Insgesamt']"
      ]
     },
     "execution_count": 169,
     "metadata": {},
     "output_type": "execute_result"
    }
   ],
   "source": [
    "columns = [re.sub('\\xa0','',col) for col in columns_n]\n",
    "columns"
   ]
  },
  {
   "cell_type": "code",
   "execution_count": 170,
   "metadata": {},
   "outputs": [
    {
     "name": "stdout",
     "output_type": "stream",
     "text": [
      "Deutschland(Anzahl) ['Todesursachen', 'männlich', 'weiblich', 'Insgesamt']\n"
     ]
    }
   ],
   "source": [
    "title = columns.pop(0)\n",
    "print(title, columns)"
   ]
  },
  {
   "cell_type": "code",
   "execution_count": 171,
   "metadata": {},
   "outputs": [
    {
     "data": {
      "text/plain": [
       "[<tbody><tr><th class=\"schemaBorderColorLevel3 etuntertitel\" colspan=\"4\" id=\"Z5S1\">2021</th></tr><tr><th class=\"schemaBorderColorLevel3 schemaBgColorLevel1 etvorspalte\" id=\"Z6S1\">Bestimmte infektiöse und parasitäre Krankheiten</th><td class=\"schemaBorderColorLevel3 etzelle\" headers=\"Z2S1 Z5S1 Z6S1 Z3S2 Z4S2\" style=\"white-space: nowrap\">7 355</td><td class=\"schemaBorderColorLevel3 etzelle\" headers=\"Z2S1 Z5S1 Z6S1 Z3S2 Z4S3\" style=\"white-space: nowrap\">7 515</td><td class=\"schemaBorderColorLevel3 etzelle\" headers=\"Z2S1 Z5S1 Z6S1 Z3S2 Z4S4\" style=\"white-space: nowrap\">14 870</td></tr><tr><th class=\"schemaBorderColorLevel3 schemaBgColorLevel1 etvorspalte\" id=\"Z7S1\">Tuberkulose einschließlich ihrer Folgezustände</th><td class=\"schemaBorderColorLevel3 etzelle\" headers=\"Z2S1 Z5S1 Z7S1 Z3S2 Z4S2\" style=\"white-space: nowrap\">161</td><td class=\"schemaBorderColorLevel3 etzelle\" headers=\"Z2S1 Z5S1 Z7S1 Z3S2 Z4S3\" style=\"white-space: nowrap\">106</td><td class=\"schemaBorderColorLevel3 etzelle\" headers=\"Z2S1 Z5S1 Z7S1 Z3S2 Z4S4\" style=\"white-space: nowrap\">267</td></tr><tr><th class=\"schemaBorderColorLevel3 schemaBgColorLevel1 etvorspalte\" id=\"Z8S1\">Meningokokkeninfektion</th><td class=\"schemaBorderColorLevel3 etzelle\" headers=\"Z2S1 Z5S1 Z8S1 Z3S2 Z4S2\" style=\"white-space: nowrap\">8</td><td class=\"schemaBorderColorLevel3 etzelle\" headers=\"Z2S1 Z5S1 Z8S1 Z3S2 Z4S3\" style=\"white-space: nowrap\">7</td><td class=\"schemaBorderColorLevel3 etzelle\" headers=\"Z2S1 Z5S1 Z8S1 Z3S2 Z4S4\" style=\"white-space: nowrap\">15</td></tr><tr><th class=\"schemaBorderColorLevel3 schemaBgColorLevel1 etvorspalte\" id=\"Z9S1\">Virushepatitis</th><td class=\"schemaBorderColorLevel3 etzelle\" headers=\"Z2S1 Z5S1 Z9S1 Z3S2 Z4S2\" style=\"white-space: nowrap\">307</td><td class=\"schemaBorderColorLevel3 etzelle\" headers=\"Z2S1 Z5S1 Z9S1 Z3S2 Z4S3\" style=\"white-space: nowrap\">204</td><td class=\"schemaBorderColorLevel3 etzelle\" headers=\"Z2S1 Z5S1 Z9S1 Z3S2 Z4S4\" style=\"white-space: nowrap\">511</td></tr><tr><th class=\"schemaBorderColorLevel3 schemaBgColorLevel1 etvorspalte\" id=\"Z10S1\">HIV-Krankheit</th><td class=\"schemaBorderColorLevel3 etzelle\" headers=\"Z2S1 Z5S1 Z10S1 Z3S2 Z4S2\" style=\"white-space: nowrap\">176</td><td class=\"schemaBorderColorLevel3 etzelle\" headers=\"Z2S1 Z5S1 Z10S1 Z3S2 Z4S3\" style=\"white-space: nowrap\">42</td><td class=\"schemaBorderColorLevel3 etzelle\" headers=\"Z2S1 Z5S1 Z10S1 Z3S2 Z4S4\" style=\"white-space: nowrap\">218</td></tr><tr><th class=\"schemaBorderColorLevel3 schemaBgColorLevel1 etvorspalte\" id=\"Z11S1\">Neubildungen</th><td class=\"schemaBorderColorLevel3 etzelle\" headers=\"Z2S1 Z5S1 Z11S1 Z3S2 Z4S2\" style=\"white-space: nowrap\">127 968</td><td class=\"schemaBorderColorLevel3 etzelle\" headers=\"Z2S1 Z5S1 Z11S1 Z3S2 Z4S3\" style=\"white-space: nowrap\">109 192</td><td class=\"schemaBorderColorLevel3 etzelle\" headers=\"Z2S1 Z5S1 Z11S1 Z3S2 Z4S4\" style=\"white-space: nowrap\">237 160</td></tr><tr><th class=\"schemaBorderColorLevel3 schemaBgColorLevel1 etvorspalte\" id=\"Z12S1\">Bösartige Neubildungen (BN)</th><td class=\"schemaBorderColorLevel3 etzelle\" headers=\"Z2S1 Z5S1 Z12S1 Z3S2 Z4S2\" style=\"white-space: nowrap\">124 006</td><td class=\"schemaBorderColorLevel3 etzelle\" headers=\"Z2S1 Z5S1 Z12S1 Z3S2 Z4S3\" style=\"white-space: nowrap\">105 062</td><td class=\"schemaBorderColorLevel3 etzelle\" headers=\"Z2S1 Z5S1 Z12S1 Z3S2 Z4S4\" style=\"white-space: nowrap\">229 068</td></tr><tr><th class=\"schemaBorderColorLevel3 schemaBgColorLevel1 etvorspalte\" id=\"Z13S1\"><input name=\"option$$$006TODESURS09\" title=\"Anzeigen von Informationen zu Merkmalsausprägung mit dem Namen 'TODESURS09'\" type=\"submit\" value=\"BN der Lippe, der Mundhöhle und des Pharynx\"/></th><td class=\"schemaBorderColorLevel3 etzelle\" headers=\"Z2S1 Z5S1 Z13S1 Z3S2 Z4S2\" style=\"white-space: nowrap\">3 796</td><td class=\"schemaBorderColorLevel3 etzelle\" headers=\"Z2S1 Z5S1 Z13S1 Z3S2 Z4S3\" style=\"white-space: nowrap\">1 421</td><td class=\"schemaBorderColorLevel3 etzelle\" headers=\"Z2S1 Z5S1 Z13S1 Z3S2 Z4S4\" style=\"white-space: nowrap\">5 217</td></tr><tr><th class=\"schemaBorderColorLevel3 schemaBgColorLevel1 etvorspalte\" id=\"Z14S1\"><input name=\"option$$$006TODESURS10\" title=\"Anzeigen von Informationen zu Merkmalsausprägung mit dem Namen 'TODESURS10'\" type=\"submit\" value=\"BN des Ösophagus\"/></th><td class=\"schemaBorderColorLevel3 etzelle\" headers=\"Z2S1 Z5S1 Z14S1 Z3S2 Z4S2\" style=\"white-space: nowrap\">4 444</td><td class=\"schemaBorderColorLevel3 etzelle\" headers=\"Z2S1 Z5S1 Z14S1 Z3S2 Z4S3\" style=\"white-space: nowrap\">1 368</td><td class=\"schemaBorderColorLevel3 etzelle\" headers=\"Z2S1 Z5S1 Z14S1 Z3S2 Z4S4\" style=\"white-space: nowrap\">5 812</td></tr><tr><th class=\"schemaBorderColorLevel3 schemaBgColorLevel1 etvorspalte\" id=\"Z15S1\"><input name=\"option$$$006TODESURS11\" title=\"Anzeigen von Informationen zu Merkmalsausprägung mit dem Namen 'TODESURS11'\" type=\"submit\" value=\"BN des Magens\"/></th><td class=\"schemaBorderColorLevel3 etzelle\" headers=\"Z2S1 Z5S1 Z15S1 Z3S2 Z4S2\" style=\"white-space: nowrap\">4 976</td><td class=\"schemaBorderColorLevel3 etzelle\" headers=\"Z2S1 Z5S1 Z15S1 Z3S2 Z4S3\" style=\"white-space: nowrap\">3 320</td><td class=\"schemaBorderColorLevel3 etzelle\" headers=\"Z2S1 Z5S1 Z15S1 Z3S2 Z4S4\" style=\"white-space: nowrap\">8 296</td></tr><tr><th class=\"schemaBorderColorLevel3 schemaBgColorLevel1 etvorspalte\" id=\"Z16S1\"><input name=\"option$$$006TODESURS12\" title=\"Anzeigen von Informationen zu Merkmalsausprägung mit dem Namen 'TODESURS12'\" type=\"submit\" value=\"BN des Dickdarms\"/></th><td class=\"schemaBorderColorLevel3 etzelle\" headers=\"Z2S1 Z5S1 Z16S1 Z3S2 Z4S2\" style=\"white-space: nowrap\">7 820</td><td class=\"schemaBorderColorLevel3 etzelle\" headers=\"Z2S1 Z5S1 Z16S1 Z3S2 Z4S3\" style=\"white-space: nowrap\">7 252</td><td class=\"schemaBorderColorLevel3 etzelle\" headers=\"Z2S1 Z5S1 Z16S1 Z3S2 Z4S4\" style=\"white-space: nowrap\">15 072</td></tr><tr><th class=\"schemaBorderColorLevel3 schemaBgColorLevel1 etvorspalte\" id=\"Z17S1\"><input name=\"option$$$006TODESURS13\" title=\"Anzeigen von Informationen zu Merkmalsausprägung mit dem Namen 'TODESURS13'\" type=\"submit\" value=\"BN des Rektums, des Anus und am Rektosigmoid\"/></th><td class=\"schemaBorderColorLevel3 etzelle\" headers=\"Z2S1 Z5S1 Z17S1 Z3S2 Z4S2\" style=\"white-space: nowrap\">4 744</td><td class=\"schemaBorderColorLevel3 etzelle\" headers=\"Z2S1 Z5S1 Z17S1 Z3S2 Z4S3\" style=\"white-space: nowrap\">3 049</td><td class=\"schemaBorderColorLevel3 etzelle\" headers=\"Z2S1 Z5S1 Z17S1 Z3S2 Z4S4\" style=\"white-space: nowrap\">7 793</td></tr><tr><th class=\"schemaBorderColorLevel3 schemaBgColorLevel1 etvorspalte\" id=\"Z18S1\"><input name=\"option$$$006TODESURS14\" title=\"Anzeigen von Informationen zu Merkmalsausprägung mit dem Namen 'TODESURS14'\" type=\"submit\" value=\"BN der Leber, der Gallenwege und des Pankreas\"/></th><td class=\"schemaBorderColorLevel3 etzelle\" headers=\"Z2S1 Z5S1 Z18S1 Z3S2 Z4S2\" style=\"white-space: nowrap\">16 708</td><td class=\"schemaBorderColorLevel3 etzelle\" headers=\"Z2S1 Z5S1 Z18S1 Z3S2 Z4S3\" style=\"white-space: nowrap\">14 286</td><td class=\"schemaBorderColorLevel3 etzelle\" headers=\"Z2S1 Z5S1 Z18S1 Z3S2 Z4S4\" style=\"white-space: nowrap\">30 994</td></tr><tr><th class=\"schemaBorderColorLevel3 schemaBgColorLevel1 etvorspalte\" id=\"Z19S1\"><input name=\"option$$$006TODESURS15\" title=\"Anzeigen von Informationen zu Merkmalsausprägung mit dem Namen 'TODESURS15'\" type=\"submit\" value=\"BN der Leber und der intrahepatischen Gallengänge\"/></th><td class=\"schemaBorderColorLevel3 etzelle\" headers=\"Z2S1 Z5S1 Z19S1 Z3S2 Z4S2\" style=\"white-space: nowrap\">5 455</td><td class=\"schemaBorderColorLevel3 etzelle\" headers=\"Z2S1 Z5S1 Z19S1 Z3S2 Z4S3\" style=\"white-space: nowrap\">2 692</td><td class=\"schemaBorderColorLevel3 etzelle\" headers=\"Z2S1 Z5S1 Z19S1 Z3S2 Z4S4\" style=\"white-space: nowrap\">8 147</td></tr><tr><th class=\"schemaBorderColorLevel3 schemaBgColorLevel1 etvorspalte\" id=\"Z20S1\"><input name=\"option$$$006TODESURS16\" title=\"Anzeigen von Informationen zu Merkmalsausprägung mit dem Namen 'TODESURS16'\" type=\"submit\" value=\"BN des Pankreas\"/></th><td class=\"schemaBorderColorLevel3 etzelle\" headers=\"Z2S1 Z5S1 Z20S1 Z3S2 Z4S2\" style=\"white-space: nowrap\">9 570</td><td class=\"schemaBorderColorLevel3 etzelle\" headers=\"Z2S1 Z5S1 Z20S1 Z3S2 Z4S3\" style=\"white-space: nowrap\">9 602</td><td class=\"schemaBorderColorLevel3 etzelle\" headers=\"Z2S1 Z5S1 Z20S1 Z3S2 Z4S4\" style=\"white-space: nowrap\">19 172</td></tr><tr><th class=\"schemaBorderColorLevel3 schemaBgColorLevel1 etvorspalte\" id=\"Z21S1\"><input name=\"option$$$006TODESURS17\" title=\"Anzeigen von Informationen zu Merkmalsausprägung mit dem Namen 'TODESURS17'\" type=\"submit\" value=\"BN d. Larynx, d. Trachea, d. Bronchien u. d. Lunge\"/></th><td class=\"schemaBorderColorLevel3 etzelle\" headers=\"Z2S1 Z5S1 Z21S1 Z3S2 Z4S2\" style=\"white-space: nowrap\">28 332</td><td class=\"schemaBorderColorLevel3 etzelle\" headers=\"Z2S1 Z5S1 Z21S1 Z3S2 Z4S3\" style=\"white-space: nowrap\">17 608</td><td class=\"schemaBorderColorLevel3 etzelle\" headers=\"Z2S1 Z5S1 Z21S1 Z3S2 Z4S4\" style=\"white-space: nowrap\">45 940</td></tr><tr><th class=\"schemaBorderColorLevel3 schemaBgColorLevel1 etvorspalte\" id=\"Z22S1\"><input name=\"option$$$006TODESURS18\" title=\"Anzeigen von Informationen zu Merkmalsausprägung mit dem Namen 'TODESURS18'\" type=\"submit\" value=\"BN der Bronchien und der Lunge\"/></th><td class=\"schemaBorderColorLevel3 etzelle\" headers=\"Z2S1 Z5S1 Z22S1 Z3S2 Z4S2\" style=\"white-space: nowrap\">27 200</td><td class=\"schemaBorderColorLevel3 etzelle\" headers=\"Z2S1 Z5S1 Z22S1 Z3S2 Z4S3\" style=\"white-space: nowrap\">17 401</td><td class=\"schemaBorderColorLevel3 etzelle\" headers=\"Z2S1 Z5S1 Z22S1 Z3S2 Z4S4\" style=\"white-space: nowrap\">44 601</td></tr><tr><th class=\"schemaBorderColorLevel3 schemaBgColorLevel1 etvorspalte\" id=\"Z23S1\"><input name=\"option$$$006TODESURS19\" title=\"Anzeigen von Informationen zu Merkmalsausprägung mit dem Namen 'TODESURS19'\" type=\"submit\" value=\"Melanom und sonstige bösartige Neubild. der Haut\"/></th><td class=\"schemaBorderColorLevel3 etzelle\" headers=\"Z2S1 Z5S1 Z23S1 Z3S2 Z4S2\" style=\"white-space: nowrap\">2 406</td><td class=\"schemaBorderColorLevel3 etzelle\" headers=\"Z2S1 Z5S1 Z23S1 Z3S2 Z4S3\" style=\"white-space: nowrap\">1 700</td><td class=\"schemaBorderColorLevel3 etzelle\" headers=\"Z2S1 Z5S1 Z23S1 Z3S2 Z4S4\" style=\"white-space: nowrap\">4 106</td></tr><tr><th class=\"schemaBorderColorLevel3 schemaBgColorLevel1 etvorspalte\" id=\"Z24S1\">Bösartiges Melanom der Haut</th><td class=\"schemaBorderColorLevel3 etzelle\" headers=\"Z2S1 Z5S1 Z24S1 Z3S2 Z4S2\" style=\"white-space: nowrap\">1 692</td><td class=\"schemaBorderColorLevel3 etzelle\" headers=\"Z2S1 Z5S1 Z24S1 Z3S2 Z4S3\" style=\"white-space: nowrap\">1 236</td><td class=\"schemaBorderColorLevel3 etzelle\" headers=\"Z2S1 Z5S1 Z24S1 Z3S2 Z4S4\" style=\"white-space: nowrap\">2 928</td></tr><tr><th class=\"schemaBorderColorLevel3 schemaBgColorLevel1 etvorspalte\" id=\"Z25S1\"><input name=\"option$$$006TODESURS21\" title=\"Anzeigen von Informationen zu Merkmalsausprägung mit dem Namen 'TODESURS21'\" type=\"submit\" value=\"BN der Brustdrüse\"/></th><td class=\"schemaBorderColorLevel3 etzelle\" headers=\"Z2S1 Z5S1 Z25S1 Z3S2 Z4S2\" style=\"white-space: nowrap\">157</td><td class=\"schemaBorderColorLevel3 etzelle\" headers=\"Z2S1 Z5S1 Z25S1 Z3S2 Z4S3\" style=\"white-space: nowrap\">18 479</td><td class=\"schemaBorderColorLevel3 etzelle\" headers=\"Z2S1 Z5S1 Z25S1 Z3S2 Z4S4\" style=\"white-space: nowrap\">18 636</td></tr><tr><th class=\"schemaBorderColorLevel3 schemaBgColorLevel1 etvorspalte\" id=\"Z26S1\"><input name=\"option$$$006TODESURS22\" title=\"Anzeigen von Informationen zu Merkmalsausprägung mit dem Namen 'TODESURS22'\" type=\"submit\" value=\"BN der Genital- und Harnorgane\"/></th><td class=\"schemaBorderColorLevel3 etzelle\" headers=\"Z2S1 Z5S1 Z26S1 Z3S2 Z4S2\" style=\"white-space: nowrap\">25 989</td><td class=\"schemaBorderColorLevel3 etzelle\" headers=\"Z2S1 Z5S1 Z26S1 Z3S2 Z4S3\" style=\"white-space: nowrap\">16 181</td><td class=\"schemaBorderColorLevel3 etzelle\" headers=\"Z2S1 Z5S1 Z26S1 Z3S2 Z4S4\" style=\"white-space: nowrap\">42 170</td></tr><tr><th class=\"schemaBorderColorLevel3 schemaBgColorLevel1 etvorspalte\" id=\"Z27S1\"><input name=\"option$$$006TODESURS23\" title=\"Anzeigen von Informationen zu Merkmalsausprägung mit dem Namen 'TODESURS23'\" type=\"submit\" value=\"BN der Cervix uteri\"/></th><td class=\"schemaBorderColorLevel3 etzelle\" headers=\"Z2S1 Z5S1 Z27S1 Z3S2 Z4S2\" style=\"white-space: nowrap\"><abbr title=\"nichts vorhanden\">-</abbr></td><td class=\"schemaBorderColorLevel3 etzelle\" headers=\"Z2S1 Z5S1 Z27S1 Z3S2 Z4S3\" style=\"white-space: nowrap\">1 535</td><td class=\"schemaBorderColorLevel3 etzelle\" headers=\"Z2S1 Z5S1 Z27S1 Z3S2 Z4S4\" style=\"white-space: nowrap\">1 535</td></tr><tr><th class=\"schemaBorderColorLevel3 schemaBgColorLevel1 etvorspalte\" id=\"Z28S1\"><input name=\"option$$$006TODESURS24\" title=\"Anzeigen von Informationen zu Merkmalsausprägung mit dem Namen 'TODESURS24'\" type=\"submit\" value=\"BN des Corpus uteri u. Uterus, Teil n.n. bezeichn.\"/></th><td class=\"schemaBorderColorLevel3 etzelle\" headers=\"Z2S1 Z5S1 Z28S1 Z3S2 Z4S2\" style=\"white-space: nowrap\"><abbr title=\"nichts vorhanden\">-</abbr></td><td class=\"schemaBorderColorLevel3 etzelle\" headers=\"Z2S1 Z5S1 Z28S1 Z3S2 Z4S3\" style=\"white-space: nowrap\">2 634</td><td class=\"schemaBorderColorLevel3 etzelle\" headers=\"Z2S1 Z5S1 Z28S1 Z3S2 Z4S4\" style=\"white-space: nowrap\">2 634</td></tr><tr><th class=\"schemaBorderColorLevel3 schemaBgColorLevel1 etvorspalte\" id=\"Z29S1\"><input name=\"option$$$006TODESURS25\" title=\"Anzeigen von Informationen zu Merkmalsausprägung mit dem Namen 'TODESURS25'\" type=\"submit\" value=\"BN des Ovars\"/></th><td class=\"schemaBorderColorLevel3 etzelle\" headers=\"Z2S1 Z5S1 Z29S1 Z3S2 Z4S2\" style=\"white-space: nowrap\"><abbr title=\"nichts vorhanden\">-</abbr></td><td class=\"schemaBorderColorLevel3 etzelle\" headers=\"Z2S1 Z5S1 Z29S1 Z3S2 Z4S3\" style=\"white-space: nowrap\">5 379</td><td class=\"schemaBorderColorLevel3 etzelle\" headers=\"Z2S1 Z5S1 Z29S1 Z3S2 Z4S4\" style=\"white-space: nowrap\">5 379</td></tr><tr><th class=\"schemaBorderColorLevel3 schemaBgColorLevel1 etvorspalte\" id=\"Z30S1\"><input name=\"option$$$006TODESURS26\" title=\"Anzeigen von Informationen zu Merkmalsausprägung mit dem Namen 'TODESURS26'\" type=\"submit\" value=\"BN der Prostata\"/></th><td class=\"schemaBorderColorLevel3 etzelle\" headers=\"Z2S1 Z5S1 Z30S1 Z3S2 Z4S2\" style=\"white-space: nowrap\">15 379</td><td class=\"schemaBorderColorLevel3 etzelle\" headers=\"Z2S1 Z5S1 Z30S1 Z3S2 Z4S3\" style=\"white-space: nowrap\"><abbr title=\"nichts vorhanden\">-</abbr></td><td class=\"schemaBorderColorLevel3 etzelle\" headers=\"Z2S1 Z5S1 Z30S1 Z3S2 Z4S4\" style=\"white-space: nowrap\">15 379</td></tr><tr><th class=\"schemaBorderColorLevel3 schemaBgColorLevel1 etvorspalte\" id=\"Z31S1\"><input name=\"option$$$006TODESURS27\" title=\"Anzeigen von Informationen zu Merkmalsausprägung mit dem Namen 'TODESURS27'\" type=\"submit\" value=\"BN der Niere, ausgenommen Nierenbecken\"/></th><td class=\"schemaBorderColorLevel3 etzelle\" headers=\"Z2S1 Z5S1 Z31S1 Z3S2 Z4S2\" style=\"white-space: nowrap\">3 070</td><td class=\"schemaBorderColorLevel3 etzelle\" headers=\"Z2S1 Z5S1 Z31S1 Z3S2 Z4S3\" style=\"white-space: nowrap\">1 790</td><td class=\"schemaBorderColorLevel3 etzelle\" headers=\"Z2S1 Z5S1 Z31S1 Z3S2 Z4S4\" style=\"white-space: nowrap\">4 860</td></tr><tr><th class=\"schemaBorderColorLevel3 schemaBgColorLevel1 etvorspalte\" id=\"Z32S1\"><input name=\"option$$$006TODESURS28\" title=\"Anzeigen von Informationen zu Merkmalsausprägung mit dem Namen 'TODESURS28'\" type=\"submit\" value=\"BN der Harnblase\"/></th><td class=\"schemaBorderColorLevel3 etzelle\" headers=\"Z2S1 Z5S1 Z32S1 Z3S2 Z4S2\" style=\"white-space: nowrap\">3 891</td><td class=\"schemaBorderColorLevel3 etzelle\" headers=\"Z2S1 Z5S1 Z32S1 Z3S2 Z4S3\" style=\"white-space: nowrap\">1 852</td><td class=\"schemaBorderColorLevel3 etzelle\" headers=\"Z2S1 Z5S1 Z32S1 Z3S2 Z4S4\" style=\"white-space: nowrap\">5 743</td></tr><tr><th class=\"schemaBorderColorLevel3 schemaBgColorLevel1 etvorspalte\" id=\"Z33S1\"><input name=\"option$$$006TODESURS29\" title=\"Anzeigen von Informationen zu Merkmalsausprägung mit dem Namen 'TODESURS29'\" type=\"submit\" value=\"BN d. lymphat., blutbild. u. verwandten Gewebes\"/></th><td class=\"schemaBorderColorLevel3 etzelle\" headers=\"Z2S1 Z5S1 Z33S1 Z3S2 Z4S2\" style=\"white-space: nowrap\">11 167</td><td class=\"schemaBorderColorLevel3 etzelle\" headers=\"Z2S1 Z5S1 Z33S1 Z3S2 Z4S3\" style=\"white-space: nowrap\">8 725</td><td class=\"schemaBorderColorLevel3 etzelle\" headers=\"Z2S1 Z5S1 Z33S1 Z3S2 Z4S4\" style=\"white-space: nowrap\">19 892</td></tr><tr><th class=\"schemaBorderColorLevel3 schemaBgColorLevel1 etvorspalte\" id=\"Z34S1\">Leukämie</th><td class=\"schemaBorderColorLevel3 etzelle\" headers=\"Z2S1 Z5S1 Z34S1 Z3S2 Z4S2\" style=\"white-space: nowrap\">4 674</td><td class=\"schemaBorderColorLevel3 etzelle\" headers=\"Z2S1 Z5S1 Z34S1 Z3S2 Z4S3\" style=\"white-space: nowrap\">3 530</td><td class=\"schemaBorderColorLevel3 etzelle\" headers=\"Z2S1 Z5S1 Z34S1 Z3S2 Z4S4\" style=\"white-space: nowrap\">8 204</td></tr><tr><th class=\"schemaBorderColorLevel3 schemaBgColorLevel1 etvorspalte\" id=\"Z35S1\">Gutartige Neubildungen</th><td class=\"schemaBorderColorLevel3 etzelle\" headers=\"Z2S1 Z5S1 Z35S1 Z3S2 Z4S2\" style=\"white-space: nowrap\">371</td><td class=\"schemaBorderColorLevel3 etzelle\" headers=\"Z2S1 Z5S1 Z35S1 Z3S2 Z4S3\" style=\"white-space: nowrap\">396</td><td class=\"schemaBorderColorLevel3 etzelle\" headers=\"Z2S1 Z5S1 Z35S1 Z3S2 Z4S4\" style=\"white-space: nowrap\">767</td></tr><tr><th class=\"schemaBorderColorLevel3 schemaBgColorLevel1 etvorspalte\" id=\"Z36S1\"><input name=\"option$$$006TODESURS32\" title=\"Anzeigen von Informationen zu Merkmalsausprägung mit dem Namen 'TODESURS32'\" type=\"submit\" value=\"Krankheiten des Blutes u. der blutbildenden Organe\"/></th><td class=\"schemaBorderColorLevel3 etzelle\" headers=\"Z2S1 Z5S1 Z36S1 Z3S2 Z4S2\" style=\"white-space: nowrap\">2 078</td><td class=\"schemaBorderColorLevel3 etzelle\" headers=\"Z2S1 Z5S1 Z36S1 Z3S2 Z4S3\" style=\"white-space: nowrap\">2 632</td><td class=\"schemaBorderColorLevel3 etzelle\" headers=\"Z2S1 Z5S1 Z36S1 Z3S2 Z4S4\" style=\"white-space: nowrap\">4 710</td></tr><tr><th class=\"schemaBorderColorLevel3 schemaBgColorLevel1 etvorspalte\" id=\"Z37S1\"><input name=\"option$$$006TODESURS33\" title=\"Anzeigen von Informationen zu Merkmalsausprägung mit dem Namen 'TODESURS33'\" type=\"submit\" value=\"Endokrine, Ernährungs- u. Stoffwechselkrankheiten\"/></th><td class=\"schemaBorderColorLevel3 etzelle\" headers=\"Z2S1 Z5S1 Z37S1 Z3S2 Z4S2\" style=\"white-space: nowrap\">17 402</td><td class=\"schemaBorderColorLevel3 etzelle\" headers=\"Z2S1 Z5S1 Z37S1 Z3S2 Z4S3\" style=\"white-space: nowrap\">20 464</td><td class=\"schemaBorderColorLevel3 etzelle\" headers=\"Z2S1 Z5S1 Z37S1 Z3S2 Z4S4\" style=\"white-space: nowrap\">37 866</td></tr><tr><th class=\"schemaBorderColorLevel3 schemaBgColorLevel1 etvorspalte\" id=\"Z38S1\">Diabetes mellitus</th><td class=\"schemaBorderColorLevel3 etzelle\" headers=\"Z2S1 Z5S1 Z38S1 Z3S2 Z4S2\" style=\"white-space: nowrap\">12 428</td><td class=\"schemaBorderColorLevel3 etzelle\" headers=\"Z2S1 Z5S1 Z38S1 Z3S2 Z4S3\" style=\"white-space: nowrap\">13 556</td><td class=\"schemaBorderColorLevel3 etzelle\" headers=\"Z2S1 Z5S1 Z38S1 Z3S2 Z4S4\" style=\"white-space: nowrap\">25 984</td></tr><tr><th class=\"schemaBorderColorLevel3 schemaBgColorLevel1 etvorspalte\" id=\"Z39S1\">Psychische und Verhaltensstörungen</th><td class=\"schemaBorderColorLevel3 etzelle\" headers=\"Z2S1 Z5S1 Z39S1 Z3S2 Z4S2\" style=\"white-space: nowrap\">22 848</td><td class=\"schemaBorderColorLevel3 etzelle\" headers=\"Z2S1 Z5S1 Z39S1 Z3S2 Z4S3\" style=\"white-space: nowrap\">37 142</td><td class=\"schemaBorderColorLevel3 etzelle\" headers=\"Z2S1 Z5S1 Z39S1 Z3S2 Z4S4\" style=\"white-space: nowrap\">59 990</td></tr><tr><th class=\"schemaBorderColorLevel3 schemaBgColorLevel1 etvorspalte\" id=\"Z40S1\">Psychische und Verhaltensstörungen durch Alkohol</th><td class=\"schemaBorderColorLevel3 etzelle\" headers=\"Z2S1 Z5S1 Z40S1 Z3S2 Z4S2\" style=\"white-space: nowrap\">3 842</td><td class=\"schemaBorderColorLevel3 etzelle\" headers=\"Z2S1 Z5S1 Z40S1 Z3S2 Z4S3\" style=\"white-space: nowrap\">1 122</td><td class=\"schemaBorderColorLevel3 etzelle\" headers=\"Z2S1 Z5S1 Z40S1 Z3S2 Z4S4\" style=\"white-space: nowrap\">4 964</td></tr><tr><th class=\"schemaBorderColorLevel3 schemaBgColorLevel1 etvorspalte\" id=\"Z41S1\"><input name=\"option$$$006TODESURS37\" title=\"Anzeigen von Informationen zu Merkmalsausprägung mit dem Namen 'TODESURS37'\" type=\"submit\" value=\"Psych. u. Verhaltensstörungen d.a.psychotr. Subst.\"/></th><td class=\"schemaBorderColorLevel3 etzelle\" headers=\"Z2S1 Z5S1 Z41S1 Z3S2 Z4S2\" style=\"white-space: nowrap\">499</td><td class=\"schemaBorderColorLevel3 etzelle\" headers=\"Z2S1 Z5S1 Z41S1 Z3S2 Z4S3\" style=\"white-space: nowrap\">142</td><td class=\"schemaBorderColorLevel3 etzelle\" headers=\"Z2S1 Z5S1 Z41S1 Z3S2 Z4S4\" style=\"white-space: nowrap\">641</td></tr><tr><th class=\"schemaBorderColorLevel3 schemaBgColorLevel1 etvorspalte\" id=\"Z42S1\"><input name=\"option$$$006TODESURS38\" title=\"Anzeigen von Informationen zu Merkmalsausprägung mit dem Namen 'TODESURS38'\" type=\"submit\" value=\"Krankheiten d. Nervensystems u. d. Sinnesorgane\"/></th><td class=\"schemaBorderColorLevel3 etzelle\" headers=\"Z2S1 Z5S1 Z42S1 Z3S2 Z4S2\" style=\"white-space: nowrap\">17 974</td><td class=\"schemaBorderColorLevel3 etzelle\" headers=\"Z2S1 Z5S1 Z42S1 Z3S2 Z4S3\" style=\"white-space: nowrap\">17 804</td><td class=\"schemaBorderColorLevel3 etzelle\" headers=\"Z2S1 Z5S1 Z42S1 Z3S2 Z4S4\" style=\"white-space: nowrap\">35 778</td></tr><tr><th class=\"schemaBorderColorLevel3 schemaBgColorLevel1 etvorspalte\" id=\"Z43S1\">Meningitis</th><td class=\"schemaBorderColorLevel3 etzelle\" headers=\"Z2S1 Z5S1 Z43S1 Z3S2 Z4S2\" style=\"white-space: nowrap\">54</td><td class=\"schemaBorderColorLevel3 etzelle\" headers=\"Z2S1 Z5S1 Z43S1 Z3S2 Z4S3\" style=\"white-space: nowrap\">47</td><td class=\"schemaBorderColorLevel3 etzelle\" headers=\"Z2S1 Z5S1 Z43S1 Z3S2 Z4S4\" style=\"white-space: nowrap\">101</td></tr><tr><th class=\"schemaBorderColorLevel3 schemaBgColorLevel1 etvorspalte\" id=\"Z44S1\">Krankheiten des Kreislaufsystems</th><td class=\"schemaBorderColorLevel3 etzelle\" headers=\"Z2S1 Z5S1 Z44S1 Z3S2 Z4S2\" style=\"white-space: nowrap\">159 846</td><td class=\"schemaBorderColorLevel3 etzelle\" headers=\"Z2S1 Z5S1 Z44S1 Z3S2 Z4S3\" style=\"white-space: nowrap\">180 773</td><td class=\"schemaBorderColorLevel3 etzelle\" headers=\"Z2S1 Z5S1 Z44S1 Z3S2 Z4S4\" style=\"white-space: nowrap\">340 619</td></tr><tr><th class=\"schemaBorderColorLevel3 schemaBgColorLevel1 etvorspalte\" id=\"Z45S1\">Hypertonie (Hochdruckkrankheit)</th><td class=\"schemaBorderColorLevel3 etzelle\" headers=\"Z2S1 Z5S1 Z45S1 Z3S2 Z4S2\" style=\"white-space: nowrap\">16 529</td><td class=\"schemaBorderColorLevel3 etzelle\" headers=\"Z2S1 Z5S1 Z45S1 Z3S2 Z4S3\" style=\"white-space: nowrap\">32 332</td><td class=\"schemaBorderColorLevel3 etzelle\" headers=\"Z2S1 Z5S1 Z45S1 Z3S2 Z4S4\" style=\"white-space: nowrap\">48 861</td></tr><tr><th class=\"schemaBorderColorLevel3 schemaBgColorLevel1 etvorspalte\" id=\"Z46S1\">Ischämische Herzkrankheiten</th><td class=\"schemaBorderColorLevel3 etzelle\" headers=\"Z2S1 Z5S1 Z46S1 Z3S2 Z4S2\" style=\"white-space: nowrap\">68 900</td><td class=\"schemaBorderColorLevel3 etzelle\" headers=\"Z2S1 Z5S1 Z46S1 Z3S2 Z4S3\" style=\"white-space: nowrap\">52 272</td><td class=\"schemaBorderColorLevel3 etzelle\" headers=\"Z2S1 Z5S1 Z46S1 Z3S2 Z4S4\" style=\"white-space: nowrap\">121 172</td></tr><tr><th class=\"schemaBorderColorLevel3 schemaBgColorLevel1 etvorspalte\" id=\"Z47S1\">Akuter oder rezidivierender Myokardinfarkt</th><td class=\"schemaBorderColorLevel3 etzelle\" headers=\"Z2S1 Z5S1 Z47S1 Z3S2 Z4S2\" style=\"white-space: nowrap\">27 107</td><td class=\"schemaBorderColorLevel3 etzelle\" headers=\"Z2S1 Z5S1 Z47S1 Z3S2 Z4S3\" style=\"white-space: nowrap\">18 074</td><td class=\"schemaBorderColorLevel3 etzelle\" headers=\"Z2S1 Z5S1 Z47S1 Z3S2 Z4S4\" style=\"white-space: nowrap\">45 181</td></tr><tr><th class=\"schemaBorderColorLevel3 schemaBgColorLevel1 etvorspalte\" id=\"Z48S1\">Sonstige Formen der Herzkrankheit</th><td class=\"schemaBorderColorLevel3 etzelle\" headers=\"Z2S1 Z5S1 Z48S1 Z3S2 Z4S2\" style=\"white-space: nowrap\">31 899</td><td class=\"schemaBorderColorLevel3 etzelle\" headers=\"Z2S1 Z5S1 Z48S1 Z3S2 Z4S3\" style=\"white-space: nowrap\">43 114</td><td class=\"schemaBorderColorLevel3 etzelle\" headers=\"Z2S1 Z5S1 Z48S1 Z3S2 Z4S4\" style=\"white-space: nowrap\">75 013</td></tr><tr><th class=\"schemaBorderColorLevel3 schemaBgColorLevel1 etvorspalte\" id=\"Z49S1\">Sonstige Krankheiten des Endokards</th><td class=\"schemaBorderColorLevel3 etzelle\" headers=\"Z2S1 Z5S1 Z49S1 Z3S2 Z4S2\" style=\"white-space: nowrap\">6 560</td><td class=\"schemaBorderColorLevel3 etzelle\" headers=\"Z2S1 Z5S1 Z49S1 Z3S2 Z4S3\" style=\"white-space: nowrap\">8 428</td><td class=\"schemaBorderColorLevel3 etzelle\" headers=\"Z2S1 Z5S1 Z49S1 Z3S2 Z4S4\" style=\"white-space: nowrap\">14 988</td></tr><tr><th class=\"schemaBorderColorLevel3 schemaBgColorLevel1 etvorspalte\" id=\"Z50S1\">Zerebrovaskuläre Krankheiten</th><td class=\"schemaBorderColorLevel3 etzelle\" headers=\"Z2S1 Z5S1 Z50S1 Z3S2 Z4S2\" style=\"white-space: nowrap\">23 487</td><td class=\"schemaBorderColorLevel3 etzelle\" headers=\"Z2S1 Z5S1 Z50S1 Z3S2 Z4S3\" style=\"white-space: nowrap\">29 595</td><td class=\"schemaBorderColorLevel3 etzelle\" headers=\"Z2S1 Z5S1 Z50S1 Z3S2 Z4S4\" style=\"white-space: nowrap\">53 082</td></tr><tr><th class=\"schemaBorderColorLevel3 schemaBgColorLevel1 etvorspalte\" id=\"Z51S1\"><input name=\"option$$$006TODESURS47\" title=\"Anzeigen von Informationen zu Merkmalsausprägung mit dem Namen 'TODESURS47'\" type=\"submit\" value=\"Schlaganfall, nicht als Blutung oder Infarkt bez.\"/></th><td class=\"schemaBorderColorLevel3 etzelle\" headers=\"Z2S1 Z5S1 Z51S1 Z3S2 Z4S2\" style=\"white-space: nowrap\">4 291</td><td class=\"schemaBorderColorLevel3 etzelle\" headers=\"Z2S1 Z5S1 Z51S1 Z3S2 Z4S3\" style=\"white-space: nowrap\">6 338</td><td class=\"schemaBorderColorLevel3 etzelle\" headers=\"Z2S1 Z5S1 Z51S1 Z3S2 Z4S4\" style=\"white-space: nowrap\">10 629</td></tr><tr><th class=\"schemaBorderColorLevel3 schemaBgColorLevel1 etvorspalte\" id=\"Z52S1\">Krankheiten der Arterien, Arteriolen und Kapillare</th><td class=\"schemaBorderColorLevel3 etzelle\" headers=\"Z2S1 Z5S1 Z52S1 Z3S2 Z4S2\" style=\"white-space: nowrap\">6 061</td><td class=\"schemaBorderColorLevel3 etzelle\" headers=\"Z2S1 Z5S1 Z52S1 Z3S2 Z4S3\" style=\"white-space: nowrap\">5 725</td><td class=\"schemaBorderColorLevel3 etzelle\" headers=\"Z2S1 Z5S1 Z52S1 Z3S2 Z4S4\" style=\"white-space: nowrap\">11 786</td></tr><tr><th class=\"schemaBorderColorLevel3 schemaBgColorLevel1 etvorspalte\" id=\"Z53S1\">Krankheiten des Atmungssystems</th><td class=\"schemaBorderColorLevel3 etzelle\" headers=\"Z2S1 Z5S1 Z53S1 Z3S2 Z4S2\" style=\"white-space: nowrap\">31 841</td><td class=\"schemaBorderColorLevel3 etzelle\" headers=\"Z2S1 Z5S1 Z53S1 Z3S2 Z4S3\" style=\"white-space: nowrap\">25 475</td><td class=\"schemaBorderColorLevel3 etzelle\" headers=\"Z2S1 Z5S1 Z53S1 Z3S2 Z4S4\" style=\"white-space: nowrap\">57 316</td></tr><tr><th class=\"schemaBorderColorLevel3 schemaBgColorLevel1 etvorspalte\" id=\"Z54S1\">Grippe</th><td class=\"schemaBorderColorLevel3 etzelle\" headers=\"Z2S1 Z5S1 Z54S1 Z3S2 Z4S2\" style=\"white-space: nowrap\">22</td><td class=\"schemaBorderColorLevel3 etzelle\" headers=\"Z2S1 Z5S1 Z54S1 Z3S2 Z4S3\" style=\"white-space: nowrap\">16</td><td class=\"schemaBorderColorLevel3 etzelle\" headers=\"Z2S1 Z5S1 Z54S1 Z3S2 Z4S4\" style=\"white-space: nowrap\">38</td></tr><tr><th class=\"schemaBorderColorLevel3 schemaBgColorLevel1 etvorspalte\" id=\"Z55S1\">Pneumonie</th><td class=\"schemaBorderColorLevel3 etzelle\" headers=\"Z2S1 Z5S1 Z55S1 Z3S2 Z4S2\" style=\"white-space: nowrap\">7 831</td><td class=\"schemaBorderColorLevel3 etzelle\" headers=\"Z2S1 Z5S1 Z55S1 Z3S2 Z4S3\" style=\"white-space: nowrap\">6 268</td><td class=\"schemaBorderColorLevel3 etzelle\" headers=\"Z2S1 Z5S1 Z55S1 Z3S2 Z4S4\" style=\"white-space: nowrap\">14 099</td></tr><tr><th class=\"schemaBorderColorLevel3 schemaBgColorLevel1 etvorspalte\" id=\"Z56S1\">Chronische Krankheiten der unteren Atemwege</th><td class=\"schemaBorderColorLevel3 etzelle\" headers=\"Z2S1 Z5S1 Z56S1 Z3S2 Z4S2\" style=\"white-space: nowrap\">17 285</td><td class=\"schemaBorderColorLevel3 etzelle\" headers=\"Z2S1 Z5S1 Z56S1 Z3S2 Z4S3\" style=\"white-space: nowrap\">14 724</td><td class=\"schemaBorderColorLevel3 etzelle\" headers=\"Z2S1 Z5S1 Z56S1 Z3S2 Z4S4\" style=\"white-space: nowrap\">32 009</td></tr><tr><th class=\"schemaBorderColorLevel3 schemaBgColorLevel1 etvorspalte\" id=\"Z57S1\">Asthma</th><td class=\"schemaBorderColorLevel3 etzelle\" headers=\"Z2S1 Z5S1 Z57S1 Z3S2 Z4S2\" style=\"white-space: nowrap\">406</td><td class=\"schemaBorderColorLevel3 etzelle\" headers=\"Z2S1 Z5S1 Z57S1 Z3S2 Z4S3\" style=\"white-space: nowrap\">643</td><td class=\"schemaBorderColorLevel3 etzelle\" headers=\"Z2S1 Z5S1 Z57S1 Z3S2 Z4S4\" style=\"white-space: nowrap\">1 049</td></tr><tr><th class=\"schemaBorderColorLevel3 schemaBgColorLevel1 etvorspalte\" id=\"Z58S1\">COVID-19, Virus nachgewiesen</th><td class=\"schemaBorderColorLevel3 etzelle\" headers=\"Z2S1 Z5S1 Z58S1 Z3S2 Z4S2\" style=\"white-space: nowrap\">38 862</td><td class=\"schemaBorderColorLevel3 etzelle\" headers=\"Z2S1 Z5S1 Z58S1 Z3S2 Z4S3\" style=\"white-space: nowrap\">31 897</td><td class=\"schemaBorderColorLevel3 etzelle\" headers=\"Z2S1 Z5S1 Z58S1 Z3S2 Z4S4\" style=\"white-space: nowrap\">70 759</td></tr><tr><th class=\"schemaBorderColorLevel3 schemaBgColorLevel1 etvorspalte\" id=\"Z59S1\">COVID-19, Virus nicht nachgewiesen</th><td class=\"schemaBorderColorLevel3 etzelle\" headers=\"Z2S1 Z5S1 Z59S1 Z3S2 Z4S2\" style=\"white-space: nowrap\">306</td><td class=\"schemaBorderColorLevel3 etzelle\" headers=\"Z2S1 Z5S1 Z59S1 Z3S2 Z4S3\" style=\"white-space: nowrap\">266</td><td class=\"schemaBorderColorLevel3 etzelle\" headers=\"Z2S1 Z5S1 Z59S1 Z3S2 Z4S4\" style=\"white-space: nowrap\">572</td></tr><tr><th class=\"schemaBorderColorLevel3 schemaBgColorLevel1 etvorspalte\" id=\"Z60S1\">Krankheiten des Verdauungssystems</th><td class=\"schemaBorderColorLevel3 etzelle\" headers=\"Z2S1 Z5S1 Z60S1 Z3S2 Z4S2\" style=\"white-space: nowrap\">23 508</td><td class=\"schemaBorderColorLevel3 etzelle\" headers=\"Z2S1 Z5S1 Z60S1 Z3S2 Z4S3\" style=\"white-space: nowrap\">20 209</td><td class=\"schemaBorderColorLevel3 etzelle\" headers=\"Z2S1 Z5S1 Z60S1 Z3S2 Z4S4\" style=\"white-space: nowrap\">43 717</td></tr><tr><th class=\"schemaBorderColorLevel3 schemaBgColorLevel1 etvorspalte\" id=\"Z61S1\"><input name=\"option$$$006TODESURS55\" title=\"Anzeigen von Informationen zu Merkmalsausprägung mit dem Namen 'TODESURS55'\" type=\"submit\" value=\"Ulcus ventriculi, duodeni, pepticum, pept. jejuni\"/></th><td class=\"schemaBorderColorLevel3 etzelle\" headers=\"Z2S1 Z5S1 Z61S1 Z3S2 Z4S2\" style=\"white-space: nowrap\">1 300</td><td class=\"schemaBorderColorLevel3 etzelle\" headers=\"Z2S1 Z5S1 Z61S1 Z3S2 Z4S3\" style=\"white-space: nowrap\">1 345</td><td class=\"schemaBorderColorLevel3 etzelle\" headers=\"Z2S1 Z5S1 Z61S1 Z3S2 Z4S4\" style=\"white-space: nowrap\">2 645</td></tr><tr><th class=\"schemaBorderColorLevel3 schemaBgColorLevel1 etvorspalte\" id=\"Z62S1\">Krankheiten der Leber</th><td class=\"schemaBorderColorLevel3 etzelle\" headers=\"Z2S1 Z5S1 Z62S1 Z3S2 Z4S2\" style=\"white-space: nowrap\">10 987</td><td class=\"schemaBorderColorLevel3 etzelle\" headers=\"Z2S1 Z5S1 Z62S1 Z3S2 Z4S3\" style=\"white-space: nowrap\">5 919</td><td class=\"schemaBorderColorLevel3 etzelle\" headers=\"Z2S1 Z5S1 Z62S1 Z3S2 Z4S4\" style=\"white-space: nowrap\">16 906</td></tr><tr><th class=\"schemaBorderColorLevel3 schemaBgColorLevel1 etvorspalte\" id=\"Z63S1\"><input name=\"option$$$006TODESURS57\" title=\"Anzeigen von Informationen zu Merkmalsausprägung mit dem Namen 'TODESURS57'\" type=\"submit\" value=\"Alkoh.Leberkh.,Chron.Hepatitis,Leberfibr.u.-zirr.\"/></th><td class=\"schemaBorderColorLevel3 etzelle\" headers=\"Z2S1 Z5S1 Z63S1 Z3S2 Z4S2\" style=\"white-space: nowrap\">10 189</td><td class=\"schemaBorderColorLevel3 etzelle\" headers=\"Z2S1 Z5S1 Z63S1 Z3S2 Z4S3\" style=\"white-space: nowrap\">5 062</td><td class=\"schemaBorderColorLevel3 etzelle\" headers=\"Z2S1 Z5S1 Z63S1 Z3S2 Z4S4\" style=\"white-space: nowrap\">15 251</td></tr><tr><th class=\"schemaBorderColorLevel3 schemaBgColorLevel1 etvorspalte\" id=\"Z64S1\">Krankheiten der Haut und der Unterhaut</th><td class=\"schemaBorderColorLevel3 etzelle\" headers=\"Z2S1 Z5S1 Z64S1 Z3S2 Z4S2\" style=\"white-space: nowrap\">710</td><td class=\"schemaBorderColorLevel3 etzelle\" headers=\"Z2S1 Z5S1 Z64S1 Z3S2 Z4S3\" style=\"white-space: nowrap\">1 047</td><td class=\"schemaBorderColorLevel3 etzelle\" headers=\"Z2S1 Z5S1 Z64S1 Z3S2 Z4S4\" style=\"white-space: nowrap\">1 757</td></tr><tr><th class=\"schemaBorderColorLevel3 schemaBgColorLevel1 etvorspalte\" id=\"Z65S1\"><input name=\"option$$$006TODESURS59\" title=\"Anzeigen von Informationen zu Merkmalsausprägung mit dem Namen 'TODESURS59'\" type=\"submit\" value=\"Krankh. des Muskel-Skelett-Systems u. Bindegewebes\"/></th><td class=\"schemaBorderColorLevel3 etzelle\" headers=\"Z2S1 Z5S1 Z65S1 Z3S2 Z4S2\" style=\"white-space: nowrap\">2 307</td><td class=\"schemaBorderColorLevel3 etzelle\" headers=\"Z2S1 Z5S1 Z65S1 Z3S2 Z4S3\" style=\"white-space: nowrap\">3 718</td><td class=\"schemaBorderColorLevel3 etzelle\" headers=\"Z2S1 Z5S1 Z65S1 Z3S2 Z4S4\" style=\"white-space: nowrap\">6 025</td></tr><tr><th class=\"schemaBorderColorLevel3 schemaBgColorLevel1 etvorspalte\" id=\"Z66S1\">Chronische Polyarthritis und Arthrose</th><td class=\"schemaBorderColorLevel3 etzelle\" headers=\"Z2S1 Z5S1 Z66S1 Z3S2 Z4S2\" style=\"white-space: nowrap\">449</td><td class=\"schemaBorderColorLevel3 etzelle\" headers=\"Z2S1 Z5S1 Z66S1 Z3S2 Z4S3\" style=\"white-space: nowrap\">1 038</td><td class=\"schemaBorderColorLevel3 etzelle\" headers=\"Z2S1 Z5S1 Z66S1 Z3S2 Z4S4\" style=\"white-space: nowrap\">1 487</td></tr><tr><th class=\"schemaBorderColorLevel3 schemaBgColorLevel1 etvorspalte\" id=\"Z67S1\">Krankheiten des Urogenitalsystems</th><td class=\"schemaBorderColorLevel3 etzelle\" headers=\"Z2S1 Z5S1 Z67S1 Z3S2 Z4S2\" style=\"white-space: nowrap\">12 065</td><td class=\"schemaBorderColorLevel3 etzelle\" headers=\"Z2S1 Z5S1 Z67S1 Z3S2 Z4S3\" style=\"white-space: nowrap\">14 207</td><td class=\"schemaBorderColorLevel3 etzelle\" headers=\"Z2S1 Z5S1 Z67S1 Z3S2 Z4S4\" style=\"white-space: nowrap\">26 272</td></tr><tr><th class=\"schemaBorderColorLevel3 schemaBgColorLevel1 etvorspalte\" id=\"Z68S1\">Krankheiten der Niere</th><td class=\"schemaBorderColorLevel3 etzelle\" headers=\"Z2S1 Z5S1 Z68S1 Z3S2 Z4S2\" style=\"white-space: nowrap\">8 416</td><td class=\"schemaBorderColorLevel3 etzelle\" headers=\"Z2S1 Z5S1 Z68S1 Z3S2 Z4S3\" style=\"white-space: nowrap\">10 377</td><td class=\"schemaBorderColorLevel3 etzelle\" headers=\"Z2S1 Z5S1 Z68S1 Z3S2 Z4S4\" style=\"white-space: nowrap\">18 793</td></tr><tr><th class=\"schemaBorderColorLevel3 schemaBgColorLevel1 etvorspalte\" id=\"Z69S1\">Schwangerschaft, Geburt und Wochenbett</th><td class=\"schemaBorderColorLevel3 etzelle\" headers=\"Z2S1 Z5S1 Z69S1 Z3S2 Z4S2\" style=\"white-space: nowrap\"><abbr title=\"nichts vorhanden\">-</abbr></td><td class=\"schemaBorderColorLevel3 etzelle\" headers=\"Z2S1 Z5S1 Z69S1 Z3S2 Z4S3\" style=\"white-space: nowrap\">28</td><td class=\"schemaBorderColorLevel3 etzelle\" headers=\"Z2S1 Z5S1 Z69S1 Z3S2 Z4S4\" style=\"white-space: nowrap\">28</td></tr><tr><th class=\"schemaBorderColorLevel3 schemaBgColorLevel1 etvorspalte\" id=\"Z70S1\"><input name=\"option$$$006TODESURS64\" title=\"Anzeigen von Informationen zu Merkmalsausprägung mit dem Namen 'TODESURS64'\" type=\"submit\" value=\"Best.Zustände mit Ursprung in der Perinatalperiode\"/></th><td class=\"schemaBorderColorLevel3 etzelle\" headers=\"Z2S1 Z5S1 Z70S1 Z3S2 Z4S2\" style=\"white-space: nowrap\">777</td><td class=\"schemaBorderColorLevel3 etzelle\" headers=\"Z2S1 Z5S1 Z70S1 Z3S2 Z4S3\" style=\"white-space: nowrap\">565</td><td class=\"schemaBorderColorLevel3 etzelle\" headers=\"Z2S1 Z5S1 Z70S1 Z3S2 Z4S4\" style=\"white-space: nowrap\">1 342</td></tr><tr><th class=\"schemaBorderColorLevel3 schemaBgColorLevel1 etvorspalte\" id=\"Z71S1\"><input name=\"option$$$006TODESURS65\" title=\"Anzeigen von Informationen zu Merkmalsausprägung mit dem Namen 'TODESURS65'\" type=\"submit\" value=\"Angeb. Fehlbildungen,Deformitäten,Chromosomenanom.\"/></th><td class=\"schemaBorderColorLevel3 etzelle\" headers=\"Z2S1 Z5S1 Z71S1 Z3S2 Z4S2\" style=\"white-space: nowrap\">1 116</td><td class=\"schemaBorderColorLevel3 etzelle\" headers=\"Z2S1 Z5S1 Z71S1 Z3S2 Z4S3\" style=\"white-space: nowrap\">1 011</td><td class=\"schemaBorderColorLevel3 etzelle\" headers=\"Z2S1 Z5S1 Z71S1 Z3S2 Z4S4\" style=\"white-space: nowrap\">2 127</td></tr><tr><th class=\"schemaBorderColorLevel3 schemaBgColorLevel1 etvorspalte\" id=\"Z72S1\">Angeborene Fehlbildungen des Nervensystems</th><td class=\"schemaBorderColorLevel3 etzelle\" headers=\"Z2S1 Z5S1 Z72S1 Z3S2 Z4S2\" style=\"white-space: nowrap\">86</td><td class=\"schemaBorderColorLevel3 etzelle\" headers=\"Z2S1 Z5S1 Z72S1 Z3S2 Z4S3\" style=\"white-space: nowrap\">97</td><td class=\"schemaBorderColorLevel3 etzelle\" headers=\"Z2S1 Z5S1 Z72S1 Z3S2 Z4S4\" style=\"white-space: nowrap\">183</td></tr><tr><th class=\"schemaBorderColorLevel3 schemaBgColorLevel1 etvorspalte\" id=\"Z73S1\">Angeborene Fehlbildungen des Kreislaufsystems</th><td class=\"schemaBorderColorLevel3 etzelle\" headers=\"Z2S1 Z5S1 Z73S1 Z3S2 Z4S2\" style=\"white-space: nowrap\">337</td><td class=\"schemaBorderColorLevel3 etzelle\" headers=\"Z2S1 Z5S1 Z73S1 Z3S2 Z4S3\" style=\"white-space: nowrap\">269</td><td class=\"schemaBorderColorLevel3 etzelle\" headers=\"Z2S1 Z5S1 Z73S1 Z3S2 Z4S4\" style=\"white-space: nowrap\">606</td></tr><tr><th class=\"schemaBorderColorLevel3 schemaBgColorLevel1 etvorspalte\" id=\"Z74S1\"><input name=\"option$$$006TODESURS68\" title=\"Anzeigen von Informationen zu Merkmalsausprägung mit dem Namen 'TODESURS68'\" type=\"submit\" value=\"Symptome und abnorme klinische und Laborbefunde\"/></th><td class=\"schemaBorderColorLevel3 etzelle\" headers=\"Z2S1 Z5S1 Z74S1 Z3S2 Z4S2\" style=\"white-space: nowrap\">22 638</td><td class=\"schemaBorderColorLevel3 etzelle\" headers=\"Z2S1 Z5S1 Z74S1 Z3S2 Z4S3\" style=\"white-space: nowrap\">16 091</td><td class=\"schemaBorderColorLevel3 etzelle\" headers=\"Z2S1 Z5S1 Z74S1 Z3S2 Z4S4\" style=\"white-space: nowrap\">38 729</td></tr><tr><th class=\"schemaBorderColorLevel3 schemaBgColorLevel1 etvorspalte\" id=\"Z75S1\">Plötzlicher Kindstod</th><td class=\"schemaBorderColorLevel3 etzelle\" headers=\"Z2S1 Z5S1 Z75S1 Z3S2 Z4S2\" style=\"white-space: nowrap\">47</td><td class=\"schemaBorderColorLevel3 etzelle\" headers=\"Z2S1 Z5S1 Z75S1 Z3S2 Z4S3\" style=\"white-space: nowrap\">35</td><td class=\"schemaBorderColorLevel3 etzelle\" headers=\"Z2S1 Z5S1 Z75S1 Z3S2 Z4S4\" style=\"white-space: nowrap\">82</td></tr><tr><th class=\"schemaBorderColorLevel3 schemaBgColorLevel1 etvorspalte\" id=\"Z76S1\"><input name=\"option$$$006TODESURS70\" title=\"Anzeigen von Informationen zu Merkmalsausprägung mit dem Namen 'TODESURS70'\" type=\"submit\" value=\"Sonst. ungenau bezeichnete u. unbek. Todesursachen\"/></th><td class=\"schemaBorderColorLevel3 etzelle\" headers=\"Z2S1 Z5S1 Z76S1 Z3S2 Z4S2\" style=\"white-space: nowrap\">20 927</td><td class=\"schemaBorderColorLevel3 etzelle\" headers=\"Z2S1 Z5S1 Z76S1 Z3S2 Z4S3\" style=\"white-space: nowrap\">12 891</td><td class=\"schemaBorderColorLevel3 etzelle\" headers=\"Z2S1 Z5S1 Z76S1 Z3S2 Z4S4\" style=\"white-space: nowrap\">33 818</td></tr><tr><th class=\"schemaBorderColorLevel3 schemaBgColorLevel1 etvorspalte\" id=\"Z77S1\">Äußere Ursachen von Morbidität und Mortalität</th><td class=\"schemaBorderColorLevel3 etzelle\" headers=\"Z2S1 Z5S1 Z77S1 Z3S2 Z4S2\" style=\"white-space: nowrap\">25 394</td><td class=\"schemaBorderColorLevel3 etzelle\" headers=\"Z2S1 Z5S1 Z77S1 Z3S2 Z4S3\" style=\"white-space: nowrap\">17 806</td><td class=\"schemaBorderColorLevel3 etzelle\" headers=\"Z2S1 Z5S1 Z77S1 Z3S2 Z4S4\" style=\"white-space: nowrap\">43 200</td></tr><tr><th class=\"schemaBorderColorLevel3 schemaBgColorLevel1 etvorspalte\" id=\"Z78S1\">Unfälle einschließlich Spätfolgen</th><td class=\"schemaBorderColorLevel3 etzelle\" headers=\"Z2S1 Z5S1 Z78S1 Z3S2 Z4S2\" style=\"white-space: nowrap\">17 189</td><td class=\"schemaBorderColorLevel3 etzelle\" headers=\"Z2S1 Z5S1 Z78S1 Z3S2 Z4S3\" style=\"white-space: nowrap\">14 403</td><td class=\"schemaBorderColorLevel3 etzelle\" headers=\"Z2S1 Z5S1 Z78S1 Z3S2 Z4S4\" style=\"white-space: nowrap\">31 592</td></tr><tr><th class=\"schemaBorderColorLevel3 schemaBgColorLevel1 etvorspalte\" id=\"Z79S1\">Transportmittelunfälle</th><td class=\"schemaBorderColorLevel3 etzelle\" headers=\"Z2S1 Z5S1 Z79S1 Z3S2 Z4S2\" style=\"white-space: nowrap\">2 269</td><td class=\"schemaBorderColorLevel3 etzelle\" headers=\"Z2S1 Z5S1 Z79S1 Z3S2 Z4S3\" style=\"white-space: nowrap\">639</td><td class=\"schemaBorderColorLevel3 etzelle\" headers=\"Z2S1 Z5S1 Z79S1 Z3S2 Z4S4\" style=\"white-space: nowrap\">2 908</td></tr><tr><th class=\"schemaBorderColorLevel3 schemaBgColorLevel1 etvorspalte\" id=\"Z80S1\">Stürze</th><td class=\"schemaBorderColorLevel3 etzelle\" headers=\"Z2S1 Z5S1 Z80S1 Z3S2 Z4S2\" style=\"white-space: nowrap\">9 020</td><td class=\"schemaBorderColorLevel3 etzelle\" headers=\"Z2S1 Z5S1 Z80S1 Z3S2 Z4S3\" style=\"white-space: nowrap\">9 163</td><td class=\"schemaBorderColorLevel3 etzelle\" headers=\"Z2S1 Z5S1 Z80S1 Z3S2 Z4S4\" style=\"white-space: nowrap\">18 183</td></tr><tr><th class=\"schemaBorderColorLevel3 schemaBgColorLevel1 etvorspalte\" id=\"Z81S1\">Ertrinken und Untergehen</th><td class=\"schemaBorderColorLevel3 etzelle\" headers=\"Z2S1 Z5S1 Z81S1 Z3S2 Z4S2\" style=\"white-space: nowrap\">281</td><td class=\"schemaBorderColorLevel3 etzelle\" headers=\"Z2S1 Z5S1 Z81S1 Z3S2 Z4S3\" style=\"white-space: nowrap\">111</td><td class=\"schemaBorderColorLevel3 etzelle\" headers=\"Z2S1 Z5S1 Z81S1 Z3S2 Z4S4\" style=\"white-space: nowrap\">392</td></tr><tr><th class=\"schemaBorderColorLevel3 schemaBgColorLevel1 etvorspalte\" id=\"Z82S1\">Exposition gegenüber Rauch, Feuer und Flammen</th><td class=\"schemaBorderColorLevel3 etzelle\" headers=\"Z2S1 Z5S1 Z82S1 Z3S2 Z4S2\" style=\"white-space: nowrap\">182</td><td class=\"schemaBorderColorLevel3 etzelle\" headers=\"Z2S1 Z5S1 Z82S1 Z3S2 Z4S3\" style=\"white-space: nowrap\">139</td><td class=\"schemaBorderColorLevel3 etzelle\" headers=\"Z2S1 Z5S1 Z82S1 Z3S2 Z4S4\" style=\"white-space: nowrap\">321</td></tr><tr><th class=\"schemaBorderColorLevel3 schemaBgColorLevel1 etvorspalte\" id=\"Z83S1\"><input name=\"option$$$006TODESURS77\" title=\"Anzeigen von Informationen zu Merkmalsausprägung mit dem Namen 'TODESURS77'\" type=\"submit\" value=\"Akzid. Vergiftung: schädl. Substanzen (inkl. Exp.)\"/></th><td class=\"schemaBorderColorLevel3 etzelle\" headers=\"Z2S1 Z5S1 Z83S1 Z3S2 Z4S2\" style=\"white-space: nowrap\">917</td><td class=\"schemaBorderColorLevel3 etzelle\" headers=\"Z2S1 Z5S1 Z83S1 Z3S2 Z4S3\" style=\"white-space: nowrap\">330</td><td class=\"schemaBorderColorLevel3 etzelle\" headers=\"Z2S1 Z5S1 Z83S1 Z3S2 Z4S4\" style=\"white-space: nowrap\">1 247</td></tr><tr><th class=\"schemaBorderColorLevel3 schemaBgColorLevel1 etvorspalte\" id=\"Z84S1\">Vorsätzliche Selbstbeschädigung</th><td class=\"schemaBorderColorLevel3 etzelle\" headers=\"Z2S1 Z5S1 Z84S1 Z3S2 Z4S2\" style=\"white-space: nowrap\">6 805</td><td class=\"schemaBorderColorLevel3 etzelle\" headers=\"Z2S1 Z5S1 Z84S1 Z3S2 Z4S3\" style=\"white-space: nowrap\">2 410</td><td class=\"schemaBorderColorLevel3 etzelle\" headers=\"Z2S1 Z5S1 Z84S1 Z3S2 Z4S4\" style=\"white-space: nowrap\">9 215</td></tr><tr><th class=\"schemaBorderColorLevel3 schemaBgColorLevel1 etvorspalte\" id=\"Z85S1\">Tätlicher Angriff</th><td class=\"schemaBorderColorLevel3 etzelle\" headers=\"Z2S1 Z5S1 Z85S1 Z3S2 Z4S2\" style=\"white-space: nowrap\">150</td><td class=\"schemaBorderColorLevel3 etzelle\" headers=\"Z2S1 Z5S1 Z85S1 Z3S2 Z4S3\" style=\"white-space: nowrap\">164</td><td class=\"schemaBorderColorLevel3 etzelle\" headers=\"Z2S1 Z5S1 Z85S1 Z3S2 Z4S4\" style=\"white-space: nowrap\">314</td></tr><tr><th class=\"schemaBorderColorLevel3 schemaBgColorLevel1 etvorspalte\" id=\"Z86S1\">Ereignis, dessen nähere Umstände unbestimmt sind</th><td class=\"schemaBorderColorLevel3 etzelle\" headers=\"Z2S1 Z5S1 Z86S1 Z3S2 Z4S2\" style=\"white-space: nowrap\">1 102</td><td class=\"schemaBorderColorLevel3 etzelle\" headers=\"Z2S1 Z5S1 Z86S1 Z3S2 Z4S3\" style=\"white-space: nowrap\">699</td><td class=\"schemaBorderColorLevel3 etzelle\" headers=\"Z2S1 Z5S1 Z86S1 Z3S2 Z4S4\" style=\"white-space: nowrap\">1 801</td></tr><tr><th class=\"schemaBorderColorLevel3 schemaBgColorLevel1 etvorspalte\" id=\"Z87S1\">Insgesamt</th><td class=\"schemaBorderColorLevel3 etzelle\" headers=\"Z2S1 Z5S1 Z87S1 Z3S2 Z4S2\" style=\"white-space: nowrap\">515 559</td><td class=\"schemaBorderColorLevel3 etzelle\" headers=\"Z2S1 Z5S1 Z87S1 Z3S2 Z4S3\" style=\"white-space: nowrap\">508 128</td><td class=\"schemaBorderColorLevel3 etzelle\" headers=\"Z2S1 Z5S1 Z87S1 Z3S2 Z4S4\" style=\"white-space: nowrap\">1 023 687</td></tr></tbody>]"
      ]
     },
     "execution_count": 171,
     "metadata": {},
     "output_type": "execute_result"
    }
   ],
   "source": [
    "table.find_all('tbody')"
   ]
  },
  {
   "cell_type": "code",
   "execution_count": 172,
   "metadata": {},
   "outputs": [
    {
     "data": {
      "text/plain": [
       "1"
      ]
     },
     "execution_count": 172,
     "metadata": {},
     "output_type": "execute_result"
    }
   ],
   "source": [
    "#ada berapa tbody\n",
    "len(table.find_all('tbody'))"
   ]
  },
  {
   "cell_type": "code",
   "execution_count": 173,
   "metadata": {},
   "outputs": [
    {
     "data": {
      "text/plain": [
       "[<tr><th class=\"schemaBorderColorLevel3 etuntertitel\" colspan=\"4\" id=\"Z5S1\">2021</th></tr>,\n",
       " <tr><th class=\"schemaBorderColorLevel3 schemaBgColorLevel1 etvorspalte\" id=\"Z6S1\">Bestimmte infektiöse und parasitäre Krankheiten</th><td class=\"schemaBorderColorLevel3 etzelle\" headers=\"Z2S1 Z5S1 Z6S1 Z3S2 Z4S2\" style=\"white-space: nowrap\">7 355</td><td class=\"schemaBorderColorLevel3 etzelle\" headers=\"Z2S1 Z5S1 Z6S1 Z3S2 Z4S3\" style=\"white-space: nowrap\">7 515</td><td class=\"schemaBorderColorLevel3 etzelle\" headers=\"Z2S1 Z5S1 Z6S1 Z3S2 Z4S4\" style=\"white-space: nowrap\">14 870</td></tr>,\n",
       " <tr><th class=\"schemaBorderColorLevel3 schemaBgColorLevel1 etvorspalte\" id=\"Z7S1\">Tuberkulose einschließlich ihrer Folgezustände</th><td class=\"schemaBorderColorLevel3 etzelle\" headers=\"Z2S1 Z5S1 Z7S1 Z3S2 Z4S2\" style=\"white-space: nowrap\">161</td><td class=\"schemaBorderColorLevel3 etzelle\" headers=\"Z2S1 Z5S1 Z7S1 Z3S2 Z4S3\" style=\"white-space: nowrap\">106</td><td class=\"schemaBorderColorLevel3 etzelle\" headers=\"Z2S1 Z5S1 Z7S1 Z3S2 Z4S4\" style=\"white-space: nowrap\">267</td></tr>,\n",
       " <tr><th class=\"schemaBorderColorLevel3 schemaBgColorLevel1 etvorspalte\" id=\"Z8S1\">Meningokokkeninfektion</th><td class=\"schemaBorderColorLevel3 etzelle\" headers=\"Z2S1 Z5S1 Z8S1 Z3S2 Z4S2\" style=\"white-space: nowrap\">8</td><td class=\"schemaBorderColorLevel3 etzelle\" headers=\"Z2S1 Z5S1 Z8S1 Z3S2 Z4S3\" style=\"white-space: nowrap\">7</td><td class=\"schemaBorderColorLevel3 etzelle\" headers=\"Z2S1 Z5S1 Z8S1 Z3S2 Z4S4\" style=\"white-space: nowrap\">15</td></tr>,\n",
       " <tr><th class=\"schemaBorderColorLevel3 schemaBgColorLevel1 etvorspalte\" id=\"Z9S1\">Virushepatitis</th><td class=\"schemaBorderColorLevel3 etzelle\" headers=\"Z2S1 Z5S1 Z9S1 Z3S2 Z4S2\" style=\"white-space: nowrap\">307</td><td class=\"schemaBorderColorLevel3 etzelle\" headers=\"Z2S1 Z5S1 Z9S1 Z3S2 Z4S3\" style=\"white-space: nowrap\">204</td><td class=\"schemaBorderColorLevel3 etzelle\" headers=\"Z2S1 Z5S1 Z9S1 Z3S2 Z4S4\" style=\"white-space: nowrap\">511</td></tr>,\n",
       " <tr><th class=\"schemaBorderColorLevel3 schemaBgColorLevel1 etvorspalte\" id=\"Z10S1\">HIV-Krankheit</th><td class=\"schemaBorderColorLevel3 etzelle\" headers=\"Z2S1 Z5S1 Z10S1 Z3S2 Z4S2\" style=\"white-space: nowrap\">176</td><td class=\"schemaBorderColorLevel3 etzelle\" headers=\"Z2S1 Z5S1 Z10S1 Z3S2 Z4S3\" style=\"white-space: nowrap\">42</td><td class=\"schemaBorderColorLevel3 etzelle\" headers=\"Z2S1 Z5S1 Z10S1 Z3S2 Z4S4\" style=\"white-space: nowrap\">218</td></tr>,\n",
       " <tr><th class=\"schemaBorderColorLevel3 schemaBgColorLevel1 etvorspalte\" id=\"Z11S1\">Neubildungen</th><td class=\"schemaBorderColorLevel3 etzelle\" headers=\"Z2S1 Z5S1 Z11S1 Z3S2 Z4S2\" style=\"white-space: nowrap\">127 968</td><td class=\"schemaBorderColorLevel3 etzelle\" headers=\"Z2S1 Z5S1 Z11S1 Z3S2 Z4S3\" style=\"white-space: nowrap\">109 192</td><td class=\"schemaBorderColorLevel3 etzelle\" headers=\"Z2S1 Z5S1 Z11S1 Z3S2 Z4S4\" style=\"white-space: nowrap\">237 160</td></tr>,\n",
       " <tr><th class=\"schemaBorderColorLevel3 schemaBgColorLevel1 etvorspalte\" id=\"Z12S1\">Bösartige Neubildungen (BN)</th><td class=\"schemaBorderColorLevel3 etzelle\" headers=\"Z2S1 Z5S1 Z12S1 Z3S2 Z4S2\" style=\"white-space: nowrap\">124 006</td><td class=\"schemaBorderColorLevel3 etzelle\" headers=\"Z2S1 Z5S1 Z12S1 Z3S2 Z4S3\" style=\"white-space: nowrap\">105 062</td><td class=\"schemaBorderColorLevel3 etzelle\" headers=\"Z2S1 Z5S1 Z12S1 Z3S2 Z4S4\" style=\"white-space: nowrap\">229 068</td></tr>,\n",
       " <tr><th class=\"schemaBorderColorLevel3 schemaBgColorLevel1 etvorspalte\" id=\"Z13S1\"><input name=\"option$$$006TODESURS09\" title=\"Anzeigen von Informationen zu Merkmalsausprägung mit dem Namen 'TODESURS09'\" type=\"submit\" value=\"BN der Lippe, der Mundhöhle und des Pharynx\"/></th><td class=\"schemaBorderColorLevel3 etzelle\" headers=\"Z2S1 Z5S1 Z13S1 Z3S2 Z4S2\" style=\"white-space: nowrap\">3 796</td><td class=\"schemaBorderColorLevel3 etzelle\" headers=\"Z2S1 Z5S1 Z13S1 Z3S2 Z4S3\" style=\"white-space: nowrap\">1 421</td><td class=\"schemaBorderColorLevel3 etzelle\" headers=\"Z2S1 Z5S1 Z13S1 Z3S2 Z4S4\" style=\"white-space: nowrap\">5 217</td></tr>,\n",
       " <tr><th class=\"schemaBorderColorLevel3 schemaBgColorLevel1 etvorspalte\" id=\"Z14S1\"><input name=\"option$$$006TODESURS10\" title=\"Anzeigen von Informationen zu Merkmalsausprägung mit dem Namen 'TODESURS10'\" type=\"submit\" value=\"BN des Ösophagus\"/></th><td class=\"schemaBorderColorLevel3 etzelle\" headers=\"Z2S1 Z5S1 Z14S1 Z3S2 Z4S2\" style=\"white-space: nowrap\">4 444</td><td class=\"schemaBorderColorLevel3 etzelle\" headers=\"Z2S1 Z5S1 Z14S1 Z3S2 Z4S3\" style=\"white-space: nowrap\">1 368</td><td class=\"schemaBorderColorLevel3 etzelle\" headers=\"Z2S1 Z5S1 Z14S1 Z3S2 Z4S4\" style=\"white-space: nowrap\">5 812</td></tr>,\n",
       " <tr><th class=\"schemaBorderColorLevel3 schemaBgColorLevel1 etvorspalte\" id=\"Z15S1\"><input name=\"option$$$006TODESURS11\" title=\"Anzeigen von Informationen zu Merkmalsausprägung mit dem Namen 'TODESURS11'\" type=\"submit\" value=\"BN des Magens\"/></th><td class=\"schemaBorderColorLevel3 etzelle\" headers=\"Z2S1 Z5S1 Z15S1 Z3S2 Z4S2\" style=\"white-space: nowrap\">4 976</td><td class=\"schemaBorderColorLevel3 etzelle\" headers=\"Z2S1 Z5S1 Z15S1 Z3S2 Z4S3\" style=\"white-space: nowrap\">3 320</td><td class=\"schemaBorderColorLevel3 etzelle\" headers=\"Z2S1 Z5S1 Z15S1 Z3S2 Z4S4\" style=\"white-space: nowrap\">8 296</td></tr>,\n",
       " <tr><th class=\"schemaBorderColorLevel3 schemaBgColorLevel1 etvorspalte\" id=\"Z16S1\"><input name=\"option$$$006TODESURS12\" title=\"Anzeigen von Informationen zu Merkmalsausprägung mit dem Namen 'TODESURS12'\" type=\"submit\" value=\"BN des Dickdarms\"/></th><td class=\"schemaBorderColorLevel3 etzelle\" headers=\"Z2S1 Z5S1 Z16S1 Z3S2 Z4S2\" style=\"white-space: nowrap\">7 820</td><td class=\"schemaBorderColorLevel3 etzelle\" headers=\"Z2S1 Z5S1 Z16S1 Z3S2 Z4S3\" style=\"white-space: nowrap\">7 252</td><td class=\"schemaBorderColorLevel3 etzelle\" headers=\"Z2S1 Z5S1 Z16S1 Z3S2 Z4S4\" style=\"white-space: nowrap\">15 072</td></tr>,\n",
       " <tr><th class=\"schemaBorderColorLevel3 schemaBgColorLevel1 etvorspalte\" id=\"Z17S1\"><input name=\"option$$$006TODESURS13\" title=\"Anzeigen von Informationen zu Merkmalsausprägung mit dem Namen 'TODESURS13'\" type=\"submit\" value=\"BN des Rektums, des Anus und am Rektosigmoid\"/></th><td class=\"schemaBorderColorLevel3 etzelle\" headers=\"Z2S1 Z5S1 Z17S1 Z3S2 Z4S2\" style=\"white-space: nowrap\">4 744</td><td class=\"schemaBorderColorLevel3 etzelle\" headers=\"Z2S1 Z5S1 Z17S1 Z3S2 Z4S3\" style=\"white-space: nowrap\">3 049</td><td class=\"schemaBorderColorLevel3 etzelle\" headers=\"Z2S1 Z5S1 Z17S1 Z3S2 Z4S4\" style=\"white-space: nowrap\">7 793</td></tr>,\n",
       " <tr><th class=\"schemaBorderColorLevel3 schemaBgColorLevel1 etvorspalte\" id=\"Z18S1\"><input name=\"option$$$006TODESURS14\" title=\"Anzeigen von Informationen zu Merkmalsausprägung mit dem Namen 'TODESURS14'\" type=\"submit\" value=\"BN der Leber, der Gallenwege und des Pankreas\"/></th><td class=\"schemaBorderColorLevel3 etzelle\" headers=\"Z2S1 Z5S1 Z18S1 Z3S2 Z4S2\" style=\"white-space: nowrap\">16 708</td><td class=\"schemaBorderColorLevel3 etzelle\" headers=\"Z2S1 Z5S1 Z18S1 Z3S2 Z4S3\" style=\"white-space: nowrap\">14 286</td><td class=\"schemaBorderColorLevel3 etzelle\" headers=\"Z2S1 Z5S1 Z18S1 Z3S2 Z4S4\" style=\"white-space: nowrap\">30 994</td></tr>,\n",
       " <tr><th class=\"schemaBorderColorLevel3 schemaBgColorLevel1 etvorspalte\" id=\"Z19S1\"><input name=\"option$$$006TODESURS15\" title=\"Anzeigen von Informationen zu Merkmalsausprägung mit dem Namen 'TODESURS15'\" type=\"submit\" value=\"BN der Leber und der intrahepatischen Gallengänge\"/></th><td class=\"schemaBorderColorLevel3 etzelle\" headers=\"Z2S1 Z5S1 Z19S1 Z3S2 Z4S2\" style=\"white-space: nowrap\">5 455</td><td class=\"schemaBorderColorLevel3 etzelle\" headers=\"Z2S1 Z5S1 Z19S1 Z3S2 Z4S3\" style=\"white-space: nowrap\">2 692</td><td class=\"schemaBorderColorLevel3 etzelle\" headers=\"Z2S1 Z5S1 Z19S1 Z3S2 Z4S4\" style=\"white-space: nowrap\">8 147</td></tr>,\n",
       " <tr><th class=\"schemaBorderColorLevel3 schemaBgColorLevel1 etvorspalte\" id=\"Z20S1\"><input name=\"option$$$006TODESURS16\" title=\"Anzeigen von Informationen zu Merkmalsausprägung mit dem Namen 'TODESURS16'\" type=\"submit\" value=\"BN des Pankreas\"/></th><td class=\"schemaBorderColorLevel3 etzelle\" headers=\"Z2S1 Z5S1 Z20S1 Z3S2 Z4S2\" style=\"white-space: nowrap\">9 570</td><td class=\"schemaBorderColorLevel3 etzelle\" headers=\"Z2S1 Z5S1 Z20S1 Z3S2 Z4S3\" style=\"white-space: nowrap\">9 602</td><td class=\"schemaBorderColorLevel3 etzelle\" headers=\"Z2S1 Z5S1 Z20S1 Z3S2 Z4S4\" style=\"white-space: nowrap\">19 172</td></tr>,\n",
       " <tr><th class=\"schemaBorderColorLevel3 schemaBgColorLevel1 etvorspalte\" id=\"Z21S1\"><input name=\"option$$$006TODESURS17\" title=\"Anzeigen von Informationen zu Merkmalsausprägung mit dem Namen 'TODESURS17'\" type=\"submit\" value=\"BN d. Larynx, d. Trachea, d. Bronchien u. d. Lunge\"/></th><td class=\"schemaBorderColorLevel3 etzelle\" headers=\"Z2S1 Z5S1 Z21S1 Z3S2 Z4S2\" style=\"white-space: nowrap\">28 332</td><td class=\"schemaBorderColorLevel3 etzelle\" headers=\"Z2S1 Z5S1 Z21S1 Z3S2 Z4S3\" style=\"white-space: nowrap\">17 608</td><td class=\"schemaBorderColorLevel3 etzelle\" headers=\"Z2S1 Z5S1 Z21S1 Z3S2 Z4S4\" style=\"white-space: nowrap\">45 940</td></tr>,\n",
       " <tr><th class=\"schemaBorderColorLevel3 schemaBgColorLevel1 etvorspalte\" id=\"Z22S1\"><input name=\"option$$$006TODESURS18\" title=\"Anzeigen von Informationen zu Merkmalsausprägung mit dem Namen 'TODESURS18'\" type=\"submit\" value=\"BN der Bronchien und der Lunge\"/></th><td class=\"schemaBorderColorLevel3 etzelle\" headers=\"Z2S1 Z5S1 Z22S1 Z3S2 Z4S2\" style=\"white-space: nowrap\">27 200</td><td class=\"schemaBorderColorLevel3 etzelle\" headers=\"Z2S1 Z5S1 Z22S1 Z3S2 Z4S3\" style=\"white-space: nowrap\">17 401</td><td class=\"schemaBorderColorLevel3 etzelle\" headers=\"Z2S1 Z5S1 Z22S1 Z3S2 Z4S4\" style=\"white-space: nowrap\">44 601</td></tr>,\n",
       " <tr><th class=\"schemaBorderColorLevel3 schemaBgColorLevel1 etvorspalte\" id=\"Z23S1\"><input name=\"option$$$006TODESURS19\" title=\"Anzeigen von Informationen zu Merkmalsausprägung mit dem Namen 'TODESURS19'\" type=\"submit\" value=\"Melanom und sonstige bösartige Neubild. der Haut\"/></th><td class=\"schemaBorderColorLevel3 etzelle\" headers=\"Z2S1 Z5S1 Z23S1 Z3S2 Z4S2\" style=\"white-space: nowrap\">2 406</td><td class=\"schemaBorderColorLevel3 etzelle\" headers=\"Z2S1 Z5S1 Z23S1 Z3S2 Z4S3\" style=\"white-space: nowrap\">1 700</td><td class=\"schemaBorderColorLevel3 etzelle\" headers=\"Z2S1 Z5S1 Z23S1 Z3S2 Z4S4\" style=\"white-space: nowrap\">4 106</td></tr>,\n",
       " <tr><th class=\"schemaBorderColorLevel3 schemaBgColorLevel1 etvorspalte\" id=\"Z24S1\">Bösartiges Melanom der Haut</th><td class=\"schemaBorderColorLevel3 etzelle\" headers=\"Z2S1 Z5S1 Z24S1 Z3S2 Z4S2\" style=\"white-space: nowrap\">1 692</td><td class=\"schemaBorderColorLevel3 etzelle\" headers=\"Z2S1 Z5S1 Z24S1 Z3S2 Z4S3\" style=\"white-space: nowrap\">1 236</td><td class=\"schemaBorderColorLevel3 etzelle\" headers=\"Z2S1 Z5S1 Z24S1 Z3S2 Z4S4\" style=\"white-space: nowrap\">2 928</td></tr>,\n",
       " <tr><th class=\"schemaBorderColorLevel3 schemaBgColorLevel1 etvorspalte\" id=\"Z25S1\"><input name=\"option$$$006TODESURS21\" title=\"Anzeigen von Informationen zu Merkmalsausprägung mit dem Namen 'TODESURS21'\" type=\"submit\" value=\"BN der Brustdrüse\"/></th><td class=\"schemaBorderColorLevel3 etzelle\" headers=\"Z2S1 Z5S1 Z25S1 Z3S2 Z4S2\" style=\"white-space: nowrap\">157</td><td class=\"schemaBorderColorLevel3 etzelle\" headers=\"Z2S1 Z5S1 Z25S1 Z3S2 Z4S3\" style=\"white-space: nowrap\">18 479</td><td class=\"schemaBorderColorLevel3 etzelle\" headers=\"Z2S1 Z5S1 Z25S1 Z3S2 Z4S4\" style=\"white-space: nowrap\">18 636</td></tr>,\n",
       " <tr><th class=\"schemaBorderColorLevel3 schemaBgColorLevel1 etvorspalte\" id=\"Z26S1\"><input name=\"option$$$006TODESURS22\" title=\"Anzeigen von Informationen zu Merkmalsausprägung mit dem Namen 'TODESURS22'\" type=\"submit\" value=\"BN der Genital- und Harnorgane\"/></th><td class=\"schemaBorderColorLevel3 etzelle\" headers=\"Z2S1 Z5S1 Z26S1 Z3S2 Z4S2\" style=\"white-space: nowrap\">25 989</td><td class=\"schemaBorderColorLevel3 etzelle\" headers=\"Z2S1 Z5S1 Z26S1 Z3S2 Z4S3\" style=\"white-space: nowrap\">16 181</td><td class=\"schemaBorderColorLevel3 etzelle\" headers=\"Z2S1 Z5S1 Z26S1 Z3S2 Z4S4\" style=\"white-space: nowrap\">42 170</td></tr>,\n",
       " <tr><th class=\"schemaBorderColorLevel3 schemaBgColorLevel1 etvorspalte\" id=\"Z27S1\"><input name=\"option$$$006TODESURS23\" title=\"Anzeigen von Informationen zu Merkmalsausprägung mit dem Namen 'TODESURS23'\" type=\"submit\" value=\"BN der Cervix uteri\"/></th><td class=\"schemaBorderColorLevel3 etzelle\" headers=\"Z2S1 Z5S1 Z27S1 Z3S2 Z4S2\" style=\"white-space: nowrap\"><abbr title=\"nichts vorhanden\">-</abbr></td><td class=\"schemaBorderColorLevel3 etzelle\" headers=\"Z2S1 Z5S1 Z27S1 Z3S2 Z4S3\" style=\"white-space: nowrap\">1 535</td><td class=\"schemaBorderColorLevel3 etzelle\" headers=\"Z2S1 Z5S1 Z27S1 Z3S2 Z4S4\" style=\"white-space: nowrap\">1 535</td></tr>,\n",
       " <tr><th class=\"schemaBorderColorLevel3 schemaBgColorLevel1 etvorspalte\" id=\"Z28S1\"><input name=\"option$$$006TODESURS24\" title=\"Anzeigen von Informationen zu Merkmalsausprägung mit dem Namen 'TODESURS24'\" type=\"submit\" value=\"BN des Corpus uteri u. Uterus, Teil n.n. bezeichn.\"/></th><td class=\"schemaBorderColorLevel3 etzelle\" headers=\"Z2S1 Z5S1 Z28S1 Z3S2 Z4S2\" style=\"white-space: nowrap\"><abbr title=\"nichts vorhanden\">-</abbr></td><td class=\"schemaBorderColorLevel3 etzelle\" headers=\"Z2S1 Z5S1 Z28S1 Z3S2 Z4S3\" style=\"white-space: nowrap\">2 634</td><td class=\"schemaBorderColorLevel3 etzelle\" headers=\"Z2S1 Z5S1 Z28S1 Z3S2 Z4S4\" style=\"white-space: nowrap\">2 634</td></tr>,\n",
       " <tr><th class=\"schemaBorderColorLevel3 schemaBgColorLevel1 etvorspalte\" id=\"Z29S1\"><input name=\"option$$$006TODESURS25\" title=\"Anzeigen von Informationen zu Merkmalsausprägung mit dem Namen 'TODESURS25'\" type=\"submit\" value=\"BN des Ovars\"/></th><td class=\"schemaBorderColorLevel3 etzelle\" headers=\"Z2S1 Z5S1 Z29S1 Z3S2 Z4S2\" style=\"white-space: nowrap\"><abbr title=\"nichts vorhanden\">-</abbr></td><td class=\"schemaBorderColorLevel3 etzelle\" headers=\"Z2S1 Z5S1 Z29S1 Z3S2 Z4S3\" style=\"white-space: nowrap\">5 379</td><td class=\"schemaBorderColorLevel3 etzelle\" headers=\"Z2S1 Z5S1 Z29S1 Z3S2 Z4S4\" style=\"white-space: nowrap\">5 379</td></tr>,\n",
       " <tr><th class=\"schemaBorderColorLevel3 schemaBgColorLevel1 etvorspalte\" id=\"Z30S1\"><input name=\"option$$$006TODESURS26\" title=\"Anzeigen von Informationen zu Merkmalsausprägung mit dem Namen 'TODESURS26'\" type=\"submit\" value=\"BN der Prostata\"/></th><td class=\"schemaBorderColorLevel3 etzelle\" headers=\"Z2S1 Z5S1 Z30S1 Z3S2 Z4S2\" style=\"white-space: nowrap\">15 379</td><td class=\"schemaBorderColorLevel3 etzelle\" headers=\"Z2S1 Z5S1 Z30S1 Z3S2 Z4S3\" style=\"white-space: nowrap\"><abbr title=\"nichts vorhanden\">-</abbr></td><td class=\"schemaBorderColorLevel3 etzelle\" headers=\"Z2S1 Z5S1 Z30S1 Z3S2 Z4S4\" style=\"white-space: nowrap\">15 379</td></tr>,\n",
       " <tr><th class=\"schemaBorderColorLevel3 schemaBgColorLevel1 etvorspalte\" id=\"Z31S1\"><input name=\"option$$$006TODESURS27\" title=\"Anzeigen von Informationen zu Merkmalsausprägung mit dem Namen 'TODESURS27'\" type=\"submit\" value=\"BN der Niere, ausgenommen Nierenbecken\"/></th><td class=\"schemaBorderColorLevel3 etzelle\" headers=\"Z2S1 Z5S1 Z31S1 Z3S2 Z4S2\" style=\"white-space: nowrap\">3 070</td><td class=\"schemaBorderColorLevel3 etzelle\" headers=\"Z2S1 Z5S1 Z31S1 Z3S2 Z4S3\" style=\"white-space: nowrap\">1 790</td><td class=\"schemaBorderColorLevel3 etzelle\" headers=\"Z2S1 Z5S1 Z31S1 Z3S2 Z4S4\" style=\"white-space: nowrap\">4 860</td></tr>,\n",
       " <tr><th class=\"schemaBorderColorLevel3 schemaBgColorLevel1 etvorspalte\" id=\"Z32S1\"><input name=\"option$$$006TODESURS28\" title=\"Anzeigen von Informationen zu Merkmalsausprägung mit dem Namen 'TODESURS28'\" type=\"submit\" value=\"BN der Harnblase\"/></th><td class=\"schemaBorderColorLevel3 etzelle\" headers=\"Z2S1 Z5S1 Z32S1 Z3S2 Z4S2\" style=\"white-space: nowrap\">3 891</td><td class=\"schemaBorderColorLevel3 etzelle\" headers=\"Z2S1 Z5S1 Z32S1 Z3S2 Z4S3\" style=\"white-space: nowrap\">1 852</td><td class=\"schemaBorderColorLevel3 etzelle\" headers=\"Z2S1 Z5S1 Z32S1 Z3S2 Z4S4\" style=\"white-space: nowrap\">5 743</td></tr>,\n",
       " <tr><th class=\"schemaBorderColorLevel3 schemaBgColorLevel1 etvorspalte\" id=\"Z33S1\"><input name=\"option$$$006TODESURS29\" title=\"Anzeigen von Informationen zu Merkmalsausprägung mit dem Namen 'TODESURS29'\" type=\"submit\" value=\"BN d. lymphat., blutbild. u. verwandten Gewebes\"/></th><td class=\"schemaBorderColorLevel3 etzelle\" headers=\"Z2S1 Z5S1 Z33S1 Z3S2 Z4S2\" style=\"white-space: nowrap\">11 167</td><td class=\"schemaBorderColorLevel3 etzelle\" headers=\"Z2S1 Z5S1 Z33S1 Z3S2 Z4S3\" style=\"white-space: nowrap\">8 725</td><td class=\"schemaBorderColorLevel3 etzelle\" headers=\"Z2S1 Z5S1 Z33S1 Z3S2 Z4S4\" style=\"white-space: nowrap\">19 892</td></tr>,\n",
       " <tr><th class=\"schemaBorderColorLevel3 schemaBgColorLevel1 etvorspalte\" id=\"Z34S1\">Leukämie</th><td class=\"schemaBorderColorLevel3 etzelle\" headers=\"Z2S1 Z5S1 Z34S1 Z3S2 Z4S2\" style=\"white-space: nowrap\">4 674</td><td class=\"schemaBorderColorLevel3 etzelle\" headers=\"Z2S1 Z5S1 Z34S1 Z3S2 Z4S3\" style=\"white-space: nowrap\">3 530</td><td class=\"schemaBorderColorLevel3 etzelle\" headers=\"Z2S1 Z5S1 Z34S1 Z3S2 Z4S4\" style=\"white-space: nowrap\">8 204</td></tr>,\n",
       " <tr><th class=\"schemaBorderColorLevel3 schemaBgColorLevel1 etvorspalte\" id=\"Z35S1\">Gutartige Neubildungen</th><td class=\"schemaBorderColorLevel3 etzelle\" headers=\"Z2S1 Z5S1 Z35S1 Z3S2 Z4S2\" style=\"white-space: nowrap\">371</td><td class=\"schemaBorderColorLevel3 etzelle\" headers=\"Z2S1 Z5S1 Z35S1 Z3S2 Z4S3\" style=\"white-space: nowrap\">396</td><td class=\"schemaBorderColorLevel3 etzelle\" headers=\"Z2S1 Z5S1 Z35S1 Z3S2 Z4S4\" style=\"white-space: nowrap\">767</td></tr>,\n",
       " <tr><th class=\"schemaBorderColorLevel3 schemaBgColorLevel1 etvorspalte\" id=\"Z36S1\"><input name=\"option$$$006TODESURS32\" title=\"Anzeigen von Informationen zu Merkmalsausprägung mit dem Namen 'TODESURS32'\" type=\"submit\" value=\"Krankheiten des Blutes u. der blutbildenden Organe\"/></th><td class=\"schemaBorderColorLevel3 etzelle\" headers=\"Z2S1 Z5S1 Z36S1 Z3S2 Z4S2\" style=\"white-space: nowrap\">2 078</td><td class=\"schemaBorderColorLevel3 etzelle\" headers=\"Z2S1 Z5S1 Z36S1 Z3S2 Z4S3\" style=\"white-space: nowrap\">2 632</td><td class=\"schemaBorderColorLevel3 etzelle\" headers=\"Z2S1 Z5S1 Z36S1 Z3S2 Z4S4\" style=\"white-space: nowrap\">4 710</td></tr>,\n",
       " <tr><th class=\"schemaBorderColorLevel3 schemaBgColorLevel1 etvorspalte\" id=\"Z37S1\"><input name=\"option$$$006TODESURS33\" title=\"Anzeigen von Informationen zu Merkmalsausprägung mit dem Namen 'TODESURS33'\" type=\"submit\" value=\"Endokrine, Ernährungs- u. Stoffwechselkrankheiten\"/></th><td class=\"schemaBorderColorLevel3 etzelle\" headers=\"Z2S1 Z5S1 Z37S1 Z3S2 Z4S2\" style=\"white-space: nowrap\">17 402</td><td class=\"schemaBorderColorLevel3 etzelle\" headers=\"Z2S1 Z5S1 Z37S1 Z3S2 Z4S3\" style=\"white-space: nowrap\">20 464</td><td class=\"schemaBorderColorLevel3 etzelle\" headers=\"Z2S1 Z5S1 Z37S1 Z3S2 Z4S4\" style=\"white-space: nowrap\">37 866</td></tr>,\n",
       " <tr><th class=\"schemaBorderColorLevel3 schemaBgColorLevel1 etvorspalte\" id=\"Z38S1\">Diabetes mellitus</th><td class=\"schemaBorderColorLevel3 etzelle\" headers=\"Z2S1 Z5S1 Z38S1 Z3S2 Z4S2\" style=\"white-space: nowrap\">12 428</td><td class=\"schemaBorderColorLevel3 etzelle\" headers=\"Z2S1 Z5S1 Z38S1 Z3S2 Z4S3\" style=\"white-space: nowrap\">13 556</td><td class=\"schemaBorderColorLevel3 etzelle\" headers=\"Z2S1 Z5S1 Z38S1 Z3S2 Z4S4\" style=\"white-space: nowrap\">25 984</td></tr>,\n",
       " <tr><th class=\"schemaBorderColorLevel3 schemaBgColorLevel1 etvorspalte\" id=\"Z39S1\">Psychische und Verhaltensstörungen</th><td class=\"schemaBorderColorLevel3 etzelle\" headers=\"Z2S1 Z5S1 Z39S1 Z3S2 Z4S2\" style=\"white-space: nowrap\">22 848</td><td class=\"schemaBorderColorLevel3 etzelle\" headers=\"Z2S1 Z5S1 Z39S1 Z3S2 Z4S3\" style=\"white-space: nowrap\">37 142</td><td class=\"schemaBorderColorLevel3 etzelle\" headers=\"Z2S1 Z5S1 Z39S1 Z3S2 Z4S4\" style=\"white-space: nowrap\">59 990</td></tr>,\n",
       " <tr><th class=\"schemaBorderColorLevel3 schemaBgColorLevel1 etvorspalte\" id=\"Z40S1\">Psychische und Verhaltensstörungen durch Alkohol</th><td class=\"schemaBorderColorLevel3 etzelle\" headers=\"Z2S1 Z5S1 Z40S1 Z3S2 Z4S2\" style=\"white-space: nowrap\">3 842</td><td class=\"schemaBorderColorLevel3 etzelle\" headers=\"Z2S1 Z5S1 Z40S1 Z3S2 Z4S3\" style=\"white-space: nowrap\">1 122</td><td class=\"schemaBorderColorLevel3 etzelle\" headers=\"Z2S1 Z5S1 Z40S1 Z3S2 Z4S4\" style=\"white-space: nowrap\">4 964</td></tr>,\n",
       " <tr><th class=\"schemaBorderColorLevel3 schemaBgColorLevel1 etvorspalte\" id=\"Z41S1\"><input name=\"option$$$006TODESURS37\" title=\"Anzeigen von Informationen zu Merkmalsausprägung mit dem Namen 'TODESURS37'\" type=\"submit\" value=\"Psych. u. Verhaltensstörungen d.a.psychotr. Subst.\"/></th><td class=\"schemaBorderColorLevel3 etzelle\" headers=\"Z2S1 Z5S1 Z41S1 Z3S2 Z4S2\" style=\"white-space: nowrap\">499</td><td class=\"schemaBorderColorLevel3 etzelle\" headers=\"Z2S1 Z5S1 Z41S1 Z3S2 Z4S3\" style=\"white-space: nowrap\">142</td><td class=\"schemaBorderColorLevel3 etzelle\" headers=\"Z2S1 Z5S1 Z41S1 Z3S2 Z4S4\" style=\"white-space: nowrap\">641</td></tr>,\n",
       " <tr><th class=\"schemaBorderColorLevel3 schemaBgColorLevel1 etvorspalte\" id=\"Z42S1\"><input name=\"option$$$006TODESURS38\" title=\"Anzeigen von Informationen zu Merkmalsausprägung mit dem Namen 'TODESURS38'\" type=\"submit\" value=\"Krankheiten d. Nervensystems u. d. Sinnesorgane\"/></th><td class=\"schemaBorderColorLevel3 etzelle\" headers=\"Z2S1 Z5S1 Z42S1 Z3S2 Z4S2\" style=\"white-space: nowrap\">17 974</td><td class=\"schemaBorderColorLevel3 etzelle\" headers=\"Z2S1 Z5S1 Z42S1 Z3S2 Z4S3\" style=\"white-space: nowrap\">17 804</td><td class=\"schemaBorderColorLevel3 etzelle\" headers=\"Z2S1 Z5S1 Z42S1 Z3S2 Z4S4\" style=\"white-space: nowrap\">35 778</td></tr>,\n",
       " <tr><th class=\"schemaBorderColorLevel3 schemaBgColorLevel1 etvorspalte\" id=\"Z43S1\">Meningitis</th><td class=\"schemaBorderColorLevel3 etzelle\" headers=\"Z2S1 Z5S1 Z43S1 Z3S2 Z4S2\" style=\"white-space: nowrap\">54</td><td class=\"schemaBorderColorLevel3 etzelle\" headers=\"Z2S1 Z5S1 Z43S1 Z3S2 Z4S3\" style=\"white-space: nowrap\">47</td><td class=\"schemaBorderColorLevel3 etzelle\" headers=\"Z2S1 Z5S1 Z43S1 Z3S2 Z4S4\" style=\"white-space: nowrap\">101</td></tr>,\n",
       " <tr><th class=\"schemaBorderColorLevel3 schemaBgColorLevel1 etvorspalte\" id=\"Z44S1\">Krankheiten des Kreislaufsystems</th><td class=\"schemaBorderColorLevel3 etzelle\" headers=\"Z2S1 Z5S1 Z44S1 Z3S2 Z4S2\" style=\"white-space: nowrap\">159 846</td><td class=\"schemaBorderColorLevel3 etzelle\" headers=\"Z2S1 Z5S1 Z44S1 Z3S2 Z4S3\" style=\"white-space: nowrap\">180 773</td><td class=\"schemaBorderColorLevel3 etzelle\" headers=\"Z2S1 Z5S1 Z44S1 Z3S2 Z4S4\" style=\"white-space: nowrap\">340 619</td></tr>,\n",
       " <tr><th class=\"schemaBorderColorLevel3 schemaBgColorLevel1 etvorspalte\" id=\"Z45S1\">Hypertonie (Hochdruckkrankheit)</th><td class=\"schemaBorderColorLevel3 etzelle\" headers=\"Z2S1 Z5S1 Z45S1 Z3S2 Z4S2\" style=\"white-space: nowrap\">16 529</td><td class=\"schemaBorderColorLevel3 etzelle\" headers=\"Z2S1 Z5S1 Z45S1 Z3S2 Z4S3\" style=\"white-space: nowrap\">32 332</td><td class=\"schemaBorderColorLevel3 etzelle\" headers=\"Z2S1 Z5S1 Z45S1 Z3S2 Z4S4\" style=\"white-space: nowrap\">48 861</td></tr>,\n",
       " <tr><th class=\"schemaBorderColorLevel3 schemaBgColorLevel1 etvorspalte\" id=\"Z46S1\">Ischämische Herzkrankheiten</th><td class=\"schemaBorderColorLevel3 etzelle\" headers=\"Z2S1 Z5S1 Z46S1 Z3S2 Z4S2\" style=\"white-space: nowrap\">68 900</td><td class=\"schemaBorderColorLevel3 etzelle\" headers=\"Z2S1 Z5S1 Z46S1 Z3S2 Z4S3\" style=\"white-space: nowrap\">52 272</td><td class=\"schemaBorderColorLevel3 etzelle\" headers=\"Z2S1 Z5S1 Z46S1 Z3S2 Z4S4\" style=\"white-space: nowrap\">121 172</td></tr>,\n",
       " <tr><th class=\"schemaBorderColorLevel3 schemaBgColorLevel1 etvorspalte\" id=\"Z47S1\">Akuter oder rezidivierender Myokardinfarkt</th><td class=\"schemaBorderColorLevel3 etzelle\" headers=\"Z2S1 Z5S1 Z47S1 Z3S2 Z4S2\" style=\"white-space: nowrap\">27 107</td><td class=\"schemaBorderColorLevel3 etzelle\" headers=\"Z2S1 Z5S1 Z47S1 Z3S2 Z4S3\" style=\"white-space: nowrap\">18 074</td><td class=\"schemaBorderColorLevel3 etzelle\" headers=\"Z2S1 Z5S1 Z47S1 Z3S2 Z4S4\" style=\"white-space: nowrap\">45 181</td></tr>,\n",
       " <tr><th class=\"schemaBorderColorLevel3 schemaBgColorLevel1 etvorspalte\" id=\"Z48S1\">Sonstige Formen der Herzkrankheit</th><td class=\"schemaBorderColorLevel3 etzelle\" headers=\"Z2S1 Z5S1 Z48S1 Z3S2 Z4S2\" style=\"white-space: nowrap\">31 899</td><td class=\"schemaBorderColorLevel3 etzelle\" headers=\"Z2S1 Z5S1 Z48S1 Z3S2 Z4S3\" style=\"white-space: nowrap\">43 114</td><td class=\"schemaBorderColorLevel3 etzelle\" headers=\"Z2S1 Z5S1 Z48S1 Z3S2 Z4S4\" style=\"white-space: nowrap\">75 013</td></tr>,\n",
       " <tr><th class=\"schemaBorderColorLevel3 schemaBgColorLevel1 etvorspalte\" id=\"Z49S1\">Sonstige Krankheiten des Endokards</th><td class=\"schemaBorderColorLevel3 etzelle\" headers=\"Z2S1 Z5S1 Z49S1 Z3S2 Z4S2\" style=\"white-space: nowrap\">6 560</td><td class=\"schemaBorderColorLevel3 etzelle\" headers=\"Z2S1 Z5S1 Z49S1 Z3S2 Z4S3\" style=\"white-space: nowrap\">8 428</td><td class=\"schemaBorderColorLevel3 etzelle\" headers=\"Z2S1 Z5S1 Z49S1 Z3S2 Z4S4\" style=\"white-space: nowrap\">14 988</td></tr>,\n",
       " <tr><th class=\"schemaBorderColorLevel3 schemaBgColorLevel1 etvorspalte\" id=\"Z50S1\">Zerebrovaskuläre Krankheiten</th><td class=\"schemaBorderColorLevel3 etzelle\" headers=\"Z2S1 Z5S1 Z50S1 Z3S2 Z4S2\" style=\"white-space: nowrap\">23 487</td><td class=\"schemaBorderColorLevel3 etzelle\" headers=\"Z2S1 Z5S1 Z50S1 Z3S2 Z4S3\" style=\"white-space: nowrap\">29 595</td><td class=\"schemaBorderColorLevel3 etzelle\" headers=\"Z2S1 Z5S1 Z50S1 Z3S2 Z4S4\" style=\"white-space: nowrap\">53 082</td></tr>,\n",
       " <tr><th class=\"schemaBorderColorLevel3 schemaBgColorLevel1 etvorspalte\" id=\"Z51S1\"><input name=\"option$$$006TODESURS47\" title=\"Anzeigen von Informationen zu Merkmalsausprägung mit dem Namen 'TODESURS47'\" type=\"submit\" value=\"Schlaganfall, nicht als Blutung oder Infarkt bez.\"/></th><td class=\"schemaBorderColorLevel3 etzelle\" headers=\"Z2S1 Z5S1 Z51S1 Z3S2 Z4S2\" style=\"white-space: nowrap\">4 291</td><td class=\"schemaBorderColorLevel3 etzelle\" headers=\"Z2S1 Z5S1 Z51S1 Z3S2 Z4S3\" style=\"white-space: nowrap\">6 338</td><td class=\"schemaBorderColorLevel3 etzelle\" headers=\"Z2S1 Z5S1 Z51S1 Z3S2 Z4S4\" style=\"white-space: nowrap\">10 629</td></tr>,\n",
       " <tr><th class=\"schemaBorderColorLevel3 schemaBgColorLevel1 etvorspalte\" id=\"Z52S1\">Krankheiten der Arterien, Arteriolen und Kapillare</th><td class=\"schemaBorderColorLevel3 etzelle\" headers=\"Z2S1 Z5S1 Z52S1 Z3S2 Z4S2\" style=\"white-space: nowrap\">6 061</td><td class=\"schemaBorderColorLevel3 etzelle\" headers=\"Z2S1 Z5S1 Z52S1 Z3S2 Z4S3\" style=\"white-space: nowrap\">5 725</td><td class=\"schemaBorderColorLevel3 etzelle\" headers=\"Z2S1 Z5S1 Z52S1 Z3S2 Z4S4\" style=\"white-space: nowrap\">11 786</td></tr>,\n",
       " <tr><th class=\"schemaBorderColorLevel3 schemaBgColorLevel1 etvorspalte\" id=\"Z53S1\">Krankheiten des Atmungssystems</th><td class=\"schemaBorderColorLevel3 etzelle\" headers=\"Z2S1 Z5S1 Z53S1 Z3S2 Z4S2\" style=\"white-space: nowrap\">31 841</td><td class=\"schemaBorderColorLevel3 etzelle\" headers=\"Z2S1 Z5S1 Z53S1 Z3S2 Z4S3\" style=\"white-space: nowrap\">25 475</td><td class=\"schemaBorderColorLevel3 etzelle\" headers=\"Z2S1 Z5S1 Z53S1 Z3S2 Z4S4\" style=\"white-space: nowrap\">57 316</td></tr>,\n",
       " <tr><th class=\"schemaBorderColorLevel3 schemaBgColorLevel1 etvorspalte\" id=\"Z54S1\">Grippe</th><td class=\"schemaBorderColorLevel3 etzelle\" headers=\"Z2S1 Z5S1 Z54S1 Z3S2 Z4S2\" style=\"white-space: nowrap\">22</td><td class=\"schemaBorderColorLevel3 etzelle\" headers=\"Z2S1 Z5S1 Z54S1 Z3S2 Z4S3\" style=\"white-space: nowrap\">16</td><td class=\"schemaBorderColorLevel3 etzelle\" headers=\"Z2S1 Z5S1 Z54S1 Z3S2 Z4S4\" style=\"white-space: nowrap\">38</td></tr>,\n",
       " <tr><th class=\"schemaBorderColorLevel3 schemaBgColorLevel1 etvorspalte\" id=\"Z55S1\">Pneumonie</th><td class=\"schemaBorderColorLevel3 etzelle\" headers=\"Z2S1 Z5S1 Z55S1 Z3S2 Z4S2\" style=\"white-space: nowrap\">7 831</td><td class=\"schemaBorderColorLevel3 etzelle\" headers=\"Z2S1 Z5S1 Z55S1 Z3S2 Z4S3\" style=\"white-space: nowrap\">6 268</td><td class=\"schemaBorderColorLevel3 etzelle\" headers=\"Z2S1 Z5S1 Z55S1 Z3S2 Z4S4\" style=\"white-space: nowrap\">14 099</td></tr>,\n",
       " <tr><th class=\"schemaBorderColorLevel3 schemaBgColorLevel1 etvorspalte\" id=\"Z56S1\">Chronische Krankheiten der unteren Atemwege</th><td class=\"schemaBorderColorLevel3 etzelle\" headers=\"Z2S1 Z5S1 Z56S1 Z3S2 Z4S2\" style=\"white-space: nowrap\">17 285</td><td class=\"schemaBorderColorLevel3 etzelle\" headers=\"Z2S1 Z5S1 Z56S1 Z3S2 Z4S3\" style=\"white-space: nowrap\">14 724</td><td class=\"schemaBorderColorLevel3 etzelle\" headers=\"Z2S1 Z5S1 Z56S1 Z3S2 Z4S4\" style=\"white-space: nowrap\">32 009</td></tr>,\n",
       " <tr><th class=\"schemaBorderColorLevel3 schemaBgColorLevel1 etvorspalte\" id=\"Z57S1\">Asthma</th><td class=\"schemaBorderColorLevel3 etzelle\" headers=\"Z2S1 Z5S1 Z57S1 Z3S2 Z4S2\" style=\"white-space: nowrap\">406</td><td class=\"schemaBorderColorLevel3 etzelle\" headers=\"Z2S1 Z5S1 Z57S1 Z3S2 Z4S3\" style=\"white-space: nowrap\">643</td><td class=\"schemaBorderColorLevel3 etzelle\" headers=\"Z2S1 Z5S1 Z57S1 Z3S2 Z4S4\" style=\"white-space: nowrap\">1 049</td></tr>,\n",
       " <tr><th class=\"schemaBorderColorLevel3 schemaBgColorLevel1 etvorspalte\" id=\"Z58S1\">COVID-19, Virus nachgewiesen</th><td class=\"schemaBorderColorLevel3 etzelle\" headers=\"Z2S1 Z5S1 Z58S1 Z3S2 Z4S2\" style=\"white-space: nowrap\">38 862</td><td class=\"schemaBorderColorLevel3 etzelle\" headers=\"Z2S1 Z5S1 Z58S1 Z3S2 Z4S3\" style=\"white-space: nowrap\">31 897</td><td class=\"schemaBorderColorLevel3 etzelle\" headers=\"Z2S1 Z5S1 Z58S1 Z3S2 Z4S4\" style=\"white-space: nowrap\">70 759</td></tr>,\n",
       " <tr><th class=\"schemaBorderColorLevel3 schemaBgColorLevel1 etvorspalte\" id=\"Z59S1\">COVID-19, Virus nicht nachgewiesen</th><td class=\"schemaBorderColorLevel3 etzelle\" headers=\"Z2S1 Z5S1 Z59S1 Z3S2 Z4S2\" style=\"white-space: nowrap\">306</td><td class=\"schemaBorderColorLevel3 etzelle\" headers=\"Z2S1 Z5S1 Z59S1 Z3S2 Z4S3\" style=\"white-space: nowrap\">266</td><td class=\"schemaBorderColorLevel3 etzelle\" headers=\"Z2S1 Z5S1 Z59S1 Z3S2 Z4S4\" style=\"white-space: nowrap\">572</td></tr>,\n",
       " <tr><th class=\"schemaBorderColorLevel3 schemaBgColorLevel1 etvorspalte\" id=\"Z60S1\">Krankheiten des Verdauungssystems</th><td class=\"schemaBorderColorLevel3 etzelle\" headers=\"Z2S1 Z5S1 Z60S1 Z3S2 Z4S2\" style=\"white-space: nowrap\">23 508</td><td class=\"schemaBorderColorLevel3 etzelle\" headers=\"Z2S1 Z5S1 Z60S1 Z3S2 Z4S3\" style=\"white-space: nowrap\">20 209</td><td class=\"schemaBorderColorLevel3 etzelle\" headers=\"Z2S1 Z5S1 Z60S1 Z3S2 Z4S4\" style=\"white-space: nowrap\">43 717</td></tr>,\n",
       " <tr><th class=\"schemaBorderColorLevel3 schemaBgColorLevel1 etvorspalte\" id=\"Z61S1\"><input name=\"option$$$006TODESURS55\" title=\"Anzeigen von Informationen zu Merkmalsausprägung mit dem Namen 'TODESURS55'\" type=\"submit\" value=\"Ulcus ventriculi, duodeni, pepticum, pept. jejuni\"/></th><td class=\"schemaBorderColorLevel3 etzelle\" headers=\"Z2S1 Z5S1 Z61S1 Z3S2 Z4S2\" style=\"white-space: nowrap\">1 300</td><td class=\"schemaBorderColorLevel3 etzelle\" headers=\"Z2S1 Z5S1 Z61S1 Z3S2 Z4S3\" style=\"white-space: nowrap\">1 345</td><td class=\"schemaBorderColorLevel3 etzelle\" headers=\"Z2S1 Z5S1 Z61S1 Z3S2 Z4S4\" style=\"white-space: nowrap\">2 645</td></tr>,\n",
       " <tr><th class=\"schemaBorderColorLevel3 schemaBgColorLevel1 etvorspalte\" id=\"Z62S1\">Krankheiten der Leber</th><td class=\"schemaBorderColorLevel3 etzelle\" headers=\"Z2S1 Z5S1 Z62S1 Z3S2 Z4S2\" style=\"white-space: nowrap\">10 987</td><td class=\"schemaBorderColorLevel3 etzelle\" headers=\"Z2S1 Z5S1 Z62S1 Z3S2 Z4S3\" style=\"white-space: nowrap\">5 919</td><td class=\"schemaBorderColorLevel3 etzelle\" headers=\"Z2S1 Z5S1 Z62S1 Z3S2 Z4S4\" style=\"white-space: nowrap\">16 906</td></tr>,\n",
       " <tr><th class=\"schemaBorderColorLevel3 schemaBgColorLevel1 etvorspalte\" id=\"Z63S1\"><input name=\"option$$$006TODESURS57\" title=\"Anzeigen von Informationen zu Merkmalsausprägung mit dem Namen 'TODESURS57'\" type=\"submit\" value=\"Alkoh.Leberkh.,Chron.Hepatitis,Leberfibr.u.-zirr.\"/></th><td class=\"schemaBorderColorLevel3 etzelle\" headers=\"Z2S1 Z5S1 Z63S1 Z3S2 Z4S2\" style=\"white-space: nowrap\">10 189</td><td class=\"schemaBorderColorLevel3 etzelle\" headers=\"Z2S1 Z5S1 Z63S1 Z3S2 Z4S3\" style=\"white-space: nowrap\">5 062</td><td class=\"schemaBorderColorLevel3 etzelle\" headers=\"Z2S1 Z5S1 Z63S1 Z3S2 Z4S4\" style=\"white-space: nowrap\">15 251</td></tr>,\n",
       " <tr><th class=\"schemaBorderColorLevel3 schemaBgColorLevel1 etvorspalte\" id=\"Z64S1\">Krankheiten der Haut und der Unterhaut</th><td class=\"schemaBorderColorLevel3 etzelle\" headers=\"Z2S1 Z5S1 Z64S1 Z3S2 Z4S2\" style=\"white-space: nowrap\">710</td><td class=\"schemaBorderColorLevel3 etzelle\" headers=\"Z2S1 Z5S1 Z64S1 Z3S2 Z4S3\" style=\"white-space: nowrap\">1 047</td><td class=\"schemaBorderColorLevel3 etzelle\" headers=\"Z2S1 Z5S1 Z64S1 Z3S2 Z4S4\" style=\"white-space: nowrap\">1 757</td></tr>,\n",
       " <tr><th class=\"schemaBorderColorLevel3 schemaBgColorLevel1 etvorspalte\" id=\"Z65S1\"><input name=\"option$$$006TODESURS59\" title=\"Anzeigen von Informationen zu Merkmalsausprägung mit dem Namen 'TODESURS59'\" type=\"submit\" value=\"Krankh. des Muskel-Skelett-Systems u. Bindegewebes\"/></th><td class=\"schemaBorderColorLevel3 etzelle\" headers=\"Z2S1 Z5S1 Z65S1 Z3S2 Z4S2\" style=\"white-space: nowrap\">2 307</td><td class=\"schemaBorderColorLevel3 etzelle\" headers=\"Z2S1 Z5S1 Z65S1 Z3S2 Z4S3\" style=\"white-space: nowrap\">3 718</td><td class=\"schemaBorderColorLevel3 etzelle\" headers=\"Z2S1 Z5S1 Z65S1 Z3S2 Z4S4\" style=\"white-space: nowrap\">6 025</td></tr>,\n",
       " <tr><th class=\"schemaBorderColorLevel3 schemaBgColorLevel1 etvorspalte\" id=\"Z66S1\">Chronische Polyarthritis und Arthrose</th><td class=\"schemaBorderColorLevel3 etzelle\" headers=\"Z2S1 Z5S1 Z66S1 Z3S2 Z4S2\" style=\"white-space: nowrap\">449</td><td class=\"schemaBorderColorLevel3 etzelle\" headers=\"Z2S1 Z5S1 Z66S1 Z3S2 Z4S3\" style=\"white-space: nowrap\">1 038</td><td class=\"schemaBorderColorLevel3 etzelle\" headers=\"Z2S1 Z5S1 Z66S1 Z3S2 Z4S4\" style=\"white-space: nowrap\">1 487</td></tr>,\n",
       " <tr><th class=\"schemaBorderColorLevel3 schemaBgColorLevel1 etvorspalte\" id=\"Z67S1\">Krankheiten des Urogenitalsystems</th><td class=\"schemaBorderColorLevel3 etzelle\" headers=\"Z2S1 Z5S1 Z67S1 Z3S2 Z4S2\" style=\"white-space: nowrap\">12 065</td><td class=\"schemaBorderColorLevel3 etzelle\" headers=\"Z2S1 Z5S1 Z67S1 Z3S2 Z4S3\" style=\"white-space: nowrap\">14 207</td><td class=\"schemaBorderColorLevel3 etzelle\" headers=\"Z2S1 Z5S1 Z67S1 Z3S2 Z4S4\" style=\"white-space: nowrap\">26 272</td></tr>,\n",
       " <tr><th class=\"schemaBorderColorLevel3 schemaBgColorLevel1 etvorspalte\" id=\"Z68S1\">Krankheiten der Niere</th><td class=\"schemaBorderColorLevel3 etzelle\" headers=\"Z2S1 Z5S1 Z68S1 Z3S2 Z4S2\" style=\"white-space: nowrap\">8 416</td><td class=\"schemaBorderColorLevel3 etzelle\" headers=\"Z2S1 Z5S1 Z68S1 Z3S2 Z4S3\" style=\"white-space: nowrap\">10 377</td><td class=\"schemaBorderColorLevel3 etzelle\" headers=\"Z2S1 Z5S1 Z68S1 Z3S2 Z4S4\" style=\"white-space: nowrap\">18 793</td></tr>,\n",
       " <tr><th class=\"schemaBorderColorLevel3 schemaBgColorLevel1 etvorspalte\" id=\"Z69S1\">Schwangerschaft, Geburt und Wochenbett</th><td class=\"schemaBorderColorLevel3 etzelle\" headers=\"Z2S1 Z5S1 Z69S1 Z3S2 Z4S2\" style=\"white-space: nowrap\"><abbr title=\"nichts vorhanden\">-</abbr></td><td class=\"schemaBorderColorLevel3 etzelle\" headers=\"Z2S1 Z5S1 Z69S1 Z3S2 Z4S3\" style=\"white-space: nowrap\">28</td><td class=\"schemaBorderColorLevel3 etzelle\" headers=\"Z2S1 Z5S1 Z69S1 Z3S2 Z4S4\" style=\"white-space: nowrap\">28</td></tr>,\n",
       " <tr><th class=\"schemaBorderColorLevel3 schemaBgColorLevel1 etvorspalte\" id=\"Z70S1\"><input name=\"option$$$006TODESURS64\" title=\"Anzeigen von Informationen zu Merkmalsausprägung mit dem Namen 'TODESURS64'\" type=\"submit\" value=\"Best.Zustände mit Ursprung in der Perinatalperiode\"/></th><td class=\"schemaBorderColorLevel3 etzelle\" headers=\"Z2S1 Z5S1 Z70S1 Z3S2 Z4S2\" style=\"white-space: nowrap\">777</td><td class=\"schemaBorderColorLevel3 etzelle\" headers=\"Z2S1 Z5S1 Z70S1 Z3S2 Z4S3\" style=\"white-space: nowrap\">565</td><td class=\"schemaBorderColorLevel3 etzelle\" headers=\"Z2S1 Z5S1 Z70S1 Z3S2 Z4S4\" style=\"white-space: nowrap\">1 342</td></tr>,\n",
       " <tr><th class=\"schemaBorderColorLevel3 schemaBgColorLevel1 etvorspalte\" id=\"Z71S1\"><input name=\"option$$$006TODESURS65\" title=\"Anzeigen von Informationen zu Merkmalsausprägung mit dem Namen 'TODESURS65'\" type=\"submit\" value=\"Angeb. Fehlbildungen,Deformitäten,Chromosomenanom.\"/></th><td class=\"schemaBorderColorLevel3 etzelle\" headers=\"Z2S1 Z5S1 Z71S1 Z3S2 Z4S2\" style=\"white-space: nowrap\">1 116</td><td class=\"schemaBorderColorLevel3 etzelle\" headers=\"Z2S1 Z5S1 Z71S1 Z3S2 Z4S3\" style=\"white-space: nowrap\">1 011</td><td class=\"schemaBorderColorLevel3 etzelle\" headers=\"Z2S1 Z5S1 Z71S1 Z3S2 Z4S4\" style=\"white-space: nowrap\">2 127</td></tr>,\n",
       " <tr><th class=\"schemaBorderColorLevel3 schemaBgColorLevel1 etvorspalte\" id=\"Z72S1\">Angeborene Fehlbildungen des Nervensystems</th><td class=\"schemaBorderColorLevel3 etzelle\" headers=\"Z2S1 Z5S1 Z72S1 Z3S2 Z4S2\" style=\"white-space: nowrap\">86</td><td class=\"schemaBorderColorLevel3 etzelle\" headers=\"Z2S1 Z5S1 Z72S1 Z3S2 Z4S3\" style=\"white-space: nowrap\">97</td><td class=\"schemaBorderColorLevel3 etzelle\" headers=\"Z2S1 Z5S1 Z72S1 Z3S2 Z4S4\" style=\"white-space: nowrap\">183</td></tr>,\n",
       " <tr><th class=\"schemaBorderColorLevel3 schemaBgColorLevel1 etvorspalte\" id=\"Z73S1\">Angeborene Fehlbildungen des Kreislaufsystems</th><td class=\"schemaBorderColorLevel3 etzelle\" headers=\"Z2S1 Z5S1 Z73S1 Z3S2 Z4S2\" style=\"white-space: nowrap\">337</td><td class=\"schemaBorderColorLevel3 etzelle\" headers=\"Z2S1 Z5S1 Z73S1 Z3S2 Z4S3\" style=\"white-space: nowrap\">269</td><td class=\"schemaBorderColorLevel3 etzelle\" headers=\"Z2S1 Z5S1 Z73S1 Z3S2 Z4S4\" style=\"white-space: nowrap\">606</td></tr>,\n",
       " <tr><th class=\"schemaBorderColorLevel3 schemaBgColorLevel1 etvorspalte\" id=\"Z74S1\"><input name=\"option$$$006TODESURS68\" title=\"Anzeigen von Informationen zu Merkmalsausprägung mit dem Namen 'TODESURS68'\" type=\"submit\" value=\"Symptome und abnorme klinische und Laborbefunde\"/></th><td class=\"schemaBorderColorLevel3 etzelle\" headers=\"Z2S1 Z5S1 Z74S1 Z3S2 Z4S2\" style=\"white-space: nowrap\">22 638</td><td class=\"schemaBorderColorLevel3 etzelle\" headers=\"Z2S1 Z5S1 Z74S1 Z3S2 Z4S3\" style=\"white-space: nowrap\">16 091</td><td class=\"schemaBorderColorLevel3 etzelle\" headers=\"Z2S1 Z5S1 Z74S1 Z3S2 Z4S4\" style=\"white-space: nowrap\">38 729</td></tr>,\n",
       " <tr><th class=\"schemaBorderColorLevel3 schemaBgColorLevel1 etvorspalte\" id=\"Z75S1\">Plötzlicher Kindstod</th><td class=\"schemaBorderColorLevel3 etzelle\" headers=\"Z2S1 Z5S1 Z75S1 Z3S2 Z4S2\" style=\"white-space: nowrap\">47</td><td class=\"schemaBorderColorLevel3 etzelle\" headers=\"Z2S1 Z5S1 Z75S1 Z3S2 Z4S3\" style=\"white-space: nowrap\">35</td><td class=\"schemaBorderColorLevel3 etzelle\" headers=\"Z2S1 Z5S1 Z75S1 Z3S2 Z4S4\" style=\"white-space: nowrap\">82</td></tr>,\n",
       " <tr><th class=\"schemaBorderColorLevel3 schemaBgColorLevel1 etvorspalte\" id=\"Z76S1\"><input name=\"option$$$006TODESURS70\" title=\"Anzeigen von Informationen zu Merkmalsausprägung mit dem Namen 'TODESURS70'\" type=\"submit\" value=\"Sonst. ungenau bezeichnete u. unbek. Todesursachen\"/></th><td class=\"schemaBorderColorLevel3 etzelle\" headers=\"Z2S1 Z5S1 Z76S1 Z3S2 Z4S2\" style=\"white-space: nowrap\">20 927</td><td class=\"schemaBorderColorLevel3 etzelle\" headers=\"Z2S1 Z5S1 Z76S1 Z3S2 Z4S3\" style=\"white-space: nowrap\">12 891</td><td class=\"schemaBorderColorLevel3 etzelle\" headers=\"Z2S1 Z5S1 Z76S1 Z3S2 Z4S4\" style=\"white-space: nowrap\">33 818</td></tr>,\n",
       " <tr><th class=\"schemaBorderColorLevel3 schemaBgColorLevel1 etvorspalte\" id=\"Z77S1\">Äußere Ursachen von Morbidität und Mortalität</th><td class=\"schemaBorderColorLevel3 etzelle\" headers=\"Z2S1 Z5S1 Z77S1 Z3S2 Z4S2\" style=\"white-space: nowrap\">25 394</td><td class=\"schemaBorderColorLevel3 etzelle\" headers=\"Z2S1 Z5S1 Z77S1 Z3S2 Z4S3\" style=\"white-space: nowrap\">17 806</td><td class=\"schemaBorderColorLevel3 etzelle\" headers=\"Z2S1 Z5S1 Z77S1 Z3S2 Z4S4\" style=\"white-space: nowrap\">43 200</td></tr>,\n",
       " <tr><th class=\"schemaBorderColorLevel3 schemaBgColorLevel1 etvorspalte\" id=\"Z78S1\">Unfälle einschließlich Spätfolgen</th><td class=\"schemaBorderColorLevel3 etzelle\" headers=\"Z2S1 Z5S1 Z78S1 Z3S2 Z4S2\" style=\"white-space: nowrap\">17 189</td><td class=\"schemaBorderColorLevel3 etzelle\" headers=\"Z2S1 Z5S1 Z78S1 Z3S2 Z4S3\" style=\"white-space: nowrap\">14 403</td><td class=\"schemaBorderColorLevel3 etzelle\" headers=\"Z2S1 Z5S1 Z78S1 Z3S2 Z4S4\" style=\"white-space: nowrap\">31 592</td></tr>,\n",
       " <tr><th class=\"schemaBorderColorLevel3 schemaBgColorLevel1 etvorspalte\" id=\"Z79S1\">Transportmittelunfälle</th><td class=\"schemaBorderColorLevel3 etzelle\" headers=\"Z2S1 Z5S1 Z79S1 Z3S2 Z4S2\" style=\"white-space: nowrap\">2 269</td><td class=\"schemaBorderColorLevel3 etzelle\" headers=\"Z2S1 Z5S1 Z79S1 Z3S2 Z4S3\" style=\"white-space: nowrap\">639</td><td class=\"schemaBorderColorLevel3 etzelle\" headers=\"Z2S1 Z5S1 Z79S1 Z3S2 Z4S4\" style=\"white-space: nowrap\">2 908</td></tr>,\n",
       " <tr><th class=\"schemaBorderColorLevel3 schemaBgColorLevel1 etvorspalte\" id=\"Z80S1\">Stürze</th><td class=\"schemaBorderColorLevel3 etzelle\" headers=\"Z2S1 Z5S1 Z80S1 Z3S2 Z4S2\" style=\"white-space: nowrap\">9 020</td><td class=\"schemaBorderColorLevel3 etzelle\" headers=\"Z2S1 Z5S1 Z80S1 Z3S2 Z4S3\" style=\"white-space: nowrap\">9 163</td><td class=\"schemaBorderColorLevel3 etzelle\" headers=\"Z2S1 Z5S1 Z80S1 Z3S2 Z4S4\" style=\"white-space: nowrap\">18 183</td></tr>,\n",
       " <tr><th class=\"schemaBorderColorLevel3 schemaBgColorLevel1 etvorspalte\" id=\"Z81S1\">Ertrinken und Untergehen</th><td class=\"schemaBorderColorLevel3 etzelle\" headers=\"Z2S1 Z5S1 Z81S1 Z3S2 Z4S2\" style=\"white-space: nowrap\">281</td><td class=\"schemaBorderColorLevel3 etzelle\" headers=\"Z2S1 Z5S1 Z81S1 Z3S2 Z4S3\" style=\"white-space: nowrap\">111</td><td class=\"schemaBorderColorLevel3 etzelle\" headers=\"Z2S1 Z5S1 Z81S1 Z3S2 Z4S4\" style=\"white-space: nowrap\">392</td></tr>,\n",
       " <tr><th class=\"schemaBorderColorLevel3 schemaBgColorLevel1 etvorspalte\" id=\"Z82S1\">Exposition gegenüber Rauch, Feuer und Flammen</th><td class=\"schemaBorderColorLevel3 etzelle\" headers=\"Z2S1 Z5S1 Z82S1 Z3S2 Z4S2\" style=\"white-space: nowrap\">182</td><td class=\"schemaBorderColorLevel3 etzelle\" headers=\"Z2S1 Z5S1 Z82S1 Z3S2 Z4S3\" style=\"white-space: nowrap\">139</td><td class=\"schemaBorderColorLevel3 etzelle\" headers=\"Z2S1 Z5S1 Z82S1 Z3S2 Z4S4\" style=\"white-space: nowrap\">321</td></tr>,\n",
       " <tr><th class=\"schemaBorderColorLevel3 schemaBgColorLevel1 etvorspalte\" id=\"Z83S1\"><input name=\"option$$$006TODESURS77\" title=\"Anzeigen von Informationen zu Merkmalsausprägung mit dem Namen 'TODESURS77'\" type=\"submit\" value=\"Akzid. Vergiftung: schädl. Substanzen (inkl. Exp.)\"/></th><td class=\"schemaBorderColorLevel3 etzelle\" headers=\"Z2S1 Z5S1 Z83S1 Z3S2 Z4S2\" style=\"white-space: nowrap\">917</td><td class=\"schemaBorderColorLevel3 etzelle\" headers=\"Z2S1 Z5S1 Z83S1 Z3S2 Z4S3\" style=\"white-space: nowrap\">330</td><td class=\"schemaBorderColorLevel3 etzelle\" headers=\"Z2S1 Z5S1 Z83S1 Z3S2 Z4S4\" style=\"white-space: nowrap\">1 247</td></tr>,\n",
       " <tr><th class=\"schemaBorderColorLevel3 schemaBgColorLevel1 etvorspalte\" id=\"Z84S1\">Vorsätzliche Selbstbeschädigung</th><td class=\"schemaBorderColorLevel3 etzelle\" headers=\"Z2S1 Z5S1 Z84S1 Z3S2 Z4S2\" style=\"white-space: nowrap\">6 805</td><td class=\"schemaBorderColorLevel3 etzelle\" headers=\"Z2S1 Z5S1 Z84S1 Z3S2 Z4S3\" style=\"white-space: nowrap\">2 410</td><td class=\"schemaBorderColorLevel3 etzelle\" headers=\"Z2S1 Z5S1 Z84S1 Z3S2 Z4S4\" style=\"white-space: nowrap\">9 215</td></tr>,\n",
       " <tr><th class=\"schemaBorderColorLevel3 schemaBgColorLevel1 etvorspalte\" id=\"Z85S1\">Tätlicher Angriff</th><td class=\"schemaBorderColorLevel3 etzelle\" headers=\"Z2S1 Z5S1 Z85S1 Z3S2 Z4S2\" style=\"white-space: nowrap\">150</td><td class=\"schemaBorderColorLevel3 etzelle\" headers=\"Z2S1 Z5S1 Z85S1 Z3S2 Z4S3\" style=\"white-space: nowrap\">164</td><td class=\"schemaBorderColorLevel3 etzelle\" headers=\"Z2S1 Z5S1 Z85S1 Z3S2 Z4S4\" style=\"white-space: nowrap\">314</td></tr>,\n",
       " <tr><th class=\"schemaBorderColorLevel3 schemaBgColorLevel1 etvorspalte\" id=\"Z86S1\">Ereignis, dessen nähere Umstände unbestimmt sind</th><td class=\"schemaBorderColorLevel3 etzelle\" headers=\"Z2S1 Z5S1 Z86S1 Z3S2 Z4S2\" style=\"white-space: nowrap\">1 102</td><td class=\"schemaBorderColorLevel3 etzelle\" headers=\"Z2S1 Z5S1 Z86S1 Z3S2 Z4S3\" style=\"white-space: nowrap\">699</td><td class=\"schemaBorderColorLevel3 etzelle\" headers=\"Z2S1 Z5S1 Z86S1 Z3S2 Z4S4\" style=\"white-space: nowrap\">1 801</td></tr>,\n",
       " <tr><th class=\"schemaBorderColorLevel3 schemaBgColorLevel1 etvorspalte\" id=\"Z87S1\">Insgesamt</th><td class=\"schemaBorderColorLevel3 etzelle\" headers=\"Z2S1 Z5S1 Z87S1 Z3S2 Z4S2\" style=\"white-space: nowrap\">515 559</td><td class=\"schemaBorderColorLevel3 etzelle\" headers=\"Z2S1 Z5S1 Z87S1 Z3S2 Z4S3\" style=\"white-space: nowrap\">508 128</td><td class=\"schemaBorderColorLevel3 etzelle\" headers=\"Z2S1 Z5S1 Z87S1 Z3S2 Z4S4\" style=\"white-space: nowrap\">1 023 687</td></tr>]"
      ]
     },
     "execution_count": 173,
     "metadata": {},
     "output_type": "execute_result"
    }
   ],
   "source": [
    "rows = table.find_all('tbody')[0].find_all('tr') #untuk dapetin row nya saja\n",
    "rows"
   ]
  },
  {
   "cell_type": "code",
   "execution_count": 174,
   "metadata": {},
   "outputs": [
    {
     "data": {
      "text/plain": [
       "'Bestimmte infektiöse und parasitäre Krankheiten7 3557 51514 870'"
      ]
     },
     "execution_count": 174,
     "metadata": {},
     "output_type": "execute_result"
    }
   ],
   "source": [
    "table.find_all('tbody')[0].find_all('tr')[1].text"
   ]
  },
  {
   "cell_type": "code",
   "execution_count": 175,
   "metadata": {},
   "outputs": [
    {
     "name": "stdout",
     "output_type": "stream",
     "text": [
      "[]\n",
      "[<td class=\"schemaBorderColorLevel3 etzelle\" headers=\"Z2S1 Z5S1 Z6S1 Z3S2 Z4S2\" style=\"white-space: nowrap\">7 355</td>, <td class=\"schemaBorderColorLevel3 etzelle\" headers=\"Z2S1 Z5S1 Z6S1 Z3S2 Z4S3\" style=\"white-space: nowrap\">7 515</td>, <td class=\"schemaBorderColorLevel3 etzelle\" headers=\"Z2S1 Z5S1 Z6S1 Z3S2 Z4S4\" style=\"white-space: nowrap\">14 870</td>]\n",
      "[<td class=\"schemaBorderColorLevel3 etzelle\" headers=\"Z2S1 Z5S1 Z7S1 Z3S2 Z4S2\" style=\"white-space: nowrap\">161</td>, <td class=\"schemaBorderColorLevel3 etzelle\" headers=\"Z2S1 Z5S1 Z7S1 Z3S2 Z4S3\" style=\"white-space: nowrap\">106</td>, <td class=\"schemaBorderColorLevel3 etzelle\" headers=\"Z2S1 Z5S1 Z7S1 Z3S2 Z4S4\" style=\"white-space: nowrap\">267</td>]\n",
      "[<td class=\"schemaBorderColorLevel3 etzelle\" headers=\"Z2S1 Z5S1 Z8S1 Z3S2 Z4S2\" style=\"white-space: nowrap\">8</td>, <td class=\"schemaBorderColorLevel3 etzelle\" headers=\"Z2S1 Z5S1 Z8S1 Z3S2 Z4S3\" style=\"white-space: nowrap\">7</td>, <td class=\"schemaBorderColorLevel3 etzelle\" headers=\"Z2S1 Z5S1 Z8S1 Z3S2 Z4S4\" style=\"white-space: nowrap\">15</td>]\n",
      "[<td class=\"schemaBorderColorLevel3 etzelle\" headers=\"Z2S1 Z5S1 Z9S1 Z3S2 Z4S2\" style=\"white-space: nowrap\">307</td>, <td class=\"schemaBorderColorLevel3 etzelle\" headers=\"Z2S1 Z5S1 Z9S1 Z3S2 Z4S3\" style=\"white-space: nowrap\">204</td>, <td class=\"schemaBorderColorLevel3 etzelle\" headers=\"Z2S1 Z5S1 Z9S1 Z3S2 Z4S4\" style=\"white-space: nowrap\">511</td>]\n",
      "[<td class=\"schemaBorderColorLevel3 etzelle\" headers=\"Z2S1 Z5S1 Z10S1 Z3S2 Z4S2\" style=\"white-space: nowrap\">176</td>, <td class=\"schemaBorderColorLevel3 etzelle\" headers=\"Z2S1 Z5S1 Z10S1 Z3S2 Z4S3\" style=\"white-space: nowrap\">42</td>, <td class=\"schemaBorderColorLevel3 etzelle\" headers=\"Z2S1 Z5S1 Z10S1 Z3S2 Z4S4\" style=\"white-space: nowrap\">218</td>]\n",
      "[<td class=\"schemaBorderColorLevel3 etzelle\" headers=\"Z2S1 Z5S1 Z11S1 Z3S2 Z4S2\" style=\"white-space: nowrap\">127 968</td>, <td class=\"schemaBorderColorLevel3 etzelle\" headers=\"Z2S1 Z5S1 Z11S1 Z3S2 Z4S3\" style=\"white-space: nowrap\">109 192</td>, <td class=\"schemaBorderColorLevel3 etzelle\" headers=\"Z2S1 Z5S1 Z11S1 Z3S2 Z4S4\" style=\"white-space: nowrap\">237 160</td>]\n",
      "[<td class=\"schemaBorderColorLevel3 etzelle\" headers=\"Z2S1 Z5S1 Z12S1 Z3S2 Z4S2\" style=\"white-space: nowrap\">124 006</td>, <td class=\"schemaBorderColorLevel3 etzelle\" headers=\"Z2S1 Z5S1 Z12S1 Z3S2 Z4S3\" style=\"white-space: nowrap\">105 062</td>, <td class=\"schemaBorderColorLevel3 etzelle\" headers=\"Z2S1 Z5S1 Z12S1 Z3S2 Z4S4\" style=\"white-space: nowrap\">229 068</td>]\n",
      "[<td class=\"schemaBorderColorLevel3 etzelle\" headers=\"Z2S1 Z5S1 Z13S1 Z3S2 Z4S2\" style=\"white-space: nowrap\">3 796</td>, <td class=\"schemaBorderColorLevel3 etzelle\" headers=\"Z2S1 Z5S1 Z13S1 Z3S2 Z4S3\" style=\"white-space: nowrap\">1 421</td>, <td class=\"schemaBorderColorLevel3 etzelle\" headers=\"Z2S1 Z5S1 Z13S1 Z3S2 Z4S4\" style=\"white-space: nowrap\">5 217</td>]\n",
      "[<td class=\"schemaBorderColorLevel3 etzelle\" headers=\"Z2S1 Z5S1 Z14S1 Z3S2 Z4S2\" style=\"white-space: nowrap\">4 444</td>, <td class=\"schemaBorderColorLevel3 etzelle\" headers=\"Z2S1 Z5S1 Z14S1 Z3S2 Z4S3\" style=\"white-space: nowrap\">1 368</td>, <td class=\"schemaBorderColorLevel3 etzelle\" headers=\"Z2S1 Z5S1 Z14S1 Z3S2 Z4S4\" style=\"white-space: nowrap\">5 812</td>]\n",
      "[<td class=\"schemaBorderColorLevel3 etzelle\" headers=\"Z2S1 Z5S1 Z15S1 Z3S2 Z4S2\" style=\"white-space: nowrap\">4 976</td>, <td class=\"schemaBorderColorLevel3 etzelle\" headers=\"Z2S1 Z5S1 Z15S1 Z3S2 Z4S3\" style=\"white-space: nowrap\">3 320</td>, <td class=\"schemaBorderColorLevel3 etzelle\" headers=\"Z2S1 Z5S1 Z15S1 Z3S2 Z4S4\" style=\"white-space: nowrap\">8 296</td>]\n",
      "[<td class=\"schemaBorderColorLevel3 etzelle\" headers=\"Z2S1 Z5S1 Z16S1 Z3S2 Z4S2\" style=\"white-space: nowrap\">7 820</td>, <td class=\"schemaBorderColorLevel3 etzelle\" headers=\"Z2S1 Z5S1 Z16S1 Z3S2 Z4S3\" style=\"white-space: nowrap\">7 252</td>, <td class=\"schemaBorderColorLevel3 etzelle\" headers=\"Z2S1 Z5S1 Z16S1 Z3S2 Z4S4\" style=\"white-space: nowrap\">15 072</td>]\n",
      "[<td class=\"schemaBorderColorLevel3 etzelle\" headers=\"Z2S1 Z5S1 Z17S1 Z3S2 Z4S2\" style=\"white-space: nowrap\">4 744</td>, <td class=\"schemaBorderColorLevel3 etzelle\" headers=\"Z2S1 Z5S1 Z17S1 Z3S2 Z4S3\" style=\"white-space: nowrap\">3 049</td>, <td class=\"schemaBorderColorLevel3 etzelle\" headers=\"Z2S1 Z5S1 Z17S1 Z3S2 Z4S4\" style=\"white-space: nowrap\">7 793</td>]\n",
      "[<td class=\"schemaBorderColorLevel3 etzelle\" headers=\"Z2S1 Z5S1 Z18S1 Z3S2 Z4S2\" style=\"white-space: nowrap\">16 708</td>, <td class=\"schemaBorderColorLevel3 etzelle\" headers=\"Z2S1 Z5S1 Z18S1 Z3S2 Z4S3\" style=\"white-space: nowrap\">14 286</td>, <td class=\"schemaBorderColorLevel3 etzelle\" headers=\"Z2S1 Z5S1 Z18S1 Z3S2 Z4S4\" style=\"white-space: nowrap\">30 994</td>]\n",
      "[<td class=\"schemaBorderColorLevel3 etzelle\" headers=\"Z2S1 Z5S1 Z19S1 Z3S2 Z4S2\" style=\"white-space: nowrap\">5 455</td>, <td class=\"schemaBorderColorLevel3 etzelle\" headers=\"Z2S1 Z5S1 Z19S1 Z3S2 Z4S3\" style=\"white-space: nowrap\">2 692</td>, <td class=\"schemaBorderColorLevel3 etzelle\" headers=\"Z2S1 Z5S1 Z19S1 Z3S2 Z4S4\" style=\"white-space: nowrap\">8 147</td>]\n",
      "[<td class=\"schemaBorderColorLevel3 etzelle\" headers=\"Z2S1 Z5S1 Z20S1 Z3S2 Z4S2\" style=\"white-space: nowrap\">9 570</td>, <td class=\"schemaBorderColorLevel3 etzelle\" headers=\"Z2S1 Z5S1 Z20S1 Z3S2 Z4S3\" style=\"white-space: nowrap\">9 602</td>, <td class=\"schemaBorderColorLevel3 etzelle\" headers=\"Z2S1 Z5S1 Z20S1 Z3S2 Z4S4\" style=\"white-space: nowrap\">19 172</td>]\n",
      "[<td class=\"schemaBorderColorLevel3 etzelle\" headers=\"Z2S1 Z5S1 Z21S1 Z3S2 Z4S2\" style=\"white-space: nowrap\">28 332</td>, <td class=\"schemaBorderColorLevel3 etzelle\" headers=\"Z2S1 Z5S1 Z21S1 Z3S2 Z4S3\" style=\"white-space: nowrap\">17 608</td>, <td class=\"schemaBorderColorLevel3 etzelle\" headers=\"Z2S1 Z5S1 Z21S1 Z3S2 Z4S4\" style=\"white-space: nowrap\">45 940</td>]\n",
      "[<td class=\"schemaBorderColorLevel3 etzelle\" headers=\"Z2S1 Z5S1 Z22S1 Z3S2 Z4S2\" style=\"white-space: nowrap\">27 200</td>, <td class=\"schemaBorderColorLevel3 etzelle\" headers=\"Z2S1 Z5S1 Z22S1 Z3S2 Z4S3\" style=\"white-space: nowrap\">17 401</td>, <td class=\"schemaBorderColorLevel3 etzelle\" headers=\"Z2S1 Z5S1 Z22S1 Z3S2 Z4S4\" style=\"white-space: nowrap\">44 601</td>]\n",
      "[<td class=\"schemaBorderColorLevel3 etzelle\" headers=\"Z2S1 Z5S1 Z23S1 Z3S2 Z4S2\" style=\"white-space: nowrap\">2 406</td>, <td class=\"schemaBorderColorLevel3 etzelle\" headers=\"Z2S1 Z5S1 Z23S1 Z3S2 Z4S3\" style=\"white-space: nowrap\">1 700</td>, <td class=\"schemaBorderColorLevel3 etzelle\" headers=\"Z2S1 Z5S1 Z23S1 Z3S2 Z4S4\" style=\"white-space: nowrap\">4 106</td>]\n",
      "[<td class=\"schemaBorderColorLevel3 etzelle\" headers=\"Z2S1 Z5S1 Z24S1 Z3S2 Z4S2\" style=\"white-space: nowrap\">1 692</td>, <td class=\"schemaBorderColorLevel3 etzelle\" headers=\"Z2S1 Z5S1 Z24S1 Z3S2 Z4S3\" style=\"white-space: nowrap\">1 236</td>, <td class=\"schemaBorderColorLevel3 etzelle\" headers=\"Z2S1 Z5S1 Z24S1 Z3S2 Z4S4\" style=\"white-space: nowrap\">2 928</td>]\n",
      "[<td class=\"schemaBorderColorLevel3 etzelle\" headers=\"Z2S1 Z5S1 Z25S1 Z3S2 Z4S2\" style=\"white-space: nowrap\">157</td>, <td class=\"schemaBorderColorLevel3 etzelle\" headers=\"Z2S1 Z5S1 Z25S1 Z3S2 Z4S3\" style=\"white-space: nowrap\">18 479</td>, <td class=\"schemaBorderColorLevel3 etzelle\" headers=\"Z2S1 Z5S1 Z25S1 Z3S2 Z4S4\" style=\"white-space: nowrap\">18 636</td>]\n",
      "[<td class=\"schemaBorderColorLevel3 etzelle\" headers=\"Z2S1 Z5S1 Z26S1 Z3S2 Z4S2\" style=\"white-space: nowrap\">25 989</td>, <td class=\"schemaBorderColorLevel3 etzelle\" headers=\"Z2S1 Z5S1 Z26S1 Z3S2 Z4S3\" style=\"white-space: nowrap\">16 181</td>, <td class=\"schemaBorderColorLevel3 etzelle\" headers=\"Z2S1 Z5S1 Z26S1 Z3S2 Z4S4\" style=\"white-space: nowrap\">42 170</td>]\n",
      "[<td class=\"schemaBorderColorLevel3 etzelle\" headers=\"Z2S1 Z5S1 Z27S1 Z3S2 Z4S2\" style=\"white-space: nowrap\"><abbr title=\"nichts vorhanden\">-</abbr></td>, <td class=\"schemaBorderColorLevel3 etzelle\" headers=\"Z2S1 Z5S1 Z27S1 Z3S2 Z4S3\" style=\"white-space: nowrap\">1 535</td>, <td class=\"schemaBorderColorLevel3 etzelle\" headers=\"Z2S1 Z5S1 Z27S1 Z3S2 Z4S4\" style=\"white-space: nowrap\">1 535</td>]\n",
      "[<td class=\"schemaBorderColorLevel3 etzelle\" headers=\"Z2S1 Z5S1 Z28S1 Z3S2 Z4S2\" style=\"white-space: nowrap\"><abbr title=\"nichts vorhanden\">-</abbr></td>, <td class=\"schemaBorderColorLevel3 etzelle\" headers=\"Z2S1 Z5S1 Z28S1 Z3S2 Z4S3\" style=\"white-space: nowrap\">2 634</td>, <td class=\"schemaBorderColorLevel3 etzelle\" headers=\"Z2S1 Z5S1 Z28S1 Z3S2 Z4S4\" style=\"white-space: nowrap\">2 634</td>]\n",
      "[<td class=\"schemaBorderColorLevel3 etzelle\" headers=\"Z2S1 Z5S1 Z29S1 Z3S2 Z4S2\" style=\"white-space: nowrap\"><abbr title=\"nichts vorhanden\">-</abbr></td>, <td class=\"schemaBorderColorLevel3 etzelle\" headers=\"Z2S1 Z5S1 Z29S1 Z3S2 Z4S3\" style=\"white-space: nowrap\">5 379</td>, <td class=\"schemaBorderColorLevel3 etzelle\" headers=\"Z2S1 Z5S1 Z29S1 Z3S2 Z4S4\" style=\"white-space: nowrap\">5 379</td>]\n",
      "[<td class=\"schemaBorderColorLevel3 etzelle\" headers=\"Z2S1 Z5S1 Z30S1 Z3S2 Z4S2\" style=\"white-space: nowrap\">15 379</td>, <td class=\"schemaBorderColorLevel3 etzelle\" headers=\"Z2S1 Z5S1 Z30S1 Z3S2 Z4S3\" style=\"white-space: nowrap\"><abbr title=\"nichts vorhanden\">-</abbr></td>, <td class=\"schemaBorderColorLevel3 etzelle\" headers=\"Z2S1 Z5S1 Z30S1 Z3S2 Z4S4\" style=\"white-space: nowrap\">15 379</td>]\n",
      "[<td class=\"schemaBorderColorLevel3 etzelle\" headers=\"Z2S1 Z5S1 Z31S1 Z3S2 Z4S2\" style=\"white-space: nowrap\">3 070</td>, <td class=\"schemaBorderColorLevel3 etzelle\" headers=\"Z2S1 Z5S1 Z31S1 Z3S2 Z4S3\" style=\"white-space: nowrap\">1 790</td>, <td class=\"schemaBorderColorLevel3 etzelle\" headers=\"Z2S1 Z5S1 Z31S1 Z3S2 Z4S4\" style=\"white-space: nowrap\">4 860</td>]\n",
      "[<td class=\"schemaBorderColorLevel3 etzelle\" headers=\"Z2S1 Z5S1 Z32S1 Z3S2 Z4S2\" style=\"white-space: nowrap\">3 891</td>, <td class=\"schemaBorderColorLevel3 etzelle\" headers=\"Z2S1 Z5S1 Z32S1 Z3S2 Z4S3\" style=\"white-space: nowrap\">1 852</td>, <td class=\"schemaBorderColorLevel3 etzelle\" headers=\"Z2S1 Z5S1 Z32S1 Z3S2 Z4S4\" style=\"white-space: nowrap\">5 743</td>]\n",
      "[<td class=\"schemaBorderColorLevel3 etzelle\" headers=\"Z2S1 Z5S1 Z33S1 Z3S2 Z4S2\" style=\"white-space: nowrap\">11 167</td>, <td class=\"schemaBorderColorLevel3 etzelle\" headers=\"Z2S1 Z5S1 Z33S1 Z3S2 Z4S3\" style=\"white-space: nowrap\">8 725</td>, <td class=\"schemaBorderColorLevel3 etzelle\" headers=\"Z2S1 Z5S1 Z33S1 Z3S2 Z4S4\" style=\"white-space: nowrap\">19 892</td>]\n",
      "[<td class=\"schemaBorderColorLevel3 etzelle\" headers=\"Z2S1 Z5S1 Z34S1 Z3S2 Z4S2\" style=\"white-space: nowrap\">4 674</td>, <td class=\"schemaBorderColorLevel3 etzelle\" headers=\"Z2S1 Z5S1 Z34S1 Z3S2 Z4S3\" style=\"white-space: nowrap\">3 530</td>, <td class=\"schemaBorderColorLevel3 etzelle\" headers=\"Z2S1 Z5S1 Z34S1 Z3S2 Z4S4\" style=\"white-space: nowrap\">8 204</td>]\n",
      "[<td class=\"schemaBorderColorLevel3 etzelle\" headers=\"Z2S1 Z5S1 Z35S1 Z3S2 Z4S2\" style=\"white-space: nowrap\">371</td>, <td class=\"schemaBorderColorLevel3 etzelle\" headers=\"Z2S1 Z5S1 Z35S1 Z3S2 Z4S3\" style=\"white-space: nowrap\">396</td>, <td class=\"schemaBorderColorLevel3 etzelle\" headers=\"Z2S1 Z5S1 Z35S1 Z3S2 Z4S4\" style=\"white-space: nowrap\">767</td>]\n",
      "[<td class=\"schemaBorderColorLevel3 etzelle\" headers=\"Z2S1 Z5S1 Z36S1 Z3S2 Z4S2\" style=\"white-space: nowrap\">2 078</td>, <td class=\"schemaBorderColorLevel3 etzelle\" headers=\"Z2S1 Z5S1 Z36S1 Z3S2 Z4S3\" style=\"white-space: nowrap\">2 632</td>, <td class=\"schemaBorderColorLevel3 etzelle\" headers=\"Z2S1 Z5S1 Z36S1 Z3S2 Z4S4\" style=\"white-space: nowrap\">4 710</td>]\n",
      "[<td class=\"schemaBorderColorLevel3 etzelle\" headers=\"Z2S1 Z5S1 Z37S1 Z3S2 Z4S2\" style=\"white-space: nowrap\">17 402</td>, <td class=\"schemaBorderColorLevel3 etzelle\" headers=\"Z2S1 Z5S1 Z37S1 Z3S2 Z4S3\" style=\"white-space: nowrap\">20 464</td>, <td class=\"schemaBorderColorLevel3 etzelle\" headers=\"Z2S1 Z5S1 Z37S1 Z3S2 Z4S4\" style=\"white-space: nowrap\">37 866</td>]\n",
      "[<td class=\"schemaBorderColorLevel3 etzelle\" headers=\"Z2S1 Z5S1 Z38S1 Z3S2 Z4S2\" style=\"white-space: nowrap\">12 428</td>, <td class=\"schemaBorderColorLevel3 etzelle\" headers=\"Z2S1 Z5S1 Z38S1 Z3S2 Z4S3\" style=\"white-space: nowrap\">13 556</td>, <td class=\"schemaBorderColorLevel3 etzelle\" headers=\"Z2S1 Z5S1 Z38S1 Z3S2 Z4S4\" style=\"white-space: nowrap\">25 984</td>]\n",
      "[<td class=\"schemaBorderColorLevel3 etzelle\" headers=\"Z2S1 Z5S1 Z39S1 Z3S2 Z4S2\" style=\"white-space: nowrap\">22 848</td>, <td class=\"schemaBorderColorLevel3 etzelle\" headers=\"Z2S1 Z5S1 Z39S1 Z3S2 Z4S3\" style=\"white-space: nowrap\">37 142</td>, <td class=\"schemaBorderColorLevel3 etzelle\" headers=\"Z2S1 Z5S1 Z39S1 Z3S2 Z4S4\" style=\"white-space: nowrap\">59 990</td>]\n",
      "[<td class=\"schemaBorderColorLevel3 etzelle\" headers=\"Z2S1 Z5S1 Z40S1 Z3S2 Z4S2\" style=\"white-space: nowrap\">3 842</td>, <td class=\"schemaBorderColorLevel3 etzelle\" headers=\"Z2S1 Z5S1 Z40S1 Z3S2 Z4S3\" style=\"white-space: nowrap\">1 122</td>, <td class=\"schemaBorderColorLevel3 etzelle\" headers=\"Z2S1 Z5S1 Z40S1 Z3S2 Z4S4\" style=\"white-space: nowrap\">4 964</td>]\n",
      "[<td class=\"schemaBorderColorLevel3 etzelle\" headers=\"Z2S1 Z5S1 Z41S1 Z3S2 Z4S2\" style=\"white-space: nowrap\">499</td>, <td class=\"schemaBorderColorLevel3 etzelle\" headers=\"Z2S1 Z5S1 Z41S1 Z3S2 Z4S3\" style=\"white-space: nowrap\">142</td>, <td class=\"schemaBorderColorLevel3 etzelle\" headers=\"Z2S1 Z5S1 Z41S1 Z3S2 Z4S4\" style=\"white-space: nowrap\">641</td>]\n",
      "[<td class=\"schemaBorderColorLevel3 etzelle\" headers=\"Z2S1 Z5S1 Z42S1 Z3S2 Z4S2\" style=\"white-space: nowrap\">17 974</td>, <td class=\"schemaBorderColorLevel3 etzelle\" headers=\"Z2S1 Z5S1 Z42S1 Z3S2 Z4S3\" style=\"white-space: nowrap\">17 804</td>, <td class=\"schemaBorderColorLevel3 etzelle\" headers=\"Z2S1 Z5S1 Z42S1 Z3S2 Z4S4\" style=\"white-space: nowrap\">35 778</td>]\n",
      "[<td class=\"schemaBorderColorLevel3 etzelle\" headers=\"Z2S1 Z5S1 Z43S1 Z3S2 Z4S2\" style=\"white-space: nowrap\">54</td>, <td class=\"schemaBorderColorLevel3 etzelle\" headers=\"Z2S1 Z5S1 Z43S1 Z3S2 Z4S3\" style=\"white-space: nowrap\">47</td>, <td class=\"schemaBorderColorLevel3 etzelle\" headers=\"Z2S1 Z5S1 Z43S1 Z3S2 Z4S4\" style=\"white-space: nowrap\">101</td>]\n",
      "[<td class=\"schemaBorderColorLevel3 etzelle\" headers=\"Z2S1 Z5S1 Z44S1 Z3S2 Z4S2\" style=\"white-space: nowrap\">159 846</td>, <td class=\"schemaBorderColorLevel3 etzelle\" headers=\"Z2S1 Z5S1 Z44S1 Z3S2 Z4S3\" style=\"white-space: nowrap\">180 773</td>, <td class=\"schemaBorderColorLevel3 etzelle\" headers=\"Z2S1 Z5S1 Z44S1 Z3S2 Z4S4\" style=\"white-space: nowrap\">340 619</td>]\n",
      "[<td class=\"schemaBorderColorLevel3 etzelle\" headers=\"Z2S1 Z5S1 Z45S1 Z3S2 Z4S2\" style=\"white-space: nowrap\">16 529</td>, <td class=\"schemaBorderColorLevel3 etzelle\" headers=\"Z2S1 Z5S1 Z45S1 Z3S2 Z4S3\" style=\"white-space: nowrap\">32 332</td>, <td class=\"schemaBorderColorLevel3 etzelle\" headers=\"Z2S1 Z5S1 Z45S1 Z3S2 Z4S4\" style=\"white-space: nowrap\">48 861</td>]\n",
      "[<td class=\"schemaBorderColorLevel3 etzelle\" headers=\"Z2S1 Z5S1 Z46S1 Z3S2 Z4S2\" style=\"white-space: nowrap\">68 900</td>, <td class=\"schemaBorderColorLevel3 etzelle\" headers=\"Z2S1 Z5S1 Z46S1 Z3S2 Z4S3\" style=\"white-space: nowrap\">52 272</td>, <td class=\"schemaBorderColorLevel3 etzelle\" headers=\"Z2S1 Z5S1 Z46S1 Z3S2 Z4S4\" style=\"white-space: nowrap\">121 172</td>]\n",
      "[<td class=\"schemaBorderColorLevel3 etzelle\" headers=\"Z2S1 Z5S1 Z47S1 Z3S2 Z4S2\" style=\"white-space: nowrap\">27 107</td>, <td class=\"schemaBorderColorLevel3 etzelle\" headers=\"Z2S1 Z5S1 Z47S1 Z3S2 Z4S3\" style=\"white-space: nowrap\">18 074</td>, <td class=\"schemaBorderColorLevel3 etzelle\" headers=\"Z2S1 Z5S1 Z47S1 Z3S2 Z4S4\" style=\"white-space: nowrap\">45 181</td>]\n",
      "[<td class=\"schemaBorderColorLevel3 etzelle\" headers=\"Z2S1 Z5S1 Z48S1 Z3S2 Z4S2\" style=\"white-space: nowrap\">31 899</td>, <td class=\"schemaBorderColorLevel3 etzelle\" headers=\"Z2S1 Z5S1 Z48S1 Z3S2 Z4S3\" style=\"white-space: nowrap\">43 114</td>, <td class=\"schemaBorderColorLevel3 etzelle\" headers=\"Z2S1 Z5S1 Z48S1 Z3S2 Z4S4\" style=\"white-space: nowrap\">75 013</td>]\n",
      "[<td class=\"schemaBorderColorLevel3 etzelle\" headers=\"Z2S1 Z5S1 Z49S1 Z3S2 Z4S2\" style=\"white-space: nowrap\">6 560</td>, <td class=\"schemaBorderColorLevel3 etzelle\" headers=\"Z2S1 Z5S1 Z49S1 Z3S2 Z4S3\" style=\"white-space: nowrap\">8 428</td>, <td class=\"schemaBorderColorLevel3 etzelle\" headers=\"Z2S1 Z5S1 Z49S1 Z3S2 Z4S4\" style=\"white-space: nowrap\">14 988</td>]\n",
      "[<td class=\"schemaBorderColorLevel3 etzelle\" headers=\"Z2S1 Z5S1 Z50S1 Z3S2 Z4S2\" style=\"white-space: nowrap\">23 487</td>, <td class=\"schemaBorderColorLevel3 etzelle\" headers=\"Z2S1 Z5S1 Z50S1 Z3S2 Z4S3\" style=\"white-space: nowrap\">29 595</td>, <td class=\"schemaBorderColorLevel3 etzelle\" headers=\"Z2S1 Z5S1 Z50S1 Z3S2 Z4S4\" style=\"white-space: nowrap\">53 082</td>]\n",
      "[<td class=\"schemaBorderColorLevel3 etzelle\" headers=\"Z2S1 Z5S1 Z51S1 Z3S2 Z4S2\" style=\"white-space: nowrap\">4 291</td>, <td class=\"schemaBorderColorLevel3 etzelle\" headers=\"Z2S1 Z5S1 Z51S1 Z3S2 Z4S3\" style=\"white-space: nowrap\">6 338</td>, <td class=\"schemaBorderColorLevel3 etzelle\" headers=\"Z2S1 Z5S1 Z51S1 Z3S2 Z4S4\" style=\"white-space: nowrap\">10 629</td>]\n",
      "[<td class=\"schemaBorderColorLevel3 etzelle\" headers=\"Z2S1 Z5S1 Z52S1 Z3S2 Z4S2\" style=\"white-space: nowrap\">6 061</td>, <td class=\"schemaBorderColorLevel3 etzelle\" headers=\"Z2S1 Z5S1 Z52S1 Z3S2 Z4S3\" style=\"white-space: nowrap\">5 725</td>, <td class=\"schemaBorderColorLevel3 etzelle\" headers=\"Z2S1 Z5S1 Z52S1 Z3S2 Z4S4\" style=\"white-space: nowrap\">11 786</td>]\n",
      "[<td class=\"schemaBorderColorLevel3 etzelle\" headers=\"Z2S1 Z5S1 Z53S1 Z3S2 Z4S2\" style=\"white-space: nowrap\">31 841</td>, <td class=\"schemaBorderColorLevel3 etzelle\" headers=\"Z2S1 Z5S1 Z53S1 Z3S2 Z4S3\" style=\"white-space: nowrap\">25 475</td>, <td class=\"schemaBorderColorLevel3 etzelle\" headers=\"Z2S1 Z5S1 Z53S1 Z3S2 Z4S4\" style=\"white-space: nowrap\">57 316</td>]\n",
      "[<td class=\"schemaBorderColorLevel3 etzelle\" headers=\"Z2S1 Z5S1 Z54S1 Z3S2 Z4S2\" style=\"white-space: nowrap\">22</td>, <td class=\"schemaBorderColorLevel3 etzelle\" headers=\"Z2S1 Z5S1 Z54S1 Z3S2 Z4S3\" style=\"white-space: nowrap\">16</td>, <td class=\"schemaBorderColorLevel3 etzelle\" headers=\"Z2S1 Z5S1 Z54S1 Z3S2 Z4S4\" style=\"white-space: nowrap\">38</td>]\n",
      "[<td class=\"schemaBorderColorLevel3 etzelle\" headers=\"Z2S1 Z5S1 Z55S1 Z3S2 Z4S2\" style=\"white-space: nowrap\">7 831</td>, <td class=\"schemaBorderColorLevel3 etzelle\" headers=\"Z2S1 Z5S1 Z55S1 Z3S2 Z4S3\" style=\"white-space: nowrap\">6 268</td>, <td class=\"schemaBorderColorLevel3 etzelle\" headers=\"Z2S1 Z5S1 Z55S1 Z3S2 Z4S4\" style=\"white-space: nowrap\">14 099</td>]\n",
      "[<td class=\"schemaBorderColorLevel3 etzelle\" headers=\"Z2S1 Z5S1 Z56S1 Z3S2 Z4S2\" style=\"white-space: nowrap\">17 285</td>, <td class=\"schemaBorderColorLevel3 etzelle\" headers=\"Z2S1 Z5S1 Z56S1 Z3S2 Z4S3\" style=\"white-space: nowrap\">14 724</td>, <td class=\"schemaBorderColorLevel3 etzelle\" headers=\"Z2S1 Z5S1 Z56S1 Z3S2 Z4S4\" style=\"white-space: nowrap\">32 009</td>]\n",
      "[<td class=\"schemaBorderColorLevel3 etzelle\" headers=\"Z2S1 Z5S1 Z57S1 Z3S2 Z4S2\" style=\"white-space: nowrap\">406</td>, <td class=\"schemaBorderColorLevel3 etzelle\" headers=\"Z2S1 Z5S1 Z57S1 Z3S2 Z4S3\" style=\"white-space: nowrap\">643</td>, <td class=\"schemaBorderColorLevel3 etzelle\" headers=\"Z2S1 Z5S1 Z57S1 Z3S2 Z4S4\" style=\"white-space: nowrap\">1 049</td>]\n",
      "[<td class=\"schemaBorderColorLevel3 etzelle\" headers=\"Z2S1 Z5S1 Z58S1 Z3S2 Z4S2\" style=\"white-space: nowrap\">38 862</td>, <td class=\"schemaBorderColorLevel3 etzelle\" headers=\"Z2S1 Z5S1 Z58S1 Z3S2 Z4S3\" style=\"white-space: nowrap\">31 897</td>, <td class=\"schemaBorderColorLevel3 etzelle\" headers=\"Z2S1 Z5S1 Z58S1 Z3S2 Z4S4\" style=\"white-space: nowrap\">70 759</td>]\n",
      "[<td class=\"schemaBorderColorLevel3 etzelle\" headers=\"Z2S1 Z5S1 Z59S1 Z3S2 Z4S2\" style=\"white-space: nowrap\">306</td>, <td class=\"schemaBorderColorLevel3 etzelle\" headers=\"Z2S1 Z5S1 Z59S1 Z3S2 Z4S3\" style=\"white-space: nowrap\">266</td>, <td class=\"schemaBorderColorLevel3 etzelle\" headers=\"Z2S1 Z5S1 Z59S1 Z3S2 Z4S4\" style=\"white-space: nowrap\">572</td>]\n",
      "[<td class=\"schemaBorderColorLevel3 etzelle\" headers=\"Z2S1 Z5S1 Z60S1 Z3S2 Z4S2\" style=\"white-space: nowrap\">23 508</td>, <td class=\"schemaBorderColorLevel3 etzelle\" headers=\"Z2S1 Z5S1 Z60S1 Z3S2 Z4S3\" style=\"white-space: nowrap\">20 209</td>, <td class=\"schemaBorderColorLevel3 etzelle\" headers=\"Z2S1 Z5S1 Z60S1 Z3S2 Z4S4\" style=\"white-space: nowrap\">43 717</td>]\n",
      "[<td class=\"schemaBorderColorLevel3 etzelle\" headers=\"Z2S1 Z5S1 Z61S1 Z3S2 Z4S2\" style=\"white-space: nowrap\">1 300</td>, <td class=\"schemaBorderColorLevel3 etzelle\" headers=\"Z2S1 Z5S1 Z61S1 Z3S2 Z4S3\" style=\"white-space: nowrap\">1 345</td>, <td class=\"schemaBorderColorLevel3 etzelle\" headers=\"Z2S1 Z5S1 Z61S1 Z3S2 Z4S4\" style=\"white-space: nowrap\">2 645</td>]\n",
      "[<td class=\"schemaBorderColorLevel3 etzelle\" headers=\"Z2S1 Z5S1 Z62S1 Z3S2 Z4S2\" style=\"white-space: nowrap\">10 987</td>, <td class=\"schemaBorderColorLevel3 etzelle\" headers=\"Z2S1 Z5S1 Z62S1 Z3S2 Z4S3\" style=\"white-space: nowrap\">5 919</td>, <td class=\"schemaBorderColorLevel3 etzelle\" headers=\"Z2S1 Z5S1 Z62S1 Z3S2 Z4S4\" style=\"white-space: nowrap\">16 906</td>]\n",
      "[<td class=\"schemaBorderColorLevel3 etzelle\" headers=\"Z2S1 Z5S1 Z63S1 Z3S2 Z4S2\" style=\"white-space: nowrap\">10 189</td>, <td class=\"schemaBorderColorLevel3 etzelle\" headers=\"Z2S1 Z5S1 Z63S1 Z3S2 Z4S3\" style=\"white-space: nowrap\">5 062</td>, <td class=\"schemaBorderColorLevel3 etzelle\" headers=\"Z2S1 Z5S1 Z63S1 Z3S2 Z4S4\" style=\"white-space: nowrap\">15 251</td>]\n",
      "[<td class=\"schemaBorderColorLevel3 etzelle\" headers=\"Z2S1 Z5S1 Z64S1 Z3S2 Z4S2\" style=\"white-space: nowrap\">710</td>, <td class=\"schemaBorderColorLevel3 etzelle\" headers=\"Z2S1 Z5S1 Z64S1 Z3S2 Z4S3\" style=\"white-space: nowrap\">1 047</td>, <td class=\"schemaBorderColorLevel3 etzelle\" headers=\"Z2S1 Z5S1 Z64S1 Z3S2 Z4S4\" style=\"white-space: nowrap\">1 757</td>]\n",
      "[<td class=\"schemaBorderColorLevel3 etzelle\" headers=\"Z2S1 Z5S1 Z65S1 Z3S2 Z4S2\" style=\"white-space: nowrap\">2 307</td>, <td class=\"schemaBorderColorLevel3 etzelle\" headers=\"Z2S1 Z5S1 Z65S1 Z3S2 Z4S3\" style=\"white-space: nowrap\">3 718</td>, <td class=\"schemaBorderColorLevel3 etzelle\" headers=\"Z2S1 Z5S1 Z65S1 Z3S2 Z4S4\" style=\"white-space: nowrap\">6 025</td>]\n",
      "[<td class=\"schemaBorderColorLevel3 etzelle\" headers=\"Z2S1 Z5S1 Z66S1 Z3S2 Z4S2\" style=\"white-space: nowrap\">449</td>, <td class=\"schemaBorderColorLevel3 etzelle\" headers=\"Z2S1 Z5S1 Z66S1 Z3S2 Z4S3\" style=\"white-space: nowrap\">1 038</td>, <td class=\"schemaBorderColorLevel3 etzelle\" headers=\"Z2S1 Z5S1 Z66S1 Z3S2 Z4S4\" style=\"white-space: nowrap\">1 487</td>]\n",
      "[<td class=\"schemaBorderColorLevel3 etzelle\" headers=\"Z2S1 Z5S1 Z67S1 Z3S2 Z4S2\" style=\"white-space: nowrap\">12 065</td>, <td class=\"schemaBorderColorLevel3 etzelle\" headers=\"Z2S1 Z5S1 Z67S1 Z3S2 Z4S3\" style=\"white-space: nowrap\">14 207</td>, <td class=\"schemaBorderColorLevel3 etzelle\" headers=\"Z2S1 Z5S1 Z67S1 Z3S2 Z4S4\" style=\"white-space: nowrap\">26 272</td>]\n",
      "[<td class=\"schemaBorderColorLevel3 etzelle\" headers=\"Z2S1 Z5S1 Z68S1 Z3S2 Z4S2\" style=\"white-space: nowrap\">8 416</td>, <td class=\"schemaBorderColorLevel3 etzelle\" headers=\"Z2S1 Z5S1 Z68S1 Z3S2 Z4S3\" style=\"white-space: nowrap\">10 377</td>, <td class=\"schemaBorderColorLevel3 etzelle\" headers=\"Z2S1 Z5S1 Z68S1 Z3S2 Z4S4\" style=\"white-space: nowrap\">18 793</td>]\n",
      "[<td class=\"schemaBorderColorLevel3 etzelle\" headers=\"Z2S1 Z5S1 Z69S1 Z3S2 Z4S2\" style=\"white-space: nowrap\"><abbr title=\"nichts vorhanden\">-</abbr></td>, <td class=\"schemaBorderColorLevel3 etzelle\" headers=\"Z2S1 Z5S1 Z69S1 Z3S2 Z4S3\" style=\"white-space: nowrap\">28</td>, <td class=\"schemaBorderColorLevel3 etzelle\" headers=\"Z2S1 Z5S1 Z69S1 Z3S2 Z4S4\" style=\"white-space: nowrap\">28</td>]\n",
      "[<td class=\"schemaBorderColorLevel3 etzelle\" headers=\"Z2S1 Z5S1 Z70S1 Z3S2 Z4S2\" style=\"white-space: nowrap\">777</td>, <td class=\"schemaBorderColorLevel3 etzelle\" headers=\"Z2S1 Z5S1 Z70S1 Z3S2 Z4S3\" style=\"white-space: nowrap\">565</td>, <td class=\"schemaBorderColorLevel3 etzelle\" headers=\"Z2S1 Z5S1 Z70S1 Z3S2 Z4S4\" style=\"white-space: nowrap\">1 342</td>]\n",
      "[<td class=\"schemaBorderColorLevel3 etzelle\" headers=\"Z2S1 Z5S1 Z71S1 Z3S2 Z4S2\" style=\"white-space: nowrap\">1 116</td>, <td class=\"schemaBorderColorLevel3 etzelle\" headers=\"Z2S1 Z5S1 Z71S1 Z3S2 Z4S3\" style=\"white-space: nowrap\">1 011</td>, <td class=\"schemaBorderColorLevel3 etzelle\" headers=\"Z2S1 Z5S1 Z71S1 Z3S2 Z4S4\" style=\"white-space: nowrap\">2 127</td>]\n",
      "[<td class=\"schemaBorderColorLevel3 etzelle\" headers=\"Z2S1 Z5S1 Z72S1 Z3S2 Z4S2\" style=\"white-space: nowrap\">86</td>, <td class=\"schemaBorderColorLevel3 etzelle\" headers=\"Z2S1 Z5S1 Z72S1 Z3S2 Z4S3\" style=\"white-space: nowrap\">97</td>, <td class=\"schemaBorderColorLevel3 etzelle\" headers=\"Z2S1 Z5S1 Z72S1 Z3S2 Z4S4\" style=\"white-space: nowrap\">183</td>]\n",
      "[<td class=\"schemaBorderColorLevel3 etzelle\" headers=\"Z2S1 Z5S1 Z73S1 Z3S2 Z4S2\" style=\"white-space: nowrap\">337</td>, <td class=\"schemaBorderColorLevel3 etzelle\" headers=\"Z2S1 Z5S1 Z73S1 Z3S2 Z4S3\" style=\"white-space: nowrap\">269</td>, <td class=\"schemaBorderColorLevel3 etzelle\" headers=\"Z2S1 Z5S1 Z73S1 Z3S2 Z4S4\" style=\"white-space: nowrap\">606</td>]\n",
      "[<td class=\"schemaBorderColorLevel3 etzelle\" headers=\"Z2S1 Z5S1 Z74S1 Z3S2 Z4S2\" style=\"white-space: nowrap\">22 638</td>, <td class=\"schemaBorderColorLevel3 etzelle\" headers=\"Z2S1 Z5S1 Z74S1 Z3S2 Z4S3\" style=\"white-space: nowrap\">16 091</td>, <td class=\"schemaBorderColorLevel3 etzelle\" headers=\"Z2S1 Z5S1 Z74S1 Z3S2 Z4S4\" style=\"white-space: nowrap\">38 729</td>]\n",
      "[<td class=\"schemaBorderColorLevel3 etzelle\" headers=\"Z2S1 Z5S1 Z75S1 Z3S2 Z4S2\" style=\"white-space: nowrap\">47</td>, <td class=\"schemaBorderColorLevel3 etzelle\" headers=\"Z2S1 Z5S1 Z75S1 Z3S2 Z4S3\" style=\"white-space: nowrap\">35</td>, <td class=\"schemaBorderColorLevel3 etzelle\" headers=\"Z2S1 Z5S1 Z75S1 Z3S2 Z4S4\" style=\"white-space: nowrap\">82</td>]\n",
      "[<td class=\"schemaBorderColorLevel3 etzelle\" headers=\"Z2S1 Z5S1 Z76S1 Z3S2 Z4S2\" style=\"white-space: nowrap\">20 927</td>, <td class=\"schemaBorderColorLevel3 etzelle\" headers=\"Z2S1 Z5S1 Z76S1 Z3S2 Z4S3\" style=\"white-space: nowrap\">12 891</td>, <td class=\"schemaBorderColorLevel3 etzelle\" headers=\"Z2S1 Z5S1 Z76S1 Z3S2 Z4S4\" style=\"white-space: nowrap\">33 818</td>]\n",
      "[<td class=\"schemaBorderColorLevel3 etzelle\" headers=\"Z2S1 Z5S1 Z77S1 Z3S2 Z4S2\" style=\"white-space: nowrap\">25 394</td>, <td class=\"schemaBorderColorLevel3 etzelle\" headers=\"Z2S1 Z5S1 Z77S1 Z3S2 Z4S3\" style=\"white-space: nowrap\">17 806</td>, <td class=\"schemaBorderColorLevel3 etzelle\" headers=\"Z2S1 Z5S1 Z77S1 Z3S2 Z4S4\" style=\"white-space: nowrap\">43 200</td>]\n",
      "[<td class=\"schemaBorderColorLevel3 etzelle\" headers=\"Z2S1 Z5S1 Z78S1 Z3S2 Z4S2\" style=\"white-space: nowrap\">17 189</td>, <td class=\"schemaBorderColorLevel3 etzelle\" headers=\"Z2S1 Z5S1 Z78S1 Z3S2 Z4S3\" style=\"white-space: nowrap\">14 403</td>, <td class=\"schemaBorderColorLevel3 etzelle\" headers=\"Z2S1 Z5S1 Z78S1 Z3S2 Z4S4\" style=\"white-space: nowrap\">31 592</td>]\n",
      "[<td class=\"schemaBorderColorLevel3 etzelle\" headers=\"Z2S1 Z5S1 Z79S1 Z3S2 Z4S2\" style=\"white-space: nowrap\">2 269</td>, <td class=\"schemaBorderColorLevel3 etzelle\" headers=\"Z2S1 Z5S1 Z79S1 Z3S2 Z4S3\" style=\"white-space: nowrap\">639</td>, <td class=\"schemaBorderColorLevel3 etzelle\" headers=\"Z2S1 Z5S1 Z79S1 Z3S2 Z4S4\" style=\"white-space: nowrap\">2 908</td>]\n",
      "[<td class=\"schemaBorderColorLevel3 etzelle\" headers=\"Z2S1 Z5S1 Z80S1 Z3S2 Z4S2\" style=\"white-space: nowrap\">9 020</td>, <td class=\"schemaBorderColorLevel3 etzelle\" headers=\"Z2S1 Z5S1 Z80S1 Z3S2 Z4S3\" style=\"white-space: nowrap\">9 163</td>, <td class=\"schemaBorderColorLevel3 etzelle\" headers=\"Z2S1 Z5S1 Z80S1 Z3S2 Z4S4\" style=\"white-space: nowrap\">18 183</td>]\n",
      "[<td class=\"schemaBorderColorLevel3 etzelle\" headers=\"Z2S1 Z5S1 Z81S1 Z3S2 Z4S2\" style=\"white-space: nowrap\">281</td>, <td class=\"schemaBorderColorLevel3 etzelle\" headers=\"Z2S1 Z5S1 Z81S1 Z3S2 Z4S3\" style=\"white-space: nowrap\">111</td>, <td class=\"schemaBorderColorLevel3 etzelle\" headers=\"Z2S1 Z5S1 Z81S1 Z3S2 Z4S4\" style=\"white-space: nowrap\">392</td>]\n",
      "[<td class=\"schemaBorderColorLevel3 etzelle\" headers=\"Z2S1 Z5S1 Z82S1 Z3S2 Z4S2\" style=\"white-space: nowrap\">182</td>, <td class=\"schemaBorderColorLevel3 etzelle\" headers=\"Z2S1 Z5S1 Z82S1 Z3S2 Z4S3\" style=\"white-space: nowrap\">139</td>, <td class=\"schemaBorderColorLevel3 etzelle\" headers=\"Z2S1 Z5S1 Z82S1 Z3S2 Z4S4\" style=\"white-space: nowrap\">321</td>]\n",
      "[<td class=\"schemaBorderColorLevel3 etzelle\" headers=\"Z2S1 Z5S1 Z83S1 Z3S2 Z4S2\" style=\"white-space: nowrap\">917</td>, <td class=\"schemaBorderColorLevel3 etzelle\" headers=\"Z2S1 Z5S1 Z83S1 Z3S2 Z4S3\" style=\"white-space: nowrap\">330</td>, <td class=\"schemaBorderColorLevel3 etzelle\" headers=\"Z2S1 Z5S1 Z83S1 Z3S2 Z4S4\" style=\"white-space: nowrap\">1 247</td>]\n",
      "[<td class=\"schemaBorderColorLevel3 etzelle\" headers=\"Z2S1 Z5S1 Z84S1 Z3S2 Z4S2\" style=\"white-space: nowrap\">6 805</td>, <td class=\"schemaBorderColorLevel3 etzelle\" headers=\"Z2S1 Z5S1 Z84S1 Z3S2 Z4S3\" style=\"white-space: nowrap\">2 410</td>, <td class=\"schemaBorderColorLevel3 etzelle\" headers=\"Z2S1 Z5S1 Z84S1 Z3S2 Z4S4\" style=\"white-space: nowrap\">9 215</td>]\n",
      "[<td class=\"schemaBorderColorLevel3 etzelle\" headers=\"Z2S1 Z5S1 Z85S1 Z3S2 Z4S2\" style=\"white-space: nowrap\">150</td>, <td class=\"schemaBorderColorLevel3 etzelle\" headers=\"Z2S1 Z5S1 Z85S1 Z3S2 Z4S3\" style=\"white-space: nowrap\">164</td>, <td class=\"schemaBorderColorLevel3 etzelle\" headers=\"Z2S1 Z5S1 Z85S1 Z3S2 Z4S4\" style=\"white-space: nowrap\">314</td>]\n",
      "[<td class=\"schemaBorderColorLevel3 etzelle\" headers=\"Z2S1 Z5S1 Z86S1 Z3S2 Z4S2\" style=\"white-space: nowrap\">1 102</td>, <td class=\"schemaBorderColorLevel3 etzelle\" headers=\"Z2S1 Z5S1 Z86S1 Z3S2 Z4S3\" style=\"white-space: nowrap\">699</td>, <td class=\"schemaBorderColorLevel3 etzelle\" headers=\"Z2S1 Z5S1 Z86S1 Z3S2 Z4S4\" style=\"white-space: nowrap\">1 801</td>]\n",
      "[<td class=\"schemaBorderColorLevel3 etzelle\" headers=\"Z2S1 Z5S1 Z87S1 Z3S2 Z4S2\" style=\"white-space: nowrap\">515 559</td>, <td class=\"schemaBorderColorLevel3 etzelle\" headers=\"Z2S1 Z5S1 Z87S1 Z3S2 Z4S3\" style=\"white-space: nowrap\">508 128</td>, <td class=\"schemaBorderColorLevel3 etzelle\" headers=\"Z2S1 Z5S1 Z87S1 Z3S2 Z4S4\" style=\"white-space: nowrap\">1 023 687</td>]\n"
     ]
    }
   ],
   "source": [
    "for row in table.find_all('tbody')[0].find_all('tr'):\n",
    "    print(row.find_all('td'))"
   ]
  },
  {
   "cell_type": "code",
   "execution_count": 176,
   "metadata": {},
   "outputs": [
    {
     "name": "stdout",
     "output_type": "stream",
     "text": [
      "['Bestimmte infektiöse und parasitäre Krankheiten', '7 355', '7 515', '14 870']\n",
      "['Tuberkulose einschließlich ihrer Folgezustände', '161', '106', '267']\n",
      "['Meningokokkeninfektion', '8', '7', '15']\n",
      "['Virushepatitis', '307', '204', '511']\n",
      "['HIV-Krankheit', '176', '42', '218']\n",
      "['Neubildungen', '127 968', '109 192', '237 160']\n",
      "['Bösartige Neubildungen (BN)', '124 006', '105 062', '229 068']\n",
      "['', '3 796', '1 421', '5 217']\n",
      "['', '4 444', '1 368', '5 812']\n",
      "['', '4 976', '3 320', '8 296']\n",
      "['', '7 820', '7 252', '15 072']\n",
      "['', '4 744', '3 049', '7 793']\n",
      "['', '16 708', '14 286', '30 994']\n",
      "['', '5 455', '2 692', '8 147']\n",
      "['', '9 570', '9 602', '19 172']\n",
      "['', '28 332', '17 608', '45 940']\n",
      "['', '27 200', '17 401', '44 601']\n",
      "['', '2 406', '1 700', '4 106']\n",
      "['Bösartiges Melanom der Haut', '1 692', '1 236', '2 928']\n",
      "['', '157', '18 479', '18 636']\n",
      "['', '25 989', '16 181', '42 170']\n",
      "['', '-', '1 535', '1 535']\n",
      "['', '-', '2 634', '2 634']\n",
      "['', '-', '5 379', '5 379']\n",
      "['', '15 379', '-', '15 379']\n",
      "['', '3 070', '1 790', '4 860']\n",
      "['', '3 891', '1 852', '5 743']\n",
      "['', '11 167', '8 725', '19 892']\n",
      "['Leukämie', '4 674', '3 530', '8 204']\n",
      "['Gutartige Neubildungen', '371', '396', '767']\n",
      "['', '2 078', '2 632', '4 710']\n",
      "['', '17 402', '20 464', '37 866']\n",
      "['Diabetes mellitus', '12 428', '13 556', '25 984']\n",
      "['Psychische und Verhaltensstörungen', '22 848', '37 142', '59 990']\n",
      "['Psychische und Verhaltensstörungen durch Alkohol', '3 842', '1 122', '4 964']\n",
      "['', '499', '142', '641']\n",
      "['', '17 974', '17 804', '35 778']\n",
      "['Meningitis', '54', '47', '101']\n",
      "['Krankheiten des Kreislaufsystems', '159 846', '180 773', '340 619']\n",
      "['Hypertonie (Hochdruckkrankheit)', '16 529', '32 332', '48 861']\n",
      "['Ischämische Herzkrankheiten', '68 900', '52 272', '121 172']\n",
      "['Akuter oder rezidivierender Myokardinfarkt', '27 107', '18 074', '45 181']\n",
      "['Sonstige Formen der Herzkrankheit', '31 899', '43 114', '75 013']\n",
      "['Sonstige Krankheiten des Endokards', '6 560', '8 428', '14 988']\n",
      "['Zerebrovaskuläre Krankheiten', '23 487', '29 595', '53 082']\n",
      "['', '4 291', '6 338', '10 629']\n",
      "['Krankheiten der Arterien, Arteriolen und Kapillare', '6 061', '5 725', '11 786']\n",
      "['Krankheiten des Atmungssystems', '31 841', '25 475', '57 316']\n",
      "['Grippe', '22', '16', '38']\n",
      "['Pneumonie', '7 831', '6 268', '14 099']\n",
      "['Chronische Krankheiten der unteren Atemwege', '17 285', '14 724', '32 009']\n",
      "['Asthma', '406', '643', '1 049']\n",
      "['COVID-19, Virus nachgewiesen', '38 862', '31 897', '70 759']\n",
      "['COVID-19, Virus nicht nachgewiesen', '306', '266', '572']\n",
      "['Krankheiten des Verdauungssystems', '23 508', '20 209', '43 717']\n",
      "['', '1 300', '1 345', '2 645']\n",
      "['Krankheiten der Leber', '10 987', '5 919', '16 906']\n",
      "['', '10 189', '5 062', '15 251']\n",
      "['Krankheiten der Haut und der Unterhaut', '710', '1 047', '1 757']\n",
      "['', '2 307', '3 718', '6 025']\n",
      "['Chronische Polyarthritis und Arthrose', '449', '1 038', '1 487']\n",
      "['Krankheiten des Urogenitalsystems', '12 065', '14 207', '26 272']\n",
      "['Krankheiten der Niere', '8 416', '10 377', '18 793']\n",
      "['Schwangerschaft, Geburt und Wochenbett', '-', '28', '28']\n",
      "['', '777', '565', '1 342']\n",
      "['', '1 116', '1 011', '2 127']\n",
      "['Angeborene Fehlbildungen des Nervensystems', '86', '97', '183']\n",
      "['Angeborene Fehlbildungen des Kreislaufsystems', '337', '269', '606']\n",
      "['', '22 638', '16 091', '38 729']\n",
      "['Plötzlicher Kindstod', '47', '35', '82']\n",
      "['', '20 927', '12 891', '33 818']\n",
      "['Äußere Ursachen von Morbidität und Mortalität', '25 394', '17 806', '43 200']\n",
      "['Unfälle einschließlich Spätfolgen', '17 189', '14 403', '31 592']\n",
      "['Transportmittelunfälle', '2 269', '639', '2 908']\n",
      "['Stürze', '9 020', '9 163', '18 183']\n",
      "['Ertrinken und Untergehen', '281', '111', '392']\n",
      "['Exposition gegenüber Rauch, Feuer und Flammen', '182', '139', '321']\n",
      "['', '917', '330', '1 247']\n",
      "['Vorsätzliche Selbstbeschädigung', '6 805', '2 410', '9 215']\n",
      "['Tätlicher Angriff', '150', '164', '314']\n",
      "['Ereignis, dessen nähere Umstände unbestimmt sind', '1 102', '699', '1 801']\n",
      "['Insgesamt', '515 559', '508 128', '1 023 687']\n"
     ]
    }
   ],
   "source": [
    "data_dict = []\n",
    "\n",
    "# Loop melalui masing-masing elemen <tr>\n",
    "for row in rows:\n",
    "    # Cari elemen <th> dalam elemen <tr>\n",
    "    th_element = row.find('th', class_='schemaBgColorLevel1')\n",
    "    if th_element:\n",
    "        # Ambil teks dari elemen <th> sebagai judul kolom\n",
    "        judul_kolom = th_element.text.strip()\n",
    "        \n",
    "        # Cari elemen <td> dalam elemen <tr>\n",
    "        td_elements = row.find_all('td', class_='etzelle')\n",
    "        \n",
    "        # Ambil teks dari setiap elemen <td> sebagai nilai-nilai terkait\n",
    "        nilai_values = [td.text.strip() for td in td_elements]\n",
    "        \n",
    "        # Simpan data dalam dictionary\n",
    "        data = [judul_kolom] + nilai_values\n",
    "        data_dict.append(data)\n",
    "\n",
    "# Cetak data yang diambil\n",
    "for data in data_dict:\n",
    "    print(data)"
   ]
  },
  {
   "cell_type": "code",
   "execution_count": 177,
   "metadata": {},
   "outputs": [
    {
     "data": {
      "text/plain": [
       "[['Bestimmte infektiöse und parasitäre Krankheiten',\n",
       "  '7 355',\n",
       "  '7 515',\n",
       "  '14 870'],\n",
       " ['Tuberkulose einschließlich ihrer Folgezustände', '161', '106', '267'],\n",
       " ['Meningokokkeninfektion', '8', '7', '15'],\n",
       " ['Virushepatitis', '307', '204', '511'],\n",
       " ['HIV-Krankheit', '176', '42', '218'],\n",
       " ['Neubildungen', '127 968', '109 192', '237 160'],\n",
       " ['Bösartige Neubildungen (BN)', '124 006', '105 062', '229 068'],\n",
       " ['', '3 796', '1 421', '5 217'],\n",
       " ['', '4 444', '1 368', '5 812'],\n",
       " ['', '4 976', '3 320', '8 296'],\n",
       " ['', '7 820', '7 252', '15 072'],\n",
       " ['', '4 744', '3 049', '7 793'],\n",
       " ['', '16 708', '14 286', '30 994'],\n",
       " ['', '5 455', '2 692', '8 147'],\n",
       " ['', '9 570', '9 602', '19 172'],\n",
       " ['', '28 332', '17 608', '45 940'],\n",
       " ['', '27 200', '17 401', '44 601'],\n",
       " ['', '2 406', '1 700', '4 106'],\n",
       " ['Bösartiges Melanom der Haut', '1 692', '1 236', '2 928'],\n",
       " ['', '157', '18 479', '18 636'],\n",
       " ['', '25 989', '16 181', '42 170'],\n",
       " ['', '-', '1 535', '1 535'],\n",
       " ['', '-', '2 634', '2 634'],\n",
       " ['', '-', '5 379', '5 379'],\n",
       " ['', '15 379', '-', '15 379'],\n",
       " ['', '3 070', '1 790', '4 860'],\n",
       " ['', '3 891', '1 852', '5 743'],\n",
       " ['', '11 167', '8 725', '19 892'],\n",
       " ['Leukämie', '4 674', '3 530', '8 204'],\n",
       " ['Gutartige Neubildungen', '371', '396', '767'],\n",
       " ['', '2 078', '2 632', '4 710'],\n",
       " ['', '17 402', '20 464', '37 866'],\n",
       " ['Diabetes mellitus', '12 428', '13 556', '25 984'],\n",
       " ['Psychische und Verhaltensstörungen', '22 848', '37 142', '59 990'],\n",
       " ['Psychische und Verhaltensstörungen durch Alkohol',\n",
       "  '3 842',\n",
       "  '1 122',\n",
       "  '4 964'],\n",
       " ['', '499', '142', '641'],\n",
       " ['', '17 974', '17 804', '35 778'],\n",
       " ['Meningitis', '54', '47', '101'],\n",
       " ['Krankheiten des Kreislaufsystems', '159 846', '180 773', '340 619'],\n",
       " ['Hypertonie (Hochdruckkrankheit)', '16 529', '32 332', '48 861'],\n",
       " ['Ischämische Herzkrankheiten', '68 900', '52 272', '121 172'],\n",
       " ['Akuter oder rezidivierender Myokardinfarkt', '27 107', '18 074', '45 181'],\n",
       " ['Sonstige Formen der Herzkrankheit', '31 899', '43 114', '75 013'],\n",
       " ['Sonstige Krankheiten des Endokards', '6 560', '8 428', '14 988'],\n",
       " ['Zerebrovaskuläre Krankheiten', '23 487', '29 595', '53 082'],\n",
       " ['', '4 291', '6 338', '10 629'],\n",
       " ['Krankheiten der Arterien, Arteriolen und Kapillare',\n",
       "  '6 061',\n",
       "  '5 725',\n",
       "  '11 786'],\n",
       " ['Krankheiten des Atmungssystems', '31 841', '25 475', '57 316'],\n",
       " ['Grippe', '22', '16', '38'],\n",
       " ['Pneumonie', '7 831', '6 268', '14 099'],\n",
       " ['Chronische Krankheiten der unteren Atemwege', '17 285', '14 724', '32 009'],\n",
       " ['Asthma', '406', '643', '1 049'],\n",
       " ['COVID-19, Virus nachgewiesen', '38 862', '31 897', '70 759'],\n",
       " ['COVID-19, Virus nicht nachgewiesen', '306', '266', '572'],\n",
       " ['Krankheiten des Verdauungssystems', '23 508', '20 209', '43 717'],\n",
       " ['', '1 300', '1 345', '2 645'],\n",
       " ['Krankheiten der Leber', '10 987', '5 919', '16 906'],\n",
       " ['', '10 189', '5 062', '15 251'],\n",
       " ['Krankheiten der Haut und der Unterhaut', '710', '1 047', '1 757'],\n",
       " ['', '2 307', '3 718', '6 025'],\n",
       " ['Chronische Polyarthritis und Arthrose', '449', '1 038', '1 487'],\n",
       " ['Krankheiten des Urogenitalsystems', '12 065', '14 207', '26 272'],\n",
       " ['Krankheiten der Niere', '8 416', '10 377', '18 793'],\n",
       " ['Schwangerschaft, Geburt und Wochenbett', '-', '28', '28'],\n",
       " ['', '777', '565', '1 342'],\n",
       " ['', '1 116', '1 011', '2 127'],\n",
       " ['Angeborene Fehlbildungen des Nervensystems', '86', '97', '183'],\n",
       " ['Angeborene Fehlbildungen des Kreislaufsystems', '337', '269', '606'],\n",
       " ['', '22 638', '16 091', '38 729'],\n",
       " ['Plötzlicher Kindstod', '47', '35', '82'],\n",
       " ['', '20 927', '12 891', '33 818'],\n",
       " ['Äußere Ursachen von Morbidität und Mortalität',\n",
       "  '25 394',\n",
       "  '17 806',\n",
       "  '43 200'],\n",
       " ['Unfälle einschließlich Spätfolgen', '17 189', '14 403', '31 592'],\n",
       " ['Transportmittelunfälle', '2 269', '639', '2 908'],\n",
       " ['Stürze', '9 020', '9 163', '18 183'],\n",
       " ['Ertrinken und Untergehen', '281', '111', '392'],\n",
       " ['Exposition gegenüber Rauch, Feuer und Flammen', '182', '139', '321'],\n",
       " ['', '917', '330', '1 247'],\n",
       " ['Vorsätzliche Selbstbeschädigung', '6 805', '2 410', '9 215'],\n",
       " ['Tätlicher Angriff', '150', '164', '314'],\n",
       " ['Ereignis, dessen nähere Umstände unbestimmt sind', '1 102', '699', '1 801'],\n",
       " ['Insgesamt', '515 559', '508 128', '1 023 687']]"
      ]
     },
     "execution_count": 177,
     "metadata": {},
     "output_type": "execute_result"
    }
   ],
   "source": [
    "data_dict #sudah tidak nested list"
   ]
  },
  {
   "cell_type": "code",
   "execution_count": 178,
   "metadata": {},
   "outputs": [
    {
     "data": {
      "text/html": [
       "<div>\n",
       "<style scoped>\n",
       "    .dataframe tbody tr th:only-of-type {\n",
       "        vertical-align: middle;\n",
       "    }\n",
       "\n",
       "    .dataframe tbody tr th {\n",
       "        vertical-align: top;\n",
       "    }\n",
       "\n",
       "    .dataframe thead th {\n",
       "        text-align: right;\n",
       "    }\n",
       "</style>\n",
       "<table border=\"1\" class=\"dataframe\">\n",
       "  <thead>\n",
       "    <tr style=\"text-align: right;\">\n",
       "      <th></th>\n",
       "      <th>Todesursachen</th>\n",
       "      <th>männlich</th>\n",
       "      <th>weiblich</th>\n",
       "      <th>Insgesamt</th>\n",
       "    </tr>\n",
       "  </thead>\n",
       "  <tbody>\n",
       "    <tr>\n",
       "      <th>52</th>\n",
       "      <td>COVID-19, Virus nachgewiesen</td>\n",
       "      <td>38 862</td>\n",
       "      <td>31 897</td>\n",
       "      <td>70 759</td>\n",
       "    </tr>\n",
       "    <tr>\n",
       "      <th>16</th>\n",
       "      <td></td>\n",
       "      <td>27 200</td>\n",
       "      <td>17 401</td>\n",
       "      <td>44 601</td>\n",
       "    </tr>\n",
       "    <tr>\n",
       "      <th>43</th>\n",
       "      <td>Sonstige Krankheiten des Endokards</td>\n",
       "      <td>6 560</td>\n",
       "      <td>8 428</td>\n",
       "      <td>14 988</td>\n",
       "    </tr>\n",
       "    <tr>\n",
       "      <th>18</th>\n",
       "      <td>Bösartiges Melanom der Haut</td>\n",
       "      <td>1 692</td>\n",
       "      <td>1 236</td>\n",
       "      <td>2 928</td>\n",
       "    </tr>\n",
       "    <tr>\n",
       "      <th>69</th>\n",
       "      <td>Plötzlicher Kindstod</td>\n",
       "      <td>47</td>\n",
       "      <td>35</td>\n",
       "      <td>82</td>\n",
       "    </tr>\n",
       "    <tr>\n",
       "      <th>8</th>\n",
       "      <td></td>\n",
       "      <td>4 444</td>\n",
       "      <td>1 368</td>\n",
       "      <td>5 812</td>\n",
       "    </tr>\n",
       "    <tr>\n",
       "      <th>19</th>\n",
       "      <td></td>\n",
       "      <td>157</td>\n",
       "      <td>18 479</td>\n",
       "      <td>18 636</td>\n",
       "    </tr>\n",
       "    <tr>\n",
       "      <th>51</th>\n",
       "      <td>Asthma</td>\n",
       "      <td>406</td>\n",
       "      <td>643</td>\n",
       "      <td>1 049</td>\n",
       "    </tr>\n",
       "    <tr>\n",
       "      <th>75</th>\n",
       "      <td>Ertrinken und Untergehen</td>\n",
       "      <td>281</td>\n",
       "      <td>111</td>\n",
       "      <td>392</td>\n",
       "    </tr>\n",
       "    <tr>\n",
       "      <th>30</th>\n",
       "      <td></td>\n",
       "      <td>2 078</td>\n",
       "      <td>2 632</td>\n",
       "      <td>4 710</td>\n",
       "    </tr>\n",
       "  </tbody>\n",
       "</table>\n",
       "</div>"
      ],
      "text/plain": [
       "                         Todesursachen männlich weiblich Insgesamt\n",
       "52        COVID-19, Virus nachgewiesen   38 862   31 897    70 759\n",
       "16                                       27 200   17 401    44 601\n",
       "43  Sonstige Krankheiten des Endokards    6 560    8 428    14 988\n",
       "18         Bösartiges Melanom der Haut    1 692    1 236     2 928\n",
       "69                Plötzlicher Kindstod       47       35        82\n",
       "8                                         4 444    1 368     5 812\n",
       "19                                          157   18 479    18 636\n",
       "51                              Asthma      406      643     1 049\n",
       "75            Ertrinken und Untergehen      281      111       392\n",
       "30                                        2 078    2 632     4 710"
      ]
     },
     "execution_count": 178,
     "metadata": {},
     "output_type": "execute_result"
    }
   ],
   "source": [
    "df = pd.DataFrame(data_dict, columns=columns)\n",
    "df.sample(10)"
   ]
  },
  {
   "cell_type": "code",
   "execution_count": 179,
   "metadata": {},
   "outputs": [],
   "source": [
    "df.replace({' ':'','-':'0'}, regex = True, inplace=True)"
   ]
  },
  {
   "cell_type": "code",
   "execution_count": 180,
   "metadata": {},
   "outputs": [
    {
     "data": {
      "text/html": [
       "<div>\n",
       "<style scoped>\n",
       "    .dataframe tbody tr th:only-of-type {\n",
       "        vertical-align: middle;\n",
       "    }\n",
       "\n",
       "    .dataframe tbody tr th {\n",
       "        vertical-align: top;\n",
       "    }\n",
       "\n",
       "    .dataframe thead th {\n",
       "        text-align: right;\n",
       "    }\n",
       "</style>\n",
       "<table border=\"1\" class=\"dataframe\">\n",
       "  <thead>\n",
       "    <tr style=\"text-align: right;\">\n",
       "      <th></th>\n",
       "      <th>Todesursachen</th>\n",
       "      <th>männlich</th>\n",
       "      <th>weiblich</th>\n",
       "      <th>Insgesamt</th>\n",
       "    </tr>\n",
       "  </thead>\n",
       "  <tbody>\n",
       "    <tr>\n",
       "      <th>0</th>\n",
       "      <td>BestimmteinfektiöseundparasitäreKrankheiten</td>\n",
       "      <td>7355</td>\n",
       "      <td>7515</td>\n",
       "      <td>14870</td>\n",
       "    </tr>\n",
       "    <tr>\n",
       "      <th>1</th>\n",
       "      <td>TuberkuloseeinschließlichihrerFolgezustände</td>\n",
       "      <td>161</td>\n",
       "      <td>106</td>\n",
       "      <td>267</td>\n",
       "    </tr>\n",
       "    <tr>\n",
       "      <th>2</th>\n",
       "      <td>Meningokokkeninfektion</td>\n",
       "      <td>8</td>\n",
       "      <td>7</td>\n",
       "      <td>15</td>\n",
       "    </tr>\n",
       "    <tr>\n",
       "      <th>3</th>\n",
       "      <td>Virushepatitis</td>\n",
       "      <td>307</td>\n",
       "      <td>204</td>\n",
       "      <td>511</td>\n",
       "    </tr>\n",
       "    <tr>\n",
       "      <th>4</th>\n",
       "      <td>HIV0Krankheit</td>\n",
       "      <td>176</td>\n",
       "      <td>42</td>\n",
       "      <td>218</td>\n",
       "    </tr>\n",
       "    <tr>\n",
       "      <th>5</th>\n",
       "      <td>Neubildungen</td>\n",
       "      <td>127968</td>\n",
       "      <td>109192</td>\n",
       "      <td>237160</td>\n",
       "    </tr>\n",
       "    <tr>\n",
       "      <th>6</th>\n",
       "      <td>BösartigeNeubildungen(BN)</td>\n",
       "      <td>124006</td>\n",
       "      <td>105062</td>\n",
       "      <td>229068</td>\n",
       "    </tr>\n",
       "    <tr>\n",
       "      <th>7</th>\n",
       "      <td></td>\n",
       "      <td>3796</td>\n",
       "      <td>1421</td>\n",
       "      <td>5217</td>\n",
       "    </tr>\n",
       "    <tr>\n",
       "      <th>8</th>\n",
       "      <td></td>\n",
       "      <td>4444</td>\n",
       "      <td>1368</td>\n",
       "      <td>5812</td>\n",
       "    </tr>\n",
       "    <tr>\n",
       "      <th>9</th>\n",
       "      <td></td>\n",
       "      <td>4976</td>\n",
       "      <td>3320</td>\n",
       "      <td>8296</td>\n",
       "    </tr>\n",
       "    <tr>\n",
       "      <th>10</th>\n",
       "      <td></td>\n",
       "      <td>7820</td>\n",
       "      <td>7252</td>\n",
       "      <td>15072</td>\n",
       "    </tr>\n",
       "    <tr>\n",
       "      <th>11</th>\n",
       "      <td></td>\n",
       "      <td>4744</td>\n",
       "      <td>3049</td>\n",
       "      <td>7793</td>\n",
       "    </tr>\n",
       "    <tr>\n",
       "      <th>12</th>\n",
       "      <td></td>\n",
       "      <td>16708</td>\n",
       "      <td>14286</td>\n",
       "      <td>30994</td>\n",
       "    </tr>\n",
       "    <tr>\n",
       "      <th>13</th>\n",
       "      <td></td>\n",
       "      <td>5455</td>\n",
       "      <td>2692</td>\n",
       "      <td>8147</td>\n",
       "    </tr>\n",
       "    <tr>\n",
       "      <th>14</th>\n",
       "      <td></td>\n",
       "      <td>9570</td>\n",
       "      <td>9602</td>\n",
       "      <td>19172</td>\n",
       "    </tr>\n",
       "    <tr>\n",
       "      <th>15</th>\n",
       "      <td></td>\n",
       "      <td>28332</td>\n",
       "      <td>17608</td>\n",
       "      <td>45940</td>\n",
       "    </tr>\n",
       "    <tr>\n",
       "      <th>16</th>\n",
       "      <td></td>\n",
       "      <td>27200</td>\n",
       "      <td>17401</td>\n",
       "      <td>44601</td>\n",
       "    </tr>\n",
       "    <tr>\n",
       "      <th>17</th>\n",
       "      <td></td>\n",
       "      <td>2406</td>\n",
       "      <td>1700</td>\n",
       "      <td>4106</td>\n",
       "    </tr>\n",
       "    <tr>\n",
       "      <th>18</th>\n",
       "      <td>BösartigesMelanomderHaut</td>\n",
       "      <td>1692</td>\n",
       "      <td>1236</td>\n",
       "      <td>2928</td>\n",
       "    </tr>\n",
       "    <tr>\n",
       "      <th>19</th>\n",
       "      <td></td>\n",
       "      <td>157</td>\n",
       "      <td>18479</td>\n",
       "      <td>18636</td>\n",
       "    </tr>\n",
       "  </tbody>\n",
       "</table>\n",
       "</div>"
      ],
      "text/plain": [
       "                                  Todesursachen männlich weiblich Insgesamt\n",
       "0   BestimmteinfektiöseundparasitäreKrankheiten     7355     7515     14870\n",
       "1   TuberkuloseeinschließlichihrerFolgezustände      161      106       267\n",
       "2                        Meningokokkeninfektion        8        7        15\n",
       "3                                Virushepatitis      307      204       511\n",
       "4                                 HIV0Krankheit      176       42       218\n",
       "5                                  Neubildungen   127968   109192    237160\n",
       "6                     BösartigeNeubildungen(BN)   124006   105062    229068\n",
       "7                                                   3796     1421      5217\n",
       "8                                                   4444     1368      5812\n",
       "9                                                   4976     3320      8296\n",
       "10                                                  7820     7252     15072\n",
       "11                                                  4744     3049      7793\n",
       "12                                                 16708    14286     30994\n",
       "13                                                  5455     2692      8147\n",
       "14                                                  9570     9602     19172\n",
       "15                                                 28332    17608     45940\n",
       "16                                                 27200    17401     44601\n",
       "17                                                  2406     1700      4106\n",
       "18                     BösartigesMelanomderHaut     1692     1236      2928\n",
       "19                                                   157    18479     18636"
      ]
     },
     "execution_count": 180,
     "metadata": {},
     "output_type": "execute_result"
    }
   ],
   "source": [
    "df.head(20)"
   ]
  },
  {
   "cell_type": "code",
   "execution_count": 181,
   "metadata": {},
   "outputs": [
    {
     "name": "stdout",
     "output_type": "stream",
     "text": [
      "<class 'pandas.core.frame.DataFrame'>\n",
      "RangeIndex: 82 entries, 0 to 81\n",
      "Data columns (total 4 columns):\n",
      " #   Column         Non-Null Count  Dtype \n",
      "---  ------         --------------  ----- \n",
      " 0   Todesursachen  82 non-null     object\n",
      " 1   männlich       82 non-null     object\n",
      " 2   weiblich       82 non-null     object\n",
      " 3   Insgesamt      82 non-null     object\n",
      "dtypes: object(4)\n",
      "memory usage: 2.7+ KB\n"
     ]
    }
   ],
   "source": [
    "df.info()"
   ]
  },
  {
   "cell_type": "code",
   "execution_count": 191,
   "metadata": {},
   "outputs": [],
   "source": [
    "#df.loc[7, 'Todesursachen'] = 'BN der Lippe, der Mundhöhle und des Pharynx'\n",
    "#df.loc[8, 'Todesursachen'] = 'BN des Ösophagus'\n",
    "#df.loc[9, 'Todesursachen'] = 'BN des Magens'\n",
    "#df.loc[10, 'Todesursachen'] = 'BN des Dickdarms'\n",
    "#df.loc[11, 'Todesursachen'] = 'BN des Rektums, des Anus und am Rektosigmoid'\n",
    "#df.loc[12, 'Todesursachen'] = 'BN der Leber, der Gallenwege und des Pankreas'\n",
    "#df.loc[13, 'Todesursachen'] = 'BN der Leber und der intrahepatischen Gallengänge'\n",
    "#df.loc[14, 'Todesursachen'] = ''\n",
    "data_tambahan = [\n",
    "    {'Index': 7, 'Todesursachen': 'BN der Lippe, der Mundhöhle und des Pharynx'},\n",
    "    {'Index': 8,'Todesursachen': 'BN des Ösophagus'},\n",
    "    {'Index': 9,'Todesursachen': 'BN des Magens'},\n",
    "    {'Index': 10,'Todesursachen': 'BN des Dickdarms'},\n",
    "    {'Index': 11,'Todesursachen': 'BN des Rektums, des Anus und am Rektosigmoid'},\n",
    "    {'Index': 12,'Todesursachen': 'BN der Leber, der Gallenwege und des Pankreas'},\n",
    "    {'Index': 13,'Todesursachen': 'BN der Leber und der intrahepatischen Gallengänge'},\n",
    "    {'Index': 14,'Todesursachen': 'BN des Pankreas'},\n",
    "    {'Index': 15,'Todesursachen': 'BN d. Larynx. d. Trachea, d. Bronchien u.d. Lunge'},\n",
    "    {'Index': 16,'Todesursachen': 'BN der Bronchien und der Lunge'},\n",
    "    {'Index': 17,'Todesursachen': 'Melanom und sonstige bösartige Neubild. der Haut'},\n",
    "    {'Index': 19,'Todesursachen': 'BN der Brustdrüse'},\n",
    "    {'Index': 20,'Todesursachen': 'BN der Genital- und Harnorgane'},\n",
    "    {'Index': 21,'Todesursachen': 'BN der Cervix uteri'},\n",
    "    {'Index': 22,'Todesursachen': 'BN des Corpus uteri u. Uterus, Teil n.n. bezeichn.'},\n",
    "    {'Index': 23,'Todesursachen': 'BN des Ovars'},\n",
    "    {'Index': 24,'Todesursachen': 'BN der Prostata'},\n",
    "    {'Index': 25,'Todesursachen': 'BN der Niere, ausgenommen Nierenbecken'},\n",
    "    {'Index': 26,'Todesursachen': 'BN der Harnblase'},\n",
    "    {'Index': 27,'Todesursachen': 'BN d. lymphat., blutbild. u. verwanten Gewebes'},\n",
    "    {'Index': 30,'Todesursachen': 'Krankheiten des Blutes u. der blutbildenden Organe'},\n",
    "    {'Index': 31,'Todesursachen': 'Endokrine, Ernährungs- u. Stoffwechselkranheiten'},\n",
    "    {'Index': 35,'Todesursachen': 'Psych. u. Verhaltensstörungen d.a.psychotr. Subst.'},\n",
    "    {'Index': 36,'Todesursachen': 'Krankheiten d. Nervensystems u.d. Sinnesorgane'},\n",
    "    {'Index': 45,'Todesursachen': 'Schlaganfall, nicht als Blutung oder Infarkt bez.'},\n",
    "    {'Index': 55,'Todesursachen': 'Ulcus ventriculi, duodeni, pepticum, pept. jejuni'},\n",
    "    {'Index': 57,'Todesursachen': 'Alkoh.Leberkh.,Chron.Hepatitis,Leberfibr.u.-zirr.'},\n",
    "    {'Index': 59,'Todesursachen': 'Krankh.des Muskel-Skelett-Systems u. Bindegewebes'},\n",
    "    {'Index': 64,'Todesursachen': 'Best.Zustände mit Ursprung in der Perinatalperiode'},\n",
    "    {'Index': 65,'Todesursachen': 'Angeb. Fehlbildungen,Deformitäten,Chromosomenanom'},\n",
    "    {'Index': 68,'Todesursachen': 'Symptome und abnorme klinische und Laborbefunde'},\n",
    "    {'Index': 70,'Todesursachen': 'Sonst. ungenau bezeichnete u. unbek. Todesursachen'},\n",
    "    {'Index': 77,'Todesursachen': 'Akzid. Vergiftung: schädl. Substanzen (inkl. Exp.)'}\n",
    "]"
   ]
  },
  {
   "cell_type": "code",
   "execution_count": 192,
   "metadata": {},
   "outputs": [],
   "source": [
    "for tambahan in data_tambahan:\n",
    "    row_idx = tambahan['Index']  # Indeks baris yang akan diisi\n",
    "    df.loc[row_idx, 'Todesursachen'] = tambahan['Todesursachen']"
   ]
  },
  {
   "cell_type": "code",
   "execution_count": 195,
   "metadata": {},
   "outputs": [
    {
     "data": {
      "text/plain": [
       "Todesursachen\n",
       "BestimmteinfektiöseundparasitäreKrankheiten          1\n",
       "KrankheitendesUrogenitalsystems                      1\n",
       "Krankh.des Muskel-Skelett-Systems u. Bindegewebes    1\n",
       "KrankheitenderHautundderUnterhaut                    1\n",
       "Alkoh.Leberkh.,Chron.Hepatitis,Leberfibr.u.-zirr.    1\n",
       "                                                    ..\n",
       "BN der Harnblase                                     1\n",
       "BN der Niere, ausgenommen Nierenbecken               1\n",
       "BN der Prostata                                      1\n",
       "BN des Ovars                                         1\n",
       "Insgesamt                                            1\n",
       "Name: count, Length: 82, dtype: int64"
      ]
     },
     "execution_count": 195,
     "metadata": {},
     "output_type": "execute_result"
    }
   ],
   "source": [
    "df['Todesursachen'].value_counts()"
   ]
  },
  {
   "cell_type": "code",
   "execution_count": 196,
   "metadata": {},
   "outputs": [
    {
     "data": {
      "text/html": [
       "<div>\n",
       "<style scoped>\n",
       "    .dataframe tbody tr th:only-of-type {\n",
       "        vertical-align: middle;\n",
       "    }\n",
       "\n",
       "    .dataframe tbody tr th {\n",
       "        vertical-align: top;\n",
       "    }\n",
       "\n",
       "    .dataframe thead th {\n",
       "        text-align: right;\n",
       "    }\n",
       "</style>\n",
       "<table border=\"1\" class=\"dataframe\">\n",
       "  <thead>\n",
       "    <tr style=\"text-align: right;\">\n",
       "      <th></th>\n",
       "      <th>Todesursachen</th>\n",
       "      <th>männlich</th>\n",
       "      <th>weiblich</th>\n",
       "      <th>Insgesamt</th>\n",
       "    </tr>\n",
       "  </thead>\n",
       "  <tbody>\n",
       "    <tr>\n",
       "      <th>0</th>\n",
       "      <td>BestimmteinfektiöseundparasitäreKrankheiten</td>\n",
       "      <td>7355</td>\n",
       "      <td>7515</td>\n",
       "      <td>14870</td>\n",
       "    </tr>\n",
       "    <tr>\n",
       "      <th>1</th>\n",
       "      <td>TuberkuloseeinschließlichihrerFolgezustände</td>\n",
       "      <td>161</td>\n",
       "      <td>106</td>\n",
       "      <td>267</td>\n",
       "    </tr>\n",
       "    <tr>\n",
       "      <th>2</th>\n",
       "      <td>Meningokokkeninfektion</td>\n",
       "      <td>8</td>\n",
       "      <td>7</td>\n",
       "      <td>15</td>\n",
       "    </tr>\n",
       "    <tr>\n",
       "      <th>3</th>\n",
       "      <td>Virushepatitis</td>\n",
       "      <td>307</td>\n",
       "      <td>204</td>\n",
       "      <td>511</td>\n",
       "    </tr>\n",
       "    <tr>\n",
       "      <th>4</th>\n",
       "      <td>HIV0Krankheit</td>\n",
       "      <td>176</td>\n",
       "      <td>42</td>\n",
       "      <td>218</td>\n",
       "    </tr>\n",
       "    <tr>\n",
       "      <th>5</th>\n",
       "      <td>Neubildungen</td>\n",
       "      <td>127968</td>\n",
       "      <td>109192</td>\n",
       "      <td>237160</td>\n",
       "    </tr>\n",
       "    <tr>\n",
       "      <th>6</th>\n",
       "      <td>BösartigeNeubildungen(BN)</td>\n",
       "      <td>124006</td>\n",
       "      <td>105062</td>\n",
       "      <td>229068</td>\n",
       "    </tr>\n",
       "    <tr>\n",
       "      <th>7</th>\n",
       "      <td>BN der Lippe, der Mundhöhle und des Pharynx</td>\n",
       "      <td>3796</td>\n",
       "      <td>1421</td>\n",
       "      <td>5217</td>\n",
       "    </tr>\n",
       "    <tr>\n",
       "      <th>8</th>\n",
       "      <td>BN des Ösophagus</td>\n",
       "      <td>4444</td>\n",
       "      <td>1368</td>\n",
       "      <td>5812</td>\n",
       "    </tr>\n",
       "    <tr>\n",
       "      <th>9</th>\n",
       "      <td>BN des Magens</td>\n",
       "      <td>4976</td>\n",
       "      <td>3320</td>\n",
       "      <td>8296</td>\n",
       "    </tr>\n",
       "    <tr>\n",
       "      <th>10</th>\n",
       "      <td>BN des Dickdarms</td>\n",
       "      <td>7820</td>\n",
       "      <td>7252</td>\n",
       "      <td>15072</td>\n",
       "    </tr>\n",
       "    <tr>\n",
       "      <th>11</th>\n",
       "      <td>BN des Rektums, des Anus und am Rektosigmoid</td>\n",
       "      <td>4744</td>\n",
       "      <td>3049</td>\n",
       "      <td>7793</td>\n",
       "    </tr>\n",
       "    <tr>\n",
       "      <th>12</th>\n",
       "      <td>BN der Leber, der Gallenwege und des Pankreas</td>\n",
       "      <td>16708</td>\n",
       "      <td>14286</td>\n",
       "      <td>30994</td>\n",
       "    </tr>\n",
       "    <tr>\n",
       "      <th>13</th>\n",
       "      <td>BN der Leber und der intrahepatischen Gallengänge</td>\n",
       "      <td>5455</td>\n",
       "      <td>2692</td>\n",
       "      <td>8147</td>\n",
       "    </tr>\n",
       "    <tr>\n",
       "      <th>14</th>\n",
       "      <td>BN des Pankreas</td>\n",
       "      <td>9570</td>\n",
       "      <td>9602</td>\n",
       "      <td>19172</td>\n",
       "    </tr>\n",
       "    <tr>\n",
       "      <th>15</th>\n",
       "      <td>BN d. Larynx. d. Trachea, d. Bronchien u.d. Lunge</td>\n",
       "      <td>28332</td>\n",
       "      <td>17608</td>\n",
       "      <td>45940</td>\n",
       "    </tr>\n",
       "    <tr>\n",
       "      <th>16</th>\n",
       "      <td>BN der Bronchien und der Lunge</td>\n",
       "      <td>27200</td>\n",
       "      <td>17401</td>\n",
       "      <td>44601</td>\n",
       "    </tr>\n",
       "    <tr>\n",
       "      <th>17</th>\n",
       "      <td>Melanom und sonstige bösartige Neubild. der Haut</td>\n",
       "      <td>2406</td>\n",
       "      <td>1700</td>\n",
       "      <td>4106</td>\n",
       "    </tr>\n",
       "    <tr>\n",
       "      <th>18</th>\n",
       "      <td>BösartigesMelanomderHaut</td>\n",
       "      <td>1692</td>\n",
       "      <td>1236</td>\n",
       "      <td>2928</td>\n",
       "    </tr>\n",
       "    <tr>\n",
       "      <th>19</th>\n",
       "      <td>BN der Brustdrüse</td>\n",
       "      <td>157</td>\n",
       "      <td>18479</td>\n",
       "      <td>18636</td>\n",
       "    </tr>\n",
       "  </tbody>\n",
       "</table>\n",
       "</div>"
      ],
      "text/plain": [
       "                                        Todesursachen männlich weiblich  \\\n",
       "0         BestimmteinfektiöseundparasitäreKrankheiten     7355     7515   \n",
       "1         TuberkuloseeinschließlichihrerFolgezustände      161      106   \n",
       "2                              Meningokokkeninfektion        8        7   \n",
       "3                                      Virushepatitis      307      204   \n",
       "4                                       HIV0Krankheit      176       42   \n",
       "5                                        Neubildungen   127968   109192   \n",
       "6                           BösartigeNeubildungen(BN)   124006   105062   \n",
       "7         BN der Lippe, der Mundhöhle und des Pharynx     3796     1421   \n",
       "8                                    BN des Ösophagus     4444     1368   \n",
       "9                                       BN des Magens     4976     3320   \n",
       "10                                   BN des Dickdarms     7820     7252   \n",
       "11       BN des Rektums, des Anus und am Rektosigmoid     4744     3049   \n",
       "12      BN der Leber, der Gallenwege und des Pankreas    16708    14286   \n",
       "13  BN der Leber und der intrahepatischen Gallengänge     5455     2692   \n",
       "14                                    BN des Pankreas     9570     9602   \n",
       "15  BN d. Larynx. d. Trachea, d. Bronchien u.d. Lunge    28332    17608   \n",
       "16                     BN der Bronchien und der Lunge    27200    17401   \n",
       "17   Melanom und sonstige bösartige Neubild. der Haut     2406     1700   \n",
       "18                           BösartigesMelanomderHaut     1692     1236   \n",
       "19                                  BN der Brustdrüse      157    18479   \n",
       "\n",
       "   Insgesamt  \n",
       "0      14870  \n",
       "1        267  \n",
       "2         15  \n",
       "3        511  \n",
       "4        218  \n",
       "5     237160  \n",
       "6     229068  \n",
       "7       5217  \n",
       "8       5812  \n",
       "9       8296  \n",
       "10     15072  \n",
       "11      7793  \n",
       "12     30994  \n",
       "13      8147  \n",
       "14     19172  \n",
       "15     45940  \n",
       "16     44601  \n",
       "17      4106  \n",
       "18      2928  \n",
       "19     18636  "
      ]
     },
     "execution_count": 196,
     "metadata": {},
     "output_type": "execute_result"
    }
   ],
   "source": [
    "df.head(20)"
   ]
  },
  {
   "cell_type": "code",
   "execution_count": 199,
   "metadata": {},
   "outputs": [
    {
     "data": {
      "text/html": [
       "<div>\n",
       "<style scoped>\n",
       "    .dataframe tbody tr th:only-of-type {\n",
       "        vertical-align: middle;\n",
       "    }\n",
       "\n",
       "    .dataframe tbody tr th {\n",
       "        vertical-align: top;\n",
       "    }\n",
       "\n",
       "    .dataframe thead th {\n",
       "        text-align: right;\n",
       "    }\n",
       "</style>\n",
       "<table border=\"1\" class=\"dataframe\">\n",
       "  <thead>\n",
       "    <tr style=\"text-align: right;\">\n",
       "      <th></th>\n",
       "      <th>Todesursachen</th>\n",
       "      <th>männlich</th>\n",
       "      <th>weiblich</th>\n",
       "      <th>Insgesamt</th>\n",
       "    </tr>\n",
       "  </thead>\n",
       "  <tbody>\n",
       "    <tr>\n",
       "      <th>count</th>\n",
       "      <td>82</td>\n",
       "      <td>82</td>\n",
       "      <td>82</td>\n",
       "      <td>82</td>\n",
       "    </tr>\n",
       "    <tr>\n",
       "      <th>unique</th>\n",
       "      <td>82</td>\n",
       "      <td>79</td>\n",
       "      <td>82</td>\n",
       "      <td>82</td>\n",
       "    </tr>\n",
       "    <tr>\n",
       "      <th>top</th>\n",
       "      <td>BestimmteinfektiöseundparasitäreKrankheiten</td>\n",
       "      <td>0</td>\n",
       "      <td>7515</td>\n",
       "      <td>14870</td>\n",
       "    </tr>\n",
       "    <tr>\n",
       "      <th>freq</th>\n",
       "      <td>1</td>\n",
       "      <td>4</td>\n",
       "      <td>1</td>\n",
       "      <td>1</td>\n",
       "    </tr>\n",
       "  </tbody>\n",
       "</table>\n",
       "</div>"
      ],
      "text/plain": [
       "                                      Todesursachen männlich weiblich  \\\n",
       "count                                            82       82       82   \n",
       "unique                                           82       79       82   \n",
       "top     BestimmteinfektiöseundparasitäreKrankheiten        0     7515   \n",
       "freq                                              1        4        1   \n",
       "\n",
       "       Insgesamt  \n",
       "count         82  \n",
       "unique        82  \n",
       "top        14870  \n",
       "freq           1  "
      ]
     },
     "execution_count": 199,
     "metadata": {},
     "output_type": "execute_result"
    }
   ],
   "source": [
    "df.describe()"
   ]
  },
  {
   "cell_type": "code",
   "execution_count": 203,
   "metadata": {},
   "outputs": [
    {
     "name": "stdout",
     "output_type": "stream",
     "text": [
      "<class 'pandas.core.frame.DataFrame'>\n",
      "RangeIndex: 82 entries, 0 to 81\n",
      "Data columns (total 4 columns):\n",
      " #   Column         Non-Null Count  Dtype \n",
      "---  ------         --------------  ----- \n",
      " 0   Todesursachen  82 non-null     object\n",
      " 1   männlich       82 non-null     object\n",
      " 2   weiblich       82 non-null     object\n",
      " 3   Insgesamt      82 non-null     object\n",
      "dtypes: object(4)\n",
      "memory usage: 2.7+ KB\n"
     ]
    }
   ],
   "source": [
    "df.info()"
   ]
  },
  {
   "cell_type": "code",
   "execution_count": 208,
   "metadata": {},
   "outputs": [],
   "source": [
    "df['männlich'] = df['männlich'].astype(int)\n",
    "df['weiblich'] = df['weiblich'].astype(int)\n",
    "df['Insgesamt'] = df['Insgesamt'].astype(int)"
   ]
  },
  {
   "cell_type": "code",
   "execution_count": 209,
   "metadata": {},
   "outputs": [
    {
     "name": "stdout",
     "output_type": "stream",
     "text": [
      "<class 'pandas.core.frame.DataFrame'>\n",
      "RangeIndex: 82 entries, 0 to 81\n",
      "Data columns (total 4 columns):\n",
      " #   Column         Non-Null Count  Dtype \n",
      "---  ------         --------------  ----- \n",
      " 0   Todesursachen  82 non-null     object\n",
      " 1   männlich       82 non-null     int64 \n",
      " 2   weiblich       82 non-null     int64 \n",
      " 3   Insgesamt      82 non-null     int64 \n",
      "dtypes: int64(3), object(1)\n",
      "memory usage: 2.7+ KB\n"
     ]
    }
   ],
   "source": [
    "df.info()"
   ]
  },
  {
   "cell_type": "code",
   "execution_count": 212,
   "metadata": {},
   "outputs": [
    {
     "data": {
      "text/html": [
       "<div>\n",
       "<style scoped>\n",
       "    .dataframe tbody tr th:only-of-type {\n",
       "        vertical-align: middle;\n",
       "    }\n",
       "\n",
       "    .dataframe tbody tr th {\n",
       "        vertical-align: top;\n",
       "    }\n",
       "\n",
       "    .dataframe thead th {\n",
       "        text-align: right;\n",
       "    }\n",
       "</style>\n",
       "<table border=\"1\" class=\"dataframe\">\n",
       "  <thead>\n",
       "    <tr style=\"text-align: right;\">\n",
       "      <th></th>\n",
       "      <th>Todesursachen</th>\n",
       "      <th>männlich</th>\n",
       "      <th>weiblich</th>\n",
       "      <th>Insgesamt</th>\n",
       "    </tr>\n",
       "  </thead>\n",
       "  <tbody>\n",
       "    <tr>\n",
       "      <th>5</th>\n",
       "      <td>Neubildungen</td>\n",
       "      <td>127968</td>\n",
       "      <td>109192</td>\n",
       "      <td>237160</td>\n",
       "    </tr>\n",
       "    <tr>\n",
       "      <th>6</th>\n",
       "      <td>BösartigeNeubildungen(BN)</td>\n",
       "      <td>124006</td>\n",
       "      <td>105062</td>\n",
       "      <td>229068</td>\n",
       "    </tr>\n",
       "    <tr>\n",
       "      <th>38</th>\n",
       "      <td>KrankheitendesKreislaufsystems</td>\n",
       "      <td>159846</td>\n",
       "      <td>180773</td>\n",
       "      <td>340619</td>\n",
       "    </tr>\n",
       "    <tr>\n",
       "      <th>81</th>\n",
       "      <td>Insgesamt</td>\n",
       "      <td>515559</td>\n",
       "      <td>508128</td>\n",
       "      <td>1023687</td>\n",
       "    </tr>\n",
       "  </tbody>\n",
       "</table>\n",
       "</div>"
      ],
      "text/plain": [
       "                     Todesursachen  männlich  weiblich  Insgesamt\n",
       "5                     Neubildungen    127968    109192     237160\n",
       "6        BösartigeNeubildungen(BN)    124006    105062     229068\n",
       "38  KrankheitendesKreislaufsystems    159846    180773     340619\n",
       "81                       Insgesamt    515559    508128    1023687"
      ]
     },
     "execution_count": 212,
     "metadata": {},
     "output_type": "execute_result"
    }
   ],
   "source": [
    "df.loc[df['männlich']>100000] #Krankheiten des Kreislaufsystems is"
   ]
  },
  {
   "cell_type": "code",
   "execution_count": 213,
   "metadata": {},
   "outputs": [
    {
     "data": {
      "text/html": [
       "<div>\n",
       "<style scoped>\n",
       "    .dataframe tbody tr th:only-of-type {\n",
       "        vertical-align: middle;\n",
       "    }\n",
       "\n",
       "    .dataframe tbody tr th {\n",
       "        vertical-align: top;\n",
       "    }\n",
       "\n",
       "    .dataframe thead th {\n",
       "        text-align: right;\n",
       "    }\n",
       "</style>\n",
       "<table border=\"1\" class=\"dataframe\">\n",
       "  <thead>\n",
       "    <tr style=\"text-align: right;\">\n",
       "      <th></th>\n",
       "      <th>Todesursachen</th>\n",
       "      <th>männlich</th>\n",
       "      <th>weiblich</th>\n",
       "      <th>Insgesamt</th>\n",
       "    </tr>\n",
       "  </thead>\n",
       "  <tbody>\n",
       "    <tr>\n",
       "      <th>5</th>\n",
       "      <td>Neubildungen</td>\n",
       "      <td>127968</td>\n",
       "      <td>109192</td>\n",
       "      <td>237160</td>\n",
       "    </tr>\n",
       "    <tr>\n",
       "      <th>6</th>\n",
       "      <td>BösartigeNeubildungen(BN)</td>\n",
       "      <td>124006</td>\n",
       "      <td>105062</td>\n",
       "      <td>229068</td>\n",
       "    </tr>\n",
       "    <tr>\n",
       "      <th>38</th>\n",
       "      <td>KrankheitendesKreislaufsystems</td>\n",
       "      <td>159846</td>\n",
       "      <td>180773</td>\n",
       "      <td>340619</td>\n",
       "    </tr>\n",
       "    <tr>\n",
       "      <th>81</th>\n",
       "      <td>Insgesamt</td>\n",
       "      <td>515559</td>\n",
       "      <td>508128</td>\n",
       "      <td>1023687</td>\n",
       "    </tr>\n",
       "  </tbody>\n",
       "</table>\n",
       "</div>"
      ],
      "text/plain": [
       "                     Todesursachen  männlich  weiblich  Insgesamt\n",
       "5                     Neubildungen    127968    109192     237160\n",
       "6        BösartigeNeubildungen(BN)    124006    105062     229068\n",
       "38  KrankheitendesKreislaufsystems    159846    180773     340619\n",
       "81                       Insgesamt    515559    508128    1023687"
      ]
     },
     "execution_count": 213,
     "metadata": {},
     "output_type": "execute_result"
    }
   ],
   "source": [
    "df.loc[df['weiblich']>100000]"
   ]
  },
  {
   "cell_type": "code",
   "execution_count": 215,
   "metadata": {},
   "outputs": [
    {
     "data": {
      "text/html": [
       "<div>\n",
       "<style scoped>\n",
       "    .dataframe tbody tr th:only-of-type {\n",
       "        vertical-align: middle;\n",
       "    }\n",
       "\n",
       "    .dataframe tbody tr th {\n",
       "        vertical-align: top;\n",
       "    }\n",
       "\n",
       "    .dataframe thead th {\n",
       "        text-align: right;\n",
       "    }\n",
       "</style>\n",
       "<table border=\"1\" class=\"dataframe\">\n",
       "  <thead>\n",
       "    <tr style=\"text-align: right;\">\n",
       "      <th></th>\n",
       "      <th>Todesursachen</th>\n",
       "      <th>männlich</th>\n",
       "      <th>weiblich</th>\n",
       "      <th>Insgesamt</th>\n",
       "    </tr>\n",
       "  </thead>\n",
       "  <tbody>\n",
       "    <tr>\n",
       "      <th>0</th>\n",
       "      <td>BestimmteinfektiöseundparasitäreKrankheiten</td>\n",
       "      <td>7355</td>\n",
       "      <td>7515</td>\n",
       "      <td>14870</td>\n",
       "    </tr>\n",
       "    <tr>\n",
       "      <th>14</th>\n",
       "      <td>BN des Pankreas</td>\n",
       "      <td>9570</td>\n",
       "      <td>9602</td>\n",
       "      <td>19172</td>\n",
       "    </tr>\n",
       "    <tr>\n",
       "      <th>19</th>\n",
       "      <td>BN der Brustdrüse</td>\n",
       "      <td>157</td>\n",
       "      <td>18479</td>\n",
       "      <td>18636</td>\n",
       "    </tr>\n",
       "    <tr>\n",
       "      <th>21</th>\n",
       "      <td>BN der Cervix uteri</td>\n",
       "      <td>0</td>\n",
       "      <td>1535</td>\n",
       "      <td>1535</td>\n",
       "    </tr>\n",
       "    <tr>\n",
       "      <th>22</th>\n",
       "      <td>BN des Corpus uteri u. Uterus, Teil n.n. bezei...</td>\n",
       "      <td>0</td>\n",
       "      <td>2634</td>\n",
       "      <td>2634</td>\n",
       "    </tr>\n",
       "    <tr>\n",
       "      <th>23</th>\n",
       "      <td>BN des Ovars</td>\n",
       "      <td>0</td>\n",
       "      <td>5379</td>\n",
       "      <td>5379</td>\n",
       "    </tr>\n",
       "    <tr>\n",
       "      <th>29</th>\n",
       "      <td>GutartigeNeubildungen</td>\n",
       "      <td>371</td>\n",
       "      <td>396</td>\n",
       "      <td>767</td>\n",
       "    </tr>\n",
       "    <tr>\n",
       "      <th>30</th>\n",
       "      <td>Krankheiten des Blutes u. der blutbildenden Or...</td>\n",
       "      <td>2078</td>\n",
       "      <td>2632</td>\n",
       "      <td>4710</td>\n",
       "    </tr>\n",
       "    <tr>\n",
       "      <th>31</th>\n",
       "      <td>Endokrine, Ernährungs- u. Stoffwechselkranheiten</td>\n",
       "      <td>17402</td>\n",
       "      <td>20464</td>\n",
       "      <td>37866</td>\n",
       "    </tr>\n",
       "    <tr>\n",
       "      <th>32</th>\n",
       "      <td>Diabetesmellitus</td>\n",
       "      <td>12428</td>\n",
       "      <td>13556</td>\n",
       "      <td>25984</td>\n",
       "    </tr>\n",
       "    <tr>\n",
       "      <th>33</th>\n",
       "      <td>PsychischeundVerhaltensstörungen</td>\n",
       "      <td>22848</td>\n",
       "      <td>37142</td>\n",
       "      <td>59990</td>\n",
       "    </tr>\n",
       "    <tr>\n",
       "      <th>38</th>\n",
       "      <td>KrankheitendesKreislaufsystems</td>\n",
       "      <td>159846</td>\n",
       "      <td>180773</td>\n",
       "      <td>340619</td>\n",
       "    </tr>\n",
       "    <tr>\n",
       "      <th>39</th>\n",
       "      <td>Hypertonie(Hochdruckkrankheit)</td>\n",
       "      <td>16529</td>\n",
       "      <td>32332</td>\n",
       "      <td>48861</td>\n",
       "    </tr>\n",
       "    <tr>\n",
       "      <th>42</th>\n",
       "      <td>SonstigeFormenderHerzkrankheit</td>\n",
       "      <td>31899</td>\n",
       "      <td>43114</td>\n",
       "      <td>75013</td>\n",
       "    </tr>\n",
       "    <tr>\n",
       "      <th>43</th>\n",
       "      <td>SonstigeKrankheitendesEndokards</td>\n",
       "      <td>6560</td>\n",
       "      <td>8428</td>\n",
       "      <td>14988</td>\n",
       "    </tr>\n",
       "    <tr>\n",
       "      <th>44</th>\n",
       "      <td>ZerebrovaskuläreKrankheiten</td>\n",
       "      <td>23487</td>\n",
       "      <td>29595</td>\n",
       "      <td>53082</td>\n",
       "    </tr>\n",
       "    <tr>\n",
       "      <th>45</th>\n",
       "      <td>Schlaganfall, nicht als Blutung oder Infarkt bez.</td>\n",
       "      <td>4291</td>\n",
       "      <td>6338</td>\n",
       "      <td>10629</td>\n",
       "    </tr>\n",
       "    <tr>\n",
       "      <th>51</th>\n",
       "      <td>Asthma</td>\n",
       "      <td>406</td>\n",
       "      <td>643</td>\n",
       "      <td>1049</td>\n",
       "    </tr>\n",
       "    <tr>\n",
       "      <th>55</th>\n",
       "      <td>Ulcus ventriculi, duodeni, pepticum, pept. jejuni</td>\n",
       "      <td>1300</td>\n",
       "      <td>1345</td>\n",
       "      <td>2645</td>\n",
       "    </tr>\n",
       "    <tr>\n",
       "      <th>58</th>\n",
       "      <td>KrankheitenderHautundderUnterhaut</td>\n",
       "      <td>710</td>\n",
       "      <td>1047</td>\n",
       "      <td>1757</td>\n",
       "    </tr>\n",
       "    <tr>\n",
       "      <th>59</th>\n",
       "      <td>Krankh.des Muskel-Skelett-Systems u. Bindegewebes</td>\n",
       "      <td>2307</td>\n",
       "      <td>3718</td>\n",
       "      <td>6025</td>\n",
       "    </tr>\n",
       "    <tr>\n",
       "      <th>60</th>\n",
       "      <td>ChronischePolyarthritisundArthrose</td>\n",
       "      <td>449</td>\n",
       "      <td>1038</td>\n",
       "      <td>1487</td>\n",
       "    </tr>\n",
       "    <tr>\n",
       "      <th>61</th>\n",
       "      <td>KrankheitendesUrogenitalsystems</td>\n",
       "      <td>12065</td>\n",
       "      <td>14207</td>\n",
       "      <td>26272</td>\n",
       "    </tr>\n",
       "    <tr>\n",
       "      <th>62</th>\n",
       "      <td>KrankheitenderNiere</td>\n",
       "      <td>8416</td>\n",
       "      <td>10377</td>\n",
       "      <td>18793</td>\n",
       "    </tr>\n",
       "    <tr>\n",
       "      <th>63</th>\n",
       "      <td>Schwangerschaft,GeburtundWochenbett</td>\n",
       "      <td>0</td>\n",
       "      <td>28</td>\n",
       "      <td>28</td>\n",
       "    </tr>\n",
       "    <tr>\n",
       "      <th>66</th>\n",
       "      <td>AngeboreneFehlbildungendesNervensystems</td>\n",
       "      <td>86</td>\n",
       "      <td>97</td>\n",
       "      <td>183</td>\n",
       "    </tr>\n",
       "    <tr>\n",
       "      <th>74</th>\n",
       "      <td>Stürze</td>\n",
       "      <td>9020</td>\n",
       "      <td>9163</td>\n",
       "      <td>18183</td>\n",
       "    </tr>\n",
       "    <tr>\n",
       "      <th>79</th>\n",
       "      <td>TätlicherAngriff</td>\n",
       "      <td>150</td>\n",
       "      <td>164</td>\n",
       "      <td>314</td>\n",
       "    </tr>\n",
       "  </tbody>\n",
       "</table>\n",
       "</div>"
      ],
      "text/plain": [
       "                                        Todesursachen  männlich  weiblich  \\\n",
       "0         BestimmteinfektiöseundparasitäreKrankheiten      7355      7515   \n",
       "14                                    BN des Pankreas      9570      9602   \n",
       "19                                  BN der Brustdrüse       157     18479   \n",
       "21                                BN der Cervix uteri         0      1535   \n",
       "22  BN des Corpus uteri u. Uterus, Teil n.n. bezei...         0      2634   \n",
       "23                                       BN des Ovars         0      5379   \n",
       "29                              GutartigeNeubildungen       371       396   \n",
       "30  Krankheiten des Blutes u. der blutbildenden Or...      2078      2632   \n",
       "31   Endokrine, Ernährungs- u. Stoffwechselkranheiten     17402     20464   \n",
       "32                                   Diabetesmellitus     12428     13556   \n",
       "33                   PsychischeundVerhaltensstörungen     22848     37142   \n",
       "38                     KrankheitendesKreislaufsystems    159846    180773   \n",
       "39                     Hypertonie(Hochdruckkrankheit)     16529     32332   \n",
       "42                     SonstigeFormenderHerzkrankheit     31899     43114   \n",
       "43                    SonstigeKrankheitendesEndokards      6560      8428   \n",
       "44                        ZerebrovaskuläreKrankheiten     23487     29595   \n",
       "45  Schlaganfall, nicht als Blutung oder Infarkt bez.      4291      6338   \n",
       "51                                             Asthma       406       643   \n",
       "55  Ulcus ventriculi, duodeni, pepticum, pept. jejuni      1300      1345   \n",
       "58                  KrankheitenderHautundderUnterhaut       710      1047   \n",
       "59  Krankh.des Muskel-Skelett-Systems u. Bindegewebes      2307      3718   \n",
       "60                 ChronischePolyarthritisundArthrose       449      1038   \n",
       "61                    KrankheitendesUrogenitalsystems     12065     14207   \n",
       "62                                KrankheitenderNiere      8416     10377   \n",
       "63                Schwangerschaft,GeburtundWochenbett         0        28   \n",
       "66            AngeboreneFehlbildungendesNervensystems        86        97   \n",
       "74                                             Stürze      9020      9163   \n",
       "79                                   TätlicherAngriff       150       164   \n",
       "\n",
       "    Insgesamt  \n",
       "0       14870  \n",
       "14      19172  \n",
       "19      18636  \n",
       "21       1535  \n",
       "22       2634  \n",
       "23       5379  \n",
       "29        767  \n",
       "30       4710  \n",
       "31      37866  \n",
       "32      25984  \n",
       "33      59990  \n",
       "38     340619  \n",
       "39      48861  \n",
       "42      75013  \n",
       "43      14988  \n",
       "44      53082  \n",
       "45      10629  \n",
       "51       1049  \n",
       "55       2645  \n",
       "58       1757  \n",
       "59       6025  \n",
       "60       1487  \n",
       "61      26272  \n",
       "62      18793  \n",
       "63         28  \n",
       "66        183  \n",
       "74      18183  \n",
       "79        314  "
      ]
     },
     "execution_count": 215,
     "metadata": {},
     "output_type": "execute_result"
    }
   ],
   "source": [
    "df.loc[df['weiblich'] > df['männlich']]"
   ]
  },
  {
   "cell_type": "code",
   "execution_count": 221,
   "metadata": {},
   "outputs": [
    {
     "data": {
      "text/html": [
       "<div>\n",
       "<style scoped>\n",
       "    .dataframe tbody tr th:only-of-type {\n",
       "        vertical-align: middle;\n",
       "    }\n",
       "\n",
       "    .dataframe tbody tr th {\n",
       "        vertical-align: top;\n",
       "    }\n",
       "\n",
       "    .dataframe thead th {\n",
       "        text-align: right;\n",
       "    }\n",
       "</style>\n",
       "<table border=\"1\" class=\"dataframe\">\n",
       "  <thead>\n",
       "    <tr style=\"text-align: right;\">\n",
       "      <th></th>\n",
       "      <th>Todesursachen</th>\n",
       "      <th>männlich</th>\n",
       "      <th>weiblich</th>\n",
       "      <th>Insgesamt</th>\n",
       "    </tr>\n",
       "  </thead>\n",
       "  <tbody>\n",
       "    <tr>\n",
       "      <th>5</th>\n",
       "      <td>Neubildungen</td>\n",
       "      <td>127968</td>\n",
       "      <td>109192</td>\n",
       "      <td>237160</td>\n",
       "    </tr>\n",
       "    <tr>\n",
       "      <th>6</th>\n",
       "      <td>BösartigeNeubildungen(BN)</td>\n",
       "      <td>124006</td>\n",
       "      <td>105062</td>\n",
       "      <td>229068</td>\n",
       "    </tr>\n",
       "    <tr>\n",
       "      <th>12</th>\n",
       "      <td>BN der Leber, der Gallenwege und des Pankreas</td>\n",
       "      <td>16708</td>\n",
       "      <td>14286</td>\n",
       "      <td>30994</td>\n",
       "    </tr>\n",
       "    <tr>\n",
       "      <th>15</th>\n",
       "      <td>BN d. Larynx. d. Trachea, d. Bronchien u.d. Lunge</td>\n",
       "      <td>28332</td>\n",
       "      <td>17608</td>\n",
       "      <td>45940</td>\n",
       "    </tr>\n",
       "    <tr>\n",
       "      <th>16</th>\n",
       "      <td>BN der Bronchien und der Lunge</td>\n",
       "      <td>27200</td>\n",
       "      <td>17401</td>\n",
       "      <td>44601</td>\n",
       "    </tr>\n",
       "    <tr>\n",
       "      <th>20</th>\n",
       "      <td>BN der Genital- und Harnorgane</td>\n",
       "      <td>25989</td>\n",
       "      <td>16181</td>\n",
       "      <td>42170</td>\n",
       "    </tr>\n",
       "    <tr>\n",
       "      <th>31</th>\n",
       "      <td>Endokrine, Ernährungs- u. Stoffwechselkranheiten</td>\n",
       "      <td>17402</td>\n",
       "      <td>20464</td>\n",
       "      <td>37866</td>\n",
       "    </tr>\n",
       "    <tr>\n",
       "      <th>32</th>\n",
       "      <td>Diabetesmellitus</td>\n",
       "      <td>12428</td>\n",
       "      <td>13556</td>\n",
       "      <td>25984</td>\n",
       "    </tr>\n",
       "    <tr>\n",
       "      <th>33</th>\n",
       "      <td>PsychischeundVerhaltensstörungen</td>\n",
       "      <td>22848</td>\n",
       "      <td>37142</td>\n",
       "      <td>59990</td>\n",
       "    </tr>\n",
       "    <tr>\n",
       "      <th>36</th>\n",
       "      <td>Krankheiten d. Nervensystems u.d. Sinnesorgane</td>\n",
       "      <td>17974</td>\n",
       "      <td>17804</td>\n",
       "      <td>35778</td>\n",
       "    </tr>\n",
       "    <tr>\n",
       "      <th>38</th>\n",
       "      <td>KrankheitendesKreislaufsystems</td>\n",
       "      <td>159846</td>\n",
       "      <td>180773</td>\n",
       "      <td>340619</td>\n",
       "    </tr>\n",
       "    <tr>\n",
       "      <th>39</th>\n",
       "      <td>Hypertonie(Hochdruckkrankheit)</td>\n",
       "      <td>16529</td>\n",
       "      <td>32332</td>\n",
       "      <td>48861</td>\n",
       "    </tr>\n",
       "    <tr>\n",
       "      <th>40</th>\n",
       "      <td>IschämischeHerzkrankheiten</td>\n",
       "      <td>68900</td>\n",
       "      <td>52272</td>\n",
       "      <td>121172</td>\n",
       "    </tr>\n",
       "    <tr>\n",
       "      <th>41</th>\n",
       "      <td>AkuteroderrezidivierenderMyokardinfarkt</td>\n",
       "      <td>27107</td>\n",
       "      <td>18074</td>\n",
       "      <td>45181</td>\n",
       "    </tr>\n",
       "    <tr>\n",
       "      <th>42</th>\n",
       "      <td>SonstigeFormenderHerzkrankheit</td>\n",
       "      <td>31899</td>\n",
       "      <td>43114</td>\n",
       "      <td>75013</td>\n",
       "    </tr>\n",
       "    <tr>\n",
       "      <th>44</th>\n",
       "      <td>ZerebrovaskuläreKrankheiten</td>\n",
       "      <td>23487</td>\n",
       "      <td>29595</td>\n",
       "      <td>53082</td>\n",
       "    </tr>\n",
       "    <tr>\n",
       "      <th>47</th>\n",
       "      <td>KrankheitendesAtmungssystems</td>\n",
       "      <td>31841</td>\n",
       "      <td>25475</td>\n",
       "      <td>57316</td>\n",
       "    </tr>\n",
       "    <tr>\n",
       "      <th>50</th>\n",
       "      <td>ChronischeKrankheitenderunterenAtemwege</td>\n",
       "      <td>17285</td>\n",
       "      <td>14724</td>\n",
       "      <td>32009</td>\n",
       "    </tr>\n",
       "    <tr>\n",
       "      <th>52</th>\n",
       "      <td>COVID019,Virusnachgewiesen</td>\n",
       "      <td>38862</td>\n",
       "      <td>31897</td>\n",
       "      <td>70759</td>\n",
       "    </tr>\n",
       "    <tr>\n",
       "      <th>54</th>\n",
       "      <td>KrankheitendesVerdauungssystems</td>\n",
       "      <td>23508</td>\n",
       "      <td>20209</td>\n",
       "      <td>43717</td>\n",
       "    </tr>\n",
       "    <tr>\n",
       "      <th>61</th>\n",
       "      <td>KrankheitendesUrogenitalsystems</td>\n",
       "      <td>12065</td>\n",
       "      <td>14207</td>\n",
       "      <td>26272</td>\n",
       "    </tr>\n",
       "    <tr>\n",
       "      <th>68</th>\n",
       "      <td>Symptome und abnorme klinische und Laborbefunde</td>\n",
       "      <td>22638</td>\n",
       "      <td>16091</td>\n",
       "      <td>38729</td>\n",
       "    </tr>\n",
       "    <tr>\n",
       "      <th>70</th>\n",
       "      <td>Sonst. ungenau bezeichnete u. unbek. Todesursa...</td>\n",
       "      <td>20927</td>\n",
       "      <td>12891</td>\n",
       "      <td>33818</td>\n",
       "    </tr>\n",
       "    <tr>\n",
       "      <th>71</th>\n",
       "      <td>ÄußereUrsachenvonMorbiditätundMortalität</td>\n",
       "      <td>25394</td>\n",
       "      <td>17806</td>\n",
       "      <td>43200</td>\n",
       "    </tr>\n",
       "    <tr>\n",
       "      <th>72</th>\n",
       "      <td>UnfälleeinschließlichSpätfolgen</td>\n",
       "      <td>17189</td>\n",
       "      <td>14403</td>\n",
       "      <td>31592</td>\n",
       "    </tr>\n",
       "  </tbody>\n",
       "</table>\n",
       "</div>"
      ],
      "text/plain": [
       "                                        Todesursachen  männlich  weiblich  \\\n",
       "5                                        Neubildungen    127968    109192   \n",
       "6                           BösartigeNeubildungen(BN)    124006    105062   \n",
       "12      BN der Leber, der Gallenwege und des Pankreas     16708     14286   \n",
       "15  BN d. Larynx. d. Trachea, d. Bronchien u.d. Lunge     28332     17608   \n",
       "16                     BN der Bronchien und der Lunge     27200     17401   \n",
       "20                     BN der Genital- und Harnorgane     25989     16181   \n",
       "31   Endokrine, Ernährungs- u. Stoffwechselkranheiten     17402     20464   \n",
       "32                                   Diabetesmellitus     12428     13556   \n",
       "33                   PsychischeundVerhaltensstörungen     22848     37142   \n",
       "36     Krankheiten d. Nervensystems u.d. Sinnesorgane     17974     17804   \n",
       "38                     KrankheitendesKreislaufsystems    159846    180773   \n",
       "39                     Hypertonie(Hochdruckkrankheit)     16529     32332   \n",
       "40                         IschämischeHerzkrankheiten     68900     52272   \n",
       "41            AkuteroderrezidivierenderMyokardinfarkt     27107     18074   \n",
       "42                     SonstigeFormenderHerzkrankheit     31899     43114   \n",
       "44                        ZerebrovaskuläreKrankheiten     23487     29595   \n",
       "47                       KrankheitendesAtmungssystems     31841     25475   \n",
       "50            ChronischeKrankheitenderunterenAtemwege     17285     14724   \n",
       "52                         COVID019,Virusnachgewiesen     38862     31897   \n",
       "54                    KrankheitendesVerdauungssystems     23508     20209   \n",
       "61                    KrankheitendesUrogenitalsystems     12065     14207   \n",
       "68    Symptome und abnorme klinische und Laborbefunde     22638     16091   \n",
       "70  Sonst. ungenau bezeichnete u. unbek. Todesursa...     20927     12891   \n",
       "71           ÄußereUrsachenvonMorbiditätundMortalität     25394     17806   \n",
       "72                    UnfälleeinschließlichSpätfolgen     17189     14403   \n",
       "\n",
       "    Insgesamt  \n",
       "5      237160  \n",
       "6      229068  \n",
       "12      30994  \n",
       "15      45940  \n",
       "16      44601  \n",
       "20      42170  \n",
       "31      37866  \n",
       "32      25984  \n",
       "33      59990  \n",
       "36      35778  \n",
       "38     340619  \n",
       "39      48861  \n",
       "40     121172  \n",
       "41      45181  \n",
       "42      75013  \n",
       "44      53082  \n",
       "47      57316  \n",
       "50      32009  \n",
       "52      70759  \n",
       "54      43717  \n",
       "61      26272  \n",
       "68      38729  \n",
       "70      33818  \n",
       "71      43200  \n",
       "72      31592  "
      ]
     },
     "execution_count": 221,
     "metadata": {},
     "output_type": "execute_result"
    }
   ],
   "source": [
    "max = df.loc[(df['männlich'] > 10000) & (df['weiblich'] > 10000) & (df['Todesursachen'] != 'Insgesamt')]\n",
    "max"
   ]
  },
  {
   "cell_type": "code",
   "execution_count": 227,
   "metadata": {},
   "outputs": [
    {
     "data": {
      "application/vnd.plotly.v1+json": {
       "config": {
        "plotlyServerURL": "https://plot.ly"
       },
       "data": [
        {
         "name": "männlich",
         "type": "bar",
         "x": [
          "Neubildungen",
          "BösartigeNeubildungen(BN)",
          "BN der Leber, der Gallenwege und des Pankreas",
          "BN d. Larynx. d. Trachea, d. Bronchien u.d. Lunge",
          "BN der Bronchien und der Lunge",
          "BN der Genital- und Harnorgane",
          "Endokrine, Ernährungs- u. Stoffwechselkranheiten",
          "Diabetesmellitus",
          "PsychischeundVerhaltensstörungen",
          "Krankheiten d. Nervensystems u.d. Sinnesorgane",
          "KrankheitendesKreislaufsystems",
          "Hypertonie(Hochdruckkrankheit)",
          "IschämischeHerzkrankheiten",
          "AkuteroderrezidivierenderMyokardinfarkt",
          "SonstigeFormenderHerzkrankheit",
          "ZerebrovaskuläreKrankheiten",
          "KrankheitendesAtmungssystems",
          "ChronischeKrankheitenderunterenAtemwege",
          "COVID019,Virusnachgewiesen",
          "KrankheitendesVerdauungssystems",
          "KrankheitendesUrogenitalsystems",
          "Symptome und abnorme klinische und Laborbefunde",
          "Sonst. ungenau bezeichnete u. unbek. Todesursachen",
          "ÄußereUrsachenvonMorbiditätundMortalität",
          "UnfälleeinschließlichSpätfolgen"
         ],
         "y": [
          127968,
          124006,
          16708,
          28332,
          27200,
          25989,
          17402,
          12428,
          22848,
          17974,
          159846,
          16529,
          68900,
          27107,
          31899,
          23487,
          31841,
          17285,
          38862,
          23508,
          12065,
          22638,
          20927,
          25394,
          17189
         ]
        },
        {
         "name": "weiblich",
         "type": "bar",
         "x": [
          "Neubildungen",
          "BösartigeNeubildungen(BN)",
          "BN der Leber, der Gallenwege und des Pankreas",
          "BN d. Larynx. d. Trachea, d. Bronchien u.d. Lunge",
          "BN der Bronchien und der Lunge",
          "BN der Genital- und Harnorgane",
          "Endokrine, Ernährungs- u. Stoffwechselkranheiten",
          "Diabetesmellitus",
          "PsychischeundVerhaltensstörungen",
          "Krankheiten d. Nervensystems u.d. Sinnesorgane",
          "KrankheitendesKreislaufsystems",
          "Hypertonie(Hochdruckkrankheit)",
          "IschämischeHerzkrankheiten",
          "AkuteroderrezidivierenderMyokardinfarkt",
          "SonstigeFormenderHerzkrankheit",
          "ZerebrovaskuläreKrankheiten",
          "KrankheitendesAtmungssystems",
          "ChronischeKrankheitenderunterenAtemwege",
          "COVID019,Virusnachgewiesen",
          "KrankheitendesVerdauungssystems",
          "KrankheitendesUrogenitalsystems",
          "Symptome und abnorme klinische und Laborbefunde",
          "Sonst. ungenau bezeichnete u. unbek. Todesursachen",
          "ÄußereUrsachenvonMorbiditätundMortalität",
          "UnfälleeinschließlichSpätfolgen"
         ],
         "y": [
          109192,
          105062,
          14286,
          17608,
          17401,
          16181,
          20464,
          13556,
          37142,
          17804,
          180773,
          32332,
          52272,
          18074,
          43114,
          29595,
          25475,
          14724,
          31897,
          20209,
          14207,
          16091,
          12891,
          17806,
          14403
         ]
        }
       ],
       "layout": {
        "height": 900,
        "template": {
         "data": {
          "bar": [
           {
            "error_x": {
             "color": "#2a3f5f"
            },
            "error_y": {
             "color": "#2a3f5f"
            },
            "marker": {
             "line": {
              "color": "#E5ECF6",
              "width": 0.5
             },
             "pattern": {
              "fillmode": "overlay",
              "size": 10,
              "solidity": 0.2
             }
            },
            "type": "bar"
           }
          ],
          "barpolar": [
           {
            "marker": {
             "line": {
              "color": "#E5ECF6",
              "width": 0.5
             },
             "pattern": {
              "fillmode": "overlay",
              "size": 10,
              "solidity": 0.2
             }
            },
            "type": "barpolar"
           }
          ],
          "carpet": [
           {
            "aaxis": {
             "endlinecolor": "#2a3f5f",
             "gridcolor": "white",
             "linecolor": "white",
             "minorgridcolor": "white",
             "startlinecolor": "#2a3f5f"
            },
            "baxis": {
             "endlinecolor": "#2a3f5f",
             "gridcolor": "white",
             "linecolor": "white",
             "minorgridcolor": "white",
             "startlinecolor": "#2a3f5f"
            },
            "type": "carpet"
           }
          ],
          "choropleth": [
           {
            "colorbar": {
             "outlinewidth": 0,
             "ticks": ""
            },
            "type": "choropleth"
           }
          ],
          "contour": [
           {
            "colorbar": {
             "outlinewidth": 0,
             "ticks": ""
            },
            "colorscale": [
             [
              0,
              "#0d0887"
             ],
             [
              0.1111111111111111,
              "#46039f"
             ],
             [
              0.2222222222222222,
              "#7201a8"
             ],
             [
              0.3333333333333333,
              "#9c179e"
             ],
             [
              0.4444444444444444,
              "#bd3786"
             ],
             [
              0.5555555555555556,
              "#d8576b"
             ],
             [
              0.6666666666666666,
              "#ed7953"
             ],
             [
              0.7777777777777778,
              "#fb9f3a"
             ],
             [
              0.8888888888888888,
              "#fdca26"
             ],
             [
              1,
              "#f0f921"
             ]
            ],
            "type": "contour"
           }
          ],
          "contourcarpet": [
           {
            "colorbar": {
             "outlinewidth": 0,
             "ticks": ""
            },
            "type": "contourcarpet"
           }
          ],
          "heatmap": [
           {
            "colorbar": {
             "outlinewidth": 0,
             "ticks": ""
            },
            "colorscale": [
             [
              0,
              "#0d0887"
             ],
             [
              0.1111111111111111,
              "#46039f"
             ],
             [
              0.2222222222222222,
              "#7201a8"
             ],
             [
              0.3333333333333333,
              "#9c179e"
             ],
             [
              0.4444444444444444,
              "#bd3786"
             ],
             [
              0.5555555555555556,
              "#d8576b"
             ],
             [
              0.6666666666666666,
              "#ed7953"
             ],
             [
              0.7777777777777778,
              "#fb9f3a"
             ],
             [
              0.8888888888888888,
              "#fdca26"
             ],
             [
              1,
              "#f0f921"
             ]
            ],
            "type": "heatmap"
           }
          ],
          "heatmapgl": [
           {
            "colorbar": {
             "outlinewidth": 0,
             "ticks": ""
            },
            "colorscale": [
             [
              0,
              "#0d0887"
             ],
             [
              0.1111111111111111,
              "#46039f"
             ],
             [
              0.2222222222222222,
              "#7201a8"
             ],
             [
              0.3333333333333333,
              "#9c179e"
             ],
             [
              0.4444444444444444,
              "#bd3786"
             ],
             [
              0.5555555555555556,
              "#d8576b"
             ],
             [
              0.6666666666666666,
              "#ed7953"
             ],
             [
              0.7777777777777778,
              "#fb9f3a"
             ],
             [
              0.8888888888888888,
              "#fdca26"
             ],
             [
              1,
              "#f0f921"
             ]
            ],
            "type": "heatmapgl"
           }
          ],
          "histogram": [
           {
            "marker": {
             "pattern": {
              "fillmode": "overlay",
              "size": 10,
              "solidity": 0.2
             }
            },
            "type": "histogram"
           }
          ],
          "histogram2d": [
           {
            "colorbar": {
             "outlinewidth": 0,
             "ticks": ""
            },
            "colorscale": [
             [
              0,
              "#0d0887"
             ],
             [
              0.1111111111111111,
              "#46039f"
             ],
             [
              0.2222222222222222,
              "#7201a8"
             ],
             [
              0.3333333333333333,
              "#9c179e"
             ],
             [
              0.4444444444444444,
              "#bd3786"
             ],
             [
              0.5555555555555556,
              "#d8576b"
             ],
             [
              0.6666666666666666,
              "#ed7953"
             ],
             [
              0.7777777777777778,
              "#fb9f3a"
             ],
             [
              0.8888888888888888,
              "#fdca26"
             ],
             [
              1,
              "#f0f921"
             ]
            ],
            "type": "histogram2d"
           }
          ],
          "histogram2dcontour": [
           {
            "colorbar": {
             "outlinewidth": 0,
             "ticks": ""
            },
            "colorscale": [
             [
              0,
              "#0d0887"
             ],
             [
              0.1111111111111111,
              "#46039f"
             ],
             [
              0.2222222222222222,
              "#7201a8"
             ],
             [
              0.3333333333333333,
              "#9c179e"
             ],
             [
              0.4444444444444444,
              "#bd3786"
             ],
             [
              0.5555555555555556,
              "#d8576b"
             ],
             [
              0.6666666666666666,
              "#ed7953"
             ],
             [
              0.7777777777777778,
              "#fb9f3a"
             ],
             [
              0.8888888888888888,
              "#fdca26"
             ],
             [
              1,
              "#f0f921"
             ]
            ],
            "type": "histogram2dcontour"
           }
          ],
          "mesh3d": [
           {
            "colorbar": {
             "outlinewidth": 0,
             "ticks": ""
            },
            "type": "mesh3d"
           }
          ],
          "parcoords": [
           {
            "line": {
             "colorbar": {
              "outlinewidth": 0,
              "ticks": ""
             }
            },
            "type": "parcoords"
           }
          ],
          "pie": [
           {
            "automargin": true,
            "type": "pie"
           }
          ],
          "scatter": [
           {
            "fillpattern": {
             "fillmode": "overlay",
             "size": 10,
             "solidity": 0.2
            },
            "type": "scatter"
           }
          ],
          "scatter3d": [
           {
            "line": {
             "colorbar": {
              "outlinewidth": 0,
              "ticks": ""
             }
            },
            "marker": {
             "colorbar": {
              "outlinewidth": 0,
              "ticks": ""
             }
            },
            "type": "scatter3d"
           }
          ],
          "scattercarpet": [
           {
            "marker": {
             "colorbar": {
              "outlinewidth": 0,
              "ticks": ""
             }
            },
            "type": "scattercarpet"
           }
          ],
          "scattergeo": [
           {
            "marker": {
             "colorbar": {
              "outlinewidth": 0,
              "ticks": ""
             }
            },
            "type": "scattergeo"
           }
          ],
          "scattergl": [
           {
            "marker": {
             "colorbar": {
              "outlinewidth": 0,
              "ticks": ""
             }
            },
            "type": "scattergl"
           }
          ],
          "scattermapbox": [
           {
            "marker": {
             "colorbar": {
              "outlinewidth": 0,
              "ticks": ""
             }
            },
            "type": "scattermapbox"
           }
          ],
          "scatterpolar": [
           {
            "marker": {
             "colorbar": {
              "outlinewidth": 0,
              "ticks": ""
             }
            },
            "type": "scatterpolar"
           }
          ],
          "scatterpolargl": [
           {
            "marker": {
             "colorbar": {
              "outlinewidth": 0,
              "ticks": ""
             }
            },
            "type": "scatterpolargl"
           }
          ],
          "scatterternary": [
           {
            "marker": {
             "colorbar": {
              "outlinewidth": 0,
              "ticks": ""
             }
            },
            "type": "scatterternary"
           }
          ],
          "surface": [
           {
            "colorbar": {
             "outlinewidth": 0,
             "ticks": ""
            },
            "colorscale": [
             [
              0,
              "#0d0887"
             ],
             [
              0.1111111111111111,
              "#46039f"
             ],
             [
              0.2222222222222222,
              "#7201a8"
             ],
             [
              0.3333333333333333,
              "#9c179e"
             ],
             [
              0.4444444444444444,
              "#bd3786"
             ],
             [
              0.5555555555555556,
              "#d8576b"
             ],
             [
              0.6666666666666666,
              "#ed7953"
             ],
             [
              0.7777777777777778,
              "#fb9f3a"
             ],
             [
              0.8888888888888888,
              "#fdca26"
             ],
             [
              1,
              "#f0f921"
             ]
            ],
            "type": "surface"
           }
          ],
          "table": [
           {
            "cells": {
             "fill": {
              "color": "#EBF0F8"
             },
             "line": {
              "color": "white"
             }
            },
            "header": {
             "fill": {
              "color": "#C8D4E3"
             },
             "line": {
              "color": "white"
             }
            },
            "type": "table"
           }
          ]
         },
         "layout": {
          "annotationdefaults": {
           "arrowcolor": "#2a3f5f",
           "arrowhead": 0,
           "arrowwidth": 1
          },
          "autotypenumbers": "strict",
          "coloraxis": {
           "colorbar": {
            "outlinewidth": 0,
            "ticks": ""
           }
          },
          "colorscale": {
           "diverging": [
            [
             0,
             "#8e0152"
            ],
            [
             0.1,
             "#c51b7d"
            ],
            [
             0.2,
             "#de77ae"
            ],
            [
             0.3,
             "#f1b6da"
            ],
            [
             0.4,
             "#fde0ef"
            ],
            [
             0.5,
             "#f7f7f7"
            ],
            [
             0.6,
             "#e6f5d0"
            ],
            [
             0.7,
             "#b8e186"
            ],
            [
             0.8,
             "#7fbc41"
            ],
            [
             0.9,
             "#4d9221"
            ],
            [
             1,
             "#276419"
            ]
           ],
           "sequential": [
            [
             0,
             "#0d0887"
            ],
            [
             0.1111111111111111,
             "#46039f"
            ],
            [
             0.2222222222222222,
             "#7201a8"
            ],
            [
             0.3333333333333333,
             "#9c179e"
            ],
            [
             0.4444444444444444,
             "#bd3786"
            ],
            [
             0.5555555555555556,
             "#d8576b"
            ],
            [
             0.6666666666666666,
             "#ed7953"
            ],
            [
             0.7777777777777778,
             "#fb9f3a"
            ],
            [
             0.8888888888888888,
             "#fdca26"
            ],
            [
             1,
             "#f0f921"
            ]
           ],
           "sequentialminus": [
            [
             0,
             "#0d0887"
            ],
            [
             0.1111111111111111,
             "#46039f"
            ],
            [
             0.2222222222222222,
             "#7201a8"
            ],
            [
             0.3333333333333333,
             "#9c179e"
            ],
            [
             0.4444444444444444,
             "#bd3786"
            ],
            [
             0.5555555555555556,
             "#d8576b"
            ],
            [
             0.6666666666666666,
             "#ed7953"
            ],
            [
             0.7777777777777778,
             "#fb9f3a"
            ],
            [
             0.8888888888888888,
             "#fdca26"
            ],
            [
             1,
             "#f0f921"
            ]
           ]
          },
          "colorway": [
           "#636efa",
           "#EF553B",
           "#00cc96",
           "#ab63fa",
           "#FFA15A",
           "#19d3f3",
           "#FF6692",
           "#B6E880",
           "#FF97FF",
           "#FECB52"
          ],
          "font": {
           "color": "#2a3f5f"
          },
          "geo": {
           "bgcolor": "white",
           "lakecolor": "white",
           "landcolor": "#E5ECF6",
           "showlakes": true,
           "showland": true,
           "subunitcolor": "white"
          },
          "hoverlabel": {
           "align": "left"
          },
          "hovermode": "closest",
          "mapbox": {
           "style": "light"
          },
          "paper_bgcolor": "white",
          "plot_bgcolor": "#E5ECF6",
          "polar": {
           "angularaxis": {
            "gridcolor": "white",
            "linecolor": "white",
            "ticks": ""
           },
           "bgcolor": "#E5ECF6",
           "radialaxis": {
            "gridcolor": "white",
            "linecolor": "white",
            "ticks": ""
           }
          },
          "scene": {
           "xaxis": {
            "backgroundcolor": "#E5ECF6",
            "gridcolor": "white",
            "gridwidth": 2,
            "linecolor": "white",
            "showbackground": true,
            "ticks": "",
            "zerolinecolor": "white"
           },
           "yaxis": {
            "backgroundcolor": "#E5ECF6",
            "gridcolor": "white",
            "gridwidth": 2,
            "linecolor": "white",
            "showbackground": true,
            "ticks": "",
            "zerolinecolor": "white"
           },
           "zaxis": {
            "backgroundcolor": "#E5ECF6",
            "gridcolor": "white",
            "gridwidth": 2,
            "linecolor": "white",
            "showbackground": true,
            "ticks": "",
            "zerolinecolor": "white"
           }
          },
          "shapedefaults": {
           "line": {
            "color": "#2a3f5f"
           }
          },
          "ternary": {
           "aaxis": {
            "gridcolor": "white",
            "linecolor": "white",
            "ticks": ""
           },
           "baxis": {
            "gridcolor": "white",
            "linecolor": "white",
            "ticks": ""
           },
           "bgcolor": "#E5ECF6",
           "caxis": {
            "gridcolor": "white",
            "linecolor": "white",
            "ticks": ""
           }
          },
          "title": {
           "x": 0.05
          },
          "xaxis": {
           "automargin": true,
           "gridcolor": "white",
           "linecolor": "white",
           "ticks": "",
           "title": {
            "standoff": 15
           },
           "zerolinecolor": "white",
           "zerolinewidth": 2
          },
          "yaxis": {
           "automargin": true,
           "gridcolor": "white",
           "linecolor": "white",
           "ticks": "",
           "title": {
            "standoff": 15
           },
           "zerolinecolor": "white",
           "zerolinewidth": 2
          }
         }
        },
        "title": {
         "text": "Todesursachen dengan Nilai 'männlich' dan 'weiblich' > 100,000"
        },
        "width": 800,
        "xaxis": {
         "title": {
          "text": "Todesursachen"
         }
        },
        "yaxis": {
         "title": {
          "text": "Nilai"
         }
        }
       }
      }
     },
     "metadata": {},
     "output_type": "display_data"
    }
   ],
   "source": [
    "#buat grafik penyebab kematian di jerman sepanjang tahun 2021\n",
    "import plotly.graph_objects as go\n",
    "fig = go.Figure(data=[\n",
    "    go.Bar(name='männlich', x=max['Todesursachen'], y=max['männlich']),\n",
    "    go.Bar(name='weiblich', x=max['Todesursachen'], y=max['weiblich'])\n",
    "])\n",
    "fig.update_layout(\n",
    "    xaxis_title=\"Todesursachen\",\n",
    "    yaxis_title=\"Nilai\",\n",
    "    title=\"Todesursachen dengan Nilai 'männlich' dan 'weiblich' > 100,000\",\n",
    "    width=800,\n",
    "    height=900\n",
    ")\n",
    "\n",
    "fig.show()"
   ]
  },
  {
   "cell_type": "markdown",
   "metadata": {},
   "source": [
    "Peringkat penyebab kematian di jerman sepanjang 2021:\n",
    "1. Krankheiten des Kreislaufsystems\n",
    "2. "
   ]
  },
  {
   "cell_type": "code",
   "execution_count": null,
   "metadata": {},
   "outputs": [],
   "source": []
  }
 ],
 "metadata": {
  "kernelspec": {
   "display_name": "portfolio-xEvXc3VN",
   "language": "python",
   "name": "python3"
  },
  "language_info": {
   "codemirror_mode": {
    "name": "ipython",
    "version": 3
   },
   "file_extension": ".py",
   "mimetype": "text/x-python",
   "name": "python",
   "nbconvert_exporter": "python",
   "pygments_lexer": "ipython3",
   "version": "3.9.16"
  },
  "orig_nbformat": 4
 },
 "nbformat": 4,
 "nbformat_minor": 2
}
